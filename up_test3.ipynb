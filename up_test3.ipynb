{
  "nbformat": 4,
  "nbformat_minor": 0,
  "metadata": {
    "colab": {
      "name": "up-test3.ipynb",
      "provenance": [],
      "collapsed_sections": [],
      "include_colab_link": true
    },
    "kernelspec": {
      "name": "python3",
      "display_name": "Python 3"
    },
    "accelerator": "GPU"
  },
  "cells": [
    {
      "cell_type": "markdown",
      "metadata": {
        "id": "view-in-github",
        "colab_type": "text"
      },
      "source": [
        "<a href=\"https://colab.research.google.com/github/secutron/ShowTime/blob/master/up_test3.ipynb\" target=\"_parent\"><img src=\"https://colab.research.google.com/assets/colab-badge.svg\" alt=\"Open In Colab\"/></a>"
      ]
    },
    {
      "cell_type": "markdown",
      "metadata": {
        "id": "LPFQozwJVsMm",
        "colab_type": "text"
      },
      "source": [
        "Candel, A., Parmar, V., LeDell, E., and Arora, A. (Jun 2020). Deep Learning\n",
        "with H2O. http://h2o.ai/resources."
      ]
    },
    {
      "cell_type": "markdown",
      "metadata": {
        "id": "9ny0ipaPUuY2",
        "colab_type": "text"
      },
      "source": [
        "http://docs.h2o.ai/h2o/latest-stable/h2o-docs/booklets/DeepLearningBooklet.pdf?_ga=2.184768361.1553179602.1592730801-433090902.1592730801\n",
        "\n"
      ]
    },
    {
      "cell_type": "code",
      "metadata": {
        "id": "6xXsZrxWOdZW",
        "colab_type": "code",
        "colab": {
          "base_uri": "https://localhost:8080/",
          "height": 372
        },
        "outputId": "0423a32c-ca61-4a08-ca4e-42f0675f48ab"
      },
      "source": [
        "!nvidia-smi"
      ],
      "execution_count": 2,
      "outputs": [
        {
          "output_type": "stream",
          "text": [
            "Tue Jun 23 04:10:26 2020       \n",
            "+-----------------------------------------------------------------------------+\n",
            "| NVIDIA-SMI 450.36.06    Driver Version: 418.67       CUDA Version: 10.1     |\n",
            "|-------------------------------+----------------------+----------------------+\n",
            "| GPU  Name        Persistence-M| Bus-Id        Disp.A | Volatile Uncorr. ECC |\n",
            "| Fan  Temp  Perf  Pwr:Usage/Cap|         Memory-Usage | GPU-Util  Compute M. |\n",
            "|                               |                      |               MIG M. |\n",
            "|===============================+======================+======================|\n",
            "|   0  Tesla P100-PCIE...  Off  | 00000000:00:04.0 Off |                    0 |\n",
            "| N/A   45C    P0    27W / 250W |      0MiB / 16280MiB |      0%      Default |\n",
            "|                               |                      |                 ERR! |\n",
            "+-------------------------------+----------------------+----------------------+\n",
            "                                                                               \n",
            "+-----------------------------------------------------------------------------+\n",
            "| Processes:                                                                  |\n",
            "|  GPU   GI   CI        PID   Type   Process name                  GPU Memory |\n",
            "|        ID   ID                                                   Usage      |\n",
            "|=============================================================================|\n",
            "|  No running processes found                                                 |\n",
            "+-----------------------------------------------------------------------------+\n"
          ],
          "name": "stdout"
        }
      ]
    },
    {
      "cell_type": "code",
      "metadata": {
        "id": "hcr8LovGKQz0",
        "colab_type": "code",
        "colab": {
          "base_uri": "https://localhost:8080/",
          "height": 230
        },
        "outputId": "bf0459d4-0fd1-43e4-ac63-33bef51879f8"
      },
      "source": [
        "!apt-get install default-jre\n",
        "!java -version"
      ],
      "execution_count": 3,
      "outputs": [
        {
          "output_type": "stream",
          "text": [
            "Reading package lists... Done\n",
            "Building dependency tree       \n",
            "Reading state information... Done\n",
            "default-jre is already the newest version (2:1.11-68ubuntu1~18.04.1).\n",
            "default-jre set to manually installed.\n",
            "The following package was automatically installed and is no longer required:\n",
            "  libnvidia-common-440\n",
            "Use 'apt autoremove' to remove it.\n",
            "0 upgraded, 0 newly installed, 0 to remove and 59 not upgraded.\n",
            "openjdk version \"11.0.7\" 2020-04-14\n",
            "OpenJDK Runtime Environment (build 11.0.7+10-post-Ubuntu-2ubuntu218.04)\n",
            "OpenJDK 64-Bit Server VM (build 11.0.7+10-post-Ubuntu-2ubuntu218.04, mixed mode, sharing)\n"
          ],
          "name": "stdout"
        }
      ]
    },
    {
      "cell_type": "code",
      "metadata": {
        "id": "cQQX75nNOmlv",
        "colab_type": "code",
        "colab": {
          "base_uri": "https://localhost:8080/",
          "height": 354
        },
        "outputId": "46624a25-f457-4a96-c6db-b6aee704214e"
      },
      "source": [
        "!pip install h2o"
      ],
      "execution_count": 4,
      "outputs": [
        {
          "output_type": "stream",
          "text": [
            "Collecting h2o\n",
            "\u001b[?25l  Downloading https://files.pythonhosted.org/packages/e6/7d/3efe10eceb9e4a9e45846f73cbebde95e4076fbad592aca5c5a54c264ce3/h2o-3.30.0.5.tar.gz (128.3MB)\n",
            "\u001b[K     |████████████████████████████████| 128.4MB 43kB/s \n",
            "\u001b[?25hRequirement already satisfied: requests in /usr/local/lib/python3.6/dist-packages (from h2o) (2.23.0)\n",
            "Requirement already satisfied: tabulate in /usr/local/lib/python3.6/dist-packages (from h2o) (0.8.7)\n",
            "Requirement already satisfied: future in /usr/local/lib/python3.6/dist-packages (from h2o) (0.16.0)\n",
            "Collecting colorama>=0.3.8\n",
            "  Downloading https://files.pythonhosted.org/packages/c9/dc/45cdef1b4d119eb96316b3117e6d5708a08029992b2fee2c143c7a0a5cc5/colorama-0.4.3-py2.py3-none-any.whl\n",
            "Requirement already satisfied: certifi>=2017.4.17 in /usr/local/lib/python3.6/dist-packages (from requests->h2o) (2020.4.5.2)\n",
            "Requirement already satisfied: urllib3!=1.25.0,!=1.25.1,<1.26,>=1.21.1 in /usr/local/lib/python3.6/dist-packages (from requests->h2o) (1.24.3)\n",
            "Requirement already satisfied: idna<3,>=2.5 in /usr/local/lib/python3.6/dist-packages (from requests->h2o) (2.9)\n",
            "Requirement already satisfied: chardet<4,>=3.0.2 in /usr/local/lib/python3.6/dist-packages (from requests->h2o) (3.0.4)\n",
            "Building wheels for collected packages: h2o\n",
            "  Building wheel for h2o (setup.py) ... \u001b[?25l\u001b[?25hdone\n",
            "  Created wheel for h2o: filename=h2o-3.30.0.5-py2.py3-none-any.whl size=128410595 sha256=123f23db7541c35c6206786f9c2126da16aaf360617a50f201cc4fb71c668409\n",
            "  Stored in directory: /root/.cache/pip/wheels/52/ac/34/be36def52a75ce00aadf2312a66db43e1bb6226e0d4cc51905\n",
            "Successfully built h2o\n",
            "Installing collected packages: colorama, h2o\n",
            "Successfully installed colorama-0.4.3 h2o-3.30.0.5\n"
          ],
          "name": "stdout"
        }
      ]
    },
    {
      "cell_type": "code",
      "metadata": {
        "id": "yUJFHY-2pRU7",
        "colab_type": "code",
        "colab": {
          "base_uri": "https://localhost:8080/",
          "height": 52
        },
        "outputId": "e168b044-b728-46b2-b1f3-9343f75c5841"
      },
      "source": [
        "import numpy as np\n",
        "import pandas as pd\n",
        "import seaborn as sns\n",
        "import matplotlib\n",
        "import matplotlib.pyplot as plt\n",
        "import urllib\n",
        "import h2o\n",
        "from h2o.automl import H2OAutoML\n",
        "import sys\n",
        "import os\n",
        "\n",
        "import warnings\n",
        "warnings.filterwarnings(\"ignore\")"
      ],
      "execution_count": 5,
      "outputs": [
        {
          "output_type": "stream",
          "text": [
            "/usr/local/lib/python3.6/dist-packages/statsmodels/tools/_testing.py:19: FutureWarning: pandas.util.testing is deprecated. Use the functions in the public API at pandas.testing instead.\n",
            "  import pandas.util.testing as tm\n"
          ],
          "name": "stderr"
        }
      ]
    },
    {
      "cell_type": "code",
      "metadata": {
        "id": "lakpkQGMPUuX",
        "colab_type": "code",
        "colab": {
          "base_uri": "https://localhost:8080/",
          "height": 123
        },
        "outputId": "443f7b21-2a74-45b9-d092-a787175be787"
      },
      "source": [
        "print('matplotlib: {}'.format(matplotlib.__version__))\n",
        "#print('sklearn: {}'.format(sklearn.__version__))\n",
        "#print('scipy: {}'.format(scipy.__version__))\n",
        "print('seaborn: {}'.format(sns.__version__))\n",
        "print('pandas: {}'.format(pd.__version__))\n",
        "print('numpy: {}'.format(np.__version__))\n",
        "print('sys: {}'.format(sys.version))"
      ],
      "execution_count": 6,
      "outputs": [
        {
          "output_type": "stream",
          "text": [
            "matplotlib: 3.2.2\n",
            "seaborn: 0.10.1\n",
            "pandas: 1.0.5\n",
            "numpy: 1.18.5\n",
            "sys: 3.6.9 (default, Apr 18 2020, 01:56:04) \n",
            "[GCC 8.4.0]\n"
          ],
          "name": "stdout"
        }
      ]
    },
    {
      "cell_type": "code",
      "metadata": {
        "id": "Op3rBhT4O7iA",
        "colab_type": "code",
        "colab": {
          "base_uri": "https://localhost:8080/",
          "height": 482
        },
        "outputId": "9bea0905-c589-46c3-e301-b8dece786c24"
      },
      "source": [
        "h2o.init()"
      ],
      "execution_count": 7,
      "outputs": [
        {
          "output_type": "stream",
          "text": [
            "Checking whether there is an H2O instance running at http://localhost:54321 ..... not found.\n",
            "Attempting to start a local H2O server...\n",
            "  Java Version: openjdk version \"11.0.7\" 2020-04-14; OpenJDK Runtime Environment (build 11.0.7+10-post-Ubuntu-2ubuntu218.04); OpenJDK 64-Bit Server VM (build 11.0.7+10-post-Ubuntu-2ubuntu218.04, mixed mode, sharing)\n",
            "  Starting server from /usr/local/lib/python3.6/dist-packages/h2o/backend/bin/h2o.jar\n",
            "  Ice root: /tmp/tmpzyl73o16\n",
            "  JVM stdout: /tmp/tmpzyl73o16/h2o_unknownUser_started_from_python.out\n",
            "  JVM stderr: /tmp/tmpzyl73o16/h2o_unknownUser_started_from_python.err\n",
            "  Server is running at http://127.0.0.1:54321\n",
            "Connecting to H2O server at http://127.0.0.1:54321 ... successful.\n"
          ],
          "name": "stdout"
        },
        {
          "output_type": "display_data",
          "data": {
            "text/html": [
              "<div style=\"overflow:auto\"><table style=\"width:50%\"><tr><td>H2O_cluster_uptime:</td>\n",
              "<td>02 secs</td></tr>\n",
              "<tr><td>H2O_cluster_timezone:</td>\n",
              "<td>Etc/UTC</td></tr>\n",
              "<tr><td>H2O_data_parsing_timezone:</td>\n",
              "<td>UTC</td></tr>\n",
              "<tr><td>H2O_cluster_version:</td>\n",
              "<td>3.30.0.5</td></tr>\n",
              "<tr><td>H2O_cluster_version_age:</td>\n",
              "<td>4 days </td></tr>\n",
              "<tr><td>H2O_cluster_name:</td>\n",
              "<td>H2O_from_python_unknownUser_avgh8g</td></tr>\n",
              "<tr><td>H2O_cluster_total_nodes:</td>\n",
              "<td>1</td></tr>\n",
              "<tr><td>H2O_cluster_free_memory:</td>\n",
              "<td>3.180 Gb</td></tr>\n",
              "<tr><td>H2O_cluster_total_cores:</td>\n",
              "<td>2</td></tr>\n",
              "<tr><td>H2O_cluster_allowed_cores:</td>\n",
              "<td>2</td></tr>\n",
              "<tr><td>H2O_cluster_status:</td>\n",
              "<td>accepting new members, healthy</td></tr>\n",
              "<tr><td>H2O_connection_url:</td>\n",
              "<td>http://127.0.0.1:54321</td></tr>\n",
              "<tr><td>H2O_connection_proxy:</td>\n",
              "<td>{\"http\": null, \"https\": null}</td></tr>\n",
              "<tr><td>H2O_internal_security:</td>\n",
              "<td>False</td></tr>\n",
              "<tr><td>H2O_API_Extensions:</td>\n",
              "<td>Amazon S3, XGBoost, Algos, AutoML, Core V3, TargetEncoder, Core V4</td></tr>\n",
              "<tr><td>Python_version:</td>\n",
              "<td>3.6.9 final</td></tr></table></div>"
            ],
            "text/plain": [
              "--------------------------  ------------------------------------------------------------------\n",
              "H2O_cluster_uptime:         02 secs\n",
              "H2O_cluster_timezone:       Etc/UTC\n",
              "H2O_data_parsing_timezone:  UTC\n",
              "H2O_cluster_version:        3.30.0.5\n",
              "H2O_cluster_version_age:    4 days\n",
              "H2O_cluster_name:           H2O_from_python_unknownUser_avgh8g\n",
              "H2O_cluster_total_nodes:    1\n",
              "H2O_cluster_free_memory:    3.180 Gb\n",
              "H2O_cluster_total_cores:    2\n",
              "H2O_cluster_allowed_cores:  2\n",
              "H2O_cluster_status:         accepting new members, healthy\n",
              "H2O_connection_url:         http://127.0.0.1:54321\n",
              "H2O_connection_proxy:       {\"http\": null, \"https\": null}\n",
              "H2O_internal_security:      False\n",
              "H2O_API_Extensions:         Amazon S3, XGBoost, Algos, AutoML, Core V3, TargetEncoder, Core V4\n",
              "Python_version:             3.6.9 final\n",
              "--------------------------  ------------------------------------------------------------------"
            ]
          },
          "metadata": {
            "tags": []
          }
        }
      ]
    },
    {
      "cell_type": "code",
      "metadata": {
        "id": "nQ1vIt3iR2s-",
        "colab_type": "code",
        "colab": {}
      },
      "source": [
        "# Get help\n",
        "#help(h2o.estimators.glm.H2OGeneralizedLinearEstimator)\n",
        "#help(h2o.estimators.gbm.H2OGradientBoostingEstimator)\n",
        "#help(h2o.estimators.deeplearning.H2ODeepLearningEstimator)\n",
        "\n",
        "# Show a demo\n",
        "#h2o.demo(\"glm\")\n",
        "#h2o.demo(\"gbm\")\n",
        "#h2o.demo(\"deeplearning\")"
      ],
      "execution_count": 8,
      "outputs": []
    },
    {
      "cell_type": "markdown",
      "metadata": {
        "id": "DsQdgsFMT9er",
        "colab_type": "text"
      },
      "source": [
        "### 여러 파일 준비"
      ]
    },
    {
      "cell_type": "code",
      "metadata": {
        "id": "G6d0229RT7_v",
        "colab_type": "code",
        "colab": {}
      },
      "source": [
        "BASE_DIR = '/content'\n",
        "#OUTPUT_FILE = os.path.join(BASE_DIR, 'tmp.csv')\n",
        "\n",
        "#hkim_data=urllib.request.urlretrieve('http://archive.ics.uci.edu/ml/machine-learning-databases/credit-screening/crx.data', OUTPUT_FILE)\n",
        "\n",
        "# 드라이브 전체공유 후..\n",
        "\n",
        "# column_2C_weka.csv\n",
        "#hkim_data=urllib.request.urlretrieve('https://drive.google.com/uc?export=download&id=1oMEvI6gWC4ZAqssQ3s3j6RkWUPa_TSwY', OUTPUT_FILE)\n",
        "\n",
        "#churn_df = h2o.import_file('https://raw.githubusercontent.com/srivatsan88/YouTubeLI/master/dataset/WA_Fn-UseC_-Telco-Customer-Churn.csv')"
      ],
      "execution_count": 9,
      "outputs": []
    },
    {
      "cell_type": "code",
      "metadata": {
        "id": "H91Teg5Fhuyk",
        "colab_type": "code",
        "colab": {
          "base_uri": "https://localhost:8080/",
          "height": 194
        },
        "outputId": "85a91e9a-5a99-472c-d195-e15258c36111"
      },
      "source": [
        "OUTPUT_FILE = os.path.join(BASE_DIR, 'QMS_NVOC_SORT.csv')\n",
        "df = pd.read_csv(OUTPUT_FILE, delimiter = ',')\n",
        "df.shape\n",
        "df.dtypes"
      ],
      "execution_count": 13,
      "outputs": [
        {
          "output_type": "execute_result",
          "data": {
            "text/plain": [
              "Unnamed: 0                 int64\n",
              "a1.ucube_jnr_no           object\n",
              "a2.firstlogtime           object\n",
              "a2.buffer_overflow       float64\n",
              "a2.pts_advanced_error    float64\n",
              "a2.stb_rtp_errcnt        float64\n",
              "a2.no_stream_error       float64\n",
              "a2.not_decoding_error    float64\n",
              "nvoc                     float64\n",
              "dtype: object"
            ]
          },
          "metadata": {
            "tags": []
          },
          "execution_count": 13
        }
      ]
    },
    {
      "cell_type": "code",
      "metadata": {
        "id": "AIXgD_vmo8ZQ",
        "colab_type": "code",
        "colab": {
          "base_uri": "https://localhost:8080/",
          "height": 197
        },
        "outputId": "c8ebb98d-da2a-4c54-ffd1-43dc467f1c10"
      },
      "source": [
        "df.head()"
      ],
      "execution_count": 14,
      "outputs": [
        {
          "output_type": "execute_result",
          "data": {
            "text/html": [
              "<div>\n",
              "<style scoped>\n",
              "    .dataframe tbody tr th:only-of-type {\n",
              "        vertical-align: middle;\n",
              "    }\n",
              "\n",
              "    .dataframe tbody tr th {\n",
              "        vertical-align: top;\n",
              "    }\n",
              "\n",
              "    .dataframe thead th {\n",
              "        text-align: right;\n",
              "    }\n",
              "</style>\n",
              "<table border=\"1\" class=\"dataframe\">\n",
              "  <thead>\n",
              "    <tr style=\"text-align: right;\">\n",
              "      <th></th>\n",
              "      <th>Unnamed: 0</th>\n",
              "      <th>a1.ucube_jnr_no</th>\n",
              "      <th>a2.firstlogtime</th>\n",
              "      <th>a2.buffer_overflow</th>\n",
              "      <th>a2.pts_advanced_error</th>\n",
              "      <th>a2.stb_rtp_errcnt</th>\n",
              "      <th>a2.no_stream_error</th>\n",
              "      <th>a2.not_decoding_error</th>\n",
              "      <th>nvoc</th>\n",
              "    </tr>\n",
              "  </thead>\n",
              "  <tbody>\n",
              "    <tr>\n",
              "      <th>0</th>\n",
              "      <td>111744</td>\n",
              "      <td>09C0AD6964595B62D88E9C3797DF66099DE5747C</td>\n",
              "      <td>2020-06-01 00:00:00</td>\n",
              "      <td>0.0</td>\n",
              "      <td>0.0</td>\n",
              "      <td>0.0</td>\n",
              "      <td>0.0</td>\n",
              "      <td>0.0</td>\n",
              "      <td>0.0</td>\n",
              "    </tr>\n",
              "    <tr>\n",
              "      <th>1</th>\n",
              "      <td>111745</td>\n",
              "      <td>09C0AD6964595B62D88E9C3797DF66099DE5747C</td>\n",
              "      <td>2020-06-01 00:10:00</td>\n",
              "      <td>0.0</td>\n",
              "      <td>0.0</td>\n",
              "      <td>0.0</td>\n",
              "      <td>0.0</td>\n",
              "      <td>0.0</td>\n",
              "      <td>0.0</td>\n",
              "    </tr>\n",
              "    <tr>\n",
              "      <th>2</th>\n",
              "      <td>111746</td>\n",
              "      <td>09C0AD6964595B62D88E9C3797DF66099DE5747C</td>\n",
              "      <td>2020-06-01 00:20:00</td>\n",
              "      <td>0.0</td>\n",
              "      <td>0.0</td>\n",
              "      <td>0.0</td>\n",
              "      <td>0.0</td>\n",
              "      <td>0.0</td>\n",
              "      <td>0.0</td>\n",
              "    </tr>\n",
              "    <tr>\n",
              "      <th>3</th>\n",
              "      <td>111747</td>\n",
              "      <td>09C0AD6964595B62D88E9C3797DF66099DE5747C</td>\n",
              "      <td>2020-06-01 00:30:00</td>\n",
              "      <td>0.0</td>\n",
              "      <td>0.0</td>\n",
              "      <td>0.0</td>\n",
              "      <td>0.0</td>\n",
              "      <td>0.0</td>\n",
              "      <td>0.0</td>\n",
              "    </tr>\n",
              "    <tr>\n",
              "      <th>4</th>\n",
              "      <td>111748</td>\n",
              "      <td>09C0AD6964595B62D88E9C3797DF66099DE5747C</td>\n",
              "      <td>2020-06-01 00:40:00</td>\n",
              "      <td>0.0</td>\n",
              "      <td>0.0</td>\n",
              "      <td>0.0</td>\n",
              "      <td>0.0</td>\n",
              "      <td>0.0</td>\n",
              "      <td>0.0</td>\n",
              "    </tr>\n",
              "  </tbody>\n",
              "</table>\n",
              "</div>"
            ],
            "text/plain": [
              "   Unnamed: 0  ... nvoc\n",
              "0      111744  ...  0.0\n",
              "1      111745  ...  0.0\n",
              "2      111746  ...  0.0\n",
              "3      111747  ...  0.0\n",
              "4      111748  ...  0.0\n",
              "\n",
              "[5 rows x 9 columns]"
            ]
          },
          "metadata": {
            "tags": []
          },
          "execution_count": 14
        }
      ]
    },
    {
      "cell_type": "code",
      "metadata": {
        "id": "ixDlgF3kp3zM",
        "colab_type": "code",
        "colab": {
          "base_uri": "https://localhost:8080/",
          "height": 231
        },
        "outputId": "8a7b9fa9-2ebf-4fef-9225-f6988c70f598"
      },
      "source": [
        "hdf = h2o.import_file(OUTPUT_FILE)\n",
        "hdf.head()"
      ],
      "execution_count": 15,
      "outputs": [
        {
          "output_type": "stream",
          "text": [
            "Parse progress: |█████████████████████████████████████████████████████████| 100%\n"
          ],
          "name": "stdout"
        },
        {
          "output_type": "display_data",
          "data": {
            "text/html": [
              "<table>\n",
              "<thead>\n",
              "<tr><th style=\"text-align: right;\">    C1</th><th>a1.ucube_jnr_no                         </th><th>a2.firstlogtime    </th><th style=\"text-align: right;\">  a2.buffer_overflow</th><th style=\"text-align: right;\">  a2.pts_advanced_error</th><th style=\"text-align: right;\">  a2.stb_rtp_errcnt</th><th style=\"text-align: right;\">  a2.no_stream_error</th><th style=\"text-align: right;\">  a2.not_decoding_error</th><th style=\"text-align: right;\">  nvoc</th></tr>\n",
              "</thead>\n",
              "<tbody>\n",
              "<tr><td style=\"text-align: right;\">111744</td><td>09C0AD6964595B62D88E9C3797DF66099DE5747C</td><td>2020-06-01 00:00:00</td><td style=\"text-align: right;\">                   0</td><td style=\"text-align: right;\">                      0</td><td style=\"text-align: right;\">                  0</td><td style=\"text-align: right;\">                   0</td><td style=\"text-align: right;\">                      0</td><td style=\"text-align: right;\">     0</td></tr>\n",
              "<tr><td style=\"text-align: right;\">111745</td><td>09C0AD6964595B62D88E9C3797DF66099DE5747C</td><td>2020-06-01 00:10:00</td><td style=\"text-align: right;\">                   0</td><td style=\"text-align: right;\">                      0</td><td style=\"text-align: right;\">                  0</td><td style=\"text-align: right;\">                   0</td><td style=\"text-align: right;\">                      0</td><td style=\"text-align: right;\">     0</td></tr>\n",
              "<tr><td style=\"text-align: right;\">111746</td><td>09C0AD6964595B62D88E9C3797DF66099DE5747C</td><td>2020-06-01 00:20:00</td><td style=\"text-align: right;\">                   0</td><td style=\"text-align: right;\">                      0</td><td style=\"text-align: right;\">                  0</td><td style=\"text-align: right;\">                   0</td><td style=\"text-align: right;\">                      0</td><td style=\"text-align: right;\">     0</td></tr>\n",
              "<tr><td style=\"text-align: right;\">111747</td><td>09C0AD6964595B62D88E9C3797DF66099DE5747C</td><td>2020-06-01 00:30:00</td><td style=\"text-align: right;\">                   0</td><td style=\"text-align: right;\">                      0</td><td style=\"text-align: right;\">                  0</td><td style=\"text-align: right;\">                   0</td><td style=\"text-align: right;\">                      0</td><td style=\"text-align: right;\">     0</td></tr>\n",
              "<tr><td style=\"text-align: right;\">111748</td><td>09C0AD6964595B62D88E9C3797DF66099DE5747C</td><td>2020-06-01 00:40:00</td><td style=\"text-align: right;\">                   0</td><td style=\"text-align: right;\">                      0</td><td style=\"text-align: right;\">                  0</td><td style=\"text-align: right;\">                   0</td><td style=\"text-align: right;\">                      0</td><td style=\"text-align: right;\">     0</td></tr>\n",
              "<tr><td style=\"text-align: right;\">111749</td><td>09C0AD6964595B62D88E9C3797DF66099DE5747C</td><td>2020-06-01 00:50:00</td><td style=\"text-align: right;\">                   0</td><td style=\"text-align: right;\">                      0</td><td style=\"text-align: right;\">                  0</td><td style=\"text-align: right;\">                   0</td><td style=\"text-align: right;\">                      0</td><td style=\"text-align: right;\">     0</td></tr>\n",
              "<tr><td style=\"text-align: right;\">111750</td><td>09C0AD6964595B62D88E9C3797DF66099DE5747C</td><td>2020-06-01 01:00:00</td><td style=\"text-align: right;\">                   0</td><td style=\"text-align: right;\">                      0</td><td style=\"text-align: right;\">                  0</td><td style=\"text-align: right;\">                   0</td><td style=\"text-align: right;\">                      0</td><td style=\"text-align: right;\">     0</td></tr>\n",
              "<tr><td style=\"text-align: right;\">111751</td><td>09C0AD6964595B62D88E9C3797DF66099DE5747C</td><td>2020-06-01 01:10:00</td><td style=\"text-align: right;\">                   0</td><td style=\"text-align: right;\">                      0</td><td style=\"text-align: right;\">                  0</td><td style=\"text-align: right;\">                   0</td><td style=\"text-align: right;\">                      0</td><td style=\"text-align: right;\">     0</td></tr>\n",
              "<tr><td style=\"text-align: right;\">111752</td><td>09C0AD6964595B62D88E9C3797DF66099DE5747C</td><td>2020-06-01 01:20:00</td><td style=\"text-align: right;\">                   0</td><td style=\"text-align: right;\">                      0</td><td style=\"text-align: right;\">                  0</td><td style=\"text-align: right;\">                   0</td><td style=\"text-align: right;\">                      0</td><td style=\"text-align: right;\">     0</td></tr>\n",
              "<tr><td style=\"text-align: right;\">111753</td><td>09C0AD6964595B62D88E9C3797DF66099DE5747C</td><td>2020-06-01 01:30:00</td><td style=\"text-align: right;\">                   0</td><td style=\"text-align: right;\">                      0</td><td style=\"text-align: right;\">                  0</td><td style=\"text-align: right;\">                   0</td><td style=\"text-align: right;\">                      0</td><td style=\"text-align: right;\">     0</td></tr>\n",
              "</tbody>\n",
              "</table>"
            ]
          },
          "metadata": {
            "tags": []
          }
        },
        {
          "output_type": "execute_result",
          "data": {
            "text/plain": [
              ""
            ]
          },
          "metadata": {
            "tags": []
          },
          "execution_count": 15
        }
      ]
    },
    {
      "cell_type": "code",
      "metadata": {
        "id": "Cx-9C11cpXeR",
        "colab_type": "code",
        "colab": {
          "base_uri": "https://localhost:8080/",
          "height": 176
        },
        "outputId": "a6ae88f5-bbbf-45ba-85a8-f913ec51dadb"
      },
      "source": [
        "#df.dtypes\n",
        "hdf.types"
      ],
      "execution_count": 16,
      "outputs": [
        {
          "output_type": "execute_result",
          "data": {
            "text/plain": [
              "{'C1': 'int',\n",
              " 'a1.ucube_jnr_no': 'enum',\n",
              " 'a2.buffer_overflow': 'int',\n",
              " 'a2.firstlogtime': 'time',\n",
              " 'a2.no_stream_error': 'int',\n",
              " 'a2.not_decoding_error': 'int',\n",
              " 'a2.pts_advanced_error': 'int',\n",
              " 'a2.stb_rtp_errcnt': 'int',\n",
              " 'nvoc': 'int'}"
            ]
          },
          "metadata": {
            "tags": []
          },
          "execution_count": 16
        }
      ]
    },
    {
      "cell_type": "code",
      "metadata": {
        "id": "pAzrEuckDNNZ",
        "colab_type": "code",
        "colab": {
          "base_uri": "https://localhost:8080/",
          "height": 287
        },
        "outputId": "cbe0c592-e9a6-4005-ab55-1271d439e664"
      },
      "source": [
        "df.describe()"
      ],
      "execution_count": 17,
      "outputs": [
        {
          "output_type": "execute_result",
          "data": {
            "text/html": [
              "<div>\n",
              "<style scoped>\n",
              "    .dataframe tbody tr th:only-of-type {\n",
              "        vertical-align: middle;\n",
              "    }\n",
              "\n",
              "    .dataframe tbody tr th {\n",
              "        vertical-align: top;\n",
              "    }\n",
              "\n",
              "    .dataframe thead th {\n",
              "        text-align: right;\n",
              "    }\n",
              "</style>\n",
              "<table border=\"1\" class=\"dataframe\">\n",
              "  <thead>\n",
              "    <tr style=\"text-align: right;\">\n",
              "      <th></th>\n",
              "      <th>Unnamed: 0</th>\n",
              "      <th>a2.buffer_overflow</th>\n",
              "      <th>a2.pts_advanced_error</th>\n",
              "      <th>a2.stb_rtp_errcnt</th>\n",
              "      <th>a2.no_stream_error</th>\n",
              "      <th>a2.not_decoding_error</th>\n",
              "      <th>nvoc</th>\n",
              "    </tr>\n",
              "  </thead>\n",
              "  <tbody>\n",
              "    <tr>\n",
              "      <th>count</th>\n",
              "      <td>3.949550e+05</td>\n",
              "      <td>394954.000000</td>\n",
              "      <td>394954.000000</td>\n",
              "      <td>394954.000000</td>\n",
              "      <td>394954.000000</td>\n",
              "      <td>394954.000000</td>\n",
              "      <td>394954.000000</td>\n",
              "    </tr>\n",
              "    <tr>\n",
              "      <th>mean</th>\n",
              "      <td>8.291538e+05</td>\n",
              "      <td>2.465745</td>\n",
              "      <td>2.465743</td>\n",
              "      <td>17.205756</td>\n",
              "      <td>0.197152</td>\n",
              "      <td>-0.020987</td>\n",
              "      <td>0.001479</td>\n",
              "    </tr>\n",
              "    <tr>\n",
              "      <th>std</th>\n",
              "      <td>8.195231e+05</td>\n",
              "      <td>554.537535</td>\n",
              "      <td>554.537535</td>\n",
              "      <td>811.842638</td>\n",
              "      <td>8.643534</td>\n",
              "      <td>0.151466</td>\n",
              "      <td>0.038425</td>\n",
              "    </tr>\n",
              "    <tr>\n",
              "      <th>min</th>\n",
              "      <td>0.000000e+00</td>\n",
              "      <td>-1.000000</td>\n",
              "      <td>-1.000000</td>\n",
              "      <td>-1.000000</td>\n",
              "      <td>-1.000000</td>\n",
              "      <td>-1.000000</td>\n",
              "      <td>0.000000</td>\n",
              "    </tr>\n",
              "    <tr>\n",
              "      <th>25%</th>\n",
              "      <td>1.044985e+05</td>\n",
              "      <td>0.000000</td>\n",
              "      <td>0.000000</td>\n",
              "      <td>0.000000</td>\n",
              "      <td>0.000000</td>\n",
              "      <td>0.000000</td>\n",
              "      <td>0.000000</td>\n",
              "    </tr>\n",
              "    <tr>\n",
              "      <th>50%</th>\n",
              "      <td>5.110250e+05</td>\n",
              "      <td>0.000000</td>\n",
              "      <td>0.000000</td>\n",
              "      <td>0.000000</td>\n",
              "      <td>0.000000</td>\n",
              "      <td>0.000000</td>\n",
              "      <td>0.000000</td>\n",
              "    </tr>\n",
              "    <tr>\n",
              "      <th>75%</th>\n",
              "      <td>1.515236e+06</td>\n",
              "      <td>0.000000</td>\n",
              "      <td>0.000000</td>\n",
              "      <td>0.000000</td>\n",
              "      <td>0.000000</td>\n",
              "      <td>0.000000</td>\n",
              "      <td>0.000000</td>\n",
              "    </tr>\n",
              "    <tr>\n",
              "      <th>max</th>\n",
              "      <td>2.603542e+06</td>\n",
              "      <td>158862.000000</td>\n",
              "      <td>158862.000000</td>\n",
              "      <td>157649.000000</td>\n",
              "      <td>600.000000</td>\n",
              "      <td>15.000000</td>\n",
              "      <td>1.000000</td>\n",
              "    </tr>\n",
              "  </tbody>\n",
              "</table>\n",
              "</div>"
            ],
            "text/plain": [
              "         Unnamed: 0  a2.buffer_overflow  ...  a2.not_decoding_error           nvoc\n",
              "count  3.949550e+05       394954.000000  ...          394954.000000  394954.000000\n",
              "mean   8.291538e+05            2.465745  ...              -0.020987       0.001479\n",
              "std    8.195231e+05          554.537535  ...               0.151466       0.038425\n",
              "min    0.000000e+00           -1.000000  ...              -1.000000       0.000000\n",
              "25%    1.044985e+05            0.000000  ...               0.000000       0.000000\n",
              "50%    5.110250e+05            0.000000  ...               0.000000       0.000000\n",
              "75%    1.515236e+06            0.000000  ...               0.000000       0.000000\n",
              "max    2.603542e+06       158862.000000  ...              15.000000       1.000000\n",
              "\n",
              "[8 rows x 7 columns]"
            ]
          },
          "metadata": {
            "tags": []
          },
          "execution_count": 17
        }
      ]
    },
    {
      "cell_type": "code",
      "metadata": {
        "id": "AZAvqXsdqpXK",
        "colab_type": "code",
        "colab": {
          "base_uri": "https://localhost:8080/",
          "height": 408
        },
        "outputId": "efb15d57-51f5-4c2e-9354-37c68738b5c6"
      },
      "source": [
        "hdf.describe()"
      ],
      "execution_count": 19,
      "outputs": [
        {
          "output_type": "stream",
          "text": [
            "Rows:418236\n",
            "Cols:9\n",
            "\n",
            "\n"
          ],
          "name": "stdout"
        },
        {
          "output_type": "display_data",
          "data": {
            "text/html": [
              "<table>\n",
              "<thead>\n",
              "<tr><th>       </th><th>C1               </th><th>a1.ucube_jnr_no                         </th><th>a2.firstlogtime    </th><th>a2.buffer_overflow  </th><th>a2.pts_advanced_error  </th><th>a2.stb_rtp_errcnt  </th><th>a2.no_stream_error  </th><th>a2.not_decoding_error  </th><th>nvoc                </th></tr>\n",
              "</thead>\n",
              "<tbody>\n",
              "<tr><td>type   </td><td>int              </td><td>enum                                    </td><td>time               </td><td>int                 </td><td>int                    </td><td>int                </td><td>int                 </td><td>int                    </td><td>int                 </td></tr>\n",
              "<tr><td>mins   </td><td>0.0              </td><td>                                        </td><td>1590969600000.0    </td><td>-1.0                </td><td>-1.0                   </td><td>-1.0               </td><td>-1.0                </td><td>-1.0                   </td><td>0.0                 </td></tr>\n",
              "<tr><td>mean   </td><td>793511.1284442302</td><td>                                        </td><td>1591314867902.3425 </td><td>2.327764707007529   </td><td>2.3277623160129703     </td><td>16.348165505039027 </td><td>0.18853993568209254 </td><td>-0.0205195643597499    </td><td>0.001446555166353844</td></tr>\n",
              "<tr><td>maxs   </td><td>2603542.0        </td><td>                                        </td><td>1591660200000.0    </td><td>158862.0            </td><td>158862.0               </td><td>157649.0           </td><td>600.0               </td><td>15.0                   </td><td>1.0                 </td></tr>\n",
              "<tr><td>sigma  </td><td>809806.7707336968</td><td>                                        </td><td>199550078.3015735  </td><td>538.8820424095395   </td><td>538.8820424132123      </td><td>789.0362076773629  </td><td>8.450542371255045   </td><td>0.14967795318634017    </td><td>0.038006132376543884</td></tr>\n",
              "<tr><td>zeros  </td><td>1                </td><td>                                        </td><td>0                  </td><td>408408              </td><td>408408                 </td><td>394443             </td><td>408601              </td><td>409418                 </td><td>417630              </td></tr>\n",
              "<tr><td>missing</td><td>0                </td><td>0                                       </td><td>0                  </td><td>0                   </td><td>0                      </td><td>1                  </td><td>1                   </td><td>1                      </td><td>1                   </td></tr>\n",
              "<tr><td>0      </td><td>111744.0         </td><td>09C0AD6964595B62D88E9C3797DF66099DE5747C</td><td>2020-06-01 00:00:00</td><td>0.0                 </td><td>0.0                    </td><td>0.0                </td><td>0.0                 </td><td>0.0                    </td><td>0.0                 </td></tr>\n",
              "<tr><td>1      </td><td>111745.0         </td><td>09C0AD6964595B62D88E9C3797DF66099DE5747C</td><td>2020-06-01 00:10:00</td><td>0.0                 </td><td>0.0                    </td><td>0.0                </td><td>0.0                 </td><td>0.0                    </td><td>0.0                 </td></tr>\n",
              "<tr><td>2      </td><td>111746.0         </td><td>09C0AD6964595B62D88E9C3797DF66099DE5747C</td><td>2020-06-01 00:20:00</td><td>0.0                 </td><td>0.0                    </td><td>0.0                </td><td>0.0                 </td><td>0.0                    </td><td>0.0                 </td></tr>\n",
              "<tr><td>3      </td><td>111747.0         </td><td>09C0AD6964595B62D88E9C3797DF66099DE5747C</td><td>2020-06-01 00:30:00</td><td>0.0                 </td><td>0.0                    </td><td>0.0                </td><td>0.0                 </td><td>0.0                    </td><td>0.0                 </td></tr>\n",
              "<tr><td>4      </td><td>111748.0         </td><td>09C0AD6964595B62D88E9C3797DF66099DE5747C</td><td>2020-06-01 00:40:00</td><td>0.0                 </td><td>0.0                    </td><td>0.0                </td><td>0.0                 </td><td>0.0                    </td><td>0.0                 </td></tr>\n",
              "<tr><td>5      </td><td>111749.0         </td><td>09C0AD6964595B62D88E9C3797DF66099DE5747C</td><td>2020-06-01 00:50:00</td><td>0.0                 </td><td>0.0                    </td><td>0.0                </td><td>0.0                 </td><td>0.0                    </td><td>0.0                 </td></tr>\n",
              "<tr><td>6      </td><td>111750.0         </td><td>09C0AD6964595B62D88E9C3797DF66099DE5747C</td><td>2020-06-01 01:00:00</td><td>0.0                 </td><td>0.0                    </td><td>0.0                </td><td>0.0                 </td><td>0.0                    </td><td>0.0                 </td></tr>\n",
              "<tr><td>7      </td><td>111751.0         </td><td>09C0AD6964595B62D88E9C3797DF66099DE5747C</td><td>2020-06-01 01:10:00</td><td>0.0                 </td><td>0.0                    </td><td>0.0                </td><td>0.0                 </td><td>0.0                    </td><td>0.0                 </td></tr>\n",
              "<tr><td>8      </td><td>111752.0         </td><td>09C0AD6964595B62D88E9C3797DF66099DE5747C</td><td>2020-06-01 01:20:00</td><td>0.0                 </td><td>0.0                    </td><td>0.0                </td><td>0.0                 </td><td>0.0                    </td><td>0.0                 </td></tr>\n",
              "<tr><td>9      </td><td>111753.0         </td><td>09C0AD6964595B62D88E9C3797DF66099DE5747C</td><td>2020-06-01 01:30:00</td><td>0.0                 </td><td>0.0                    </td><td>0.0                </td><td>0.0                 </td><td>0.0                    </td><td>0.0                 </td></tr>\n",
              "</tbody>\n",
              "</table>"
            ]
          },
          "metadata": {
            "tags": []
          }
        }
      ]
    },
    {
      "cell_type": "code",
      "metadata": {
        "id": "PMzGOUbW2XGx",
        "colab_type": "code",
        "colab": {}
      },
      "source": [
        "data_train,data_test,data_valid = hdf.split_frame(ratios=[.7, .15])"
      ],
      "execution_count": 20,
      "outputs": []
    },
    {
      "cell_type": "code",
      "metadata": {
        "id": "4E18zlEFu1jh",
        "colab_type": "code",
        "colab": {
          "base_uri": "https://localhost:8080/",
          "height": 105
        },
        "outputId": "0ded7f6c-e867-4141-bdae-e191838d9f05"
      },
      "source": [
        "y = \"nvoc\"\n",
        "x = hdf.columns\n",
        "x.remove(y)\n",
        "x.remove('C1')\n",
        "x.remove('a1.ucube_jnr_no')\n",
        "x.remove('a2.firstlogtime')\n",
        "x"
      ],
      "execution_count": 35,
      "outputs": [
        {
          "output_type": "execute_result",
          "data": {
            "text/plain": [
              "['a2.buffer_overflow',\n",
              " 'a2.pts_advanced_error',\n",
              " 'a2.stb_rtp_errcnt',\n",
              " 'a2.no_stream_error',\n",
              " 'a2.not_decoding_error']"
            ]
          },
          "metadata": {
            "tags": []
          },
          "execution_count": 35
        }
      ]
    },
    {
      "cell_type": "markdown",
      "metadata": {
        "id": "DvkFrXD_rdgI",
        "colab_type": "text"
      },
      "source": [
        "#Create model"
      ]
    },
    {
      "cell_type": "code",
      "metadata": {
        "id": "VhqoXPD5pk2y",
        "colab_type": "code",
        "colab": {}
      },
      "source": [
        "#aml = H2OAutoML(max_models = 10, seed = 10, exclude_algos = [\"StackedEnsemble\", \"GBM\", \"DeepLearning\", \"GLM\", \"DRF\" ], verbosity=\"info\", nfolds=0)\n",
        "aml = H2OAutoML(max_models = 10, seed = 10, exclude_algos = [\"StackedEnsemble\"], verbosity=\"info\", nfolds=0)"
      ],
      "execution_count": 36,
      "outputs": []
    },
    {
      "cell_type": "markdown",
      "metadata": {
        "id": "n3jtcg1OBf5O",
        "colab_type": "text"
      },
      "source": [
        "# Train model"
      ]
    },
    {
      "cell_type": "code",
      "metadata": {
        "id": "rggJoK6tu0Ks",
        "colab_type": "code",
        "colab": {
          "base_uri": "https://localhost:8080/",
          "height": 1000
        },
        "outputId": "dca53054-c352-4d28-9f6c-672697da7ab2"
      },
      "source": [
        "aml.train(x = x, y = y, training_frame = data_train, validation_frame=data_valid)\n",
        "!nvidia-smi"
      ],
      "execution_count": 24,
      "outputs": [
        {
          "output_type": "stream",
          "text": [
            "AutoML progress: |\n",
            "04:19:13.473: Project: AutoML_20200623_41913463\n",
            "04:19:13.474: Cross-validation disabled by user: no fold column nor nfolds > 1.\n",
            "04:19:13.474: Setting stopping tolerance adaptively based on the training frame: 0.0018486278060750331\n",
            "04:19:13.475: Build control seed: 10\n",
            "04:19:13.475: Since cross-validation is disabled, and no leaderboard frame was provided, automatically split the training data into training and leaderboard frames in the ratio 90/10\n",
            "04:19:14.95: training frame: Frame key: automl_training_py_3_sid_8f64    cols: 9    rows: 263253  chunks: 8    size: 1969571  checksum: -9109951074493717884\n",
            "04:19:14.95: validation frame: Frame key: py_5_sid_8f64    cols: 9    rows: 62692  chunks: 8    size: 508724  checksum: -6102850911337396936\n",
            "04:19:14.116: leaderboard frame: Frame key: automl_leaderboard_py_3_sid_8f64    cols: 9    rows: 29365  chunks: 8    size: 271800  checksum: -5445050965157802832\n",
            "04:19:14.116: blending frame: NULL\n",
            "04:19:14.116: response column: nvoc\n",
            "04:19:14.116: fold column: null\n",
            "04:19:14.116: weights column: null\n",
            "04:19:14.167: Loading execution steps: [{XGBoost : defaults}, {GLM : defaults}, {DRF : [def_1]}, {GBM : defaults}, {DeepLearning : defaults}, {DRF : [XRT]}, {XGBoost : grids}, {GBM : grids}, {DeepLearning : grids}, {GBM : [lr_annealing]}, {XGBoost : [lr_search]}, {StackedEnsemble : defaults}]\n",
            "04:19:14.189: Disabling Algo: StackedEnsemble as requested by the user.\n",
            "04:19:14.195: AutoML job created: 2020.06.23 04:19:13.462\n",
            "04:19:14.195: AutoML build started: 2020.06.23 04:19:14.195\n",
            "04:19:14.218: AutoML: starting XGBoost_1_AutoML_20200623_041913 model training\n",
            "\n",
            "█\n",
            "04:19:23.834: New leader: XGBoost_1_AutoML_20200623_041913, mean_residual_deviance: 0.001659838029354894\n",
            "04:19:23.835: AutoML: starting XGBoost_2_AutoML_20200623_041913 model training\n",
            "\n",
            "███\n",
            "04:19:46.14: AutoML: starting XGBoost_3_AutoML_20200623_041913 model training\n",
            "\n",
            "█\n",
            "04:19:50.76: New leader: XGBoost_3_AutoML_20200623_041913, mean_residual_deviance: 0.0016250700338324199\n",
            "04:19:50.80: AutoML: starting GLM_1_AutoML_20200623_041913 model training\n",
            "\n",
            "█\n",
            "04:19:52.141: AutoML: starting DRF_1_AutoML_20200623_041913 model training\n",
            "\n",
            "█████\n",
            "04:20:21.481: AutoML: starting GBM_1_AutoML_20200623_041913 model training\n",
            "\n",
            "\n",
            "04:20:32.683: New leader: GBM_1_AutoML_20200623_041913, mean_residual_deviance: 0.0016150915204940104\n",
            "04:20:32.683: AutoML: starting GBM_2_AutoML_20200623_041913 model training\n",
            "\n",
            "██\n",
            "04:20:42.877: AutoML: starting GBM_3_AutoML_20200623_041913 model training\n",
            "\n",
            "██\n",
            "04:20:54.66: AutoML: starting GBM_4_AutoML_20200623_041913 model training\n",
            "\n",
            "█\n",
            "04:21:07.328: AutoML: starting GBM_5_AutoML_20200623_041913 model training\n",
            "\n",
            "████████████████████████████████████████| 100%\n",
            "\n",
            "04:21:23.512: Skipping StackedEnsemble 'best' due to the exclude_algos option.\n",
            "04:21:23.514: Skipping StackedEnsemble 'all' due to the exclude_algos option.\n",
            "04:21:23.514: Actual modeling steps: [{XGBoost : [def_1 (10), def_2 (10), def_3 (10)]}, {GLM : [def_1 (10)]}, {DRF : [def_1 (10)]}, {GBM : [def_1 (10), def_2 (10), def_3 (10), def_4 (10), def_5 (10)]}]\n",
            "04:21:23.514: AutoML build stopped: 2020.06.23 04:21:23.514\n",
            "04:21:23.514: AutoML build done: built 10 models\n",
            "04:21:23.514: AutoML duration:  2 min  9.319 sec\n",
            "\n",
            "Tue Jun 23 04:21:26 2020       \n",
            "+-----------------------------------------------------------------------------+\n",
            "| NVIDIA-SMI 450.36.06    Driver Version: 418.67       CUDA Version: 10.1     |\n",
            "|-------------------------------+----------------------+----------------------+\n",
            "| GPU  Name        Persistence-M| Bus-Id        Disp.A | Volatile Uncorr. ECC |\n",
            "| Fan  Temp  Perf  Pwr:Usage/Cap|         Memory-Usage | GPU-Util  Compute M. |\n",
            "|                               |                      |               MIG M. |\n",
            "|===============================+======================+======================|\n",
            "|   0  Tesla P100-PCIE...  Off  | 00000000:00:04.0 Off |                    0 |\n",
            "| N/A   48C    P0    34W / 250W |    297MiB / 16280MiB |      0%      Default |\n",
            "|                               |                      |                 ERR! |\n",
            "+-------------------------------+----------------------+----------------------+\n",
            "                                                                               \n",
            "+-----------------------------------------------------------------------------+\n",
            "| Processes:                                                                  |\n",
            "|  GPU   GI   CI        PID   Type   Process name                  GPU Memory |\n",
            "|        ID   ID                                                   Usage      |\n",
            "|=============================================================================|\n",
            "|  No running processes found                                                 |\n",
            "+-----------------------------------------------------------------------------+\n"
          ],
          "name": "stdout"
        }
      ]
    },
    {
      "cell_type": "code",
      "metadata": {
        "id": "x9DR_k1w9kMp",
        "colab_type": "code",
        "colab": {
          "base_uri": "https://localhost:8080/",
          "height": 213
        },
        "outputId": "427c5e79-1e9b-4a3f-e968-267ce2468c7f"
      },
      "source": [
        "leaderboard = aml.leaderboard\n",
        "leaderboard.head()"
      ],
      "execution_count": 25,
      "outputs": [
        {
          "output_type": "display_data",
          "data": {
            "text/html": [
              "<table>\n",
              "<thead>\n",
              "<tr><th>model_id                        </th><th style=\"text-align: right;\">  mean_residual_deviance</th><th style=\"text-align: right;\">     rmse</th><th style=\"text-align: right;\">       mse</th><th style=\"text-align: right;\">       mae</th><th style=\"text-align: right;\">    rmsle</th></tr>\n",
              "</thead>\n",
              "<tbody>\n",
              "<tr><td>GBM_1_AutoML_20200623_041913    </td><td style=\"text-align: right;\">              0.00161509</td><td style=\"text-align: right;\">0.0401882</td><td style=\"text-align: right;\">0.00161509</td><td style=\"text-align: right;\">0.00303912</td><td style=\"text-align: right;\">0.0278716</td></tr>\n",
              "<tr><td>XGBoost_3_AutoML_20200623_041913</td><td style=\"text-align: right;\">              0.00162507</td><td style=\"text-align: right;\">0.0403122</td><td style=\"text-align: right;\">0.00162507</td><td style=\"text-align: right;\">0.00307693</td><td style=\"text-align: right;\">0.0280261</td></tr>\n",
              "<tr><td>GBM_4_AutoML_20200623_041913    </td><td style=\"text-align: right;\">              0.00162613</td><td style=\"text-align: right;\">0.0403253</td><td style=\"text-align: right;\">0.00162613</td><td style=\"text-align: right;\">0.00307286</td><td style=\"text-align: right;\">0.0279915</td></tr>\n",
              "<tr><td>DRF_1_AutoML_20200623_041913    </td><td style=\"text-align: right;\">              0.00162707</td><td style=\"text-align: right;\">0.040337 </td><td style=\"text-align: right;\">0.00162707</td><td style=\"text-align: right;\">0.00306928</td><td style=\"text-align: right;\">0.0280079</td></tr>\n",
              "<tr><td>GBM_2_AutoML_20200623_041913    </td><td style=\"text-align: right;\">              0.00162818</td><td style=\"text-align: right;\">0.0403507</td><td style=\"text-align: right;\">0.00162818</td><td style=\"text-align: right;\">0.00305788</td><td style=\"text-align: right;\">0.0280071</td></tr>\n",
              "<tr><td>GBM_5_AutoML_20200623_041913    </td><td style=\"text-align: right;\">              0.00162981</td><td style=\"text-align: right;\">0.0403709</td><td style=\"text-align: right;\">0.00162981</td><td style=\"text-align: right;\">0.00308475</td><td style=\"text-align: right;\">0.0280169</td></tr>\n",
              "<tr><td>GBM_3_AutoML_20200623_041913    </td><td style=\"text-align: right;\">              0.00163129</td><td style=\"text-align: right;\">0.0403892</td><td style=\"text-align: right;\">0.00163129</td><td style=\"text-align: right;\">0.00306875</td><td style=\"text-align: right;\">0.0280498</td></tr>\n",
              "<tr><td>GLM_1_AutoML_20200623_041913    </td><td style=\"text-align: right;\">              0.00163219</td><td style=\"text-align: right;\">0.0404004</td><td style=\"text-align: right;\">0.00163219</td><td style=\"text-align: right;\">0.00307738</td><td style=\"text-align: right;\">0.0280103</td></tr>\n",
              "<tr><td>XGBoost_1_AutoML_20200623_041913</td><td style=\"text-align: right;\">              0.00165984</td><td style=\"text-align: right;\">0.0407411</td><td style=\"text-align: right;\">0.00165984</td><td style=\"text-align: right;\">0.00340776</td><td style=\"text-align: right;\">0.0285653</td></tr>\n",
              "<tr><td>XGBoost_2_AutoML_20200623_041913</td><td style=\"text-align: right;\">              0.00169149</td><td style=\"text-align: right;\">0.0411277</td><td style=\"text-align: right;\">0.00169149</td><td style=\"text-align: right;\">0.00418934</td><td style=\"text-align: right;\">0.029113 </td></tr>\n",
              "</tbody>\n",
              "</table>"
            ]
          },
          "metadata": {
            "tags": []
          }
        },
        {
          "output_type": "execute_result",
          "data": {
            "text/plain": [
              ""
            ]
          },
          "metadata": {
            "tags": []
          },
          "execution_count": 25
        }
      ]
    },
    {
      "cell_type": "markdown",
      "metadata": {
        "id": "7G_v4PW1D0y3",
        "colab_type": "text"
      },
      "source": [
        "#Test"
      ]
    },
    {
      "cell_type": "code",
      "metadata": {
        "id": "meb4qRqy5y48",
        "colab_type": "code",
        "colab": {
          "base_uri": "https://localhost:8080/",
          "height": 231
        },
        "outputId": "464f8a89-1a1a-47e5-90a9-7c17bdd1ac74"
      },
      "source": [
        "data_pred=aml.leader.predict(data_test)\n",
        "data_pred.head()"
      ],
      "execution_count": 26,
      "outputs": [
        {
          "output_type": "stream",
          "text": [
            "gbm prediction progress: |████████████████████████████████████████████████| 100%\n"
          ],
          "name": "stdout"
        },
        {
          "output_type": "display_data",
          "data": {
            "text/html": [
              "<table>\n",
              "<thead>\n",
              "<tr><th style=\"text-align: right;\">    predict</th></tr>\n",
              "</thead>\n",
              "<tbody>\n",
              "<tr><td style=\"text-align: right;\">0.000389107</td></tr>\n",
              "<tr><td style=\"text-align: right;\">0.000389107</td></tr>\n",
              "<tr><td style=\"text-align: right;\">0.000389107</td></tr>\n",
              "<tr><td style=\"text-align: right;\">0.000389107</td></tr>\n",
              "<tr><td style=\"text-align: right;\">0.000389107</td></tr>\n",
              "<tr><td style=\"text-align: right;\">0.000389107</td></tr>\n",
              "<tr><td style=\"text-align: right;\">0.000389107</td></tr>\n",
              "<tr><td style=\"text-align: right;\">0.000896756</td></tr>\n",
              "<tr><td style=\"text-align: right;\">0.00150761 </td></tr>\n",
              "<tr><td style=\"text-align: right;\">0.00115455 </td></tr>\n",
              "</tbody>\n",
              "</table>"
            ]
          },
          "metadata": {
            "tags": []
          }
        },
        {
          "output_type": "execute_result",
          "data": {
            "text/plain": [
              ""
            ]
          },
          "metadata": {
            "tags": []
          },
          "execution_count": 26
        }
      ]
    },
    {
      "cell_type": "markdown",
      "metadata": {
        "id": "yQst_EgrUO6a",
        "colab_type": "text"
      },
      "source": [
        "# Performance check\n"
      ]
    },
    {
      "cell_type": "code",
      "metadata": {
        "id": "Xjw0-cu-EzCK",
        "colab_type": "code",
        "colab": {
          "base_uri": "https://localhost:8080/",
          "height": 176
        },
        "outputId": "a29b9d84-09da-4d91-8724-e64f411de69e"
      },
      "source": [
        "aml.leader.model_performance(data_test)"
      ],
      "execution_count": 27,
      "outputs": [
        {
          "output_type": "stream",
          "text": [
            "\n",
            "ModelMetricsRegression: gbm\n",
            "** Reported on test data. **\n",
            "\n",
            "MSE: 0.0015046166769497138\n",
            "RMSE: 0.03878938871585519\n",
            "MAE: 0.00293218665752672\n",
            "RMSLE: 0.02694746392704314\n",
            "Mean Residual Deviance: 0.0015046166769497138\n"
          ],
          "name": "stdout"
        },
        {
          "output_type": "execute_result",
          "data": {
            "text/plain": [
              ""
            ]
          },
          "metadata": {
            "tags": []
          },
          "execution_count": 27
        }
      ]
    },
    {
      "cell_type": "markdown",
      "metadata": {
        "id": "bAcOrDv3ug6l",
        "colab_type": "text"
      },
      "source": [
        "#나머지 모델도 테스트"
      ]
    },
    {
      "cell_type": "code",
      "metadata": {
        "id": "lMJUoQULa61P",
        "colab_type": "code",
        "colab": {
          "base_uri": "https://localhost:8080/",
          "height": 194
        },
        "outputId": "e1a74435-9d4d-437c-e4ac-d23d04bd4e67"
      },
      "source": [
        "model_ids = list(aml.leaderboard['model_id'].as_data_frame().iloc[:,0])\n",
        "model_ids\n",
        "#se = h2o.get_model([mid for mid in model_ids if \"StackedEnsemble_AllModels\" in mid][0])\n",
        "#metalearner = h2o.get_model(se.metalearner()['name'])"
      ],
      "execution_count": 28,
      "outputs": [
        {
          "output_type": "execute_result",
          "data": {
            "text/plain": [
              "['GBM_1_AutoML_20200623_041913',\n",
              " 'XGBoost_3_AutoML_20200623_041913',\n",
              " 'GBM_4_AutoML_20200623_041913',\n",
              " 'DRF_1_AutoML_20200623_041913',\n",
              " 'GBM_2_AutoML_20200623_041913',\n",
              " 'GBM_5_AutoML_20200623_041913',\n",
              " 'GBM_3_AutoML_20200623_041913',\n",
              " 'GLM_1_AutoML_20200623_041913',\n",
              " 'XGBoost_1_AutoML_20200623_041913',\n",
              " 'XGBoost_2_AutoML_20200623_041913']"
            ]
          },
          "metadata": {
            "tags": []
          },
          "execution_count": 28
        }
      ]
    },
    {
      "cell_type": "code",
      "metadata": {
        "id": "dJEkXEh8WjH-",
        "colab_type": "code",
        "colab": {}
      },
      "source": [
        "drf = h2o.get_model([i for i in model_ids if \"DRF\" in i][0])"
      ],
      "execution_count": 29,
      "outputs": []
    },
    {
      "cell_type": "code",
      "metadata": {
        "id": "98ZehzpsbH_E",
        "colab_type": "code",
        "colab": {
          "base_uri": "https://localhost:8080/",
          "height": 167
        },
        "outputId": "a0c509ff-4cdd-4a68-c36d-c02d621c333e"
      },
      "source": [
        "#h2o.get_model([i for i in model_ids if \"DeepLearning\" in i][0])\n",
        "h2o.get_model([i for i in model_ids if \"GBM\" in i][0])"
      ],
      "execution_count": 30,
      "outputs": [
        {
          "output_type": "error",
          "ename": "IndexError",
          "evalue": "ignored",
          "traceback": [
            "\u001b[0;31m---------------------------------------------------------------------------\u001b[0m",
            "\u001b[0;31mIndexError\u001b[0m                                Traceback (most recent call last)",
            "\u001b[0;32m<ipython-input-30-6428fb77006a>\u001b[0m in \u001b[0;36m<module>\u001b[0;34m()\u001b[0m\n\u001b[0;32m----> 1\u001b[0;31m \u001b[0mh2o\u001b[0m\u001b[0;34m.\u001b[0m\u001b[0mget_model\u001b[0m\u001b[0;34m(\u001b[0m\u001b[0;34m[\u001b[0m\u001b[0mi\u001b[0m \u001b[0;32mfor\u001b[0m \u001b[0mi\u001b[0m \u001b[0;32min\u001b[0m \u001b[0mmodel_ids\u001b[0m \u001b[0;32mif\u001b[0m \u001b[0;34m\"DeepLearning\"\u001b[0m \u001b[0;32min\u001b[0m \u001b[0mi\u001b[0m\u001b[0;34m]\u001b[0m\u001b[0;34m[\u001b[0m\u001b[0;36m0\u001b[0m\u001b[0;34m]\u001b[0m\u001b[0;34m)\u001b[0m\u001b[0;34m\u001b[0m\u001b[0;34m\u001b[0m\u001b[0m\n\u001b[0m",
            "\u001b[0;31mIndexError\u001b[0m: list index out of range"
          ]
        }
      ]
    },
    {
      "cell_type": "code",
      "metadata": {
        "id": "TyUkNZZvXGxp",
        "colab_type": "code",
        "colab": {}
      },
      "source": [
        "#dl = h2o.get_model([i for i in model_ids if \"DeepLearning\" in i][0])\n",
        "dl = h2o.get_model([i for i in model_ids if \"GBM\" in i][0])"
      ],
      "execution_count": 31,
      "outputs": []
    },
    {
      "cell_type": "code",
      "metadata": {
        "colab_type": "code",
        "id": "o_ZxHlnal6lg",
        "colab": {
          "base_uri": "https://localhost:8080/",
          "height": 316
        },
        "outputId": "b5bebf3c-52e0-4b82-f21f-9a3be5dcfb94"
      },
      "source": [
        "dl.confusion_matrix()"
      ],
      "execution_count": 32,
      "outputs": [
        {
          "output_type": "error",
          "ename": "AttributeError",
          "evalue": "ignored",
          "traceback": [
            "\u001b[0;31m---------------------------------------------------------------------------\u001b[0m",
            "\u001b[0;31mAttributeError\u001b[0m                            Traceback (most recent call last)",
            "\u001b[0;32m<ipython-input-32-d10afab91747>\u001b[0m in \u001b[0;36m<module>\u001b[0;34m()\u001b[0m\n\u001b[0;32m----> 1\u001b[0;31m \u001b[0mdl\u001b[0m\u001b[0;34m.\u001b[0m\u001b[0mconfusion_matrix\u001b[0m\u001b[0;34m(\u001b[0m\u001b[0;34m)\u001b[0m\u001b[0;34m\u001b[0m\u001b[0;34m\u001b[0m\u001b[0m\n\u001b[0m",
            "\u001b[0;32m/usr/local/lib/python3.6/dist-packages/h2o/utils/metaclass.py\u001b[0m in \u001b[0;36m__getattr__\u001b[0;34m(self, name)\u001b[0m\n\u001b[1;32m    191\u001b[0m             \u001b[0;32mif\u001b[0m \u001b[0mname\u001b[0m \u001b[0;32min\u001b[0m \u001b[0mself\u001b[0m\u001b[0;34m.\u001b[0m\u001b[0m_bci\u001b[0m\u001b[0;34m:\u001b[0m\u001b[0;34m\u001b[0m\u001b[0;34m\u001b[0m\u001b[0m\n\u001b[1;32m    192\u001b[0m                 \u001b[0;32mreturn\u001b[0m \u001b[0mself\u001b[0m\u001b[0;34m.\u001b[0m\u001b[0m_bci\u001b[0m\u001b[0;34m[\u001b[0m\u001b[0mname\u001b[0m\u001b[0;34m]\u001b[0m\u001b[0;34m\u001b[0m\u001b[0;34m\u001b[0m\u001b[0m\n\u001b[0;32m--> 193\u001b[0;31m             \u001b[0;32mreturn\u001b[0m \u001b[0mgetattr\u001b[0m\u001b[0;34m(\u001b[0m\u001b[0mnew_clz\u001b[0m\u001b[0;34m,\u001b[0m \u001b[0mname\u001b[0m\u001b[0;34m)\u001b[0m\u001b[0;34m\u001b[0m\u001b[0;34m\u001b[0m\u001b[0m\n\u001b[0m\u001b[1;32m    194\u001b[0m \u001b[0;34m\u001b[0m\u001b[0m\n\u001b[1;32m    195\u001b[0m         \u001b[0mnew_clz\u001b[0m \u001b[0;34m=\u001b[0m \u001b[0mextend_and_replace\u001b[0m\u001b[0;34m(\u001b[0m\u001b[0mclz\u001b[0m\u001b[0;34m,\u001b[0m \u001b[0m__init__\u001b[0m\u001b[0;34m=\u001b[0m\u001b[0m__init__\u001b[0m\u001b[0;34m,\u001b[0m \u001b[0m__getattr__\u001b[0m\u001b[0;34m=\u001b[0m\u001b[0m__getattr__\u001b[0m\u001b[0;34m)\u001b[0m\u001b[0;34m\u001b[0m\u001b[0;34m\u001b[0m\u001b[0m\n",
            "\u001b[0;32m/usr/local/lib/python3.6/dist-packages/h2o/utils/metaclass.py\u001b[0m in \u001b[0;36m__getattribute__\u001b[0;34m(cls, name)\u001b[0m\n\u001b[1;32m    233\u001b[0m             \u001b[0;32mif\u001b[0m \u001b[0mattr\u001b[0m \u001b[0;32mis\u001b[0m \u001b[0;32mnot\u001b[0m \u001b[0mMetaFeature\u001b[0m\u001b[0;34m.\u001b[0m\u001b[0mNOT_FOUND\u001b[0m\u001b[0;34m:\u001b[0m\u001b[0;34m\u001b[0m\u001b[0;34m\u001b[0m\u001b[0m\n\u001b[1;32m    234\u001b[0m                 \u001b[0;32mreturn\u001b[0m \u001b[0mattr\u001b[0m\u001b[0;34m\u001b[0m\u001b[0;34m\u001b[0m\u001b[0m\n\u001b[0;32m--> 235\u001b[0;31m         \u001b[0;32mreturn\u001b[0m \u001b[0mtype\u001b[0m\u001b[0;34m.\u001b[0m\u001b[0m__getattribute__\u001b[0m\u001b[0;34m(\u001b[0m\u001b[0mcls\u001b[0m\u001b[0;34m,\u001b[0m \u001b[0mname\u001b[0m\u001b[0;34m)\u001b[0m\u001b[0;34m\u001b[0m\u001b[0;34m\u001b[0m\u001b[0m\n\u001b[0m\u001b[1;32m    236\u001b[0m \u001b[0;34m\u001b[0m\u001b[0m\n\u001b[1;32m    237\u001b[0m     \u001b[0;32mdef\u001b[0m \u001b[0m__setattr__\u001b[0m\u001b[0;34m(\u001b[0m\u001b[0mcls\u001b[0m\u001b[0;34m,\u001b[0m \u001b[0mname\u001b[0m\u001b[0;34m,\u001b[0m \u001b[0mvalue\u001b[0m\u001b[0;34m)\u001b[0m\u001b[0;34m:\u001b[0m\u001b[0;34m\u001b[0m\u001b[0;34m\u001b[0m\u001b[0m\n",
            "\u001b[0;31mAttributeError\u001b[0m: type object 'ModelBase' has no attribute 'confusion_matrix'"
          ]
        }
      ]
    },
    {
      "cell_type": "code",
      "metadata": {
        "colab_type": "code",
        "id": "6Y7Lt5ROmofC",
        "colab": {
          "base_uri": "https://localhost:8080/",
          "height": 612
        },
        "outputId": "b7609365-c936-43db-d24b-869d5ec86744"
      },
      "source": [
        "dl.varimp_plot()"
      ],
      "execution_count": 33,
      "outputs": [
        {
          "output_type": "display_data",
          "data": {
            "image/png": "[encoded data removed]",
            "text/plain": [
              "<Figure size 1008x720 with 1 Axes>"
            ]
          },
          "metadata": {
            "tags": [],
            "needs_background": "light"
          }
        }
      ]
    },
    {
      "cell_type": "markdown",
      "metadata": {
        "id": "TaT9qQ74YQ4K",
        "colab_type": "text"
      },
      "source": [
        "#모델 저장"
      ]
    },
    {
      "cell_type": "code",
      "metadata": {
        "id": "SHrUXBm5YUG9",
        "colab_type": "code",
        "colab": {
          "base_uri": "https://localhost:8080/",
          "height": 34
        },
        "outputId": "97bb87ba-47a8-4a28-ec1d-dc2f371f6e9a"
      },
      "source": [
        "aml.leader.download_mojo(path = BASE_DIR)"
      ],
      "execution_count": null,
      "outputs": [
        {
          "output_type": "execute_result",
          "data": {
            "text/plain": [
              "'/content/DRF_1_AutoML_20200622_014252.zip'"
            ]
          },
          "metadata": {
            "tags": []
          },
          "execution_count": 78
        }
      ]
    }
  ]
}