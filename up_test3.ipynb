{
  "nbformat": 4,
  "nbformat_minor": 0,
  "metadata": {
    "colab": {
      "name": "up-test3.ipynb",
      "provenance": [],
      "collapsed_sections": [],
      "toc_visible": true,
      "include_colab_link": true
    },
    "kernelspec": {
      "name": "python3",
      "display_name": "Python 3"
    },
    "accelerator": "GPU"
  },
  "cells": [
    {
      "cell_type": "markdown",
      "metadata": {
        "id": "view-in-github",
        "colab_type": "text"
      },
      "source": [
        "<a href=\"https://colab.research.google.com/github/secutron/ShowTime/blob/master/up_test3.ipynb\" target=\"_parent\"><img src=\"https://colab.research.google.com/assets/colab-badge.svg\" alt=\"Open In Colab\"/></a>"
      ]
    },
    {
      "cell_type": "markdown",
      "metadata": {
        "id": "LPFQozwJVsMm",
        "colab_type": "text"
      },
      "source": [
        "Candel, A., Parmar, V., LeDell, E., and Arora, A. (Jun 2020). Deep Learning\n",
        "with H2O. http://h2o.ai/resources."
      ]
    },
    {
      "cell_type": "markdown",
      "metadata": {
        "id": "9ny0ipaPUuY2",
        "colab_type": "text"
      },
      "source": [
        "http://docs.h2o.ai/h2o/latest-stable/h2o-docs/booklets/DeepLearningBooklet.pdf?_ga=2.184768361.1553179602.1592730801-433090902.1592730801\n",
        "\n"
      ]
    },
    {
      "cell_type": "code",
      "metadata": {
        "id": "6xXsZrxWOdZW",
        "colab_type": "code",
        "colab": {
          "base_uri": "https://localhost:8080/",
          "height": 372
        },
        "outputId": "c025bf98-1955-4ec3-82b5-6662ae4c1ccf"
      },
      "source": [
        "!nvidia-smi"
      ],
      "execution_count": 1,
      "outputs": [
        {
          "output_type": "stream",
          "text": [
            "Wed Jul  1 04:58:55 2020       \n",
            "+-----------------------------------------------------------------------------+\n",
            "| NVIDIA-SMI 450.36.06    Driver Version: 418.67       CUDA Version: 10.1     |\n",
            "|-------------------------------+----------------------+----------------------+\n",
            "| GPU  Name        Persistence-M| Bus-Id        Disp.A | Volatile Uncorr. ECC |\n",
            "| Fan  Temp  Perf  Pwr:Usage/Cap|         Memory-Usage | GPU-Util  Compute M. |\n",
            "|                               |                      |               MIG M. |\n",
            "|===============================+======================+======================|\n",
            "|   0  Tesla K80           Off  | 00000000:00:04.0 Off |                    0 |\n",
            "| N/A   36C    P8    26W / 149W |      0MiB / 11441MiB |      0%      Default |\n",
            "|                               |                      |                 ERR! |\n",
            "+-------------------------------+----------------------+----------------------+\n",
            "                                                                               \n",
            "+-----------------------------------------------------------------------------+\n",
            "| Processes:                                                                  |\n",
            "|  GPU   GI   CI        PID   Type   Process name                  GPU Memory |\n",
            "|        ID   ID                                                   Usage      |\n",
            "|=============================================================================|\n",
            "|  No running processes found                                                 |\n",
            "+-----------------------------------------------------------------------------+\n"
          ],
          "name": "stdout"
        }
      ]
    },
    {
      "cell_type": "code",
      "metadata": {
        "id": "hcr8LovGKQz0",
        "colab_type": "code",
        "colab": {
          "base_uri": "https://localhost:8080/",
          "height": 230
        },
        "outputId": "76bef8a7-3041-47bd-fa1b-eb9337bcb46d"
      },
      "source": [
        "!apt-get install default-jre\n",
        "!java -version"
      ],
      "execution_count": 2,
      "outputs": [
        {
          "output_type": "stream",
          "text": [
            "Reading package lists... Done\n",
            "Building dependency tree       \n",
            "Reading state information... Done\n",
            "default-jre is already the newest version (2:1.11-68ubuntu1~18.04.1).\n",
            "default-jre set to manually installed.\n",
            "The following package was automatically installed and is no longer required:\n",
            "  libnvidia-common-440\n",
            "Use 'apt autoremove' to remove it.\n",
            "0 upgraded, 0 newly installed, 0 to remove and 33 not upgraded.\n",
            "openjdk version \"11.0.7\" 2020-04-14\n",
            "OpenJDK Runtime Environment (build 11.0.7+10-post-Ubuntu-2ubuntu218.04)\n",
            "OpenJDK 64-Bit Server VM (build 11.0.7+10-post-Ubuntu-2ubuntu218.04, mixed mode, sharing)\n"
          ],
          "name": "stdout"
        }
      ]
    },
    {
      "cell_type": "code",
      "metadata": {
        "id": "cQQX75nNOmlv",
        "colab_type": "code",
        "colab": {
          "base_uri": "https://localhost:8080/",
          "height": 354
        },
        "outputId": "b045aa1e-bcea-475e-9a4e-6c207f9354bf"
      },
      "source": [
        "!pip install h2o"
      ],
      "execution_count": 3,
      "outputs": [
        {
          "output_type": "stream",
          "text": [
            "Collecting h2o\n",
            "\u001b[?25l  Downloading https://files.pythonhosted.org/packages/ad/5a/8328741dd6b1e9ac9345ec47e1e963d1bba56e0747063d6ce606a2813a55/h2o-3.30.0.6.tar.gz (128.4MB)\n",
            "\u001b[K     |████████████████████████████████| 128.4MB 96kB/s \n",
            "\u001b[?25hRequirement already satisfied: requests in /usr/local/lib/python3.6/dist-packages (from h2o) (2.23.0)\n",
            "Requirement already satisfied: tabulate in /usr/local/lib/python3.6/dist-packages (from h2o) (0.8.7)\n",
            "Requirement already satisfied: future in /usr/local/lib/python3.6/dist-packages (from h2o) (0.16.0)\n",
            "Collecting colorama>=0.3.8\n",
            "  Downloading https://files.pythonhosted.org/packages/c9/dc/45cdef1b4d119eb96316b3117e6d5708a08029992b2fee2c143c7a0a5cc5/colorama-0.4.3-py2.py3-none-any.whl\n",
            "Requirement already satisfied: chardet<4,>=3.0.2 in /usr/local/lib/python3.6/dist-packages (from requests->h2o) (3.0.4)\n",
            "Requirement already satisfied: idna<3,>=2.5 in /usr/local/lib/python3.6/dist-packages (from requests->h2o) (2.9)\n",
            "Requirement already satisfied: certifi>=2017.4.17 in /usr/local/lib/python3.6/dist-packages (from requests->h2o) (2020.6.20)\n",
            "Requirement already satisfied: urllib3!=1.25.0,!=1.25.1,<1.26,>=1.21.1 in /usr/local/lib/python3.6/dist-packages (from requests->h2o) (1.24.3)\n",
            "Building wheels for collected packages: h2o\n",
            "  Building wheel for h2o (setup.py) ... \u001b[?25l\u001b[?25hdone\n",
            "  Created wheel for h2o: filename=h2o-3.30.0.6-py2.py3-none-any.whl size=128412300 sha256=a0d45c145dd5f8434570db39b3483175563cb6006f36b285fcd14b4e51c25e1c\n",
            "  Stored in directory: /root/.cache/pip/wheels/de/4c/dd/4813e95c4b5328b4de2e2e1aa56ca66a547f45d11fe47c3c8a\n",
            "Successfully built h2o\n",
            "Installing collected packages: colorama, h2o\n",
            "Successfully installed colorama-0.4.3 h2o-3.30.0.6\n"
          ],
          "name": "stdout"
        }
      ]
    },
    {
      "cell_type": "code",
      "metadata": {
        "id": "yUJFHY-2pRU7",
        "colab_type": "code",
        "colab": {
          "base_uri": "https://localhost:8080/",
          "height": 52
        },
        "outputId": "98bdd4b3-b660-4a41-ef76-d0809a821889"
      },
      "source": [
        "import numpy as np\n",
        "import pandas as pd\n",
        "import seaborn as sns\n",
        "import matplotlib\n",
        "import matplotlib.pyplot as plt\n",
        "import urllib\n",
        "import h2o\n",
        "from h2o.automl import H2OAutoML\n",
        "import sys\n",
        "import os\n",
        "\n",
        "import warnings\n",
        "warnings.filterwarnings(\"ignore\")"
      ],
      "execution_count": 4,
      "outputs": [
        {
          "output_type": "stream",
          "text": [
            "/usr/local/lib/python3.6/dist-packages/statsmodels/tools/_testing.py:19: FutureWarning: pandas.util.testing is deprecated. Use the functions in the public API at pandas.testing instead.\n",
            "  import pandas.util.testing as tm\n"
          ],
          "name": "stderr"
        }
      ]
    },
    {
      "cell_type": "code",
      "metadata": {
        "id": "lakpkQGMPUuX",
        "colab_type": "code",
        "colab": {
          "base_uri": "https://localhost:8080/",
          "height": 123
        },
        "outputId": "75dece31-b981-4183-edfc-31dd666b7ee7"
      },
      "source": [
        "print('matplotlib: {}'.format(matplotlib.__version__))\n",
        "#print('sklearn: {}'.format(sklearn.__version__))\n",
        "#print('scipy: {}'.format(scipy.__version__))\n",
        "print('seaborn: {}'.format(sns.__version__))\n",
        "print('pandas: {}'.format(pd.__version__))\n",
        "print('numpy: {}'.format(np.__version__))\n",
        "print('sys: {}'.format(sys.version))"
      ],
      "execution_count": 5,
      "outputs": [
        {
          "output_type": "stream",
          "text": [
            "matplotlib: 3.2.2\n",
            "seaborn: 0.10.1\n",
            "pandas: 1.0.5\n",
            "numpy: 1.18.5\n",
            "sys: 3.6.9 (default, Apr 18 2020, 01:56:04) \n",
            "[GCC 8.4.0]\n"
          ],
          "name": "stdout"
        }
      ]
    },
    {
      "cell_type": "code",
      "metadata": {
        "id": "Op3rBhT4O7iA",
        "colab_type": "code",
        "colab": {
          "base_uri": "https://localhost:8080/",
          "height": 482
        },
        "outputId": "265328d9-08a5-466c-ae59-7edb03be11c5"
      },
      "source": [
        "h2o.init()"
      ],
      "execution_count": 6,
      "outputs": [
        {
          "output_type": "stream",
          "text": [
            "Checking whether there is an H2O instance running at http://localhost:54321 ..... not found.\n",
            "Attempting to start a local H2O server...\n",
            "  Java Version: openjdk version \"11.0.7\" 2020-04-14; OpenJDK Runtime Environment (build 11.0.7+10-post-Ubuntu-2ubuntu218.04); OpenJDK 64-Bit Server VM (build 11.0.7+10-post-Ubuntu-2ubuntu218.04, mixed mode, sharing)\n",
            "  Starting server from /usr/local/lib/python3.6/dist-packages/h2o/backend/bin/h2o.jar\n",
            "  Ice root: /tmp/tmpike3j9hb\n",
            "  JVM stdout: /tmp/tmpike3j9hb/h2o_unknownUser_started_from_python.out\n",
            "  JVM stderr: /tmp/tmpike3j9hb/h2o_unknownUser_started_from_python.err\n",
            "  Server is running at http://127.0.0.1:54321\n",
            "Connecting to H2O server at http://127.0.0.1:54321 ... successful.\n"
          ],
          "name": "stdout"
        },
        {
          "output_type": "display_data",
          "data": {
            "text/html": [
              "<div style=\"overflow:auto\"><table style=\"width:50%\"><tr><td>H2O_cluster_uptime:</td>\n",
              "<td>02 secs</td></tr>\n",
              "<tr><td>H2O_cluster_timezone:</td>\n",
              "<td>Etc/UTC</td></tr>\n",
              "<tr><td>H2O_data_parsing_timezone:</td>\n",
              "<td>UTC</td></tr>\n",
              "<tr><td>H2O_cluster_version:</td>\n",
              "<td>3.30.0.6</td></tr>\n",
              "<tr><td>H2O_cluster_version_age:</td>\n",
              "<td>9 hours and 14 minutes </td></tr>\n",
              "<tr><td>H2O_cluster_name:</td>\n",
              "<td>H2O_from_python_unknownUser_vk1d1l</td></tr>\n",
              "<tr><td>H2O_cluster_total_nodes:</td>\n",
              "<td>1</td></tr>\n",
              "<tr><td>H2O_cluster_free_memory:</td>\n",
              "<td>3.180 Gb</td></tr>\n",
              "<tr><td>H2O_cluster_total_cores:</td>\n",
              "<td>2</td></tr>\n",
              "<tr><td>H2O_cluster_allowed_cores:</td>\n",
              "<td>2</td></tr>\n",
              "<tr><td>H2O_cluster_status:</td>\n",
              "<td>accepting new members, healthy</td></tr>\n",
              "<tr><td>H2O_connection_url:</td>\n",
              "<td>http://127.0.0.1:54321</td></tr>\n",
              "<tr><td>H2O_connection_proxy:</td>\n",
              "<td>{\"http\": null, \"https\": null}</td></tr>\n",
              "<tr><td>H2O_internal_security:</td>\n",
              "<td>False</td></tr>\n",
              "<tr><td>H2O_API_Extensions:</td>\n",
              "<td>Amazon S3, XGBoost, Algos, AutoML, Core V3, TargetEncoder, Core V4</td></tr>\n",
              "<tr><td>Python_version:</td>\n",
              "<td>3.6.9 final</td></tr></table></div>"
            ],
            "text/plain": [
              "--------------------------  ------------------------------------------------------------------\n",
              "H2O_cluster_uptime:         02 secs\n",
              "H2O_cluster_timezone:       Etc/UTC\n",
              "H2O_data_parsing_timezone:  UTC\n",
              "H2O_cluster_version:        3.30.0.6\n",
              "H2O_cluster_version_age:    9 hours and 14 minutes\n",
              "H2O_cluster_name:           H2O_from_python_unknownUser_vk1d1l\n",
              "H2O_cluster_total_nodes:    1\n",
              "H2O_cluster_free_memory:    3.180 Gb\n",
              "H2O_cluster_total_cores:    2\n",
              "H2O_cluster_allowed_cores:  2\n",
              "H2O_cluster_status:         accepting new members, healthy\n",
              "H2O_connection_url:         http://127.0.0.1:54321\n",
              "H2O_connection_proxy:       {\"http\": null, \"https\": null}\n",
              "H2O_internal_security:      False\n",
              "H2O_API_Extensions:         Amazon S3, XGBoost, Algos, AutoML, Core V3, TargetEncoder, Core V4\n",
              "Python_version:             3.6.9 final\n",
              "--------------------------  ------------------------------------------------------------------"
            ]
          },
          "metadata": {
            "tags": []
          }
        }
      ]
    },
    {
      "cell_type": "code",
      "metadata": {
        "id": "nQ1vIt3iR2s-",
        "colab_type": "code",
        "colab": {}
      },
      "source": [
        "# Get help\n",
        "#help(h2o.estimators.glm.H2OGeneralizedLinearEstimator)\n",
        "#help(h2o.estimators.gbm.H2OGradientBoostingEstimator)\n",
        "#help(h2o.estimators.deeplearning.H2ODeepLearningEstimator)\n",
        "\n",
        "# Show a demo\n",
        "#h2o.demo(\"glm\")\n",
        "#h2o.demo(\"gbm\")\n",
        "#h2o.demo(\"deeplearning\")"
      ],
      "execution_count": 7,
      "outputs": []
    },
    {
      "cell_type": "markdown",
      "metadata": {
        "id": "DsQdgsFMT9er",
        "colab_type": "text"
      },
      "source": [
        "### 여러 파일 준비"
      ]
    },
    {
      "cell_type": "code",
      "metadata": {
        "id": "G6d0229RT7_v",
        "colab_type": "code",
        "colab": {}
      },
      "source": [
        "BASE_DIR = '/content'\n",
        "#OUTPUT_FILE = os.path.join(BASE_DIR, 'tmp.csv')\n",
        "\n",
        "#hkim_data=urllib.request.urlretrieve('http://archive.ics.uci.edu/ml/machine-learning-databases/credit-screening/crx.data', OUTPUT_FILE)\n",
        "\n",
        "# 드라이브 전체공유 후..\n",
        "\n",
        "# column_2C_weka.csv\n",
        "#hkim_data=urllib.request.urlretrieve('https://drive.google.com/uc?export=download&id=1oMEvI6gWC4ZAqssQ3s3j6RkWUPa_TSwY', OUTPUT_FILE)\n",
        "\n",
        "#churn_df = h2o.import_file('https://raw.githubusercontent.com/srivatsan88/YouTubeLI/master/dataset/WA_Fn-UseC_-Telco-Customer-Churn.csv')"
      ],
      "execution_count": 8,
      "outputs": []
    },
    {
      "cell_type": "code",
      "metadata": {
        "id": "H91Teg5Fhuyk",
        "colab_type": "code",
        "colab": {
          "base_uri": "https://localhost:8080/",
          "height": 212
        },
        "outputId": "a8bfaec8-09e4-4109-ae56-b8e24f9188a2"
      },
      "source": [
        "OUTPUT_FILE = os.path.join(BASE_DIR, 'QMS_NVOC_SORT.csv')\n",
        "df = pd.read_csv(OUTPUT_FILE, delimiter = ',')\n",
        "print(df.shape)\n",
        "df.dtypes\n"
      ],
      "execution_count": 10,
      "outputs": [
        {
          "output_type": "stream",
          "text": [
            "(2474447, 9)\n"
          ],
          "name": "stdout"
        },
        {
          "output_type": "execute_result",
          "data": {
            "text/plain": [
              "Unnamed: 0                 int64\n",
              "a1.ucube_jnr_no           object\n",
              "a2.firstlogtime           object\n",
              "a2.buffer_overflow       float64\n",
              "a2.pts_advanced_error    float64\n",
              "a2.stb_rtp_errcnt        float64\n",
              "a2.no_stream_error       float64\n",
              "a2.not_decoding_error    float64\n",
              "nvoc                     float64\n",
              "dtype: object"
            ]
          },
          "metadata": {
            "tags": []
          },
          "execution_count": 10
        }
      ]
    },
    {
      "cell_type": "code",
      "metadata": {
        "id": "p8VlrFBqL-pk",
        "colab_type": "code",
        "colab": {
          "base_uri": "https://localhost:8080/",
          "height": 34
        },
        "outputId": "f06bc41b-7cd8-4ca2-bfc4-c6659e534bf2"
      },
      "source": [
        "type(df)"
      ],
      "execution_count": null,
      "outputs": [
        {
          "output_type": "execute_result",
          "data": {
            "text/plain": [
              "pandas.core.frame.DataFrame"
            ]
          },
          "metadata": {
            "tags": []
          },
          "execution_count": 11
        }
      ]
    },
    {
      "cell_type": "code",
      "metadata": {
        "id": "AIXgD_vmo8ZQ",
        "colab_type": "code",
        "colab": {
          "base_uri": "https://localhost:8080/",
          "height": 197
        },
        "outputId": "3e099086-ef02-496f-81ea-6623f2603fff"
      },
      "source": [
        "df.head()"
      ],
      "execution_count": null,
      "outputs": [
        {
          "output_type": "execute_result",
          "data": {
            "text/html": [
              "<div>\n",
              "<style scoped>\n",
              "    .dataframe tbody tr th:only-of-type {\n",
              "        vertical-align: middle;\n",
              "    }\n",
              "\n",
              "    .dataframe tbody tr th {\n",
              "        vertical-align: top;\n",
              "    }\n",
              "\n",
              "    .dataframe thead th {\n",
              "        text-align: right;\n",
              "    }\n",
              "</style>\n",
              "<table border=\"1\" class=\"dataframe\">\n",
              "  <thead>\n",
              "    <tr style=\"text-align: right;\">\n",
              "      <th></th>\n",
              "      <th>Unnamed: 0</th>\n",
              "      <th>a1.ucube_jnr_no</th>\n",
              "      <th>a2.firstlogtime</th>\n",
              "      <th>a2.buffer_overflow</th>\n",
              "      <th>a2.pts_advanced_error</th>\n",
              "      <th>a2.stb_rtp_errcnt</th>\n",
              "      <th>a2.no_stream_error</th>\n",
              "      <th>a2.not_decoding_error</th>\n",
              "      <th>nvoc</th>\n",
              "    </tr>\n",
              "  </thead>\n",
              "  <tbody>\n",
              "    <tr>\n",
              "      <th>0</th>\n",
              "      <td>111744</td>\n",
              "      <td>09C0AD6964595B62D88E9C3797DF66099DE5747C</td>\n",
              "      <td>2020-06-01 00:00:00</td>\n",
              "      <td>0.0</td>\n",
              "      <td>0.0</td>\n",
              "      <td>0.0</td>\n",
              "      <td>0.0</td>\n",
              "      <td>0.0</td>\n",
              "      <td>0.0</td>\n",
              "    </tr>\n",
              "    <tr>\n",
              "      <th>1</th>\n",
              "      <td>111745</td>\n",
              "      <td>09C0AD6964595B62D88E9C3797DF66099DE5747C</td>\n",
              "      <td>2020-06-01 00:10:00</td>\n",
              "      <td>0.0</td>\n",
              "      <td>0.0</td>\n",
              "      <td>0.0</td>\n",
              "      <td>0.0</td>\n",
              "      <td>0.0</td>\n",
              "      <td>0.0</td>\n",
              "    </tr>\n",
              "    <tr>\n",
              "      <th>2</th>\n",
              "      <td>111746</td>\n",
              "      <td>09C0AD6964595B62D88E9C3797DF66099DE5747C</td>\n",
              "      <td>2020-06-01 00:20:00</td>\n",
              "      <td>0.0</td>\n",
              "      <td>0.0</td>\n",
              "      <td>0.0</td>\n",
              "      <td>0.0</td>\n",
              "      <td>0.0</td>\n",
              "      <td>0.0</td>\n",
              "    </tr>\n",
              "    <tr>\n",
              "      <th>3</th>\n",
              "      <td>111747</td>\n",
              "      <td>09C0AD6964595B62D88E9C3797DF66099DE5747C</td>\n",
              "      <td>2020-06-01 00:30:00</td>\n",
              "      <td>0.0</td>\n",
              "      <td>0.0</td>\n",
              "      <td>0.0</td>\n",
              "      <td>0.0</td>\n",
              "      <td>0.0</td>\n",
              "      <td>0.0</td>\n",
              "    </tr>\n",
              "    <tr>\n",
              "      <th>4</th>\n",
              "      <td>111748</td>\n",
              "      <td>09C0AD6964595B62D88E9C3797DF66099DE5747C</td>\n",
              "      <td>2020-06-01 00:40:00</td>\n",
              "      <td>0.0</td>\n",
              "      <td>0.0</td>\n",
              "      <td>0.0</td>\n",
              "      <td>0.0</td>\n",
              "      <td>0.0</td>\n",
              "      <td>0.0</td>\n",
              "    </tr>\n",
              "  </tbody>\n",
              "</table>\n",
              "</div>"
            ],
            "text/plain": [
              "   Unnamed: 0  ... nvoc\n",
              "0      111744  ...  0.0\n",
              "1      111745  ...  0.0\n",
              "2      111746  ...  0.0\n",
              "3      111747  ...  0.0\n",
              "4      111748  ...  0.0\n",
              "\n",
              "[5 rows x 9 columns]"
            ]
          },
          "metadata": {
            "tags": []
          },
          "execution_count": 13
        }
      ]
    },
    {
      "cell_type": "code",
      "metadata": {
        "id": "DtIyL5tIMKeH",
        "colab_type": "code",
        "colab": {
          "base_uri": "https://localhost:8080/",
          "height": 194
        },
        "outputId": "4f127fea-55f5-466d-ff66-69fb01290b7e"
      },
      "source": [
        "hdf = h2o.import_file(OUTPUT_FILE)\n",
        "hdf.types"
      ],
      "execution_count": null,
      "outputs": [
        {
          "output_type": "stream",
          "text": [
            "Parse progress: |█████████████████████████████████████████████████████████| 100%\n"
          ],
          "name": "stdout"
        },
        {
          "output_type": "execute_result",
          "data": {
            "text/plain": [
              "{'C1': 'int',\n",
              " 'a1.ucube_jnr_no': 'enum',\n",
              " 'a2.buffer_overflow': 'int',\n",
              " 'a2.firstlogtime': 'time',\n",
              " 'a2.no_stream_error': 'int',\n",
              " 'a2.not_decoding_error': 'int',\n",
              " 'a2.pts_advanced_error': 'int',\n",
              " 'a2.stb_rtp_errcnt': 'int',\n",
              " 'nvoc': 'int'}"
            ]
          },
          "metadata": {
            "tags": []
          },
          "execution_count": 18
        }
      ]
    },
    {
      "cell_type": "code",
      "metadata": {
        "id": "Y-bdWsLWMcxe",
        "colab_type": "code",
        "colab": {
          "base_uri": "https://localhost:8080/",
          "height": 34
        },
        "outputId": "d091d90e-2e29-4fef-f99e-05699c10b64b"
      },
      "source": [
        "type(hdf)"
      ],
      "execution_count": null,
      "outputs": [
        {
          "output_type": "execute_result",
          "data": {
            "text/plain": [
              "h2o.frame.H2OFrame"
            ]
          },
          "metadata": {
            "tags": []
          },
          "execution_count": 19
        }
      ]
    },
    {
      "cell_type": "code",
      "metadata": {
        "id": "ixDlgF3kp3zM",
        "colab_type": "code",
        "colab": {
          "base_uri": "https://localhost:8080/",
          "height": 213
        },
        "outputId": "0968e547-54ab-48ad-b4cd-8e3c113815e1"
      },
      "source": [
        "hdf.head()"
      ],
      "execution_count": null,
      "outputs": [
        {
          "output_type": "display_data",
          "data": {
            "text/html": [
              "<table>\n",
              "<thead>\n",
              "<tr><th style=\"text-align: right;\">    C1</th><th>a1.ucube_jnr_no                         </th><th>a2.firstlogtime    </th><th style=\"text-align: right;\">  a2.buffer_overflow</th><th style=\"text-align: right;\">  a2.pts_advanced_error</th><th style=\"text-align: right;\">  a2.stb_rtp_errcnt</th><th style=\"text-align: right;\">  a2.no_stream_error</th><th style=\"text-align: right;\">  a2.not_decoding_error</th><th style=\"text-align: right;\">  nvoc</th></tr>\n",
              "</thead>\n",
              "<tbody>\n",
              "<tr><td style=\"text-align: right;\">111744</td><td>09C0AD6964595B62D88E9C3797DF66099DE5747C</td><td>2020-06-01 00:00:00</td><td style=\"text-align: right;\">                   0</td><td style=\"text-align: right;\">                      0</td><td style=\"text-align: right;\">                  0</td><td style=\"text-align: right;\">                   0</td><td style=\"text-align: right;\">                      0</td><td style=\"text-align: right;\">     0</td></tr>\n",
              "<tr><td style=\"text-align: right;\">111745</td><td>09C0AD6964595B62D88E9C3797DF66099DE5747C</td><td>2020-06-01 00:10:00</td><td style=\"text-align: right;\">                   0</td><td style=\"text-align: right;\">                      0</td><td style=\"text-align: right;\">                  0</td><td style=\"text-align: right;\">                   0</td><td style=\"text-align: right;\">                      0</td><td style=\"text-align: right;\">     0</td></tr>\n",
              "<tr><td style=\"text-align: right;\">111746</td><td>09C0AD6964595B62D88E9C3797DF66099DE5747C</td><td>2020-06-01 00:20:00</td><td style=\"text-align: right;\">                   0</td><td style=\"text-align: right;\">                      0</td><td style=\"text-align: right;\">                  0</td><td style=\"text-align: right;\">                   0</td><td style=\"text-align: right;\">                      0</td><td style=\"text-align: right;\">     0</td></tr>\n",
              "<tr><td style=\"text-align: right;\">111747</td><td>09C0AD6964595B62D88E9C3797DF66099DE5747C</td><td>2020-06-01 00:30:00</td><td style=\"text-align: right;\">                   0</td><td style=\"text-align: right;\">                      0</td><td style=\"text-align: right;\">                  0</td><td style=\"text-align: right;\">                   0</td><td style=\"text-align: right;\">                      0</td><td style=\"text-align: right;\">     0</td></tr>\n",
              "<tr><td style=\"text-align: right;\">111748</td><td>09C0AD6964595B62D88E9C3797DF66099DE5747C</td><td>2020-06-01 00:40:00</td><td style=\"text-align: right;\">                   0</td><td style=\"text-align: right;\">                      0</td><td style=\"text-align: right;\">                  0</td><td style=\"text-align: right;\">                   0</td><td style=\"text-align: right;\">                      0</td><td style=\"text-align: right;\">     0</td></tr>\n",
              "<tr><td style=\"text-align: right;\">111749</td><td>09C0AD6964595B62D88E9C3797DF66099DE5747C</td><td>2020-06-01 00:50:00</td><td style=\"text-align: right;\">                   0</td><td style=\"text-align: right;\">                      0</td><td style=\"text-align: right;\">                  0</td><td style=\"text-align: right;\">                   0</td><td style=\"text-align: right;\">                      0</td><td style=\"text-align: right;\">     0</td></tr>\n",
              "<tr><td style=\"text-align: right;\">111750</td><td>09C0AD6964595B62D88E9C3797DF66099DE5747C</td><td>2020-06-01 01:00:00</td><td style=\"text-align: right;\">                   0</td><td style=\"text-align: right;\">                      0</td><td style=\"text-align: right;\">                  0</td><td style=\"text-align: right;\">                   0</td><td style=\"text-align: right;\">                      0</td><td style=\"text-align: right;\">     0</td></tr>\n",
              "<tr><td style=\"text-align: right;\">111751</td><td>09C0AD6964595B62D88E9C3797DF66099DE5747C</td><td>2020-06-01 01:10:00</td><td style=\"text-align: right;\">                   0</td><td style=\"text-align: right;\">                      0</td><td style=\"text-align: right;\">                  0</td><td style=\"text-align: right;\">                   0</td><td style=\"text-align: right;\">                      0</td><td style=\"text-align: right;\">     0</td></tr>\n",
              "<tr><td style=\"text-align: right;\">111752</td><td>09C0AD6964595B62D88E9C3797DF66099DE5747C</td><td>2020-06-01 01:20:00</td><td style=\"text-align: right;\">                   0</td><td style=\"text-align: right;\">                      0</td><td style=\"text-align: right;\">                  0</td><td style=\"text-align: right;\">                   0</td><td style=\"text-align: right;\">                      0</td><td style=\"text-align: right;\">     0</td></tr>\n",
              "<tr><td style=\"text-align: right;\">111753</td><td>09C0AD6964595B62D88E9C3797DF66099DE5747C</td><td>2020-06-01 01:30:00</td><td style=\"text-align: right;\">                   0</td><td style=\"text-align: right;\">                      0</td><td style=\"text-align: right;\">                  0</td><td style=\"text-align: right;\">                   0</td><td style=\"text-align: right;\">                      0</td><td style=\"text-align: right;\">     0</td></tr>\n",
              "</tbody>\n",
              "</table>"
            ]
          },
          "metadata": {
            "tags": []
          }
        },
        {
          "output_type": "execute_result",
          "data": {
            "text/plain": [
              ""
            ]
          },
          "metadata": {
            "tags": []
          },
          "execution_count": 20
        }
      ]
    },
    {
      "cell_type": "code",
      "metadata": {
        "id": "pAzrEuckDNNZ",
        "colab_type": "code",
        "colab": {
          "base_uri": "https://localhost:8080/",
          "height": 287
        },
        "outputId": "02f126cb-4080-4073-a3bf-246674368e39"
      },
      "source": [
        "df.describe()"
      ],
      "execution_count": null,
      "outputs": [
        {
          "output_type": "execute_result",
          "data": {
            "text/html": [
              "<div>\n",
              "<style scoped>\n",
              "    .dataframe tbody tr th:only-of-type {\n",
              "        vertical-align: middle;\n",
              "    }\n",
              "\n",
              "    .dataframe tbody tr th {\n",
              "        vertical-align: top;\n",
              "    }\n",
              "\n",
              "    .dataframe thead th {\n",
              "        text-align: right;\n",
              "    }\n",
              "</style>\n",
              "<table border=\"1\" class=\"dataframe\">\n",
              "  <thead>\n",
              "    <tr style=\"text-align: right;\">\n",
              "      <th></th>\n",
              "      <th>Unnamed: 0</th>\n",
              "      <th>a2.buffer_overflow</th>\n",
              "      <th>a2.pts_advanced_error</th>\n",
              "      <th>a2.stb_rtp_errcnt</th>\n",
              "      <th>a2.no_stream_error</th>\n",
              "      <th>a2.not_decoding_error</th>\n",
              "      <th>nvoc</th>\n",
              "    </tr>\n",
              "  </thead>\n",
              "  <tbody>\n",
              "    <tr>\n",
              "      <th>count</th>\n",
              "      <td>2.196850e+05</td>\n",
              "      <td>219684.000000</td>\n",
              "      <td>219684.000000</td>\n",
              "      <td>219684.000000</td>\n",
              "      <td>219684.000000</td>\n",
              "      <td>219684.000000</td>\n",
              "      <td>219684.000000</td>\n",
              "    </tr>\n",
              "    <tr>\n",
              "      <th>mean</th>\n",
              "      <td>1.158674e+06</td>\n",
              "      <td>0.105515</td>\n",
              "      <td>0.105515</td>\n",
              "      <td>22.417609</td>\n",
              "      <td>0.250405</td>\n",
              "      <td>-0.021417</td>\n",
              "      <td>0.001875</td>\n",
              "    </tr>\n",
              "    <tr>\n",
              "      <th>std</th>\n",
              "      <td>6.597281e+05</td>\n",
              "      <td>42.259394</td>\n",
              "      <td>42.259394</td>\n",
              "      <td>842.717183</td>\n",
              "      <td>8.993632</td>\n",
              "      <td>0.154829</td>\n",
              "      <td>0.043266</td>\n",
              "    </tr>\n",
              "    <tr>\n",
              "      <th>min</th>\n",
              "      <td>0.000000e+00</td>\n",
              "      <td>-1.000000</td>\n",
              "      <td>-1.000000</td>\n",
              "      <td>-1.000000</td>\n",
              "      <td>-1.000000</td>\n",
              "      <td>-1.000000</td>\n",
              "      <td>0.000000</td>\n",
              "    </tr>\n",
              "    <tr>\n",
              "      <th>25%</th>\n",
              "      <td>5.399130e+05</td>\n",
              "      <td>0.000000</td>\n",
              "      <td>0.000000</td>\n",
              "      <td>0.000000</td>\n",
              "      <td>0.000000</td>\n",
              "      <td>0.000000</td>\n",
              "      <td>0.000000</td>\n",
              "    </tr>\n",
              "    <tr>\n",
              "      <th>50%</th>\n",
              "      <td>1.248018e+06</td>\n",
              "      <td>0.000000</td>\n",
              "      <td>0.000000</td>\n",
              "      <td>0.000000</td>\n",
              "      <td>0.000000</td>\n",
              "      <td>0.000000</td>\n",
              "      <td>0.000000</td>\n",
              "    </tr>\n",
              "    <tr>\n",
              "      <th>75%</th>\n",
              "      <td>1.709595e+06</td>\n",
              "      <td>0.000000</td>\n",
              "      <td>0.000000</td>\n",
              "      <td>0.000000</td>\n",
              "      <td>0.000000</td>\n",
              "      <td>0.000000</td>\n",
              "      <td>0.000000</td>\n",
              "    </tr>\n",
              "    <tr>\n",
              "      <th>max</th>\n",
              "      <td>2.588566e+06</td>\n",
              "      <td>19644.000000</td>\n",
              "      <td>19644.000000</td>\n",
              "      <td>157649.000000</td>\n",
              "      <td>600.000000</td>\n",
              "      <td>15.000000</td>\n",
              "      <td>1.000000</td>\n",
              "    </tr>\n",
              "  </tbody>\n",
              "</table>\n",
              "</div>"
            ],
            "text/plain": [
              "         Unnamed: 0  a2.buffer_overflow  ...  a2.not_decoding_error           nvoc\n",
              "count  2.196850e+05       219684.000000  ...          219684.000000  219684.000000\n",
              "mean   1.158674e+06            0.105515  ...              -0.021417       0.001875\n",
              "std    6.597281e+05           42.259394  ...               0.154829       0.043266\n",
              "min    0.000000e+00           -1.000000  ...              -1.000000       0.000000\n",
              "25%    5.399130e+05            0.000000  ...               0.000000       0.000000\n",
              "50%    1.248018e+06            0.000000  ...               0.000000       0.000000\n",
              "75%    1.709595e+06            0.000000  ...               0.000000       0.000000\n",
              "max    2.588566e+06        19644.000000  ...              15.000000       1.000000\n",
              "\n",
              "[8 rows x 7 columns]"
            ]
          },
          "metadata": {
            "tags": []
          },
          "execution_count": 21
        }
      ]
    },
    {
      "cell_type": "code",
      "metadata": {
        "id": "AZAvqXsdqpXK",
        "colab_type": "code",
        "colab": {
          "base_uri": "https://localhost:8080/",
          "height": 408
        },
        "outputId": "4a4b18bb-6091-444a-ecdc-a5b23fc6f8b7"
      },
      "source": [
        "hdf.describe()"
      ],
      "execution_count": null,
      "outputs": [
        {
          "output_type": "stream",
          "text": [
            "Rows:476425\n",
            "Cols:9\n",
            "\n",
            "\n"
          ],
          "name": "stdout"
        },
        {
          "output_type": "display_data",
          "data": {
            "text/html": [
              "<table>\n",
              "<thead>\n",
              "<tr><th>       </th><th>C1               </th><th>a1.ucube_jnr_no                         </th><th>a2.firstlogtime    </th><th>a2.buffer_overflow  </th><th>a2.pts_advanced_error  </th><th>a2.stb_rtp_errcnt  </th><th>a2.no_stream_error  </th><th>a2.not_decoding_error  </th><th>nvoc                 </th></tr>\n",
              "</thead>\n",
              "<tbody>\n",
              "<tr><td>type   </td><td>int              </td><td>enum                                    </td><td>time               </td><td>int                 </td><td>int                    </td><td>int                </td><td>int                 </td><td>int                    </td><td>int                  </td></tr>\n",
              "<tr><td>mins   </td><td>0.0              </td><td>                                        </td><td>1590969600000.0    </td><td>-1.0                </td><td>-1.0                   </td><td>-1.0               </td><td>-1.0                </td><td>-1.0                   </td><td>0.0                  </td></tr>\n",
              "<tr><td>mean   </td><td>725517.1280936109</td><td>                                        </td><td>1591314690395.9485 </td><td>2.125705254143367   </td><td>2.1257031551727024     </td><td>19.14513752455795  </td><td>0.17957323728443564 </td><td>-0.01982477792890366   </td><td>0.0013769247560996088</td></tr>\n",
              "<tr><td>maxs   </td><td>2603542.0        </td><td>                                        </td><td>1591660200000.0    </td><td>158862.0            </td><td>158862.0               </td><td>157649.0           </td><td>600.0               </td><td>15.0                   </td><td>1.0                  </td></tr>\n",
              "<tr><td>sigma  </td><td>780362.9710552385</td><td>                                        </td><td>199523563.09681374 </td><td>506.3425246674413   </td><td>506.34252467003506     </td><td>913.8686642148296  </td><td>8.194085854496024   </td><td>0.1467908844812301     </td><td>0.03708142015169987  </td></tr>\n",
              "<tr><td>zeros  </td><td>1                </td><td>                                        </td><td>0                  </td><td>465710              </td><td>465710                 </td><td>450340             </td><td>465824              </td><td>466724                 </td><td>475768               </td></tr>\n",
              "<tr><td>missing</td><td>0                </td><td>0                                       </td><td>1                  </td><td>1                   </td><td>1                      </td><td>1                  </td><td>1                   </td><td>1                      </td><td>1                    </td></tr>\n",
              "<tr><td>0      </td><td>111744.0         </td><td>09C0AD6964595B62D88E9C3797DF66099DE5747C</td><td>2020-06-01 00:00:00</td><td>0.0                 </td><td>0.0                    </td><td>0.0                </td><td>0.0                 </td><td>0.0                    </td><td>0.0                  </td></tr>\n",
              "<tr><td>1      </td><td>111745.0         </td><td>09C0AD6964595B62D88E9C3797DF66099DE5747C</td><td>2020-06-01 00:10:00</td><td>0.0                 </td><td>0.0                    </td><td>0.0                </td><td>0.0                 </td><td>0.0                    </td><td>0.0                  </td></tr>\n",
              "<tr><td>2      </td><td>111746.0         </td><td>09C0AD6964595B62D88E9C3797DF66099DE5747C</td><td>2020-06-01 00:20:00</td><td>0.0                 </td><td>0.0                    </td><td>0.0                </td><td>0.0                 </td><td>0.0                    </td><td>0.0                  </td></tr>\n",
              "<tr><td>3      </td><td>111747.0         </td><td>09C0AD6964595B62D88E9C3797DF66099DE5747C</td><td>2020-06-01 00:30:00</td><td>0.0                 </td><td>0.0                    </td><td>0.0                </td><td>0.0                 </td><td>0.0                    </td><td>0.0                  </td></tr>\n",
              "<tr><td>4      </td><td>111748.0         </td><td>09C0AD6964595B62D88E9C3797DF66099DE5747C</td><td>2020-06-01 00:40:00</td><td>0.0                 </td><td>0.0                    </td><td>0.0                </td><td>0.0                 </td><td>0.0                    </td><td>0.0                  </td></tr>\n",
              "<tr><td>5      </td><td>111749.0         </td><td>09C0AD6964595B62D88E9C3797DF66099DE5747C</td><td>2020-06-01 00:50:00</td><td>0.0                 </td><td>0.0                    </td><td>0.0                </td><td>0.0                 </td><td>0.0                    </td><td>0.0                  </td></tr>\n",
              "<tr><td>6      </td><td>111750.0         </td><td>09C0AD6964595B62D88E9C3797DF66099DE5747C</td><td>2020-06-01 01:00:00</td><td>0.0                 </td><td>0.0                    </td><td>0.0                </td><td>0.0                 </td><td>0.0                    </td><td>0.0                  </td></tr>\n",
              "<tr><td>7      </td><td>111751.0         </td><td>09C0AD6964595B62D88E9C3797DF66099DE5747C</td><td>2020-06-01 01:10:00</td><td>0.0                 </td><td>0.0                    </td><td>0.0                </td><td>0.0                 </td><td>0.0                    </td><td>0.0                  </td></tr>\n",
              "<tr><td>8      </td><td>111752.0         </td><td>09C0AD6964595B62D88E9C3797DF66099DE5747C</td><td>2020-06-01 01:20:00</td><td>0.0                 </td><td>0.0                    </td><td>0.0                </td><td>0.0                 </td><td>0.0                    </td><td>0.0                  </td></tr>\n",
              "<tr><td>9      </td><td>111753.0         </td><td>09C0AD6964595B62D88E9C3797DF66099DE5747C</td><td>2020-06-01 01:30:00</td><td>0.0                 </td><td>0.0                    </td><td>0.0                </td><td>0.0                 </td><td>0.0                    </td><td>0.0                  </td></tr>\n",
              "</tbody>\n",
              "</table>"
            ]
          },
          "metadata": {
            "tags": []
          }
        }
      ]
    },
    {
      "cell_type": "code",
      "metadata": {
        "id": "PMzGOUbW2XGx",
        "colab_type": "code",
        "colab": {}
      },
      "source": [
        "data_train,data_test,data_valid = hdf.split_frame(ratios=[.7, .15])"
      ],
      "execution_count": null,
      "outputs": []
    },
    {
      "cell_type": "code",
      "metadata": {
        "id": "4E18zlEFu1jh",
        "colab_type": "code",
        "colab": {
          "base_uri": "https://localhost:8080/",
          "height": 105
        },
        "outputId": "0ded7f6c-e867-4141-bdae-e191838d9f05"
      },
      "source": [
        "y = \"nvoc\"\n",
        "x = hdf.columns\n",
        "x.remove(y)\n",
        "x.remove('C1')\n",
        "x.remove('a1.ucube_jnr_no')\n",
        "x.remove('a2.firstlogtime')\n",
        "x"
      ],
      "execution_count": null,
      "outputs": [
        {
          "output_type": "execute_result",
          "data": {
            "text/plain": [
              "['a2.buffer_overflow',\n",
              " 'a2.pts_advanced_error',\n",
              " 'a2.stb_rtp_errcnt',\n",
              " 'a2.no_stream_error',\n",
              " 'a2.not_decoding_error']"
            ]
          },
          "metadata": {
            "tags": []
          },
          "execution_count": 35
        }
      ]
    },
    {
      "cell_type": "markdown",
      "metadata": {
        "id": "DvkFrXD_rdgI",
        "colab_type": "text"
      },
      "source": [
        "#Create model"
      ]
    },
    {
      "cell_type": "code",
      "metadata": {
        "id": "VhqoXPD5pk2y",
        "colab_type": "code",
        "colab": {}
      },
      "source": [
        "#aml = H2OAutoML(max_models = 10, seed = 10, exclude_algos = [\"StackedEnsemble\", \"GBM\", \"DeepLearning\", \"GLM\", \"DRF\" ], verbosity=\"info\", nfolds=0)\n",
        "aml = H2OAutoML(max_models = 20, seed = 20, exclude_algos = [\"StackedEnsemble\"], verbosity=\"info\", nfolds=0)"
      ],
      "execution_count": null,
      "outputs": []
    },
    {
      "cell_type": "markdown",
      "metadata": {
        "id": "n3jtcg1OBf5O",
        "colab_type": "text"
      },
      "source": [
        "# Train model"
      ]
    },
    {
      "cell_type": "code",
      "metadata": {
        "id": "rggJoK6tu0Ks",
        "colab_type": "code",
        "colab": {
          "base_uri": "https://localhost:8080/",
          "height": 1000
        },
        "outputId": "db5b3b06-7e0a-4b8e-eb81-9fa7d25c0136"
      },
      "source": [
        "aml.train(x = x, y = y, training_frame = data_train, validation_frame=data_valid)\n",
        "!nvidia-smi"
      ],
      "execution_count": null,
      "outputs": [
        {
          "output_type": "stream",
          "text": [
            "AutoML progress: |\n",
            "04:39:46.765: Project: AutoML_20200623_43946765\n",
            "04:39:46.765: Cross-validation disabled by user: no fold column nor nfolds > 1.\n",
            "04:39:46.766: Setting stopping tolerance adaptively based on the training frame: 0.0018486278060750331\n",
            "04:39:46.766: Build control seed: 20\n",
            "04:39:46.766: Since cross-validation is disabled, and no leaderboard frame was provided, automatically split the training data into training and leaderboard frames in the ratio 90/10\n",
            "04:39:47.23: training frame: Frame key: automl_training_py_3_sid_8f64    cols: 9    rows: 263277  chunks: 8    size: 1969912  checksum: 8780859931678533796\n",
            "04:39:47.23: validation frame: Frame key: py_5_sid_8f64    cols: 9    rows: 62692  chunks: 8    size: 508724  checksum: -6102850911337396936\n",
            "04:39:47.27: leaderboard frame: Frame key: automl_leaderboard_py_3_sid_8f64    cols: 9    rows: 29341  chunks: 8    size: 269803  checksum: -5757221926187320246\n",
            "04:39:47.27: blending frame: NULL\n",
            "04:39:47.27: response column: nvoc\n",
            "04:39:47.27: fold column: null\n",
            "04:39:47.27: weights column: null\n",
            "04:39:47.27: Loading execution steps: [{XGBoost : defaults}, {GLM : defaults}, {DRF : [def_1]}, {GBM : defaults}, {DeepLearning : defaults}, {DRF : [XRT]}, {XGBoost : grids}, {GBM : grids}, {DeepLearning : grids}, {GBM : [lr_annealing]}, {XGBoost : [lr_search]}, {StackedEnsemble : defaults}]\n",
            "04:39:47.28: Disabling Algo: StackedEnsemble as requested by the user.\n",
            "04:39:47.28: AutoML job created: 2020.06.23 04:39:46.765\n",
            "04:39:47.29: AutoML build started: 2020.06.23 04:39:47.29\n",
            "04:39:47.29: AutoML: starting XGBoost_1_AutoML_20200623_043946 model training\n",
            "\n",
            "█\n",
            "04:39:55.94: New leader: XGBoost_1_AutoML_20200623_043946, mean_residual_deviance: 0.0015711286598979312\n",
            "04:39:55.95: AutoML: starting XGBoost_2_AutoML_20200623_043946 model training\n",
            "\n",
            "██\n",
            "04:40:05.175: AutoML: starting XGBoost_3_AutoML_20200623_043946 model training\n",
            "\n",
            "█\n",
            "04:40:09.217: AutoML: starting GLM_1_AutoML_20200623_043946 model training\n",
            "04:40:10.231: New leader: GLM_1_AutoML_20200623_043946, mean_residual_deviance: 0.0015652911987761545\n",
            "04:40:10.231: AutoML: starting DRF_1_AutoML_20200623_043946 model training\n",
            "\n",
            "███\n",
            "04:40:17.335: New leader: DRF_1_AutoML_20200623_043946, mean_residual_deviance: 0.0015639236617804066\n",
            "04:40:17.336: AutoML: starting GBM_1_AutoML_20200623_043946 model training\n",
            "\n",
            "███\n",
            "04:40:26.464: AutoML: starting GBM_2_AutoML_20200623_043946 model training\n",
            "\n",
            "█\n",
            "04:40:36.600: AutoML: starting GBM_3_AutoML_20200623_043946 model training\n",
            "\n",
            "██\n",
            "04:40:47.742: New leader: GBM_3_AutoML_20200623_043946, mean_residual_deviance: 0.0015631956048028195\n",
            "04:40:47.743: AutoML: starting GBM_4_AutoML_20200623_043946 model training\n",
            "\n",
            "██\n",
            "04:40:59.876: AutoML: starting GBM_5_AutoML_20200623_043946 model training\n",
            "\n",
            "██\n",
            "04:41:11.13: New leader: GBM_5_AutoML_20200623_043946, mean_residual_deviance: 0.0015599261814896379\n",
            "04:41:11.17: AutoML: starting DeepLearning_1_AutoML_20200623_043946 model training\n",
            "\n",
            "███\n",
            "04:41:28.89: AutoML: starting XRT_1_AutoML_20200623_043946 model training\n",
            "\n",
            "█\n",
            "04:41:36.208: AutoML: starting XGBoost_grid__1_AutoML_20200623_043946 hyperparameter search\n",
            "\n",
            "█████████████\n",
            "04:42:00.573: AutoML: starting GBM_grid__1_AutoML_20200623_043946 hyperparameter search\n",
            "\n",
            "███████████\n",
            "04:42:14.888: AutoML: starting DeepLearning_grid__1_AutoML_20200623_043946 hyperparameter search\n",
            "\n",
            "██████████\n",
            "04:42:47.26: AutoML: starting DeepLearning_grid__2_AutoML_20200623_043946 hyperparameter search\n",
            "\n",
            "█| 100%\n",
            "\n",
            "04:45:04.361: Skipping StackedEnsemble 'best' due to the exclude_algos option.\n",
            "04:45:04.361: Skipping StackedEnsemble 'all' due to the exclude_algos option.\n",
            "04:45:04.361: Actual modeling steps: [{XGBoost : [def_1 (10), def_2 (10), def_3 (10)]}, {GLM : [def_1 (10)]}, {DRF : [def_1 (10)]}, {GBM : [def_1 (10), def_2 (10), def_3 (10), def_4 (10), def_5 (10)]}, {DeepLearning : [def_1 (10)]}, {DRF : [XRT (10)]}, {XGBoost : [grid_1 (100)]}, {GBM : [grid_1 (60)]}, {DeepLearning : [grid_1 (20), grid_2 (20)]}]\n",
            "04:45:04.361: AutoML build stopped: 2020.06.23 04:45:04.361\n",
            "04:45:04.361: AutoML build done: built 20 models\n",
            "04:45:04.362: AutoML duration:  5 min 17.332 sec\n",
            "\n",
            "Tue Jun 23 04:45:06 2020       \n",
            "+-----------------------------------------------------------------------------+\n",
            "| NVIDIA-SMI 450.36.06    Driver Version: 418.67       CUDA Version: 10.1     |\n",
            "|-------------------------------+----------------------+----------------------+\n",
            "| GPU  Name        Persistence-M| Bus-Id        Disp.A | Volatile Uncorr. ECC |\n",
            "| Fan  Temp  Perf  Pwr:Usage/Cap|         Memory-Usage | GPU-Util  Compute M. |\n",
            "|                               |                      |               MIG M. |\n",
            "|===============================+======================+======================|\n",
            "|   0  Tesla P100-PCIE...  Off  | 00000000:00:04.0 Off |                    0 |\n",
            "| N/A   50C    P0    35W / 250W |    297MiB / 16280MiB |      0%      Default |\n",
            "|                               |                      |                 ERR! |\n",
            "+-------------------------------+----------------------+----------------------+\n",
            "                                                                               \n",
            "+-----------------------------------------------------------------------------+\n",
            "| Processes:                                                                  |\n",
            "|  GPU   GI   CI        PID   Type   Process name                  GPU Memory |\n",
            "|        ID   ID                                                   Usage      |\n",
            "|=============================================================================|\n",
            "|  No running processes found                                                 |\n",
            "+-----------------------------------------------------------------------------+\n"
          ],
          "name": "stdout"
        }
      ]
    },
    {
      "cell_type": "code",
      "metadata": {
        "id": "x9DR_k1w9kMp",
        "colab_type": "code",
        "colab": {
          "base_uri": "https://localhost:8080/",
          "height": 213
        },
        "outputId": "be5c4d1e-dc8e-4b4a-f2d9-f48bd7e694a2"
      },
      "source": [
        "leaderboard = aml.leaderboard\n",
        "leaderboard.head()"
      ],
      "execution_count": null,
      "outputs": [
        {
          "output_type": "display_data",
          "data": {
            "text/html": [
              "<table>\n",
              "<thead>\n",
              "<tr><th>model_id                                           </th><th style=\"text-align: right;\">  mean_residual_deviance</th><th style=\"text-align: right;\">     rmse</th><th style=\"text-align: right;\">       mse</th><th style=\"text-align: right;\">       mae</th><th style=\"text-align: right;\">    rmsle</th></tr>\n",
              "</thead>\n",
              "<tbody>\n",
              "<tr><td>GBM_5_AutoML_20200623_043946                       </td><td style=\"text-align: right;\">              0.00155993</td><td style=\"text-align: right;\">0.0394959</td><td style=\"text-align: right;\">0.00155993</td><td style=\"text-align: right;\">0.00298573</td><td style=\"text-align: right;\">0.0273773</td></tr>\n",
              "<tr><td>GBM_3_AutoML_20200623_043946                       </td><td style=\"text-align: right;\">              0.0015632 </td><td style=\"text-align: right;\">0.0395373</td><td style=\"text-align: right;\">0.0015632 </td><td style=\"text-align: right;\">0.00298641</td><td style=\"text-align: right;\">0.0274318</td></tr>\n",
              "<tr><td>XGBoost_grid__1_AutoML_20200623_043946_model_1     </td><td style=\"text-align: right;\">              0.00156347</td><td style=\"text-align: right;\">0.0395408</td><td style=\"text-align: right;\">0.00156347</td><td style=\"text-align: right;\">0.00297637</td><td style=\"text-align: right;\">0.0274325</td></tr>\n",
              "<tr><td>DRF_1_AutoML_20200623_043946                       </td><td style=\"text-align: right;\">              0.00156392</td><td style=\"text-align: right;\">0.0395465</td><td style=\"text-align: right;\">0.00156392</td><td style=\"text-align: right;\">0.00301469</td><td style=\"text-align: right;\">0.0274121</td></tr>\n",
              "<tr><td>XRT_1_AutoML_20200623_043946                       </td><td style=\"text-align: right;\">              0.00156454</td><td style=\"text-align: right;\">0.0395543</td><td style=\"text-align: right;\">0.00156454</td><td style=\"text-align: right;\">0.00299758</td><td style=\"text-align: right;\">0.0274196</td></tr>\n",
              "<tr><td>GBM_grid__1_AutoML_20200623_043946_model_2         </td><td style=\"text-align: right;\">              0.00156489</td><td style=\"text-align: right;\">0.0395587</td><td style=\"text-align: right;\">0.00156489</td><td style=\"text-align: right;\">0.00301441</td><td style=\"text-align: right;\">0.027445 </td></tr>\n",
              "<tr><td>GLM_1_AutoML_20200623_043946                       </td><td style=\"text-align: right;\">              0.00156529</td><td style=\"text-align: right;\">0.0395638</td><td style=\"text-align: right;\">0.00156529</td><td style=\"text-align: right;\">0.00301095</td><td style=\"text-align: right;\">0.0274281</td></tr>\n",
              "<tr><td>GBM_4_AutoML_20200623_043946                       </td><td style=\"text-align: right;\">              0.00156587</td><td style=\"text-align: right;\">0.0395711</td><td style=\"text-align: right;\">0.00156587</td><td style=\"text-align: right;\">0.00298569</td><td style=\"text-align: right;\">0.0274642</td></tr>\n",
              "<tr><td>DeepLearning_1_AutoML_20200623_043946              </td><td style=\"text-align: right;\">              0.00156621</td><td style=\"text-align: right;\">0.0395754</td><td style=\"text-align: right;\">0.00156621</td><td style=\"text-align: right;\">0.00214402</td><td style=\"text-align: right;\">0.0274274</td></tr>\n",
              "<tr><td>DeepLearning_grid__2_AutoML_20200623_043946_model_1</td><td style=\"text-align: right;\">              0.0015671 </td><td style=\"text-align: right;\">0.0395866</td><td style=\"text-align: right;\">0.0015671 </td><td style=\"text-align: right;\">0.00181127</td><td style=\"text-align: right;\">0.0274371</td></tr>\n",
              "</tbody>\n",
              "</table>"
            ]
          },
          "metadata": {
            "tags": []
          }
        },
        {
          "output_type": "execute_result",
          "data": {
            "text/plain": [
              ""
            ]
          },
          "metadata": {
            "tags": []
          },
          "execution_count": 41
        }
      ]
    },
    {
      "cell_type": "markdown",
      "metadata": {
        "id": "7G_v4PW1D0y3",
        "colab_type": "text"
      },
      "source": [
        "#Test"
      ]
    },
    {
      "cell_type": "code",
      "metadata": {
        "id": "meb4qRqy5y48",
        "colab_type": "code",
        "colab": {
          "base_uri": "https://localhost:8080/",
          "height": 231
        },
        "outputId": "f8140d5e-d20b-4120-919f-f0dd6cbc8951"
      },
      "source": [
        "data_pred=aml.leader.predict(data_test)\n",
        "data_pred.head()"
      ],
      "execution_count": null,
      "outputs": [
        {
          "output_type": "stream",
          "text": [
            "gbm prediction progress: |████████████████████████████████████████████████| 100%\n"
          ],
          "name": "stdout"
        },
        {
          "output_type": "display_data",
          "data": {
            "text/html": [
              "<table>\n",
              "<thead>\n",
              "<tr><th style=\"text-align: right;\">   predict</th></tr>\n",
              "</thead>\n",
              "<tbody>\n",
              "<tr><td style=\"text-align: right;\">0.00120334</td></tr>\n",
              "<tr><td style=\"text-align: right;\">0.00120334</td></tr>\n",
              "<tr><td style=\"text-align: right;\">0.00120334</td></tr>\n",
              "<tr><td style=\"text-align: right;\">0.00120334</td></tr>\n",
              "<tr><td style=\"text-align: right;\">0.00120334</td></tr>\n",
              "<tr><td style=\"text-align: right;\">0.00120334</td></tr>\n",
              "<tr><td style=\"text-align: right;\">0.00120334</td></tr>\n",
              "<tr><td style=\"text-align: right;\">0.00120334</td></tr>\n",
              "<tr><td style=\"text-align: right;\">0.00120334</td></tr>\n",
              "<tr><td style=\"text-align: right;\">0.00120334</td></tr>\n",
              "</tbody>\n",
              "</table>"
            ]
          },
          "metadata": {
            "tags": []
          }
        },
        {
          "output_type": "execute_result",
          "data": {
            "text/plain": [
              ""
            ]
          },
          "metadata": {
            "tags": []
          },
          "execution_count": 43
        }
      ]
    },
    {
      "cell_type": "markdown",
      "metadata": {
        "id": "yQst_EgrUO6a",
        "colab_type": "text"
      },
      "source": [
        "# Performance check\n"
      ]
    },
    {
      "cell_type": "code",
      "metadata": {
        "id": "Xjw0-cu-EzCK",
        "colab_type": "code",
        "colab": {
          "base_uri": "https://localhost:8080/",
          "height": 176
        },
        "outputId": "71a4b5dc-2626-4b84-8428-a6157ac19b51"
      },
      "source": [
        "aml.leader.model_performance(data_test)"
      ],
      "execution_count": null,
      "outputs": [
        {
          "output_type": "stream",
          "text": [
            "\n",
            "ModelMetricsRegression: gbm\n",
            "** Reported on test data. **\n",
            "\n",
            "MSE: 0.0014899950058961118\n",
            "RMSE: 0.03860045344158682\n",
            "MAE: 0.002939379132658309\n",
            "RMSLE: 0.0267741910488554\n",
            "Mean Residual Deviance: 0.0014899950058961118\n"
          ],
          "name": "stdout"
        },
        {
          "output_type": "execute_result",
          "data": {
            "text/plain": [
              ""
            ]
          },
          "metadata": {
            "tags": []
          },
          "execution_count": 44
        }
      ]
    },
    {
      "cell_type": "markdown",
      "metadata": {
        "id": "bAcOrDv3ug6l",
        "colab_type": "text"
      },
      "source": [
        "#나머지 모델도 테스트"
      ]
    },
    {
      "cell_type": "code",
      "metadata": {
        "id": "lMJUoQULa61P",
        "colab_type": "code",
        "colab": {
          "base_uri": "https://localhost:8080/",
          "height": 372
        },
        "outputId": "b1810aa4-9d2d-4e36-a389-f8148987ea06"
      },
      "source": [
        "model_ids = list(aml.leaderboard['model_id'].as_data_frame().iloc[:,0])\n",
        "model_ids\n",
        "#se = h2o.get_model([mid for mid in model_ids if \"StackedEnsemble_AllModels\" in mid][0])\n",
        "#metalearner = h2o.get_model(se.metalearner()['name'])"
      ],
      "execution_count": null,
      "outputs": [
        {
          "output_type": "execute_result",
          "data": {
            "text/plain": [
              "['GBM_5_AutoML_20200623_043946',\n",
              " 'GBM_3_AutoML_20200623_043946',\n",
              " 'XGBoost_grid__1_AutoML_20200623_043946_model_1',\n",
              " 'DRF_1_AutoML_20200623_043946',\n",
              " 'XRT_1_AutoML_20200623_043946',\n",
              " 'GBM_grid__1_AutoML_20200623_043946_model_2',\n",
              " 'GLM_1_AutoML_20200623_043946',\n",
              " 'GBM_4_AutoML_20200623_043946',\n",
              " 'DeepLearning_1_AutoML_20200623_043946',\n",
              " 'DeepLearning_grid__2_AutoML_20200623_043946_model_1',\n",
              " 'DeepLearning_grid__1_AutoML_20200623_043946_model_1',\n",
              " 'GBM_2_AutoML_20200623_043946',\n",
              " 'GBM_grid__1_AutoML_20200623_043946_model_1',\n",
              " 'XGBoost_1_AutoML_20200623_043946',\n",
              " 'GBM_1_AutoML_20200623_043946',\n",
              " 'XGBoost_2_AutoML_20200623_043946',\n",
              " 'XGBoost_3_AutoML_20200623_043946',\n",
              " 'XGBoost_grid__1_AutoML_20200623_043946_model_4',\n",
              " 'XGBoost_grid__1_AutoML_20200623_043946_model_2',\n",
              " 'XGBoost_grid__1_AutoML_20200623_043946_model_3']"
            ]
          },
          "metadata": {
            "tags": []
          },
          "execution_count": 45
        }
      ]
    },
    {
      "cell_type": "code",
      "metadata": {
        "id": "dJEkXEh8WjH-",
        "colab_type": "code",
        "colab": {}
      },
      "source": [
        "drf = h2o.get_model([i for i in model_ids if \"DRF\" in i][0])"
      ],
      "execution_count": null,
      "outputs": []
    },
    {
      "cell_type": "code",
      "metadata": {
        "id": "98ZehzpsbH_E",
        "colab_type": "code",
        "colab": {
          "base_uri": "https://localhost:8080/",
          "height": 1000
        },
        "outputId": "a214a4e2-409f-46a6-ffd5-cb74171779b9"
      },
      "source": [
        "#h2o.get_model([i for i in model_ids if \"DeepLearning\" in i][0])\n",
        "h2o.get_model([i for i in model_ids if \"GBM\" in i][0])"
      ],
      "execution_count": null,
      "outputs": [
        {
          "output_type": "stream",
          "text": [
            "Model Details\n",
            "=============\n",
            "H2OGradientBoostingEstimator :  Gradient Boosting Machine\n",
            "Model Key:  GBM_5_AutoML_20200623_043946\n",
            "\n",
            "\n",
            "Model Summary: \n"
          ],
          "name": "stdout"
        },
        {
          "output_type": "display_data",
          "data": {
            "text/html": [
              "<div>\n",
              "<style scoped>\n",
              "    .dataframe tbody tr th:only-of-type {\n",
              "        vertical-align: middle;\n",
              "    }\n",
              "\n",
              "    .dataframe tbody tr th {\n",
              "        vertical-align: top;\n",
              "    }\n",
              "\n",
              "    .dataframe thead th {\n",
              "        text-align: right;\n",
              "    }\n",
              "</style>\n",
              "<table border=\"1\" class=\"dataframe\">\n",
              "  <thead>\n",
              "    <tr style=\"text-align: right;\">\n",
              "      <th></th>\n",
              "      <th></th>\n",
              "      <th>number_of_trees</th>\n",
              "      <th>number_of_internal_trees</th>\n",
              "      <th>model_size_in_bytes</th>\n",
              "      <th>min_depth</th>\n",
              "      <th>max_depth</th>\n",
              "      <th>mean_depth</th>\n",
              "      <th>min_leaves</th>\n",
              "      <th>max_leaves</th>\n",
              "      <th>mean_leaves</th>\n",
              "    </tr>\n",
              "  </thead>\n",
              "  <tbody>\n",
              "    <tr>\n",
              "      <th>0</th>\n",
              "      <td></td>\n",
              "      <td>30.0</td>\n",
              "      <td>30.0</td>\n",
              "      <td>8113.0</td>\n",
              "      <td>1.0</td>\n",
              "      <td>15.0</td>\n",
              "      <td>7.2</td>\n",
              "      <td>1.0</td>\n",
              "      <td>42.0</td>\n",
              "      <td>16.766666</td>\n",
              "    </tr>\n",
              "  </tbody>\n",
              "</table>\n",
              "</div>"
            ],
            "text/plain": [
              "     number_of_trees  ...  max_leaves  mean_leaves\n",
              "0               30.0  ...        42.0    16.766666\n",
              "\n",
              "[1 rows x 10 columns]"
            ]
          },
          "metadata": {
            "tags": []
          }
        },
        {
          "output_type": "stream",
          "text": [
            "\n",
            "\n",
            "ModelMetricsRegression: gbm\n",
            "** Reported on train data. **\n",
            "\n",
            "MSE: 0.0014416738428236519\n",
            "RMSE: 0.03796938033236323\n",
            "MAE: 0.0028924830224236085\n",
            "RMSLE: 0.026317845815633106\n",
            "Mean Residual Deviance: 0.0014416738428236519\n",
            "\n",
            "ModelMetricsRegression: gbm\n",
            "** Reported on validation data. **\n",
            "\n",
            "MSE: 0.0013158678891656455\n",
            "RMSE: 0.03627489337221607\n",
            "MAE: 0.0027736732797139186\n",
            "RMSLE: 0.02515039717971069\n",
            "Mean Residual Deviance: 0.0013158678891656455\n",
            "\n",
            "Scoring History: \n"
          ],
          "name": "stdout"
        },
        {
          "output_type": "display_data",
          "data": {
            "text/html": [
              "<div>\n",
              "<style scoped>\n",
              "    .dataframe tbody tr th:only-of-type {\n",
              "        vertical-align: middle;\n",
              "    }\n",
              "\n",
              "    .dataframe tbody tr th {\n",
              "        vertical-align: top;\n",
              "    }\n",
              "\n",
              "    .dataframe thead th {\n",
              "        text-align: right;\n",
              "    }\n",
              "</style>\n",
              "<table border=\"1\" class=\"dataframe\">\n",
              "  <thead>\n",
              "    <tr style=\"text-align: right;\">\n",
              "      <th></th>\n",
              "      <th></th>\n",
              "      <th>timestamp</th>\n",
              "      <th>duration</th>\n",
              "      <th>number_of_trees</th>\n",
              "      <th>training_rmse</th>\n",
              "      <th>training_mae</th>\n",
              "      <th>training_deviance</th>\n",
              "      <th>validation_rmse</th>\n",
              "      <th>validation_mae</th>\n",
              "      <th>validation_deviance</th>\n",
              "    </tr>\n",
              "  </thead>\n",
              "  <tbody>\n",
              "    <tr>\n",
              "      <th>0</th>\n",
              "      <td></td>\n",
              "      <td>2020-06-23 04:40:59</td>\n",
              "      <td>0.001 sec</td>\n",
              "      <td>0.0</td>\n",
              "      <td>0.038064</td>\n",
              "      <td>0.002898</td>\n",
              "      <td>0.001449</td>\n",
              "      <td>0.036362</td>\n",
              "      <td>0.002771</td>\n",
              "      <td>0.001322</td>\n",
              "    </tr>\n",
              "    <tr>\n",
              "      <th>1</th>\n",
              "      <td></td>\n",
              "      <td>2020-06-23 04:41:01</td>\n",
              "      <td>1.726 sec</td>\n",
              "      <td>5.0</td>\n",
              "      <td>0.038025</td>\n",
              "      <td>0.002900</td>\n",
              "      <td>0.001446</td>\n",
              "      <td>0.036322</td>\n",
              "      <td>0.002776</td>\n",
              "      <td>0.001319</td>\n",
              "    </tr>\n",
              "    <tr>\n",
              "      <th>2</th>\n",
              "      <td></td>\n",
              "      <td>2020-06-23 04:41:03</td>\n",
              "      <td>3.712 sec</td>\n",
              "      <td>10.0</td>\n",
              "      <td>0.038000</td>\n",
              "      <td>0.002900</td>\n",
              "      <td>0.001444</td>\n",
              "      <td>0.036299</td>\n",
              "      <td>0.002779</td>\n",
              "      <td>0.001318</td>\n",
              "    </tr>\n",
              "    <tr>\n",
              "      <th>3</th>\n",
              "      <td></td>\n",
              "      <td>2020-06-23 04:41:05</td>\n",
              "      <td>5.561 sec</td>\n",
              "      <td>15.0</td>\n",
              "      <td>0.037985</td>\n",
              "      <td>0.002904</td>\n",
              "      <td>0.001443</td>\n",
              "      <td>0.036289</td>\n",
              "      <td>0.002785</td>\n",
              "      <td>0.001317</td>\n",
              "    </tr>\n",
              "    <tr>\n",
              "      <th>4</th>\n",
              "      <td></td>\n",
              "      <td>2020-06-23 04:41:06</td>\n",
              "      <td>7.109 sec</td>\n",
              "      <td>20.0</td>\n",
              "      <td>0.037978</td>\n",
              "      <td>0.002898</td>\n",
              "      <td>0.001442</td>\n",
              "      <td>0.036284</td>\n",
              "      <td>0.002780</td>\n",
              "      <td>0.001317</td>\n",
              "    </tr>\n",
              "    <tr>\n",
              "      <th>5</th>\n",
              "      <td></td>\n",
              "      <td>2020-06-23 04:41:08</td>\n",
              "      <td>8.655 sec</td>\n",
              "      <td>25.0</td>\n",
              "      <td>0.037974</td>\n",
              "      <td>0.002887</td>\n",
              "      <td>0.001442</td>\n",
              "      <td>0.036282</td>\n",
              "      <td>0.002769</td>\n",
              "      <td>0.001316</td>\n",
              "    </tr>\n",
              "    <tr>\n",
              "      <th>6</th>\n",
              "      <td></td>\n",
              "      <td>2020-06-23 04:41:09</td>\n",
              "      <td>10.121 sec</td>\n",
              "      <td>30.0</td>\n",
              "      <td>0.037969</td>\n",
              "      <td>0.002892</td>\n",
              "      <td>0.001442</td>\n",
              "      <td>0.036275</td>\n",
              "      <td>0.002774</td>\n",
              "      <td>0.001316</td>\n",
              "    </tr>\n",
              "  </tbody>\n",
              "</table>\n",
              "</div>"
            ],
            "text/plain": [
              "               timestamp  ... validation_mae  validation_deviance\n",
              "0    2020-06-23 04:40:59  ...       0.002771             0.001322\n",
              "1    2020-06-23 04:41:01  ...       0.002776             0.001319\n",
              "2    2020-06-23 04:41:03  ...       0.002779             0.001318\n",
              "3    2020-06-23 04:41:05  ...       0.002785             0.001317\n",
              "4    2020-06-23 04:41:06  ...       0.002780             0.001317\n",
              "5    2020-06-23 04:41:08  ...       0.002769             0.001316\n",
              "6    2020-06-23 04:41:09  ...       0.002774             0.001316\n",
              "\n",
              "[7 rows x 10 columns]"
            ]
          },
          "metadata": {
            "tags": []
          }
        },
        {
          "output_type": "stream",
          "text": [
            "\n",
            "Variable Importances: \n"
          ],
          "name": "stdout"
        },
        {
          "output_type": "display_data",
          "data": {
            "text/html": [
              "<div>\n",
              "<style scoped>\n",
              "    .dataframe tbody tr th:only-of-type {\n",
              "        vertical-align: middle;\n",
              "    }\n",
              "\n",
              "    .dataframe tbody tr th {\n",
              "        vertical-align: top;\n",
              "    }\n",
              "\n",
              "    .dataframe thead th {\n",
              "        text-align: right;\n",
              "    }\n",
              "</style>\n",
              "<table border=\"1\" class=\"dataframe\">\n",
              "  <thead>\n",
              "    <tr style=\"text-align: right;\">\n",
              "      <th></th>\n",
              "      <th>variable</th>\n",
              "      <th>relative_importance</th>\n",
              "      <th>scaled_importance</th>\n",
              "      <th>percentage</th>\n",
              "    </tr>\n",
              "  </thead>\n",
              "  <tbody>\n",
              "    <tr>\n",
              "      <th>0</th>\n",
              "      <td>a2.stb_rtp_errcnt</td>\n",
              "      <td>6.225829</td>\n",
              "      <td>1.000000</td>\n",
              "      <td>0.583051</td>\n",
              "    </tr>\n",
              "    <tr>\n",
              "      <th>1</th>\n",
              "      <td>a2.no_stream_error</td>\n",
              "      <td>4.183798</td>\n",
              "      <td>0.672007</td>\n",
              "      <td>0.391814</td>\n",
              "    </tr>\n",
              "    <tr>\n",
              "      <th>2</th>\n",
              "      <td>a2.pts_advanced_error</td>\n",
              "      <td>0.105188</td>\n",
              "      <td>0.016895</td>\n",
              "      <td>0.009851</td>\n",
              "    </tr>\n",
              "    <tr>\n",
              "      <th>3</th>\n",
              "      <td>a2.not_decoding_error</td>\n",
              "      <td>0.093462</td>\n",
              "      <td>0.015012</td>\n",
              "      <td>0.008753</td>\n",
              "    </tr>\n",
              "    <tr>\n",
              "      <th>4</th>\n",
              "      <td>a2.buffer_overflow</td>\n",
              "      <td>0.069735</td>\n",
              "      <td>0.011201</td>\n",
              "      <td>0.006531</td>\n",
              "    </tr>\n",
              "  </tbody>\n",
              "</table>\n",
              "</div>"
            ],
            "text/plain": [
              "                variable  relative_importance  scaled_importance  percentage\n",
              "0      a2.stb_rtp_errcnt             6.225829           1.000000    0.583051\n",
              "1     a2.no_stream_error             4.183798           0.672007    0.391814\n",
              "2  a2.pts_advanced_error             0.105188           0.016895    0.009851\n",
              "3  a2.not_decoding_error             0.093462           0.015012    0.008753\n",
              "4     a2.buffer_overflow             0.069735           0.011201    0.006531"
            ]
          },
          "metadata": {
            "tags": []
          }
        },
        {
          "output_type": "execute_result",
          "data": {
            "text/plain": [
              ""
            ]
          },
          "metadata": {
            "tags": []
          },
          "execution_count": 47
        }
      ]
    },
    {
      "cell_type": "code",
      "metadata": {
        "id": "CaAkRerAgItw",
        "colab_type": "code",
        "colab": {
          "base_uri": "https://localhost:8080/",
          "height": 1000
        },
        "outputId": "41cd39c9-83ae-4d61-dd41-db41086fa703"
      },
      "source": [
        "h2o.get_model([i for i in model_ids if \"DeepLearning\" in i][0])"
      ],
      "execution_count": null,
      "outputs": [
        {
          "output_type": "stream",
          "text": [
            "Model Details\n",
            "=============\n",
            "H2ODeepLearningEstimator :  Deep Learning\n",
            "Model Key:  DeepLearning_1_AutoML_20200623_043946\n",
            "\n",
            "\n",
            "Status of Neuron Layers: predicting nvoc, regression, gaussian distribution, Quadratic loss, 291 weights/biases, 8.7 KB, 2,699,126 training samples, mini-batch size 1\n"
          ],
          "name": "stdout"
        },
        {
          "output_type": "display_data",
          "data": {
            "text/html": [
              "<div>\n",
              "<style scoped>\n",
              "    .dataframe tbody tr th:only-of-type {\n",
              "        vertical-align: middle;\n",
              "    }\n",
              "\n",
              "    .dataframe tbody tr th {\n",
              "        vertical-align: top;\n",
              "    }\n",
              "\n",
              "    .dataframe thead th {\n",
              "        text-align: right;\n",
              "    }\n",
              "</style>\n",
              "<table border=\"1\" class=\"dataframe\">\n",
              "  <thead>\n",
              "    <tr style=\"text-align: right;\">\n",
              "      <th></th>\n",
              "      <th></th>\n",
              "      <th>layer</th>\n",
              "      <th>units</th>\n",
              "      <th>type</th>\n",
              "      <th>dropout</th>\n",
              "      <th>l1</th>\n",
              "      <th>l2</th>\n",
              "      <th>mean_rate</th>\n",
              "      <th>rate_rms</th>\n",
              "      <th>momentum</th>\n",
              "      <th>mean_weight</th>\n",
              "      <th>weight_rms</th>\n",
              "      <th>mean_bias</th>\n",
              "      <th>bias_rms</th>\n",
              "    </tr>\n",
              "  </thead>\n",
              "  <tbody>\n",
              "    <tr>\n",
              "      <th>0</th>\n",
              "      <td></td>\n",
              "      <td>1</td>\n",
              "      <td>5</td>\n",
              "      <td>Input</td>\n",
              "      <td>0</td>\n",
              "      <td></td>\n",
              "      <td></td>\n",
              "      <td></td>\n",
              "      <td></td>\n",
              "      <td></td>\n",
              "      <td></td>\n",
              "      <td></td>\n",
              "      <td></td>\n",
              "      <td></td>\n",
              "    </tr>\n",
              "    <tr>\n",
              "      <th>1</th>\n",
              "      <td></td>\n",
              "      <td>2</td>\n",
              "      <td>10</td>\n",
              "      <td>Rectifier</td>\n",
              "      <td>0</td>\n",
              "      <td>0</td>\n",
              "      <td>0</td>\n",
              "      <td>0.324764</td>\n",
              "      <td>0.398233</td>\n",
              "      <td>0</td>\n",
              "      <td>0.120768</td>\n",
              "      <td>0.449956</td>\n",
              "      <td>0.333847</td>\n",
              "      <td>0.528994</td>\n",
              "    </tr>\n",
              "    <tr>\n",
              "      <th>2</th>\n",
              "      <td></td>\n",
              "      <td>3</td>\n",
              "      <td>10</td>\n",
              "      <td>Rectifier</td>\n",
              "      <td>0</td>\n",
              "      <td>0</td>\n",
              "      <td>0</td>\n",
              "      <td>0.0163609</td>\n",
              "      <td>0.0584985</td>\n",
              "      <td>0</td>\n",
              "      <td>0.033733</td>\n",
              "      <td>0.323948</td>\n",
              "      <td>1.015</td>\n",
              "      <td>0.195475</td>\n",
              "    </tr>\n",
              "    <tr>\n",
              "      <th>3</th>\n",
              "      <td></td>\n",
              "      <td>4</td>\n",
              "      <td>10</td>\n",
              "      <td>Rectifier</td>\n",
              "      <td>0</td>\n",
              "      <td>0</td>\n",
              "      <td>0</td>\n",
              "      <td>0.142839</td>\n",
              "      <td>0.261456</td>\n",
              "      <td>0</td>\n",
              "      <td>-0.0448289</td>\n",
              "      <td>0.311703</td>\n",
              "      <td>0.956306</td>\n",
              "      <td>0.0440685</td>\n",
              "    </tr>\n",
              "    <tr>\n",
              "      <th>4</th>\n",
              "      <td></td>\n",
              "      <td>5</td>\n",
              "      <td>1</td>\n",
              "      <td>Linear</td>\n",
              "      <td></td>\n",
              "      <td>0</td>\n",
              "      <td>0</td>\n",
              "      <td>0.152953</td>\n",
              "      <td>0.291925</td>\n",
              "      <td>0</td>\n",
              "      <td>0.0801797</td>\n",
              "      <td>0.234021</td>\n",
              "      <td>0.0408257</td>\n",
              "      <td>1.09713e-154</td>\n",
              "    </tr>\n",
              "  </tbody>\n",
              "</table>\n",
              "</div>"
            ],
            "text/plain": [
              "     layer  units       type  ... mean_weight weight_rms  mean_bias      bias_rms\n",
              "0        1      5      Input  ...                                                \n",
              "1        2     10  Rectifier  ...    0.120768   0.449956   0.333847      0.528994\n",
              "2        3     10  Rectifier  ...    0.033733   0.323948      1.015      0.195475\n",
              "3        4     10  Rectifier  ...  -0.0448289   0.311703   0.956306     0.0440685\n",
              "4        5      1     Linear  ...   0.0801797   0.234021  0.0408257  1.09713e-154\n",
              "\n",
              "[5 rows x 14 columns]"
            ]
          },
          "metadata": {
            "tags": []
          }
        },
        {
          "output_type": "stream",
          "text": [
            "\n",
            "\n",
            "ModelMetricsRegression: deeplearning\n",
            "** Reported on train data. **\n",
            "\n",
            "MSE: 0.0013024560672761417\n",
            "RMSE: 0.03608955620780258\n",
            "MAE: 0.0018896054109139259\n",
            "RMSLE: 0.02502465721165558\n",
            "Mean Residual Deviance: 0.0013024560672761417\n",
            "\n",
            "ModelMetricsRegression: deeplearning\n",
            "** Reported on validation data. **\n",
            "\n",
            "MSE: 0.00132276008762777\n",
            "RMSE: 0.036369768869595115\n",
            "MAE: 0.001902240994710254\n",
            "RMSLE: 0.025207882743211743\n",
            "Mean Residual Deviance: 0.00132276008762777\n",
            "\n",
            "Scoring History: \n"
          ],
          "name": "stdout"
        },
        {
          "output_type": "display_data",
          "data": {
            "text/html": [
              "<div>\n",
              "<style scoped>\n",
              "    .dataframe tbody tr th:only-of-type {\n",
              "        vertical-align: middle;\n",
              "    }\n",
              "\n",
              "    .dataframe tbody tr th {\n",
              "        vertical-align: top;\n",
              "    }\n",
              "\n",
              "    .dataframe thead th {\n",
              "        text-align: right;\n",
              "    }\n",
              "</style>\n",
              "<table border=\"1\" class=\"dataframe\">\n",
              "  <thead>\n",
              "    <tr style=\"text-align: right;\">\n",
              "      <th></th>\n",
              "      <th></th>\n",
              "      <th>timestamp</th>\n",
              "      <th>duration</th>\n",
              "      <th>training_speed</th>\n",
              "      <th>epochs</th>\n",
              "      <th>iterations</th>\n",
              "      <th>samples</th>\n",
              "      <th>training_rmse</th>\n",
              "      <th>training_deviance</th>\n",
              "      <th>training_mae</th>\n",
              "      <th>training_r2</th>\n",
              "      <th>validation_rmse</th>\n",
              "      <th>validation_deviance</th>\n",
              "      <th>validation_mae</th>\n",
              "      <th>validation_r2</th>\n",
              "    </tr>\n",
              "  </thead>\n",
              "  <tbody>\n",
              "    <tr>\n",
              "      <th>0</th>\n",
              "      <td></td>\n",
              "      <td>2020-06-23 04:41:11</td>\n",
              "      <td>0.000 sec</td>\n",
              "      <td>None</td>\n",
              "      <td>0.000000</td>\n",
              "      <td>0</td>\n",
              "      <td>0.0</td>\n",
              "      <td>NaN</td>\n",
              "      <td>NaN</td>\n",
              "      <td>NaN</td>\n",
              "      <td>NaN</td>\n",
              "      <td>NaN</td>\n",
              "      <td>NaN</td>\n",
              "      <td>NaN</td>\n",
              "      <td>NaN</td>\n",
              "    </tr>\n",
              "    <tr>\n",
              "      <th>1</th>\n",
              "      <td></td>\n",
              "      <td>2020-06-23 04:41:12</td>\n",
              "      <td>1.870 sec</td>\n",
              "      <td>80718 obs/sec</td>\n",
              "      <td>0.378639</td>\n",
              "      <td>1</td>\n",
              "      <td>99687.0</td>\n",
              "      <td>0.036933</td>\n",
              "      <td>0.001364</td>\n",
              "      <td>0.004297</td>\n",
              "      <td>-0.048512</td>\n",
              "      <td>0.036498</td>\n",
              "      <td>0.001332</td>\n",
              "      <td>0.004250</td>\n",
              "      <td>-0.007530</td>\n",
              "    </tr>\n",
              "    <tr>\n",
              "      <th>2</th>\n",
              "      <td></td>\n",
              "      <td>2020-06-23 04:41:18</td>\n",
              "      <td>7.435 sec</td>\n",
              "      <td>139851 obs/sec</td>\n",
              "      <td>3.419311</td>\n",
              "      <td>9</td>\n",
              "      <td>900226.0</td>\n",
              "      <td>0.036107</td>\n",
              "      <td>0.001304</td>\n",
              "      <td>0.001808</td>\n",
              "      <td>-0.002156</td>\n",
              "      <td>0.036373</td>\n",
              "      <td>0.001323</td>\n",
              "      <td>0.001817</td>\n",
              "      <td>-0.000608</td>\n",
              "    </tr>\n",
              "    <tr>\n",
              "      <th>3</th>\n",
              "      <td></td>\n",
              "      <td>2020-06-23 04:41:23</td>\n",
              "      <td>12.715 sec</td>\n",
              "      <td>165008 obs/sec</td>\n",
              "      <td>7.214489</td>\n",
              "      <td>19</td>\n",
              "      <td>1899409.0</td>\n",
              "      <td>0.036085</td>\n",
              "      <td>0.001302</td>\n",
              "      <td>0.001525</td>\n",
              "      <td>-0.000953</td>\n",
              "      <td>0.036374</td>\n",
              "      <td>0.001323</td>\n",
              "      <td>0.001544</td>\n",
              "      <td>-0.000693</td>\n",
              "    </tr>\n",
              "    <tr>\n",
              "      <th>4</th>\n",
              "      <td></td>\n",
              "      <td>2020-06-23 04:41:27</td>\n",
              "      <td>16.749 sec</td>\n",
              "      <td>175245 obs/sec</td>\n",
              "      <td>10.252039</td>\n",
              "      <td>27</td>\n",
              "      <td>2699126.0</td>\n",
              "      <td>0.036090</td>\n",
              "      <td>0.001302</td>\n",
              "      <td>0.001890</td>\n",
              "      <td>-0.001190</td>\n",
              "      <td>0.036370</td>\n",
              "      <td>0.001323</td>\n",
              "      <td>0.001902</td>\n",
              "      <td>-0.000439</td>\n",
              "    </tr>\n",
              "  </tbody>\n",
              "</table>\n",
              "</div>"
            ],
            "text/plain": [
              "               timestamp  ... validation_mae validation_r2\n",
              "0    2020-06-23 04:41:11  ...            NaN           NaN\n",
              "1    2020-06-23 04:41:12  ...       0.004250     -0.007530\n",
              "2    2020-06-23 04:41:18  ...       0.001817     -0.000608\n",
              "3    2020-06-23 04:41:23  ...       0.001544     -0.000693\n",
              "4    2020-06-23 04:41:27  ...       0.001902     -0.000439\n",
              "\n",
              "[5 rows x 15 columns]"
            ]
          },
          "metadata": {
            "tags": []
          }
        },
        {
          "output_type": "stream",
          "text": [
            "\n",
            "Variable Importances: \n"
          ],
          "name": "stdout"
        },
        {
          "output_type": "display_data",
          "data": {
            "text/html": [
              "<div>\n",
              "<style scoped>\n",
              "    .dataframe tbody tr th:only-of-type {\n",
              "        vertical-align: middle;\n",
              "    }\n",
              "\n",
              "    .dataframe tbody tr th {\n",
              "        vertical-align: top;\n",
              "    }\n",
              "\n",
              "    .dataframe thead th {\n",
              "        text-align: right;\n",
              "    }\n",
              "</style>\n",
              "<table border=\"1\" class=\"dataframe\">\n",
              "  <thead>\n",
              "    <tr style=\"text-align: right;\">\n",
              "      <th></th>\n",
              "      <th>variable</th>\n",
              "      <th>relative_importance</th>\n",
              "      <th>scaled_importance</th>\n",
              "      <th>percentage</th>\n",
              "    </tr>\n",
              "  </thead>\n",
              "  <tbody>\n",
              "    <tr>\n",
              "      <th>0</th>\n",
              "      <td>a2.not_decoding_error</td>\n",
              "      <td>1.000000</td>\n",
              "      <td>1.000000</td>\n",
              "      <td>0.270712</td>\n",
              "    </tr>\n",
              "    <tr>\n",
              "      <th>1</th>\n",
              "      <td>a2.no_stream_error</td>\n",
              "      <td>0.742714</td>\n",
              "      <td>0.742714</td>\n",
              "      <td>0.201062</td>\n",
              "    </tr>\n",
              "    <tr>\n",
              "      <th>2</th>\n",
              "      <td>a2.buffer_overflow</td>\n",
              "      <td>0.708354</td>\n",
              "      <td>0.708354</td>\n",
              "      <td>0.191760</td>\n",
              "    </tr>\n",
              "    <tr>\n",
              "      <th>3</th>\n",
              "      <td>a2.stb_rtp_errcnt</td>\n",
              "      <td>0.670889</td>\n",
              "      <td>0.670889</td>\n",
              "      <td>0.181618</td>\n",
              "    </tr>\n",
              "    <tr>\n",
              "      <th>4</th>\n",
              "      <td>a2.pts_advanced_error</td>\n",
              "      <td>0.572003</td>\n",
              "      <td>0.572003</td>\n",
              "      <td>0.154848</td>\n",
              "    </tr>\n",
              "  </tbody>\n",
              "</table>\n",
              "</div>"
            ],
            "text/plain": [
              "                variable  relative_importance  scaled_importance  percentage\n",
              "0  a2.not_decoding_error             1.000000           1.000000    0.270712\n",
              "1     a2.no_stream_error             0.742714           0.742714    0.201062\n",
              "2     a2.buffer_overflow             0.708354           0.708354    0.191760\n",
              "3      a2.stb_rtp_errcnt             0.670889           0.670889    0.181618\n",
              "4  a2.pts_advanced_error             0.572003           0.572003    0.154848"
            ]
          },
          "metadata": {
            "tags": []
          }
        },
        {
          "output_type": "execute_result",
          "data": {
            "text/plain": [
              ""
            ]
          },
          "metadata": {
            "tags": []
          },
          "execution_count": 52
        }
      ]
    },
    {
      "cell_type": "code",
      "metadata": {
        "id": "TyUkNZZvXGxp",
        "colab_type": "code",
        "colab": {}
      },
      "source": [
        "dl = h2o.get_model([i for i in model_ids if \"DeepLearning\" in i][0])\n",
        "#dl = h2o.get_model([i for i in model_ids if \"GBM\" in i][0])"
      ],
      "execution_count": null,
      "outputs": []
    },
    {
      "cell_type": "code",
      "metadata": {
        "colab_type": "code",
        "id": "o_ZxHlnal6lg",
        "colab": {
          "base_uri": "https://localhost:8080/",
          "height": 316
        },
        "outputId": "02c5df8e-e5c2-4e04-9fc0-1508a7ac061d"
      },
      "source": [
        "dl.confusion_matrix()"
      ],
      "execution_count": null,
      "outputs": [
        {
          "output_type": "error",
          "ename": "AttributeError",
          "evalue": "ignored",
          "traceback": [
            "\u001b[0;31m---------------------------------------------------------------------------\u001b[0m",
            "\u001b[0;31mAttributeError\u001b[0m                            Traceback (most recent call last)",
            "\u001b[0;32m<ipython-input-54-d10afab91747>\u001b[0m in \u001b[0;36m<module>\u001b[0;34m()\u001b[0m\n\u001b[0;32m----> 1\u001b[0;31m \u001b[0mdl\u001b[0m\u001b[0;34m.\u001b[0m\u001b[0mconfusion_matrix\u001b[0m\u001b[0;34m(\u001b[0m\u001b[0;34m)\u001b[0m\u001b[0;34m\u001b[0m\u001b[0;34m\u001b[0m\u001b[0m\n\u001b[0m",
            "\u001b[0;32m/usr/local/lib/python3.6/dist-packages/h2o/utils/metaclass.py\u001b[0m in \u001b[0;36m__getattr__\u001b[0;34m(self, name)\u001b[0m\n\u001b[1;32m    191\u001b[0m             \u001b[0;32mif\u001b[0m \u001b[0mname\u001b[0m \u001b[0;32min\u001b[0m \u001b[0mself\u001b[0m\u001b[0;34m.\u001b[0m\u001b[0m_bci\u001b[0m\u001b[0;34m:\u001b[0m\u001b[0;34m\u001b[0m\u001b[0;34m\u001b[0m\u001b[0m\n\u001b[1;32m    192\u001b[0m                 \u001b[0;32mreturn\u001b[0m \u001b[0mself\u001b[0m\u001b[0;34m.\u001b[0m\u001b[0m_bci\u001b[0m\u001b[0;34m[\u001b[0m\u001b[0mname\u001b[0m\u001b[0;34m]\u001b[0m\u001b[0;34m\u001b[0m\u001b[0;34m\u001b[0m\u001b[0m\n\u001b[0;32m--> 193\u001b[0;31m             \u001b[0;32mreturn\u001b[0m \u001b[0mgetattr\u001b[0m\u001b[0;34m(\u001b[0m\u001b[0mnew_clz\u001b[0m\u001b[0;34m,\u001b[0m \u001b[0mname\u001b[0m\u001b[0;34m)\u001b[0m\u001b[0;34m\u001b[0m\u001b[0;34m\u001b[0m\u001b[0m\n\u001b[0m\u001b[1;32m    194\u001b[0m \u001b[0;34m\u001b[0m\u001b[0m\n\u001b[1;32m    195\u001b[0m         \u001b[0mnew_clz\u001b[0m \u001b[0;34m=\u001b[0m \u001b[0mextend_and_replace\u001b[0m\u001b[0;34m(\u001b[0m\u001b[0mclz\u001b[0m\u001b[0;34m,\u001b[0m \u001b[0m__init__\u001b[0m\u001b[0;34m=\u001b[0m\u001b[0m__init__\u001b[0m\u001b[0;34m,\u001b[0m \u001b[0m__getattr__\u001b[0m\u001b[0;34m=\u001b[0m\u001b[0m__getattr__\u001b[0m\u001b[0;34m)\u001b[0m\u001b[0;34m\u001b[0m\u001b[0;34m\u001b[0m\u001b[0m\n",
            "\u001b[0;32m/usr/local/lib/python3.6/dist-packages/h2o/utils/metaclass.py\u001b[0m in \u001b[0;36m__getattribute__\u001b[0;34m(cls, name)\u001b[0m\n\u001b[1;32m    233\u001b[0m             \u001b[0;32mif\u001b[0m \u001b[0mattr\u001b[0m \u001b[0;32mis\u001b[0m \u001b[0;32mnot\u001b[0m \u001b[0mMetaFeature\u001b[0m\u001b[0;34m.\u001b[0m\u001b[0mNOT_FOUND\u001b[0m\u001b[0;34m:\u001b[0m\u001b[0;34m\u001b[0m\u001b[0;34m\u001b[0m\u001b[0m\n\u001b[1;32m    234\u001b[0m                 \u001b[0;32mreturn\u001b[0m \u001b[0mattr\u001b[0m\u001b[0;34m\u001b[0m\u001b[0;34m\u001b[0m\u001b[0m\n\u001b[0;32m--> 235\u001b[0;31m         \u001b[0;32mreturn\u001b[0m \u001b[0mtype\u001b[0m\u001b[0;34m.\u001b[0m\u001b[0m__getattribute__\u001b[0m\u001b[0;34m(\u001b[0m\u001b[0mcls\u001b[0m\u001b[0;34m,\u001b[0m \u001b[0mname\u001b[0m\u001b[0;34m)\u001b[0m\u001b[0;34m\u001b[0m\u001b[0;34m\u001b[0m\u001b[0m\n\u001b[0m\u001b[1;32m    236\u001b[0m \u001b[0;34m\u001b[0m\u001b[0m\n\u001b[1;32m    237\u001b[0m     \u001b[0;32mdef\u001b[0m \u001b[0m__setattr__\u001b[0m\u001b[0;34m(\u001b[0m\u001b[0mcls\u001b[0m\u001b[0;34m,\u001b[0m \u001b[0mname\u001b[0m\u001b[0;34m,\u001b[0m \u001b[0mvalue\u001b[0m\u001b[0;34m)\u001b[0m\u001b[0;34m:\u001b[0m\u001b[0;34m\u001b[0m\u001b[0;34m\u001b[0m\u001b[0m\n",
            "\u001b[0;31mAttributeError\u001b[0m: type object 'ModelBase' has no attribute 'confusion_matrix'"
          ]
        }
      ]
    },
    {
      "cell_type": "code",
      "metadata": {
        "colab_type": "code",
        "id": "6Y7Lt5ROmofC",
        "colab": {
          "base_uri": "https://localhost:8080/",
          "height": 612
        },
        "outputId": "fc48152d-2d35-4ffd-add8-fc0fa41bfff8"
      },
      "source": [
        "dl.varimp_plot()"
      ],
      "execution_count": null,
      "outputs": [
        {
          "output_type": "display_data",
          "data": {
            "image/png": "[encoded data removed]",
            "text/plain": [
              "<Figure size 1008x720 with 1 Axes>"
            ]
          },
          "metadata": {
            "tags": [],
            "needs_background": "light"
          }
        }
      ]
    },
    {
      "cell_type": "markdown",
      "metadata": {
        "id": "TaT9qQ74YQ4K",
        "colab_type": "text"
      },
      "source": [
        "#모델 저장"
      ]
    },
    {
      "cell_type": "code",
      "metadata": {
        "id": "SHrUXBm5YUG9",
        "colab_type": "code",
        "colab": {
          "base_uri": "https://localhost:8080/",
          "height": 34
        },
        "outputId": "c603766d-636a-43aa-9a8b-30ff5b5e100f"
      },
      "source": [
        "aml.leader.download_mojo(path = BASE_DIR)"
      ],
      "execution_count": null,
      "outputs": [
        {
          "output_type": "execute_result",
          "data": {
            "text/plain": [
              "'/content/GBM_5_AutoML_20200623_043946.zip'"
            ]
          },
          "metadata": {
            "tags": []
          },
          "execution_count": 56
        }
      ]
    },
    {
      "cell_type": "code",
      "metadata": {
        "id": "OOWfCc6YgjX_",
        "colab_type": "code",
        "colab": {}
      },
      "source": [
        ""
      ],
      "execution_count": null,
      "outputs": []
    }
  ]
}