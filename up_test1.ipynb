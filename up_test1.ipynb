{
  "nbformat": 4,
  "nbformat_minor": 0,
  "metadata": {
    "colab": {
      "name": "up-test1.ipynb",
      "provenance": [],
      "collapsed_sections": [],
      "toc_visible": true,
      "include_colab_link": true
    },
    "kernelspec": {
      "name": "python3",
      "display_name": "Python 3"
    },
    "accelerator": "GPU"
  },
  "cells": [
    {
      "cell_type": "markdown",
      "metadata": {
        "id": "view-in-github",
        "colab_type": "text"
      },
      "source": [
        "<a href=\"https://colab.research.google.com/github/secutron/ShowTime/blob/master/up_test1.ipynb\" target=\"_parent\"><img src=\"https://colab.research.google.com/assets/colab-badge.svg\" alt=\"Open In Colab\"/></a>"
      ]
    },
    {
      "cell_type": "markdown",
      "metadata": {
        "id": "LPFQozwJVsMm",
        "colab_type": "text"
      },
      "source": [
        "Candel, A., Parmar, V., LeDell, E., and Arora, A. (Jun 2020). Deep Learning\n",
        "with H2O. http://h2o.ai/resources."
      ]
    },
    {
      "cell_type": "markdown",
      "metadata": {
        "id": "9ny0ipaPUuY2",
        "colab_type": "text"
      },
      "source": [
        "http://docs.h2o.ai/h2o/latest-stable/h2o-docs/booklets/DeepLearningBooklet.pdf?_ga=2.184768361.1553179602.1592730801-433090902.1592730801\n",
        "\n"
      ]
    },
    {
      "cell_type": "code",
      "metadata": {
        "id": "6xXsZrxWOdZW",
        "colab_type": "code",
        "colab": {
          "base_uri": "https://localhost:8080/",
          "height": 357
        },
        "outputId": "4e1571c4-ba43-4372-f7be-b162e1a8304e"
      },
      "source": [
        "!nvidia-smi"
      ],
      "execution_count": 29,
      "outputs": [
        {
          "output_type": "stream",
          "text": [
            "Mon Jun 22 00:57:30 2020       \n",
            "+-----------------------------------------------------------------------------+\n",
            "| NVIDIA-SMI 450.36.06    Driver Version: 418.67       CUDA Version: 10.1     |\n",
            "|-------------------------------+----------------------+----------------------+\n",
            "| GPU  Name        Persistence-M| Bus-Id        Disp.A | Volatile Uncorr. ECC |\n",
            "| Fan  Temp  Perf  Pwr:Usage/Cap|         Memory-Usage | GPU-Util  Compute M. |\n",
            "|                               |                      |               MIG M. |\n",
            "|===============================+======================+======================|\n",
            "|   0  Tesla T4            Off  | 00000000:00:04.0 Off |                    0 |\n",
            "| N/A   41C    P8     9W /  70W |      0MiB / 15079MiB |      0%      Default |\n",
            "|                               |                      |                 ERR! |\n",
            "+-------------------------------+----------------------+----------------------+\n",
            "                                                                               \n",
            "+-----------------------------------------------------------------------------+\n",
            "| Processes:                                                                  |\n",
            "|  GPU   GI   CI        PID   Type   Process name                  GPU Memory |\n",
            "|        ID   ID                                                   Usage      |\n",
            "|=============================================================================|\n",
            "|  No running processes found                                                 |\n",
            "+-----------------------------------------------------------------------------+\n"
          ],
          "name": "stdout"
        }
      ]
    },
    {
      "cell_type": "code",
      "metadata": {
        "id": "hcr8LovGKQz0",
        "colab_type": "code",
        "colab": {
          "base_uri": "https://localhost:8080/",
          "height": 204
        },
        "outputId": "e000efe5-5cb3-4330-df2d-e934260ee7f9"
      },
      "source": [
        "!apt-get install default-jre\n",
        "!java -version"
      ],
      "execution_count": 30,
      "outputs": [
        {
          "output_type": "stream",
          "text": [
            "\rReading package lists... 0%\r\rReading package lists... 0%\r\rReading package lists... 0%\r\rReading package lists... 6%\r\rReading package lists... 6%\r\rReading package lists... 6%\r\rReading package lists... 6%\r\rReading package lists... 62%\r\rReading package lists... 62%\r\rReading package lists... 63%\r\rReading package lists... 63%\r\rReading package lists... 71%\r\rReading package lists... 71%\r\rReading package lists... 71%\r\rReading package lists... 71%\r\rReading package lists... 80%\r\rReading package lists... 80%\r\rReading package lists... 80%\r\rReading package lists... 80%\r\rReading package lists... 81%\r\rReading package lists... 81%\r\rReading package lists... 81%\r\rReading package lists... 81%\r\rReading package lists... 87%\r\rReading package lists... 87%\r\rReading package lists... 87%\r\rReading package lists... 87%\r\rReading package lists... 88%\r\rReading package lists... 93%\r\rReading package lists... 93%\r\rReading package lists... 93%\r\rReading package lists... 93%\r\rReading package lists... 93%\r\rReading package lists... 93%\r\rReading package lists... 94%\r\rReading package lists... 94%\r\rReading package lists... 95%\r\rReading package lists... 95%\r\rReading package lists... 98%\r\rReading package lists... 98%\r\rReading package lists... 98%\r\rReading package lists... 98%\r\rReading package lists... Done\r\n",
            "\rBuilding dependency tree... 0%\r\rBuilding dependency tree... 0%\r\rBuilding dependency tree... 50%\r\rBuilding dependency tree... 50%\r\rBuilding dependency tree       \r\n",
            "\rReading state information... 0%\r\rReading state information... 0%\r\rReading state information... Done\r\n",
            "default-jre is already the newest version (2:1.11-68ubuntu1~18.04.1).\n",
            "The following package was automatically installed and is no longer required:\n",
            "  libnvidia-common-440\n",
            "Use 'apt autoremove' to remove it.\n",
            "0 upgraded, 0 newly installed, 0 to remove and 59 not upgraded.\n",
            "openjdk version \"11.0.7\" 2020-04-14\n",
            "OpenJDK Runtime Environment (build 11.0.7+10-post-Ubuntu-2ubuntu218.04)\n",
            "OpenJDK 64-Bit Server VM (build 11.0.7+10-post-Ubuntu-2ubuntu218.04, mixed mode, sharing)\n"
          ],
          "name": "stdout"
        }
      ]
    },
    {
      "cell_type": "code",
      "metadata": {
        "id": "cQQX75nNOmlv",
        "colab_type": "code",
        "colab": {
          "base_uri": "https://localhost:8080/",
          "height": 170
        },
        "outputId": "f390ab89-106c-4732-bc4e-f2b321a33bfa"
      },
      "source": [
        "!pip install h2o"
      ],
      "execution_count": 31,
      "outputs": [
        {
          "output_type": "stream",
          "text": [
            "Requirement already satisfied: h2o in /usr/local/lib/python3.6/dist-packages (3.30.0.5)\n",
            "Requirement already satisfied: future in /usr/local/lib/python3.6/dist-packages (from h2o) (0.16.0)\n",
            "Requirement already satisfied: requests in /usr/local/lib/python3.6/dist-packages (from h2o) (2.23.0)\n",
            "Requirement already satisfied: colorama>=0.3.8 in /usr/local/lib/python3.6/dist-packages (from h2o) (0.4.3)\n",
            "Requirement already satisfied: tabulate in /usr/local/lib/python3.6/dist-packages (from h2o) (0.8.7)\n",
            "Requirement already satisfied: chardet<4,>=3.0.2 in /usr/local/lib/python3.6/dist-packages (from requests->h2o) (3.0.4)\n",
            "Requirement already satisfied: idna<3,>=2.5 in /usr/local/lib/python3.6/dist-packages (from requests->h2o) (2.9)\n",
            "Requirement already satisfied: certifi>=2017.4.17 in /usr/local/lib/python3.6/dist-packages (from requests->h2o) (2020.4.5.2)\n",
            "Requirement already satisfied: urllib3!=1.25.0,!=1.25.1,<1.26,>=1.21.1 in /usr/local/lib/python3.6/dist-packages (from requests->h2o) (1.24.3)\n"
          ],
          "name": "stdout"
        }
      ]
    },
    {
      "cell_type": "code",
      "metadata": {
        "id": "yUJFHY-2pRU7",
        "colab_type": "code",
        "colab": {}
      },
      "source": [
        "import numpy as np\n",
        "import pandas as pd\n",
        "import seaborn as sns\n",
        "import matplotlib\n",
        "import matplotlib.pyplot as plt\n",
        "import urllib\n",
        "import h2o\n",
        "from h2o.automl import H2OAutoML\n",
        "import sys\n",
        "import os\n",
        "\n",
        "import warnings\n",
        "warnings.filterwarnings(\"ignore\")"
      ],
      "execution_count": 32,
      "outputs": []
    },
    {
      "cell_type": "code",
      "metadata": {
        "id": "lakpkQGMPUuX",
        "colab_type": "code",
        "colab": {
          "base_uri": "https://localhost:8080/",
          "height": 119
        },
        "outputId": "f16fe90f-b2d5-4e66-cd1d-65c13034c2c8"
      },
      "source": [
        "print('matplotlib: {}'.format(matplotlib.__version__))\n",
        "#print('sklearn: {}'.format(sklearn.__version__))\n",
        "#print('scipy: {}'.format(scipy.__version__))\n",
        "print('seaborn: {}'.format(sns.__version__))\n",
        "print('pandas: {}'.format(pd.__version__))\n",
        "print('numpy: {}'.format(np.__version__))\n",
        "print('sys: {}'.format(sys.version))"
      ],
      "execution_count": 33,
      "outputs": [
        {
          "output_type": "stream",
          "text": [
            "matplotlib: 3.2.1\n",
            "seaborn: 0.10.1\n",
            "pandas: 1.0.4\n",
            "numpy: 1.18.5\n",
            "sys: 3.6.9 (default, Apr 18 2020, 01:56:04) \n",
            "[GCC 8.4.0]\n"
          ],
          "name": "stdout"
        }
      ]
    },
    {
      "cell_type": "code",
      "metadata": {
        "id": "Op3rBhT4O7iA",
        "colab_type": "code",
        "colab": {
          "base_uri": "https://localhost:8080/",
          "height": 372
        },
        "outputId": "ee16bfac-6f6c-4455-a6d1-27493ab798fe"
      },
      "source": [
        "h2o.init()"
      ],
      "execution_count": 34,
      "outputs": [
        {
          "output_type": "stream",
          "text": [
            "Checking whether there is an H2O instance running at http://localhost:54321 . connected.\n"
          ],
          "name": "stdout"
        },
        {
          "output_type": "display_data",
          "data": {
            "text/html": [
              "<div style=\"overflow:auto\"><table style=\"width:50%\"><tr><td>H2O_cluster_uptime:</td>\n",
              "<td>1 hour 40 mins</td></tr>\n",
              "<tr><td>H2O_cluster_timezone:</td>\n",
              "<td>Etc/UTC</td></tr>\n",
              "<tr><td>H2O_data_parsing_timezone:</td>\n",
              "<td>UTC</td></tr>\n",
              "<tr><td>H2O_cluster_version:</td>\n",
              "<td>3.30.0.5</td></tr>\n",
              "<tr><td>H2O_cluster_version_age:</td>\n",
              "<td>3 days </td></tr>\n",
              "<tr><td>H2O_cluster_name:</td>\n",
              "<td>H2O_from_python_unknownUser_mhnisx</td></tr>\n",
              "<tr><td>H2O_cluster_total_nodes:</td>\n",
              "<td>1</td></tr>\n",
              "<tr><td>H2O_cluster_free_memory:</td>\n",
              "<td>3.180 Gb</td></tr>\n",
              "<tr><td>H2O_cluster_total_cores:</td>\n",
              "<td>2</td></tr>\n",
              "<tr><td>H2O_cluster_allowed_cores:</td>\n",
              "<td>2</td></tr>\n",
              "<tr><td>H2O_cluster_status:</td>\n",
              "<td>locked, healthy</td></tr>\n",
              "<tr><td>H2O_connection_url:</td>\n",
              "<td>http://localhost:54321</td></tr>\n",
              "<tr><td>H2O_connection_proxy:</td>\n",
              "<td>{\"http\": null, \"https\": null}</td></tr>\n",
              "<tr><td>H2O_internal_security:</td>\n",
              "<td>False</td></tr>\n",
              "<tr><td>H2O_API_Extensions:</td>\n",
              "<td>Amazon S3, XGBoost, Algos, AutoML, Core V3, TargetEncoder, Core V4</td></tr>\n",
              "<tr><td>Python_version:</td>\n",
              "<td>3.6.9 final</td></tr></table></div>"
            ],
            "text/plain": [
              "--------------------------  ------------------------------------------------------------------\n",
              "H2O_cluster_uptime:         1 hour 40 mins\n",
              "H2O_cluster_timezone:       Etc/UTC\n",
              "H2O_data_parsing_timezone:  UTC\n",
              "H2O_cluster_version:        3.30.0.5\n",
              "H2O_cluster_version_age:    3 days\n",
              "H2O_cluster_name:           H2O_from_python_unknownUser_mhnisx\n",
              "H2O_cluster_total_nodes:    1\n",
              "H2O_cluster_free_memory:    3.180 Gb\n",
              "H2O_cluster_total_cores:    2\n",
              "H2O_cluster_allowed_cores:  2\n",
              "H2O_cluster_status:         locked, healthy\n",
              "H2O_connection_url:         http://localhost:54321\n",
              "H2O_connection_proxy:       {\"http\": null, \"https\": null}\n",
              "H2O_internal_security:      False\n",
              "H2O_API_Extensions:         Amazon S3, XGBoost, Algos, AutoML, Core V3, TargetEncoder, Core V4\n",
              "Python_version:             3.6.9 final\n",
              "--------------------------  ------------------------------------------------------------------"
            ]
          },
          "metadata": {
            "tags": []
          }
        }
      ]
    },
    {
      "cell_type": "code",
      "metadata": {
        "id": "nQ1vIt3iR2s-",
        "colab_type": "code",
        "colab": {}
      },
      "source": [
        "# Get help\n",
        "#help(h2o.estimators.glm.H2OGeneralizedLinearEstimator)\n",
        "#help(h2o.estimators.gbm.H2OGradientBoostingEstimator)\n",
        "#help(h2o.estimators.deeplearning.H2ODeepLearningEstimator)\n",
        "\n",
        "# Show a demo\n",
        "#h2o.demo(\"glm\")\n",
        "#h2o.demo(\"gbm\")\n",
        "#h2o.demo(\"deeplearning\")"
      ],
      "execution_count": 35,
      "outputs": []
    },
    {
      "cell_type": "markdown",
      "metadata": {
        "id": "DsQdgsFMT9er",
        "colab_type": "text"
      },
      "source": [
        "### 여러 파일 준비"
      ]
    },
    {
      "cell_type": "code",
      "metadata": {
        "id": "G6d0229RT7_v",
        "colab_type": "code",
        "colab": {}
      },
      "source": [
        "BASE_DIR = '/content'\n",
        "OUTPUT_FILE = os.path.join(BASE_DIR, 'tmp.csv')\n",
        "\n",
        "#hkim_data=urllib.request.urlretrieve('http://archive.ics.uci.edu/ml/machine-learning-databases/credit-screening/crx.data', OUTPUT_FILE)\n",
        "\n",
        "#hkim_data=urllib.request.urlretrieve('https://drive.google.com/file/d/1oMEvI6gWC4ZAqssQ3s3j6RkWUPa_TSwY/view?usp=sharing', OUTPUT_FILE)\n",
        "hkim_data=urllib.request.urlretrieve('https://drive.google.com/uc?export=download&id=1oMEvI6gWC4ZAqssQ3s3j6RkWUPa_TSwY', OUTPUT_FILE)\n",
        "\n",
        "#data = h2o.import_file('column_2C_weka.csv')\n",
        "#churn_df = h2o.import_file('https://raw.githubusercontent.com/srivatsan88/YouTubeLI/master/dataset/WA_Fn-UseC_-Telco-Customer-Churn.csv')"
      ],
      "execution_count": 37,
      "outputs": []
    },
    {
      "cell_type": "code",
      "metadata": {
        "id": "H91Teg5Fhuyk",
        "colab_type": "code",
        "colab": {
          "base_uri": "https://localhost:8080/",
          "height": 255
        },
        "outputId": "d1ea8de0-a007-4312-9eb8-83bde53a0a64"
      },
      "source": [
        "df = pd.read_csv(OUTPUT_FILE, delimiter = ',')\n",
        "df.head"
      ],
      "execution_count": 38,
      "outputs": [
        {
          "output_type": "execute_result",
          "data": {
            "text/plain": [
              "<bound method NDFrame.head of      pelvic_incidence  pelvic_tilt numeric  ...  degree_spondylolisthesis     class\n",
              "0           63.027818            22.552586  ...                 -0.254400  Abnormal\n",
              "1           39.056951            10.060991  ...                  4.564259  Abnormal\n",
              "2           68.832021            22.218482  ...                 -3.530317  Abnormal\n",
              "3           69.297008            24.652878  ...                 11.211523  Abnormal\n",
              "4           49.712859             9.652075  ...                  7.918501  Abnormal\n",
              "..                ...                  ...  ...                       ...       ...\n",
              "305         47.903565            13.616688  ...                 -4.245395    Normal\n",
              "306         53.936748            20.721496  ...                 -0.421010    Normal\n",
              "307         61.446597            22.694968  ...                 -2.707880    Normal\n",
              "308         45.252792             8.693157  ...                  0.214750    Normal\n",
              "309         33.841641             5.073991  ...                 -0.199249    Normal\n",
              "\n",
              "[310 rows x 7 columns]>"
            ]
          },
          "metadata": {
            "tags": []
          },
          "execution_count": 38
        }
      ]
    },
    {
      "cell_type": "code",
      "metadata": {
        "id": "ZMfj_QZlP3dN",
        "colab_type": "code",
        "colab": {}
      },
      "source": [
        "df = pd.read_csv('/content/tmp.csv', delimiter = ',')\n",
        "df.head()"
      ],
      "execution_count": null,
      "outputs": []
    },
    {
      "cell_type": "code",
      "metadata": {
        "id": "Cx-9C11cpXeR",
        "colab_type": "code",
        "colab": {}
      },
      "source": [
        "ad_data = pd.read_csv('test_data.csv', delimiter = ',')"
      ],
      "execution_count": null,
      "outputs": []
    },
    {
      "cell_type": "code",
      "metadata": {
        "id": "pAzrEuckDNNZ",
        "colab_type": "code",
        "colab": {}
      },
      "source": [
        "ad_data.head()"
      ],
      "execution_count": null,
      "outputs": []
    },
    {
      "cell_type": "markdown",
      "metadata": {
        "id": "lDrpShs32cZn",
        "colab_type": "text"
      },
      "source": [
        "Since the time is in Unix format, convert it to more readable format."
      ]
    },
    {
      "cell_type": "code",
      "metadata": {
        "id": "PMzGOUbW2XGx",
        "colab_type": "code",
        "colab": {}
      },
      "source": [
        "ad_data['time'] = pd.to_datetime(ad_data['time'],unit='s')"
      ],
      "execution_count": null,
      "outputs": []
    },
    {
      "cell_type": "markdown",
      "metadata": {
        "id": "J2R0iaomDSDP",
        "colab_type": "text"
      },
      "source": [
        "And now let's see how the ad events are distributed throughout the days"
      ]
    },
    {
      "cell_type": "code",
      "metadata": {
        "id": "4E18zlEFu1jh",
        "colab_type": "code",
        "colab": {}
      },
      "source": [
        "ad_dates = ad_data.groupby('date').count()"
      ],
      "execution_count": null,
      "outputs": []
    },
    {
      "cell_type": "code",
      "metadata": {
        "id": "VhqoXPD5pk2y",
        "colab_type": "code",
        "colab": {}
      },
      "source": [
        "sns.set(context='notebook', style='darkgrid', palette='deep', font='sans-serif', font_scale=1, color_codes=True, rc=None)\n",
        "plt.figure(figsize=(20,8))\n",
        "plt.xticks(rotation=90)\n",
        "fig = sns.lineplot(x=ad_dates.index, y='event', marker='o', data=ad_dates)\n",
        "fig.set(xlabel='', ylabel='Number of ad events', title=\"Distribution of ad events\")"
      ],
      "execution_count": null,
      "outputs": []
    },
    {
      "cell_type": "markdown",
      "metadata": {
        "id": "n3jtcg1OBf5O",
        "colab_type": "text"
      },
      "source": [
        "> Obviously, **2019-04-11** outperforms other days in the number of ad events. \n",
        "So, let's inspect unique ad counts which run that day. For convenience we take a look at the descending list\n",
        "\n",
        "\n",
        "\n",
        "\n",
        "\n",
        "---\n",
        "\n"
      ]
    },
    {
      "cell_type": "code",
      "metadata": {
        "id": "rggJoK6tu0Ks",
        "colab_type": "code",
        "colab": {}
      },
      "source": [
        "ad_counts_11_april = ad_data[ad_data.date == '2019-04-11'].groupby('ad_id').count().sort_values(by=['event'], ascending=False) \n",
        "ad_counts_11_april['event'].head()"
      ],
      "execution_count": null,
      "outputs": []
    },
    {
      "cell_type": "markdown",
      "metadata": {
        "id": "itfjNPyECgVi",
        "colab_type": "text"
      },
      "source": [
        "The topmost **two ads** \n",
        "\n",
        "```\n",
        "# ad_49554\n",
        "# ad_49556\n",
        "```\n",
        "\n",
        "have the largest share (13k out of 18k) of the ad events of **2019-04-11**, which is quite interesting if you look at the related plot."
      ]
    },
    {
      "cell_type": "code",
      "metadata": {
        "id": "x9DR_k1w9kMp",
        "colab_type": "code",
        "colab": {}
      },
      "source": [
        "plt.figure(figsize=(20,8))\n",
        "fig = sns.lineplot(x=ad_counts_11_april.iloc[:10].index, y='event', marker='o', data=ad_counts_11_april.iloc[:10]) \n",
        "fig.set(xlabel='ad id', ylabel='Number of each ad', title=\"Distribution of ad events by ad_id on 2019-04-11\")"
      ],
      "execution_count": null,
      "outputs": []
    },
    {
      "cell_type": "markdown",
      "metadata": {
        "id": "7G_v4PW1D0y3",
        "colab_type": "text"
      },
      "source": [
        "Let's additionally check the whole dataset whether there are any other ads with the big number of events."
      ]
    },
    {
      "cell_type": "code",
      "metadata": {
        "id": "meb4qRqy5y48",
        "colab_type": "code",
        "colab": {}
      },
      "source": [
        "ad_data.groupby('ad_id').count().sort_values(by=['event'], ascending=False).head()"
      ],
      "execution_count": null,
      "outputs": []
    },
    {
      "cell_type": "markdown",
      "metadata": {
        "id": "yQst_EgrUO6a",
        "colab_type": "text"
      },
      "source": [
        "We can see that our two ads are still the topmost, but there is another ad with similarly big event count number\n",
        "\n",
        "```\n",
        "# ad_49560\n",
        "```\n",
        "We can take this ad into consideration with the other two.\n",
        "\n",
        "And now we want to see whether those three ads were popular before or after **2019-04-11**. Starting from the topmost ad_49554.\n"
      ]
    },
    {
      "cell_type": "code",
      "metadata": {
        "id": "Xjw0-cu-EzCK",
        "colab_type": "code",
        "colab": {}
      },
      "source": [
        "ad_1 = ad_data[ad_data.ad_id == 'ad_49554'].groupby('date').count().sort_values(by=['date'], ascending=True)"
      ],
      "execution_count": null,
      "outputs": []
    },
    {
      "cell_type": "code",
      "metadata": {
        "id": "lMJUoQULa61P",
        "colab_type": "code",
        "colab": {}
      },
      "source": [
        "ad_1['event']"
      ],
      "execution_count": null,
      "outputs": []
    },
    {
      "cell_type": "markdown",
      "metadata": {
        "id": "nBr-S6s1VaP0",
        "colab_type": "text"
      },
      "source": [
        "We see that the ad_49554 started on 2019-04-10 and run for a week. It peeked for a day, i.e. 2019-04-11 and if we consider popularity margin as 3000 events, then the ad was popular for 4 days. "
      ]
    },
    {
      "cell_type": "code",
      "metadata": {
        "id": "dJEkXEh8WjH-",
        "colab_type": "code",
        "colab": {}
      },
      "source": [
        "ad_2 = ad_data[ad_data.ad_id == 'ad_49556'].groupby('date').count().sort_values(by=['date'], ascending=True)"
      ],
      "execution_count": null,
      "outputs": []
    },
    {
      "cell_type": "code",
      "metadata": {
        "id": "98ZehzpsbH_E",
        "colab_type": "code",
        "colab": {}
      },
      "source": [
        "ad_2['event']"
      ],
      "execution_count": null,
      "outputs": []
    },
    {
      "cell_type": "markdown",
      "metadata": {
        "id": "g6jTzjzQW3-h",
        "colab_type": "text"
      },
      "source": [
        "The second ad under ad_id 49556 run for 6 days and was popular for 1 day (remember our presumed popularity margin=3000 events)"
      ]
    },
    {
      "cell_type": "code",
      "metadata": {
        "id": "TyUkNZZvXGxp",
        "colab_type": "code",
        "colab": {}
      },
      "source": [
        "ad_3 = ad_data[ad_data.ad_id == 'ad_49560'].groupby('date').count().sort_values(by=['date'], ascending=True)"
      ],
      "execution_count": null,
      "outputs": []
    },
    {
      "cell_type": "code",
      "metadata": {
        "colab_type": "code",
        "id": "o_ZxHlnal6lg",
        "colab": {}
      },
      "source": [
        "ad_3['event']"
      ],
      "execution_count": null,
      "outputs": []
    },
    {
      "cell_type": "markdown",
      "metadata": {
        "id": "BL-tGyHfXNad",
        "colab_type": "text"
      },
      "source": [
        "The last ad run for 10 days and was shortly popular hardly reaching popularity margin on 2019-04-08. \n",
        "If we look at our [first plot](https://colab.research.google.com/drive/1vsfAt-IL-tKe0um63Mk-SvejYSYOWUYW#scrollTo=VhqoXPD5pk2y&line=4&uniqifier=1) \"Distribution of ad events\" we can see that exactly on 2019-04-08 our distribution started growing over mean number of events. This ad contributed to this."
      ]
    },
    {
      "cell_type": "code",
      "metadata": {
        "colab_type": "code",
        "id": "6Y7Lt5ROmofC",
        "colab": {}
      },
      "source": [
        "plt.figure(figsize=(20,8))\n",
        "sns.lineplot(x=ad_3.index, y='event', marker='o', data=ad_3, label=\"the third ad\")\n",
        "sns.lineplot(x=ad_2.index, y='event', marker='o', legend=\"brief\",data=ad_2, label=\"the second ad\")\n",
        "sns.lineplot(x=ad_1.index, y='event', marker='o', data=ad_1, label=\"the first ad\").set(xlabel='', ylabel='Number of events', title=\"Distribution of top three ads\")\n"
      ],
      "execution_count": null,
      "outputs": []
    },
    {
      "cell_type": "markdown",
      "metadata": {
        "id": "TaT9qQ74YQ4K",
        "colab_type": "text"
      },
      "source": [
        "Now we can check who run these popular ads. Getting the first 10 results whould be enough to see all three owners."
      ]
    },
    {
      "cell_type": "code",
      "metadata": {
        "id": "SHrUXBm5YUG9",
        "colab_type": "code",
        "colab": {}
      },
      "source": [
        "ad_123 = ad_data.loc[ad_data['ad_id'].isin(['ad_49554','ad_49556','ad_49560'])]\n",
        "ad_123.iloc[:10]"
      ],
      "execution_count": null,
      "outputs": []
    },
    {
      "cell_type": "markdown",
      "metadata": {
        "id": "UdBNQBVOWb6t",
        "colab_type": "text"
      },
      "source": [
        "**All three ads belong to client_47270** under agency_2. Glancing at the last three rows is enough to see it.\n",
        "\n",
        "The first assumption is that the client_47270 started some campaign, where one of the ads became popular. "
      ]
    },
    {
      "cell_type": "markdown",
      "metadata": {
        "id": "w2Xe6hwtnbx6",
        "colab_type": "text"
      },
      "source": [
        "Now we have to understand the properties which made the ad popular. Let's look at the platform, event type, has video, ad cost type properties."
      ]
    },
    {
      "cell_type": "code",
      "metadata": {
        "id": "RvfqPbFw-ats",
        "colab_type": "code",
        "colab": {}
      },
      "source": [
        "sns.catplot(x='event',hue='platform', col='has_video', row = 'ad_cost_type', kind='count', data=ad_123)"
      ],
      "execution_count": null,
      "outputs": []
    },
    {
      "cell_type": "markdown",
      "metadata": {
        "id": "e-1zjfOUoeKa",
        "colab_type": "text"
      },
      "source": [
        "So three ads were all CPC and without videos, were mostly viewen and usually through Android application.\n",
        "\n",
        "This means **client_47270 run three no-video ads through Android app, paying for each click, which led to an increase in the number of ad events**. "
      ]
    },
    {
      "cell_type": "markdown",
      "metadata": {
        "id": "MreHZt4A9syC",
        "colab_type": "text"
      },
      "source": [
        "This also can be interpreted as follows, client_47270 has created the ads which had all ''popular'', i.e. with the most number of events, properties of the dataset. Such as, has_video=0, ad_cost_type=CPC, event=view, platform=android (second row first graph below).\n",
        "Addressing each property made these three targeted ads successful."
      ]
    },
    {
      "cell_type": "code",
      "metadata": {
        "id": "bfaRDGd19vag",
        "colab_type": "code",
        "colab": {}
      },
      "source": [
        "plt.figure(figsize=(20,20))\n",
        "sns.catplot(x='event',hue='platform', col='has_video', row = 'ad_cost_type', kind='count', data=ad_data)"
      ],
      "execution_count": null,
      "outputs": []
    },
    {
      "cell_type": "code",
      "metadata": {
        "id": "9Qe88SqgIFfU",
        "colab_type": "code",
        "colab": {}
      },
      "source": [
        "ad_time = ad_data.set_index('time')"
      ],
      "execution_count": null,
      "outputs": []
    },
    {
      "cell_type": "markdown",
      "metadata": {
        "id": "0Xy5T8e2Xl0f",
        "colab_type": "text"
      },
      "source": [
        "In order to detect anomaly in the number of events, we run detector for the past day, hour or 5 minutes. The following code calculates the number of events for the past day. For the past hour the condition should be \n",
        "\n",
        "```\n",
        "# ad_time.index.hour == pd.Timestamp.now().hour-1\n",
        "```\n",
        "And for the past 5 min the condition should be \n",
        "\n",
        "```\n",
        "# (pd.Timestamp.now().minute-5):(pd.Timestamp.now().minute)\n",
        "```\n",
        "\n",
        "\n",
        "\n"
      ]
    },
    {
      "cell_type": "code",
      "metadata": {
        "id": "fkUZj7tUTf50",
        "colab_type": "code",
        "colab": {}
      },
      "source": [
        "yesterday_count = ad_time[ad_time.index.day == pd.Timestamp.now().day-1].count()['event']"
      ],
      "execution_count": null,
      "outputs": []
    },
    {
      "cell_type": "markdown",
      "metadata": {
        "id": "SVx-KzjjfDS1",
        "colab_type": "text"
      },
      "source": [
        "Then find the number of event counts per day. Find mean.\n",
        "For the past hour  and 5 minutes use these respectively\n",
        "```   \n",
        "# 'H'\n",
        "```\n",
        "```\n",
        "# 'M'\n",
        "```\n",
        "\n",
        "\n",
        "\n"
      ]
    },
    {
      "cell_type": "code",
      "metadata": {
        "id": "-uI7sUEXYYwP",
        "colab_type": "code",
        "colab": {}
      },
      "source": [
        "ad_time_resampled = ad_time.resample('D')['event'].count()\n",
        "mean = ad_time_resampled.mean()"
      ],
      "execution_count": null,
      "outputs": []
    },
    {
      "cell_type": "markdown",
      "metadata": {
        "id": "YyEYQs0cf0ff",
        "colab_type": "text"
      },
      "source": [
        "Set some custom threshold for triggerring notification. Check both cases: threshold case, mean case. Anything greater than either will set a boolean True and thus trigger the notification."
      ]
    },
    {
      "cell_type": "code",
      "metadata": {
        "id": "JpH32H99TxqL",
        "colab_type": "code",
        "colab": {}
      },
      "source": [
        "threshold = 4000\n",
        "notify = (yesterday_count >= mean) | (yesterday_count>=threshold) \n",
        "notify"
      ],
      "execution_count": null,
      "outputs": []
    }
  ]
}