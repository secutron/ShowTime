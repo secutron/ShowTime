{
  "nbformat": 4,
  "nbformat_minor": 0,
  "metadata": {
    "colab": {
      "name": "up-test1.ipynb",
      "provenance": [],
      "collapsed_sections": [],
      "include_colab_link": true
    },
    "kernelspec": {
      "name": "python3",
      "display_name": "Python 3"
    }
  },
  "cells": [
    {
      "cell_type": "markdown",
      "metadata": {
        "id": "view-in-github",
        "colab_type": "text"
      },
      "source": [
        "<a href=\"https://colab.research.google.com/github/secutron/ShowTime/blob/master/up_test1.ipynb\" target=\"_parent\"><img src=\"https://colab.research.google.com/assets/colab-badge.svg\" alt=\"Open In Colab\"/></a>"
      ]
    },
    {
      "cell_type": "code",
      "metadata": {
        "id": "yUJFHY-2pRU7",
        "colab_type": "code",
        "colab": {}
      },
      "source": [
        "import numpy as np\n",
        "import pandas as pd\n",
        "import seaborn as sns\n",
        "import matplotlib.pyplot as plt"
      ],
      "execution_count": 0,
      "outputs": []
    },
    {
      "cell_type": "code",
      "metadata": {
        "id": "Cx-9C11cpXeR",
        "colab_type": "code",
        "colab": {}
      },
      "source": [
        "ad_data = pd.read_csv('test_data.csv', delimiter = ',')"
      ],
      "execution_count": 0,
      "outputs": []
    },
    {
      "cell_type": "code",
      "metadata": {
        "id": "pAzrEuckDNNZ",
        "colab_type": "code",
        "outputId": "446c438d-a5d4-4274-9ed9-1625e8a89113",
        "colab": {
          "base_uri": "https://localhost:8080/",
          "height": 204
        }
      },
      "source": [
        "ad_data.head()"
      ],
      "execution_count": 0,
      "outputs": [
        {
          "output_type": "execute_result",
          "data": {
            "text/html": [
              "<div>\n",
              "<style scoped>\n",
              "    .dataframe tbody tr th:only-of-type {\n",
              "        vertical-align: middle;\n",
              "    }\n",
              "\n",
              "    .dataframe tbody tr th {\n",
              "        vertical-align: top;\n",
              "    }\n",
              "\n",
              "    .dataframe thead th {\n",
              "        text-align: right;\n",
              "    }\n",
              "</style>\n",
              "<table border=\"1\" class=\"dataframe\">\n",
              "  <thead>\n",
              "    <tr style=\"text-align: right;\">\n",
              "      <th></th>\n",
              "      <th>time</th>\n",
              "      <th>event</th>\n",
              "      <th>ad_cost_type</th>\n",
              "      <th>has_video</th>\n",
              "      <th>agency_union_id</th>\n",
              "      <th>client_union_id</th>\n",
              "      <th>campaign_union_id</th>\n",
              "      <th>ad_id</th>\n",
              "      <th>platform</th>\n",
              "      <th>date</th>\n",
              "    </tr>\n",
              "  </thead>\n",
              "  <tbody>\n",
              "    <tr>\n",
              "      <th>0</th>\n",
              "      <td>1.554744e+09</td>\n",
              "      <td>report</td>\n",
              "      <td>CPM</td>\n",
              "      <td>0</td>\n",
              "      <td>no_agency</td>\n",
              "      <td>client_21074</td>\n",
              "      <td>campaign_27489</td>\n",
              "      <td>ad_27489</td>\n",
              "      <td>android</td>\n",
              "      <td>2019-04-08</td>\n",
              "    </tr>\n",
              "    <tr>\n",
              "      <th>1</th>\n",
              "      <td>1.555103e+09</td>\n",
              "      <td>click</td>\n",
              "      <td>CPM</td>\n",
              "      <td>0</td>\n",
              "      <td>no_agency</td>\n",
              "      <td>client_22392</td>\n",
              "      <td>campaign_35893</td>\n",
              "      <td>ad_35893</td>\n",
              "      <td>android</td>\n",
              "      <td>2019-04-12</td>\n",
              "    </tr>\n",
              "    <tr>\n",
              "      <th>2</th>\n",
              "      <td>1.555403e+09</td>\n",
              "      <td>click</td>\n",
              "      <td>CPM</td>\n",
              "      <td>0</td>\n",
              "      <td>no_agency</td>\n",
              "      <td>client_16836</td>\n",
              "      <td>campaign_26799</td>\n",
              "      <td>ad_26804</td>\n",
              "      <td>web</td>\n",
              "      <td>2019-04-16</td>\n",
              "    </tr>\n",
              "    <tr>\n",
              "      <th>3</th>\n",
              "      <td>1.554822e+09</td>\n",
              "      <td>click</td>\n",
              "      <td>CPM</td>\n",
              "      <td>0</td>\n",
              "      <td>no_agency</td>\n",
              "      <td>client_22920</td>\n",
              "      <td>campaign_37146</td>\n",
              "      <td>ad_37146</td>\n",
              "      <td>android</td>\n",
              "      <td>2019-04-09</td>\n",
              "    </tr>\n",
              "    <tr>\n",
              "      <th>4</th>\n",
              "      <td>1.554967e+09</td>\n",
              "      <td>click</td>\n",
              "      <td>CPM</td>\n",
              "      <td>0</td>\n",
              "      <td>no_agency</td>\n",
              "      <td>client_645</td>\n",
              "      <td>campaign_15893</td>\n",
              "      <td>ad_15944</td>\n",
              "      <td>web</td>\n",
              "      <td>2019-04-11</td>\n",
              "    </tr>\n",
              "  </tbody>\n",
              "</table>\n",
              "</div>"
            ],
            "text/plain": [
              "           time   event ad_cost_type  ...     ad_id platform        date\n",
              "0  1.554744e+09  report          CPM  ...  ad_27489  android  2019-04-08\n",
              "1  1.555103e+09   click          CPM  ...  ad_35893  android  2019-04-12\n",
              "2  1.555403e+09   click          CPM  ...  ad_26804      web  2019-04-16\n",
              "3  1.554822e+09   click          CPM  ...  ad_37146  android  2019-04-09\n",
              "4  1.554967e+09   click          CPM  ...  ad_15944      web  2019-04-11\n",
              "\n",
              "[5 rows x 10 columns]"
            ]
          },
          "metadata": {
            "tags": []
          },
          "execution_count": 189
        }
      ]
    },
    {
      "cell_type": "markdown",
      "metadata": {
        "id": "lDrpShs32cZn",
        "colab_type": "text"
      },
      "source": [
        "Since the time is in Unix format, convert it to more readable format."
      ]
    },
    {
      "cell_type": "code",
      "metadata": {
        "id": "PMzGOUbW2XGx",
        "colab_type": "code",
        "colab": {}
      },
      "source": [
        "ad_data['time'] = pd.to_datetime(ad_data['time'],unit='s')"
      ],
      "execution_count": 0,
      "outputs": []
    },
    {
      "cell_type": "markdown",
      "metadata": {
        "id": "J2R0iaomDSDP",
        "colab_type": "text"
      },
      "source": [
        "And now let's see how the ad events are distributed throughout the days"
      ]
    },
    {
      "cell_type": "code",
      "metadata": {
        "id": "4E18zlEFu1jh",
        "colab_type": "code",
        "colab": {}
      },
      "source": [
        "ad_dates = ad_data.groupby('date').count()"
      ],
      "execution_count": 0,
      "outputs": []
    },
    {
      "cell_type": "code",
      "metadata": {
        "id": "VhqoXPD5pk2y",
        "colab_type": "code",
        "outputId": "15a310ed-61be-4cb3-fb84-d94f55a2442e",
        "colab": {
          "base_uri": "https://localhost:8080/",
          "height": 606
        }
      },
      "source": [
        "sns.set(context='notebook', style='darkgrid', palette='deep', font='sans-serif', font_scale=1, color_codes=True, rc=None)\n",
        "plt.figure(figsize=(20,8))\n",
        "plt.xticks(rotation=90)\n",
        "fig = sns.lineplot(x=ad_dates.index, y='event', marker='o', data=ad_dates)\n",
        "fig.set(xlabel='', ylabel='Number of ad events', title=\"Distribution of ad events\")"
      ],
      "execution_count": 0,
      "outputs": [
        {
          "output_type": "execute_result",
          "data": {
            "text/plain": [
              "[Text(0, 0.5, 'Number of ad events'),\n",
              " Text(0.5, 0, ''),\n",
              " Text(0.5, 1.0, 'Distribution of ad events')]"
            ]
          },
          "metadata": {
            "tags": []
          },
          "execution_count": 172
        },
        {
          "output_type": "display_data",
          "data": {
            "image/png": "[encoded data removed]",
            "text/plain": [
              "<Figure size 1440x576 with 1 Axes>"
            ]
          },
          "metadata": {
            "tags": []
          }
        }
      ]
    },
    {
      "cell_type": "markdown",
      "metadata": {
        "id": "n3jtcg1OBf5O",
        "colab_type": "text"
      },
      "source": [
        "> Obviously, **2019-04-11** outperforms other days in the number of ad events. \n",
        "So, let's inspect unique ad counts which run that day. For convenience we take a look at the descending list\n",
        "\n",
        "\n",
        "\n",
        "\n",
        "\n",
        "---\n",
        "\n"
      ]
    },
    {
      "cell_type": "code",
      "metadata": {
        "id": "rggJoK6tu0Ks",
        "colab_type": "code",
        "outputId": "1492b8fc-3bfb-4949-dd53-5cbed9153ca4",
        "colab": {
          "base_uri": "https://localhost:8080/",
          "height": 136
        }
      },
      "source": [
        "ad_counts_11_april = ad_data[ad_data.date == '2019-04-11'].groupby('ad_id').count().sort_values(by=['event'], ascending=False) \n",
        "ad_counts_11_april['event'].head()"
      ],
      "execution_count": 0,
      "outputs": [
        {
          "output_type": "execute_result",
          "data": {
            "text/plain": [
              "ad_id\n",
              "ad_49554    9640\n",
              "ad_49556    3455\n",
              "ad_49560     512\n",
              "ad_49564     334\n",
              "ad_388       101\n",
              "Name: event, dtype: int64"
            ]
          },
          "metadata": {
            "tags": []
          },
          "execution_count": 198
        }
      ]
    },
    {
      "cell_type": "markdown",
      "metadata": {
        "id": "itfjNPyECgVi",
        "colab_type": "text"
      },
      "source": [
        "The topmost **two ads** \n",
        "\n",
        "```\n",
        "# ad_49554\n",
        "# ad_49556\n",
        "```\n",
        "\n",
        "have the largest share (13k out of 18k) of the ad events of **2019-04-11**, which is quite interesting if you look at the related plot."
      ]
    },
    {
      "cell_type": "code",
      "metadata": {
        "id": "x9DR_k1w9kMp",
        "colab_type": "code",
        "outputId": "a53d3ea6-1f23-45ef-e1c2-884eddbc5154",
        "colab": {
          "base_uri": "https://localhost:8080/",
          "height": 570
        }
      },
      "source": [
        "plt.figure(figsize=(20,8))\n",
        "fig = sns.lineplot(x=ad_counts_11_april.iloc[:10].index, y='event', marker='o', data=ad_counts_11_april.iloc[:10]) \n",
        "fig.set(xlabel='ad id', ylabel='Number of each ad', title=\"Distribution of ad events by ad_id on 2019-04-11\")"
      ],
      "execution_count": 0,
      "outputs": [
        {
          "output_type": "execute_result",
          "data": {
            "text/plain": [
              "[Text(0, 0.5, 'Number of each ad'),\n",
              " Text(0.5, 0, 'ad id'),\n",
              " Text(0.5, 1.0, 'Distribution of ad events by ad_id on 2019-04-11')]"
            ]
          },
          "metadata": {
            "tags": []
          },
          "execution_count": 199
        },
        {
          "output_type": "display_data",
          "data": {
            "image/png": "[encoded data removed]",
            "text/plain": [
              "<Figure size 1440x576 with 1 Axes>"
            ]
          },
          "metadata": {
            "tags": []
          }
        }
      ]
    },
    {
      "cell_type": "markdown",
      "metadata": {
        "id": "7G_v4PW1D0y3",
        "colab_type": "text"
      },
      "source": [
        "Let's additionally check the whole dataset whether there are any other ads with the big number of events."
      ]
    },
    {
      "cell_type": "code",
      "metadata": {
        "id": "meb4qRqy5y48",
        "colab_type": "code",
        "outputId": "1f0e3052-636b-47db-d9c7-74e60f7cedc9",
        "colab": {
          "base_uri": "https://localhost:8080/",
          "height": 235
        }
      },
      "source": [
        "ad_data.groupby('ad_id').count().sort_values(by=['event'], ascending=False).head()"
      ],
      "execution_count": 0,
      "outputs": [
        {
          "output_type": "execute_result",
          "data": {
            "text/html": [
              "<div>\n",
              "<style scoped>\n",
              "    .dataframe tbody tr th:only-of-type {\n",
              "        vertical-align: middle;\n",
              "    }\n",
              "\n",
              "    .dataframe tbody tr th {\n",
              "        vertical-align: top;\n",
              "    }\n",
              "\n",
              "    .dataframe thead th {\n",
              "        text-align: right;\n",
              "    }\n",
              "</style>\n",
              "<table border=\"1\" class=\"dataframe\">\n",
              "  <thead>\n",
              "    <tr style=\"text-align: right;\">\n",
              "      <th></th>\n",
              "      <th>time</th>\n",
              "      <th>event</th>\n",
              "      <th>ad_cost_type</th>\n",
              "      <th>has_video</th>\n",
              "      <th>agency_union_id</th>\n",
              "      <th>client_union_id</th>\n",
              "      <th>campaign_union_id</th>\n",
              "      <th>platform</th>\n",
              "      <th>date</th>\n",
              "    </tr>\n",
              "    <tr>\n",
              "      <th>ad_id</th>\n",
              "      <th></th>\n",
              "      <th></th>\n",
              "      <th></th>\n",
              "      <th></th>\n",
              "      <th></th>\n",
              "      <th></th>\n",
              "      <th></th>\n",
              "      <th></th>\n",
              "      <th></th>\n",
              "    </tr>\n",
              "  </thead>\n",
              "  <tbody>\n",
              "    <tr>\n",
              "      <th>ad_49554</th>\n",
              "      <td>27500</td>\n",
              "      <td>27500</td>\n",
              "      <td>27500</td>\n",
              "      <td>27500</td>\n",
              "      <td>27500</td>\n",
              "      <td>27500</td>\n",
              "      <td>27500</td>\n",
              "      <td>27500</td>\n",
              "      <td>27500</td>\n",
              "    </tr>\n",
              "    <tr>\n",
              "      <th>ad_49556</th>\n",
              "      <td>8218</td>\n",
              "      <td>8218</td>\n",
              "      <td>8218</td>\n",
              "      <td>8218</td>\n",
              "      <td>8218</td>\n",
              "      <td>8218</td>\n",
              "      <td>8218</td>\n",
              "      <td>8218</td>\n",
              "      <td>8218</td>\n",
              "    </tr>\n",
              "    <tr>\n",
              "      <th>ad_49560</th>\n",
              "      <td>7496</td>\n",
              "      <td>7496</td>\n",
              "      <td>7496</td>\n",
              "      <td>7496</td>\n",
              "      <td>7496</td>\n",
              "      <td>7496</td>\n",
              "      <td>7496</td>\n",
              "      <td>7496</td>\n",
              "      <td>7496</td>\n",
              "    </tr>\n",
              "    <tr>\n",
              "      <th>ad_49564</th>\n",
              "      <td>4491</td>\n",
              "      <td>4491</td>\n",
              "      <td>4491</td>\n",
              "      <td>4491</td>\n",
              "      <td>4491</td>\n",
              "      <td>4491</td>\n",
              "      <td>4491</td>\n",
              "      <td>4491</td>\n",
              "      <td>4491</td>\n",
              "    </tr>\n",
              "    <tr>\n",
              "      <th>ad_47269</th>\n",
              "      <td>1867</td>\n",
              "      <td>1867</td>\n",
              "      <td>1867</td>\n",
              "      <td>1867</td>\n",
              "      <td>1867</td>\n",
              "      <td>1867</td>\n",
              "      <td>1867</td>\n",
              "      <td>1867</td>\n",
              "      <td>1867</td>\n",
              "    </tr>\n",
              "  </tbody>\n",
              "</table>\n",
              "</div>"
            ],
            "text/plain": [
              "           time  event  ad_cost_type  ...  campaign_union_id  platform   date\n",
              "ad_id                                 ...                                    \n",
              "ad_49554  27500  27500         27500  ...              27500     27500  27500\n",
              "ad_49556   8218   8218          8218  ...               8218      8218   8218\n",
              "ad_49560   7496   7496          7496  ...               7496      7496   7496\n",
              "ad_49564   4491   4491          4491  ...               4491      4491   4491\n",
              "ad_47269   1867   1867          1867  ...               1867      1867   1867\n",
              "\n",
              "[5 rows x 9 columns]"
            ]
          },
          "metadata": {
            "tags": []
          },
          "execution_count": 200
        }
      ]
    },
    {
      "cell_type": "markdown",
      "metadata": {
        "id": "yQst_EgrUO6a",
        "colab_type": "text"
      },
      "source": [
        "We can see that our two ads are still the topmost, but there is another ad with similarly big event count number\n",
        "\n",
        "```\n",
        "# ad_49560\n",
        "```\n",
        "We can take this ad into consideration with the other two.\n",
        "\n",
        "And now we want to see whether those three ads were popular before or after **2019-04-11**. Starting from the topmost ad_49554.\n"
      ]
    },
    {
      "cell_type": "code",
      "metadata": {
        "id": "Xjw0-cu-EzCK",
        "colab_type": "code",
        "colab": {}
      },
      "source": [
        "ad_1 = ad_data[ad_data.ad_id == 'ad_49554'].groupby('date').count().sort_values(by=['date'], ascending=True)"
      ],
      "execution_count": 0,
      "outputs": []
    },
    {
      "cell_type": "code",
      "metadata": {
        "id": "lMJUoQULa61P",
        "colab_type": "code",
        "outputId": "cc1058d1-e43d-477f-f9cc-d204b658fb26",
        "colab": {
          "base_uri": "https://localhost:8080/",
          "height": 170
        }
      },
      "source": [
        "ad_1['event']"
      ],
      "execution_count": 0,
      "outputs": [
        {
          "output_type": "execute_result",
          "data": {
            "text/plain": [
              "date\n",
              "2019-04-10     272\n",
              "2019-04-11    9640\n",
              "2019-04-12    4868\n",
              "2019-04-13    6275\n",
              "2019-04-14    3693\n",
              "2019-04-15    2364\n",
              "2019-04-16     388\n",
              "Name: event, dtype: int64"
            ]
          },
          "metadata": {
            "tags": []
          },
          "execution_count": 202
        }
      ]
    },
    {
      "cell_type": "markdown",
      "metadata": {
        "id": "nBr-S6s1VaP0",
        "colab_type": "text"
      },
      "source": [
        "We see that the ad_49554 started on 2019-04-10 and run for a week. It peeked for a day, i.e. 2019-04-11 and if we consider popularity margin as 3000 events, then the ad was popular for 4 days. "
      ]
    },
    {
      "cell_type": "code",
      "metadata": {
        "id": "dJEkXEh8WjH-",
        "colab_type": "code",
        "colab": {}
      },
      "source": [
        "ad_2 = ad_data[ad_data.ad_id == 'ad_49556'].groupby('date').count().sort_values(by=['date'], ascending=True)"
      ],
      "execution_count": 0,
      "outputs": []
    },
    {
      "cell_type": "code",
      "metadata": {
        "id": "98ZehzpsbH_E",
        "colab_type": "code",
        "outputId": "e955fbf3-2ac4-484e-fc42-15da139c5fe4",
        "colab": {
          "base_uri": "https://localhost:8080/",
          "height": 153
        }
      },
      "source": [
        "ad_2['event']"
      ],
      "execution_count": 0,
      "outputs": [
        {
          "output_type": "execute_result",
          "data": {
            "text/plain": [
              "date\n",
              "2019-04-11    3455\n",
              "2019-04-12    1492\n",
              "2019-04-13     999\n",
              "2019-04-14     804\n",
              "2019-04-15     552\n",
              "2019-04-16     916\n",
              "Name: event, dtype: int64"
            ]
          },
          "metadata": {
            "tags": []
          },
          "execution_count": 204
        }
      ]
    },
    {
      "cell_type": "markdown",
      "metadata": {
        "id": "g6jTzjzQW3-h",
        "colab_type": "text"
      },
      "source": [
        "The second ad under ad_id 49556 run for 6 days and was popular for 1 day (remember our presumed popularity margin=3000 events)"
      ]
    },
    {
      "cell_type": "code",
      "metadata": {
        "id": "TyUkNZZvXGxp",
        "colab_type": "code",
        "colab": {}
      },
      "source": [
        "ad_3 = ad_data[ad_data.ad_id == 'ad_49560'].groupby('date').count().sort_values(by=['date'], ascending=True)"
      ],
      "execution_count": 0,
      "outputs": []
    },
    {
      "cell_type": "code",
      "metadata": {
        "colab_type": "code",
        "outputId": "3a47dc4e-e10b-4650-f4a0-4617bf44a9bd",
        "id": "o_ZxHlnal6lg",
        "colab": {
          "base_uri": "https://localhost:8080/",
          "height": 221
        }
      },
      "source": [
        "ad_3['event']"
      ],
      "execution_count": 0,
      "outputs": [
        {
          "output_type": "execute_result",
          "data": {
            "text/plain": [
              "date\n",
              "2019-04-05     117\n",
              "2019-04-08    2940\n",
              "2019-04-09    1867\n",
              "2019-04-10    1035\n",
              "2019-04-11     512\n",
              "2019-04-12     193\n",
              "2019-04-13     170\n",
              "2019-04-14     211\n",
              "2019-04-15     197\n",
              "2019-04-16     254\n",
              "Name: event, dtype: int64"
            ]
          },
          "metadata": {
            "tags": []
          },
          "execution_count": 206
        }
      ]
    },
    {
      "cell_type": "markdown",
      "metadata": {
        "id": "BL-tGyHfXNad",
        "colab_type": "text"
      },
      "source": [
        "The last ad run for 10 days and was shortly popular hardly reaching popularity margin on 2019-04-08. \n",
        "If we look at our [first plot](https://colab.research.google.com/drive/1vsfAt-IL-tKe0um63Mk-SvejYSYOWUYW#scrollTo=VhqoXPD5pk2y&line=4&uniqifier=1) \"Distribution of ad events\" we can see that exactly on 2019-04-08 our distribution started growing over mean number of events. This ad contributed to this."
      ]
    },
    {
      "cell_type": "code",
      "metadata": {
        "colab_type": "code",
        "outputId": "5dfd083a-8316-462e-9c31-3e0a9d99bd95",
        "id": "6Y7Lt5ROmofC",
        "colab": {
          "base_uri": "https://localhost:8080/",
          "height": 552
        }
      },
      "source": [
        "plt.figure(figsize=(20,8))\n",
        "sns.lineplot(x=ad_3.index, y='event', marker='o', data=ad_3, label=\"the third ad\")\n",
        "sns.lineplot(x=ad_2.index, y='event', marker='o', legend=\"brief\",data=ad_2, label=\"the second ad\")\n",
        "sns.lineplot(x=ad_1.index, y='event', marker='o', data=ad_1, label=\"the first ad\").set(xlabel='', ylabel='Number of events', title=\"Distribution of top three ads\")\n"
      ],
      "execution_count": 0,
      "outputs": [
        {
          "output_type": "execute_result",
          "data": {
            "text/plain": [
              "[Text(0, 0.5, 'Number of events'),\n",
              " Text(0.5, 0, ''),\n",
              " Text(0.5, 1.0, 'Distribution of top three ads')]"
            ]
          },
          "metadata": {
            "tags": []
          },
          "execution_count": 207
        },
        {
          "output_type": "display_data",
          "data": {
            "image/png": "[encoded data removed]",
            "text/plain": [
              "<Figure size 1440x576 with 1 Axes>"
            ]
          },
          "metadata": {
            "tags": []
          }
        }
      ]
    },
    {
      "cell_type": "markdown",
      "metadata": {
        "id": "TaT9qQ74YQ4K",
        "colab_type": "text"
      },
      "source": [
        "Now we can check who run these popular ads. Getting the first 10 results whould be enough to see all three owners."
      ]
    },
    {
      "cell_type": "code",
      "metadata": {
        "id": "SHrUXBm5YUG9",
        "colab_type": "code",
        "outputId": "12e7f879-fc8e-46f4-fcb7-90adfad02927",
        "colab": {
          "base_uri": "https://localhost:8080/",
          "height": 359
        }
      },
      "source": [
        "ad_123 = ad_data.loc[ad_data['ad_id'].isin(['ad_49554','ad_49556','ad_49560'])]\n",
        "ad_123.iloc[:10]"
      ],
      "execution_count": 0,
      "outputs": [
        {
          "output_type": "execute_result",
          "data": {
            "text/html": [
              "<div>\n",
              "<style scoped>\n",
              "    .dataframe tbody tr th:only-of-type {\n",
              "        vertical-align: middle;\n",
              "    }\n",
              "\n",
              "    .dataframe tbody tr th {\n",
              "        vertical-align: top;\n",
              "    }\n",
              "\n",
              "    .dataframe thead th {\n",
              "        text-align: right;\n",
              "    }\n",
              "</style>\n",
              "<table border=\"1\" class=\"dataframe\">\n",
              "  <thead>\n",
              "    <tr style=\"text-align: right;\">\n",
              "      <th></th>\n",
              "      <th>time</th>\n",
              "      <th>event</th>\n",
              "      <th>ad_cost_type</th>\n",
              "      <th>has_video</th>\n",
              "      <th>agency_union_id</th>\n",
              "      <th>client_union_id</th>\n",
              "      <th>campaign_union_id</th>\n",
              "      <th>ad_id</th>\n",
              "      <th>platform</th>\n",
              "      <th>date</th>\n",
              "    </tr>\n",
              "  </thead>\n",
              "  <tbody>\n",
              "    <tr>\n",
              "      <th>11</th>\n",
              "      <td>2019-04-13 15:36:18</td>\n",
              "      <td>view</td>\n",
              "      <td>CPC</td>\n",
              "      <td>0</td>\n",
              "      <td>agency_2</td>\n",
              "      <td>client_47270</td>\n",
              "      <td>campaign_49554</td>\n",
              "      <td>ad_49554</td>\n",
              "      <td>android</td>\n",
              "      <td>2019-04-13</td>\n",
              "    </tr>\n",
              "    <tr>\n",
              "      <th>14</th>\n",
              "      <td>2019-04-14 14:25:21</td>\n",
              "      <td>view</td>\n",
              "      <td>CPC</td>\n",
              "      <td>0</td>\n",
              "      <td>agency_2</td>\n",
              "      <td>client_47270</td>\n",
              "      <td>campaign_49554</td>\n",
              "      <td>ad_49554</td>\n",
              "      <td>android</td>\n",
              "      <td>2019-04-14</td>\n",
              "    </tr>\n",
              "    <tr>\n",
              "      <th>19</th>\n",
              "      <td>2019-04-11 19:30:01</td>\n",
              "      <td>view</td>\n",
              "      <td>CPC</td>\n",
              "      <td>0</td>\n",
              "      <td>agency_2</td>\n",
              "      <td>client_47270</td>\n",
              "      <td>campaign_49554</td>\n",
              "      <td>ad_49554</td>\n",
              "      <td>android</td>\n",
              "      <td>2019-04-11</td>\n",
              "    </tr>\n",
              "    <tr>\n",
              "      <th>20</th>\n",
              "      <td>2019-04-12 09:25:06</td>\n",
              "      <td>view</td>\n",
              "      <td>CPC</td>\n",
              "      <td>0</td>\n",
              "      <td>agency_2</td>\n",
              "      <td>client_47270</td>\n",
              "      <td>campaign_49554</td>\n",
              "      <td>ad_49554</td>\n",
              "      <td>android</td>\n",
              "      <td>2019-04-12</td>\n",
              "    </tr>\n",
              "    <tr>\n",
              "      <th>22</th>\n",
              "      <td>2019-04-11 10:08:03</td>\n",
              "      <td>view</td>\n",
              "      <td>CPC</td>\n",
              "      <td>0</td>\n",
              "      <td>agency_2</td>\n",
              "      <td>client_47270</td>\n",
              "      <td>campaign_49554</td>\n",
              "      <td>ad_49554</td>\n",
              "      <td>android</td>\n",
              "      <td>2019-04-11</td>\n",
              "    </tr>\n",
              "    <tr>\n",
              "      <th>23</th>\n",
              "      <td>2019-04-12 11:11:03</td>\n",
              "      <td>view</td>\n",
              "      <td>CPC</td>\n",
              "      <td>0</td>\n",
              "      <td>agency_2</td>\n",
              "      <td>client_47270</td>\n",
              "      <td>campaign_49554</td>\n",
              "      <td>ad_49556</td>\n",
              "      <td>android</td>\n",
              "      <td>2019-04-12</td>\n",
              "    </tr>\n",
              "    <tr>\n",
              "      <th>24</th>\n",
              "      <td>2019-04-16 06:21:55</td>\n",
              "      <td>view</td>\n",
              "      <td>CPC</td>\n",
              "      <td>0</td>\n",
              "      <td>agency_2</td>\n",
              "      <td>client_47270</td>\n",
              "      <td>campaign_49554</td>\n",
              "      <td>ad_49554</td>\n",
              "      <td>android</td>\n",
              "      <td>2019-04-16</td>\n",
              "    </tr>\n",
              "    <tr>\n",
              "      <th>25</th>\n",
              "      <td>2019-04-11 06:31:51</td>\n",
              "      <td>view</td>\n",
              "      <td>CPC</td>\n",
              "      <td>0</td>\n",
              "      <td>agency_2</td>\n",
              "      <td>client_47270</td>\n",
              "      <td>campaign_49554</td>\n",
              "      <td>ad_49560</td>\n",
              "      <td>android</td>\n",
              "      <td>2019-04-11</td>\n",
              "    </tr>\n",
              "    <tr>\n",
              "      <th>27</th>\n",
              "      <td>2019-04-12 09:29:30</td>\n",
              "      <td>view</td>\n",
              "      <td>CPC</td>\n",
              "      <td>0</td>\n",
              "      <td>agency_2</td>\n",
              "      <td>client_47270</td>\n",
              "      <td>campaign_49554</td>\n",
              "      <td>ad_49554</td>\n",
              "      <td>android</td>\n",
              "      <td>2019-04-12</td>\n",
              "    </tr>\n",
              "    <tr>\n",
              "      <th>35</th>\n",
              "      <td>2019-04-13 16:31:45</td>\n",
              "      <td>view</td>\n",
              "      <td>CPC</td>\n",
              "      <td>0</td>\n",
              "      <td>agency_2</td>\n",
              "      <td>client_47270</td>\n",
              "      <td>campaign_49554</td>\n",
              "      <td>ad_49556</td>\n",
              "      <td>android</td>\n",
              "      <td>2019-04-13</td>\n",
              "    </tr>\n",
              "  </tbody>\n",
              "</table>\n",
              "</div>"
            ],
            "text/plain": [
              "                  time event ad_cost_type  ...     ad_id platform        date\n",
              "11 2019-04-13 15:36:18  view          CPC  ...  ad_49554  android  2019-04-13\n",
              "14 2019-04-14 14:25:21  view          CPC  ...  ad_49554  android  2019-04-14\n",
              "19 2019-04-11 19:30:01  view          CPC  ...  ad_49554  android  2019-04-11\n",
              "20 2019-04-12 09:25:06  view          CPC  ...  ad_49554  android  2019-04-12\n",
              "22 2019-04-11 10:08:03  view          CPC  ...  ad_49554  android  2019-04-11\n",
              "23 2019-04-12 11:11:03  view          CPC  ...  ad_49556  android  2019-04-12\n",
              "24 2019-04-16 06:21:55  view          CPC  ...  ad_49554  android  2019-04-16\n",
              "25 2019-04-11 06:31:51  view          CPC  ...  ad_49560  android  2019-04-11\n",
              "27 2019-04-12 09:29:30  view          CPC  ...  ad_49554  android  2019-04-12\n",
              "35 2019-04-13 16:31:45  view          CPC  ...  ad_49556  android  2019-04-13\n",
              "\n",
              "[10 rows x 10 columns]"
            ]
          },
          "metadata": {
            "tags": []
          },
          "execution_count": 208
        }
      ]
    },
    {
      "cell_type": "markdown",
      "metadata": {
        "id": "UdBNQBVOWb6t",
        "colab_type": "text"
      },
      "source": [
        "**All three ads belong to client_47270** under agency_2. Glancing at the last three rows is enough to see it.\n",
        "\n",
        "The first assumption is that the client_47270 started some campaign, where one of the ads became popular. "
      ]
    },
    {
      "cell_type": "markdown",
      "metadata": {
        "id": "w2Xe6hwtnbx6",
        "colab_type": "text"
      },
      "source": [
        "Now we have to understand the properties which made the ad popular. Let's look at the platform, event type, has video, ad cost type properties."
      ]
    },
    {
      "cell_type": "code",
      "metadata": {
        "id": "RvfqPbFw-ats",
        "colab_type": "code",
        "outputId": "55f851fc-3516-41a0-ac77-b3f99555b7fb",
        "colab": {
          "base_uri": "https://localhost:8080/",
          "height": 382
        }
      },
      "source": [
        "sns.catplot(x='event',hue='platform', col='has_video', row = 'ad_cost_type', kind='count', data=ad_123)"
      ],
      "execution_count": 0,
      "outputs": [
        {
          "output_type": "execute_result",
          "data": {
            "text/plain": [
              "<seaborn.axisgrid.FacetGrid at 0x7fd69126e828>"
            ]
          },
          "metadata": {
            "tags": []
          },
          "execution_count": 257
        },
        {
          "output_type": "display_data",
          "data": {
            "image/png": "[encoded data removed]",
            "text/plain": [
              "<Figure size 441.85x360 with 1 Axes>"
            ]
          },
          "metadata": {
            "tags": []
          }
        }
      ]
    },
    {
      "cell_type": "markdown",
      "metadata": {
        "id": "e-1zjfOUoeKa",
        "colab_type": "text"
      },
      "source": [
        "So three ads were all CPC and without videos, were mostly viewen and usually through Android application.\n",
        "\n",
        "This means **client_47270 run three no-video ads through Android app, paying for each click, which led to an increase in the number of ad events**. "
      ]
    },
    {
      "cell_type": "markdown",
      "metadata": {
        "id": "MreHZt4A9syC",
        "colab_type": "text"
      },
      "source": [
        "This also can be interpreted as follows, client_47270 has created the ads which had all ''popular'', i.e. with the most number of events, properties of the dataset. Such as, has_video=0, ad_cost_type=CPC, event=view, platform=android (second row first graph below).\n",
        "Addressing each property made these three targeted ads successful."
      ]
    },
    {
      "cell_type": "code",
      "metadata": {
        "id": "bfaRDGd19vag",
        "colab_type": "code",
        "outputId": "c791dee4-31ec-49f1-8802-230f768d5c32",
        "colab": {
          "base_uri": "https://localhost:8080/",
          "height": 759
        }
      },
      "source": [
        "plt.figure(figsize=(20,20))\n",
        "sns.catplot(x='event',hue='platform', col='has_video', row = 'ad_cost_type', kind='count', data=ad_data)"
      ],
      "execution_count": 0,
      "outputs": [
        {
          "output_type": "execute_result",
          "data": {
            "text/plain": [
              "<seaborn.axisgrid.FacetGrid at 0x7fd69166cd30>"
            ]
          },
          "metadata": {
            "tags": []
          },
          "execution_count": 258
        },
        {
          "output_type": "display_data",
          "data": {
            "text/plain": [
              "<Figure size 1440x1440 with 0 Axes>"
            ]
          },
          "metadata": {
            "tags": []
          }
        },
        {
          "output_type": "display_data",
          "data": {
            "image/png": "[encoded data removed]",
            "text/plain": [
              "<Figure size 803.225x720 with 4 Axes>"
            ]
          },
          "metadata": {
            "tags": []
          }
        }
      ]
    },
    {
      "cell_type": "code",
      "metadata": {
        "id": "9Qe88SqgIFfU",
        "colab_type": "code",
        "colab": {}
      },
      "source": [
        "ad_time = ad_data.set_index('time')"
      ],
      "execution_count": 0,
      "outputs": []
    },
    {
      "cell_type": "markdown",
      "metadata": {
        "id": "0Xy5T8e2Xl0f",
        "colab_type": "text"
      },
      "source": [
        "In order to detect anomaly in the number of events, we run detector for the past day, hour or 5 minutes. The following code calculates the number of events for the past day. For the past hour the condition should be \n",
        "\n",
        "```\n",
        "# ad_time.index.hour == pd.Timestamp.now().hour-1\n",
        "```\n",
        "And for the past 5 min the condition should be \n",
        "\n",
        "```\n",
        "# (pd.Timestamp.now().minute-5):(pd.Timestamp.now().minute)\n",
        "```\n",
        "\n",
        "\n",
        "\n"
      ]
    },
    {
      "cell_type": "code",
      "metadata": {
        "id": "fkUZj7tUTf50",
        "colab_type": "code",
        "colab": {}
      },
      "source": [
        "yesterday_count = ad_time[ad_time.index.day == pd.Timestamp.now().day-1].count()['event']"
      ],
      "execution_count": 0,
      "outputs": []
    },
    {
      "cell_type": "markdown",
      "metadata": {
        "id": "SVx-KzjjfDS1",
        "colab_type": "text"
      },
      "source": [
        "Then find the number of event counts per day. Find mean.\n",
        "For the past hour  and 5 minutes use these respectively\n",
        "```   \n",
        "# 'H'\n",
        "```\n",
        "```\n",
        "# 'M'\n",
        "```\n",
        "\n",
        "\n",
        "\n"
      ]
    },
    {
      "cell_type": "code",
      "metadata": {
        "id": "-uI7sUEXYYwP",
        "colab_type": "code",
        "colab": {}
      },
      "source": [
        "ad_time_resampled = ad_time.resample('D')['event'].count()\n",
        "mean = ad_time_resampled.mean()"
      ],
      "execution_count": 0,
      "outputs": []
    },
    {
      "cell_type": "markdown",
      "metadata": {
        "id": "YyEYQs0cf0ff",
        "colab_type": "text"
      },
      "source": [
        "Set some custom threshold for triggerring notification. Check both cases: threshold case, mean case. Anything greater than either will set a boolean True and thus trigger the notification."
      ]
    },
    {
      "cell_type": "code",
      "metadata": {
        "id": "JpH32H99TxqL",
        "colab_type": "code",
        "outputId": "edd92b29-c24b-4834-8238-0e433234d933",
        "colab": {
          "base_uri": "https://localhost:8080/",
          "height": 34
        }
      },
      "source": [
        "threshold = 4000\n",
        "notify = (yesterday_count >= mean) | (yesterday_count>=threshold) \n",
        "notify"
      ],
      "execution_count": 0,
      "outputs": [
        {
          "output_type": "execute_result",
          "data": {
            "text/plain": [
              "False"
            ]
          },
          "metadata": {
            "tags": []
          },
          "execution_count": 364
        }
      ]
    }
  ]
}