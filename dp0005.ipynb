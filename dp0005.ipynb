{
  "nbformat": 4,
  "nbformat_minor": 0,
  "metadata": {
    "colab": {
      "name": "dp0005.ipynb",
      "version": "0.3.2",
      "provenance": [],
      "collapsed_sections": [],
      "include_colab_link": true
    },
    "kernelspec": {
      "name": "python3",
      "display_name": "Python 3"
    }
  },
  "cells": [
    {
      "cell_type": "markdown",
      "metadata": {
        "id": "view-in-github",
        "colab_type": "text"
      },
      "source": [
        "<a href=\"https://colab.research.google.com/github/secutron/ShowTime/blob/master/dp0005.ipynb\" target=\"_parent\"><img src=\"https://colab.research.google.com/assets/colab-badge.svg\" alt=\"Open In Colab\"/></a>"
      ]
    },
    {
      "cell_type": "markdown",
      "metadata": {
        "id": "afI7l3aI7ijU",
        "colab_type": "text"
      },
      "source": [
        "# 이거슨...\n",
        "\n"
      ]
    },
    {
      "cell_type": "code",
      "metadata": {
        "id": "MzCf8mhGgb3B",
        "colab_type": "code",
        "colab": {
          "base_uri": "https://localhost:8080/",
          "height": 263
        },
        "outputId": "92f96c5a-4e13-4dee-f2ea-043a37337896"
      },
      "source": [
        "# Tensorboard 준비작업\n",
        "\n",
        "LOG_DIR = 'drive/data/tb_logs'\n",
        "\t\n",
        "!wget https://bin.equinox.io/c/4VmDzA7iaHb/ngrok-stable-linux-amd64.zip\n",
        "!unzip ngrok-stable-linux-amd64.zip\n",
        "\t\n",
        "import os\n",
        "if not os.path.exists(LOG_DIR):\n",
        "\tos.makedirs(LOG_DIR)\n",
        "\t  \n",
        "get_ipython().system_raw(\n",
        "\t'tensorboard --logdir {} --host 0.0.0.0 --port 6006 &'\n",
        "\t.format(LOG_DIR))\n",
        "\t\n",
        "get_ipython().system_raw('./ngrok http 6006 &')\n",
        "\t\n",
        "!curl -s http://localhost:4040/api/tunnels | python3 -c \\\n",
        "\t\"import sys, json; print(json.load(sys.stdin)['tunnels'][0]['public_url'])\""
      ],
      "execution_count": 2,
      "outputs": [
        {
          "output_type": "stream",
          "text": [
            "--2019-09-11 01:29:51--  https://bin.equinox.io/c/4VmDzA7iaHb/ngrok-stable-linux-amd64.zip\n",
            "Resolving bin.equinox.io (bin.equinox.io)... 52.22.145.207, 52.3.53.115, 52.201.75.180, ...\n",
            "Connecting to bin.equinox.io (bin.equinox.io)|52.22.145.207|:443... connected.\n",
            "HTTP request sent, awaiting response... 200 OK\n",
            "Length: 13607069 (13M) [application/octet-stream]\n",
            "Saving to: ‘ngrok-stable-linux-amd64.zip’\n",
            "\n",
            "\r          ngrok-sta   0%[                    ]       0  --.-KB/s               \rngrok-stable-linux- 100%[===================>]  12.98M  76.2MB/s    in 0.2s    \n",
            "\n",
            "2019-09-11 01:29:51 (76.2 MB/s) - ‘ngrok-stable-linux-amd64.zip’ saved [13607069/13607069]\n",
            "\n",
            "Archive:  ngrok-stable-linux-amd64.zip\n",
            "  inflating: ngrok                   \n",
            "https://801fbe9a.ngrok.io\n"
          ],
          "name": "stdout"
        }
      ]
    },
    {
      "cell_type": "code",
      "metadata": {
        "id": "g6HVpL8sgnum",
        "colab_type": "code",
        "colab": {
          "base_uri": "https://localhost:8080/",
          "height": 1000
        },
        "outputId": "6948d739-e7c8-4434-de78-1918b92bd149"
      },
      "source": [
        "from __future__ import print_function\n",
        "import keras\n",
        "from keras.datasets import mnist\n",
        "from keras.models import Sequential\n",
        "from keras.layers import Dense, Dropout, Flatten\n",
        "from keras.layers import Conv2D, MaxPooling2D\n",
        "from keras import backend as K\n",
        "from keras.callbacks import TensorBoard\n",
        "\n",
        "batch_size = 128\n",
        "num_classes = 10\n",
        "epochs = 12\n",
        "\t\n",
        "### input image dimensions\n",
        "img_rows, img_cols = 28, 28\n",
        "\t\n",
        "### the data, shuffled and split between train and test sets\n",
        "(x_train, y_train), (x_test, y_test) = mnist.load_data()\n",
        "\t\n",
        "if K.image_data_format() == 'channels_first':\n",
        "\tx_train = x_train.reshape(x_train.shape[0], 1, img_rows, img_cols)\n",
        "\tx_test = x_test.reshape(x_test.shape[0], 1, img_rows, img_cols)\n",
        "\tinput_shape = (1, img_rows, img_cols)\n",
        "else:\n",
        "\tx_train = x_train.reshape(x_train.shape[0], img_rows, img_cols, 1)\n",
        "\tx_test = x_test.reshape(x_test.shape[0], img_rows, img_cols, 1)\n",
        "\tinput_shape = (img_rows, img_cols, 1)\n",
        "\t\n",
        "x_train = x_train.astype('float32')\n",
        "x_test = x_test.astype('float32')\n",
        "x_train /= 255\n",
        "x_test /= 255\n",
        "print('x_train shape:', x_train.shape)\n",
        "print(x_train.shape[0], 'train samples')\n",
        "print(x_test.shape[0], 'test samples')\n",
        "\t\n",
        "### convert class vectors to binary class matrices\n",
        "y_train = keras.utils.to_categorical(y_train, num_classes)\n",
        "y_test = keras.utils.to_categorical(y_test, num_classes)\n",
        "\t\n",
        "model = Sequential()\n",
        "model.add(Conv2D(32, kernel_size=(3, 3),\n",
        "\tactivation='relu',\n",
        "\tinput_shape=input_shape))\n",
        "model.add(Conv2D(64, (3, 3), activation='relu'))\n",
        "model.add(MaxPooling2D(pool_size=(2, 2)))\n",
        "model.add(Dropout(0.25))\n",
        "model.add(Flatten())\n",
        "model.add(Dense(128, activation='relu'))\n",
        "model.add(Dropout(0.5))\n",
        "model.add(Dense(num_classes, activation='softmax'))\n",
        "\t\n",
        "model.compile(loss=keras.losses.categorical_crossentropy,\n",
        "\toptimizer=keras.optimizers.Adadelta(),\n",
        "\tmetrics=['accuracy'])\n",
        "\t\n",
        "\t\n",
        "tbCallBack = TensorBoard(log_dir=LOG_DIR, \n",
        "\thistogram_freq=1,\n",
        "\twrite_graph=True,\n",
        "\twrite_grads=True,\n",
        "\tbatch_size=batch_size,\n",
        "\twrite_images=True)\n",
        "\t\n",
        "model.fit(x_train, y_train,\n",
        "\tbatch_size=batch_size,\n",
        "\tepochs=epochs,\n",
        "\tverbose=1,\n",
        "\tvalidation_data=(x_test, y_test),\n",
        "\tcallbacks=[tbCallBack])\n",
        "score = model.evaluate(x_test, y_test, verbose=0)\n",
        "print('Test loss:', score[0])\n",
        "print('Test accuracy:', score[1])"
      ],
      "execution_count": 3,
      "outputs": [
        {
          "output_type": "stream",
          "text": [
            "Using TensorFlow backend.\n"
          ],
          "name": "stderr"
        },
        {
          "output_type": "stream",
          "text": [
            "Downloading data from https://s3.amazonaws.com/img-datasets/mnist.npz\n",
            "11493376/11490434 [==============================] - 0s 0us/step\n",
            "x_train shape: (60000, 28, 28, 1)\n",
            "60000 train samples\n",
            "10000 test samples\n",
            "WARNING:tensorflow:From /usr/local/lib/python3.6/dist-packages/keras/backend/tensorflow_backend.py:66: The name tf.get_default_graph is deprecated. Please use tf.compat.v1.get_default_graph instead.\n",
            "\n",
            "WARNING:tensorflow:From /usr/local/lib/python3.6/dist-packages/keras/backend/tensorflow_backend.py:541: The name tf.placeholder is deprecated. Please use tf.compat.v1.placeholder instead.\n",
            "\n",
            "WARNING:tensorflow:From /usr/local/lib/python3.6/dist-packages/keras/backend/tensorflow_backend.py:4432: The name tf.random_uniform is deprecated. Please use tf.random.uniform instead.\n",
            "\n",
            "WARNING:tensorflow:From /usr/local/lib/python3.6/dist-packages/keras/backend/tensorflow_backend.py:4267: The name tf.nn.max_pool is deprecated. Please use tf.nn.max_pool2d instead.\n",
            "\n",
            "WARNING:tensorflow:From /usr/local/lib/python3.6/dist-packages/keras/backend/tensorflow_backend.py:148: The name tf.placeholder_with_default is deprecated. Please use tf.compat.v1.placeholder_with_default instead.\n",
            "\n",
            "WARNING:tensorflow:From /usr/local/lib/python3.6/dist-packages/keras/backend/tensorflow_backend.py:3733: calling dropout (from tensorflow.python.ops.nn_ops) with keep_prob is deprecated and will be removed in a future version.\n",
            "Instructions for updating:\n",
            "Please use `rate` instead of `keep_prob`. Rate should be set to `rate = 1 - keep_prob`.\n",
            "WARNING:tensorflow:From /usr/local/lib/python3.6/dist-packages/keras/optimizers.py:793: The name tf.train.Optimizer is deprecated. Please use tf.compat.v1.train.Optimizer instead.\n",
            "\n",
            "WARNING:tensorflow:From /usr/local/lib/python3.6/dist-packages/keras/backend/tensorflow_backend.py:3576: The name tf.log is deprecated. Please use tf.math.log instead.\n",
            "\n",
            "WARNING:tensorflow:From /usr/local/lib/python3.6/dist-packages/tensorflow/python/ops/math_grad.py:1250: add_dispatch_support.<locals>.wrapper (from tensorflow.python.ops.array_ops) is deprecated and will be removed in a future version.\n",
            "Instructions for updating:\n",
            "Use tf.where in 2.0, which has the same broadcast rule as np.where\n",
            "Train on 60000 samples, validate on 10000 samples\n",
            "WARNING:tensorflow:From /usr/local/lib/python3.6/dist-packages/keras/callbacks.py:1068: The name tf.summary.histogram is deprecated. Please use tf.compat.v1.summary.histogram instead.\n",
            "\n",
            "WARNING:tensorflow:From /usr/local/lib/python3.6/dist-packages/keras/callbacks.py:1112: The name tf.summary.image is deprecated. Please use tf.compat.v1.summary.image instead.\n",
            "\n",
            "WARNING:tensorflow:From /usr/local/lib/python3.6/dist-packages/keras/callbacks.py:1122: The name tf.summary.merge_all is deprecated. Please use tf.compat.v1.summary.merge_all instead.\n",
            "\n",
            "WARNING:tensorflow:From /usr/local/lib/python3.6/dist-packages/keras/callbacks.py:1125: The name tf.summary.FileWriter is deprecated. Please use tf.compat.v1.summary.FileWriter instead.\n",
            "\n",
            "Epoch 1/12\n",
            "60000/60000 [==============================] - 156s 3ms/step - loss: 0.2617 - acc: 0.9204 - val_loss: 0.0563 - val_acc: 0.9823\n",
            "Epoch 2/12\n",
            "60000/60000 [==============================] - 155s 3ms/step - loss: 0.0869 - acc: 0.9746 - val_loss: 0.0398 - val_acc: 0.9871\n",
            "Epoch 3/12\n",
            "60000/60000 [==============================] - 156s 3ms/step - loss: 0.0645 - acc: 0.9809 - val_loss: 0.0318 - val_acc: 0.9892\n",
            "Epoch 4/12\n",
            "60000/60000 [==============================] - 156s 3ms/step - loss: 0.0517 - acc: 0.9835 - val_loss: 0.0283 - val_acc: 0.9905\n",
            "Epoch 5/12\n",
            "60000/60000 [==============================] - 155s 3ms/step - loss: 0.0454 - acc: 0.9859 - val_loss: 0.0305 - val_acc: 0.9890\n",
            "Epoch 6/12\n",
            "60000/60000 [==============================] - 154s 3ms/step - loss: 0.0395 - acc: 0.9878 - val_loss: 0.0266 - val_acc: 0.9904\n",
            "Epoch 7/12\n",
            "60000/60000 [==============================] - 154s 3ms/step - loss: 0.0361 - acc: 0.9890 - val_loss: 0.0279 - val_acc: 0.9907\n",
            "Epoch 8/12\n",
            "60000/60000 [==============================] - 154s 3ms/step - loss: 0.0328 - acc: 0.9900 - val_loss: 0.0231 - val_acc: 0.9924\n",
            "Epoch 9/12\n",
            "60000/60000 [==============================] - 154s 3ms/step - loss: 0.0316 - acc: 0.9904 - val_loss: 0.0236 - val_acc: 0.9917\n",
            "Epoch 10/12\n",
            "60000/60000 [==============================] - 155s 3ms/step - loss: 0.0276 - acc: 0.9916 - val_loss: 0.0241 - val_acc: 0.9922\n",
            "Epoch 11/12\n",
            "60000/60000 [==============================] - 154s 3ms/step - loss: 0.0267 - acc: 0.9914 - val_loss: 0.0254 - val_acc: 0.9924\n",
            "Epoch 12/12\n",
            "60000/60000 [==============================] - 154s 3ms/step - loss: 0.0252 - acc: 0.9920 - val_loss: 0.0285 - val_acc: 0.9918\n",
            "Test loss: 0.028471541694755614\n",
            "Test accuracy: 0.9918\n"
          ],
          "name": "stdout"
        }
      ]
    }
  ]
}