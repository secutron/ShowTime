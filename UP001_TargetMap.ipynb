{
  "nbformat": 4,
  "nbformat_minor": 0,
  "metadata": {
    "colab": {
      "name": "UP001-TargetMap.ipynb",
      "provenance": [],
      "collapsed_sections": [],
      "include_colab_link": true
    },
    "kernelspec": {
      "name": "python3",
      "display_name": "Python 3"
    },
    "accelerator": "GPU"
  },
  "cells": [
    {
      "cell_type": "markdown",
      "metadata": {
        "id": "view-in-github",
        "colab_type": "text"
      },
      "source": [
        "<a href=\"https://colab.research.google.com/github/secutron/ShowTime/blob/master/UP001_TargetMap.ipynb\" target=\"_parent\"><img src=\"https://colab.research.google.com/assets/colab-badge.svg\" alt=\"Open In Colab\"/></a>"
      ]
    },
    {
      "cell_type": "code",
      "metadata": {
        "id": "z0p5ssaYPjS3",
        "colab_type": "code",
        "colab": {
          "base_uri": "https://localhost:8080/",
          "height": 372
        },
        "outputId": "a237cb16-5dc0-456d-821f-cda7c74ee139"
      },
      "source": [
        "!nvidia-smi"
      ],
      "execution_count": 1,
      "outputs": [
        {
          "output_type": "stream",
          "text": [
            "Fri Jul  3 01:24:44 2020       \n",
            "+-----------------------------------------------------------------------------+\n",
            "| NVIDIA-SMI 450.36.06    Driver Version: 418.67       CUDA Version: 10.1     |\n",
            "|-------------------------------+----------------------+----------------------+\n",
            "| GPU  Name        Persistence-M| Bus-Id        Disp.A | Volatile Uncorr. ECC |\n",
            "| Fan  Temp  Perf  Pwr:Usage/Cap|         Memory-Usage | GPU-Util  Compute M. |\n",
            "|                               |                      |               MIG M. |\n",
            "|===============================+======================+======================|\n",
            "|   0  Tesla K80           Off  | 00000000:00:04.0 Off |                    0 |\n",
            "| N/A   50C    P8    32W / 149W |      0MiB / 11441MiB |      0%      Default |\n",
            "|                               |                      |                 ERR! |\n",
            "+-------------------------------+----------------------+----------------------+\n",
            "                                                                               \n",
            "+-----------------------------------------------------------------------------+\n",
            "| Processes:                                                                  |\n",
            "|  GPU   GI   CI        PID   Type   Process name                  GPU Memory |\n",
            "|        ID   ID                                                   Usage      |\n",
            "|=============================================================================|\n",
            "|  No running processes found                                                 |\n",
            "+-----------------------------------------------------------------------------+\n"
          ],
          "name": "stdout"
        }
      ]
    },
    {
      "cell_type": "code",
      "metadata": {
        "id": "3nJO88-QPcoB",
        "colab_type": "code",
        "colab": {
          "base_uri": "https://localhost:8080/",
          "height": 230
        },
        "outputId": "dadc8c13-a18b-498b-a844-8b06fed088e9"
      },
      "source": [
        "!apt-get install default-jre\n",
        "!java -version"
      ],
      "execution_count": 2,
      "outputs": [
        {
          "output_type": "stream",
          "text": [
            "Reading package lists... Done\n",
            "Building dependency tree       \n",
            "Reading state information... Done\n",
            "default-jre is already the newest version (2:1.11-68ubuntu1~18.04.1).\n",
            "default-jre set to manually installed.\n",
            "The following package was automatically installed and is no longer required:\n",
            "  libnvidia-common-440\n",
            "Use 'apt autoremove' to remove it.\n",
            "0 upgraded, 0 newly installed, 0 to remove and 33 not upgraded.\n",
            "openjdk version \"11.0.7\" 2020-04-14\n",
            "OpenJDK Runtime Environment (build 11.0.7+10-post-Ubuntu-2ubuntu218.04)\n",
            "OpenJDK 64-Bit Server VM (build 11.0.7+10-post-Ubuntu-2ubuntu218.04, mixed mode, sharing)\n"
          ],
          "name": "stdout"
        }
      ]
    },
    {
      "cell_type": "code",
      "metadata": {
        "id": "ZYMb8MJkPhrp",
        "colab_type": "code",
        "colab": {
          "base_uri": "https://localhost:8080/",
          "height": 354
        },
        "outputId": "dbb1e52e-8eeb-4f87-d778-4bbe4900a376"
      },
      "source": [
        "!pip install h2o\n",
        "\n",
        "import h2o\n",
        "from h2o.automl import H2OAutoML"
      ],
      "execution_count": 3,
      "outputs": [
        {
          "output_type": "stream",
          "text": [
            "Collecting h2o\n",
            "\u001b[?25l  Downloading https://files.pythonhosted.org/packages/ad/5a/8328741dd6b1e9ac9345ec47e1e963d1bba56e0747063d6ce606a2813a55/h2o-3.30.0.6.tar.gz (128.4MB)\n",
            "\u001b[K     |████████████████████████████████| 128.4MB 102kB/s \n",
            "\u001b[?25hRequirement already satisfied: requests in /usr/local/lib/python3.6/dist-packages (from h2o) (2.23.0)\n",
            "Requirement already satisfied: tabulate in /usr/local/lib/python3.6/dist-packages (from h2o) (0.8.7)\n",
            "Requirement already satisfied: future in /usr/local/lib/python3.6/dist-packages (from h2o) (0.16.0)\n",
            "Collecting colorama>=0.3.8\n",
            "  Downloading https://files.pythonhosted.org/packages/c9/dc/45cdef1b4d119eb96316b3117e6d5708a08029992b2fee2c143c7a0a5cc5/colorama-0.4.3-py2.py3-none-any.whl\n",
            "Requirement already satisfied: idna<3,>=2.5 in /usr/local/lib/python3.6/dist-packages (from requests->h2o) (2.9)\n",
            "Requirement already satisfied: certifi>=2017.4.17 in /usr/local/lib/python3.6/dist-packages (from requests->h2o) (2020.6.20)\n",
            "Requirement already satisfied: chardet<4,>=3.0.2 in /usr/local/lib/python3.6/dist-packages (from requests->h2o) (3.0.4)\n",
            "Requirement already satisfied: urllib3!=1.25.0,!=1.25.1,<1.26,>=1.21.1 in /usr/local/lib/python3.6/dist-packages (from requests->h2o) (1.24.3)\n",
            "Building wheels for collected packages: h2o\n",
            "  Building wheel for h2o (setup.py) ... \u001b[?25l\u001b[?25hdone\n",
            "  Created wheel for h2o: filename=h2o-3.30.0.6-py2.py3-none-any.whl size=128412300 sha256=d2de0533153a7771025865386195bef1a6f393ca5036d0b548f5555f9dcbf8b9\n",
            "  Stored in directory: /root/.cache/pip/wheels/de/4c/dd/4813e95c4b5328b4de2e2e1aa56ca66a547f45d11fe47c3c8a\n",
            "Successfully built h2o\n",
            "Installing collected packages: colorama, h2o\n",
            "Successfully installed colorama-0.4.3 h2o-3.30.0.6\n"
          ],
          "name": "stdout"
        }
      ]
    },
    {
      "cell_type": "code",
      "metadata": {
        "id": "e9bxlsmdUbGs",
        "colab_type": "code",
        "colab": {
          "base_uri": "https://localhost:8080/",
          "height": 52
        },
        "outputId": "070cf542-ff1b-442b-9e8b-744335eb0552"
      },
      "source": [
        "import pandas as pd\n",
        "import numpy as np\n",
        "\n",
        "import seaborn as sns\n",
        "import matplotlib.pyplot as plt\n",
        "from sklearn import metrics\n",
        "import time\n",
        "import itertools"
      ],
      "execution_count": 4,
      "outputs": [
        {
          "output_type": "stream",
          "text": [
            "/usr/local/lib/python3.6/dist-packages/statsmodels/tools/_testing.py:19: FutureWarning: pandas.util.testing is deprecated. Use the functions in the public API at pandas.testing instead.\n",
            "  import pandas.util.testing as tm\n"
          ],
          "name": "stderr"
        }
      ]
    },
    {
      "cell_type": "code",
      "metadata": {
        "id": "MTY_sDMMRHnR",
        "colab_type": "code",
        "colab": {
          "base_uri": "https://localhost:8080/",
          "height": 320
        },
        "outputId": "5c5b0952-fb6d-493c-ef3f-21f12497a25b"
      },
      "source": [
        "h2o.init()"
      ],
      "execution_count": 6,
      "outputs": [
        {
          "output_type": "stream",
          "text": [
            "Checking whether there is an H2O instance running at http://localhost:54321 . connected.\n"
          ],
          "name": "stdout"
        },
        {
          "output_type": "display_data",
          "data": {
            "text/html": [
              "<div style=\"overflow:auto\"><table style=\"width:50%\"><tr><td>H2O_cluster_uptime:</td>\n",
              "<td>18 mins 49 secs</td></tr>\n",
              "<tr><td>H2O_cluster_timezone:</td>\n",
              "<td>Etc/UTC</td></tr>\n",
              "<tr><td>H2O_data_parsing_timezone:</td>\n",
              "<td>UTC</td></tr>\n",
              "<tr><td>H2O_cluster_version:</td>\n",
              "<td>3.30.0.6</td></tr>\n",
              "<tr><td>H2O_cluster_version_age:</td>\n",
              "<td>2 days </td></tr>\n",
              "<tr><td>H2O_cluster_name:</td>\n",
              "<td>H2O_from_python_unknownUser_nxcgsl</td></tr>\n",
              "<tr><td>H2O_cluster_total_nodes:</td>\n",
              "<td>1</td></tr>\n",
              "<tr><td>H2O_cluster_free_memory:</td>\n",
              "<td>3.180 Gb</td></tr>\n",
              "<tr><td>H2O_cluster_total_cores:</td>\n",
              "<td>2</td></tr>\n",
              "<tr><td>H2O_cluster_allowed_cores:</td>\n",
              "<td>2</td></tr>\n",
              "<tr><td>H2O_cluster_status:</td>\n",
              "<td>locked, healthy</td></tr>\n",
              "<tr><td>H2O_connection_url:</td>\n",
              "<td>http://localhost:54321</td></tr>\n",
              "<tr><td>H2O_connection_proxy:</td>\n",
              "<td>{\"http\": null, \"https\": null}</td></tr>\n",
              "<tr><td>H2O_internal_security:</td>\n",
              "<td>False</td></tr>\n",
              "<tr><td>H2O_API_Extensions:</td>\n",
              "<td>Amazon S3, XGBoost, Algos, AutoML, Core V3, TargetEncoder, Core V4</td></tr>\n",
              "<tr><td>Python_version:</td>\n",
              "<td>3.6.9 final</td></tr></table></div>"
            ],
            "text/plain": [
              "--------------------------  ------------------------------------------------------------------\n",
              "H2O_cluster_uptime:         18 mins 49 secs\n",
              "H2O_cluster_timezone:       Etc/UTC\n",
              "H2O_data_parsing_timezone:  UTC\n",
              "H2O_cluster_version:        3.30.0.6\n",
              "H2O_cluster_version_age:    2 days\n",
              "H2O_cluster_name:           H2O_from_python_unknownUser_nxcgsl\n",
              "H2O_cluster_total_nodes:    1\n",
              "H2O_cluster_free_memory:    3.180 Gb\n",
              "H2O_cluster_total_cores:    2\n",
              "H2O_cluster_allowed_cores:  2\n",
              "H2O_cluster_status:         locked, healthy\n",
              "H2O_connection_url:         http://localhost:54321\n",
              "H2O_connection_proxy:       {\"http\": null, \"https\": null}\n",
              "H2O_internal_security:      False\n",
              "H2O_API_Extensions:         Amazon S3, XGBoost, Algos, AutoML, Core V3, TargetEncoder, Core V4\n",
              "Python_version:             3.6.9 final\n",
              "--------------------------  ------------------------------------------------------------------"
            ]
          },
          "metadata": {
            "tags": []
          }
        }
      ]
    },
    {
      "cell_type": "code",
      "metadata": {
        "id": "ozj4galdRLG8",
        "colab_type": "code",
        "colab": {
          "base_uri": "https://localhost:8080/",
          "height": 34
        },
        "outputId": "61cf0d1e-19fe-4293-abf2-91329440975b"
      },
      "source": [
        "hdf = h2o.import_file(\"/content/QMS_NVOC_SORT.csv\", destination_frame=\"hdf\")"
      ],
      "execution_count": 14,
      "outputs": [
        {
          "output_type": "stream",
          "text": [
            "Parse progress: |█████████████████████████████████████████████████████████| 100%\n"
          ],
          "name": "stdout"
        }
      ]
    },
    {
      "cell_type": "code",
      "metadata": {
        "id": "MdKkHiHLRWCQ",
        "colab_type": "code",
        "colab": {
          "base_uri": "https://localhost:8080/",
          "height": 408
        },
        "outputId": "b21ad828-8bf2-46ef-b52b-f74872a53015"
      },
      "source": [
        "hdf.describe()"
      ],
      "execution_count": 15,
      "outputs": [
        {
          "output_type": "stream",
          "text": [
            "Rows:2603543\n",
            "Cols:9\n",
            "\n",
            "\n"
          ],
          "name": "stdout"
        },
        {
          "output_type": "display_data",
          "data": {
            "text/html": [
              "<table>\n",
              "<thead>\n",
              "<tr><th>       </th><th>C1                </th><th>a1.ucube_jnr_no                         </th><th>a2.firstlogtime    </th><th>a2.buffer_overflow  </th><th>a2.pts_advanced_error  </th><th>a2.stb_rtp_errcnt  </th><th>a2.no_stream_error  </th><th>a2.not_decoding_error  </th><th>nvoc                 </th></tr>\n",
              "</thead>\n",
              "<tbody>\n",
              "<tr><td>type   </td><td>int               </td><td>enum                                    </td><td>time               </td><td>int                 </td><td>int                    </td><td>int                </td><td>int                 </td><td>int                    </td><td>int                  </td></tr>\n",
              "<tr><td>mins   </td><td>0.0               </td><td>                                        </td><td>1590969600000.0    </td><td>-1.0                </td><td>-1.0                   </td><td>-1.0               </td><td>-1.0                </td><td>-1.0                   </td><td>0.0                  </td></tr>\n",
              "<tr><td>mean   </td><td>1301771.0000000128</td><td>                                        </td><td>1591314899597.5137 </td><td>0.8801183617862282  </td><td>1.4049485643217745     </td><td>16.697359329191052 </td><td>0.1287238198101587  </td><td>-0.017736983794775053  </td><td>0.0009126025573612573</td></tr>\n",
              "<tr><td>maxs   </td><td>2603542.0         </td><td>                                        </td><td>1591660200000.0    </td><td>158862.0            </td><td>158862.0               </td><td>157649.0           </td><td>600.0               </td><td>15.0                   </td><td>1.0                  </td></tr>\n",
              "<tr><td>sigma  </td><td>751578.27028595   </td><td>                                        </td><td>199532485.6800443  </td><td>228.1794923589976   </td><td>340.5286455323046      </td><td>935.8094186664181  </td><td>6.699536131823914   </td><td>0.13610559986275494    </td><td>0.030195530532466708 </td></tr>\n",
              "<tr><td>zeros  </td><td>1                 </td><td>                                        </td><td>0                  </td><td>2552498             </td><td>2552478                </td><td>2481119            </td><td>2551820             </td><td>2556426                </td><td>2601167              </td></tr>\n",
              "<tr><td>missing</td><td>0                 </td><td>0                                       </td><td>0                  </td><td>0                   </td><td>0                      </td><td>0                  </td><td>0                   </td><td>0                      </td><td>0                    </td></tr>\n",
              "<tr><td>0      </td><td>111744.0          </td><td>09C0AD6964595B62D88E9C3797DF66099DE5747C</td><td>2020-06-01 00:00:00</td><td>0.0                 </td><td>0.0                    </td><td>0.0                </td><td>0.0                 </td><td>0.0                    </td><td>0.0                  </td></tr>\n",
              "<tr><td>1      </td><td>111745.0          </td><td>09C0AD6964595B62D88E9C3797DF66099DE5747C</td><td>2020-06-01 00:10:00</td><td>0.0                 </td><td>0.0                    </td><td>0.0                </td><td>0.0                 </td><td>0.0                    </td><td>0.0                  </td></tr>\n",
              "<tr><td>2      </td><td>111746.0          </td><td>09C0AD6964595B62D88E9C3797DF66099DE5747C</td><td>2020-06-01 00:20:00</td><td>0.0                 </td><td>0.0                    </td><td>0.0                </td><td>0.0                 </td><td>0.0                    </td><td>0.0                  </td></tr>\n",
              "<tr><td>3      </td><td>111747.0          </td><td>09C0AD6964595B62D88E9C3797DF66099DE5747C</td><td>2020-06-01 00:30:00</td><td>0.0                 </td><td>0.0                    </td><td>0.0                </td><td>0.0                 </td><td>0.0                    </td><td>0.0                  </td></tr>\n",
              "<tr><td>4      </td><td>111748.0          </td><td>09C0AD6964595B62D88E9C3797DF66099DE5747C</td><td>2020-06-01 00:40:00</td><td>0.0                 </td><td>0.0                    </td><td>0.0                </td><td>0.0                 </td><td>0.0                    </td><td>0.0                  </td></tr>\n",
              "<tr><td>5      </td><td>111749.0          </td><td>09C0AD6964595B62D88E9C3797DF66099DE5747C</td><td>2020-06-01 00:50:00</td><td>0.0                 </td><td>0.0                    </td><td>0.0                </td><td>0.0                 </td><td>0.0                    </td><td>0.0                  </td></tr>\n",
              "<tr><td>6      </td><td>111750.0          </td><td>09C0AD6964595B62D88E9C3797DF66099DE5747C</td><td>2020-06-01 01:00:00</td><td>0.0                 </td><td>0.0                    </td><td>0.0                </td><td>0.0                 </td><td>0.0                    </td><td>0.0                  </td></tr>\n",
              "<tr><td>7      </td><td>111751.0          </td><td>09C0AD6964595B62D88E9C3797DF66099DE5747C</td><td>2020-06-01 01:10:00</td><td>0.0                 </td><td>0.0                    </td><td>0.0                </td><td>0.0                 </td><td>0.0                    </td><td>0.0                  </td></tr>\n",
              "<tr><td>8      </td><td>111752.0          </td><td>09C0AD6964595B62D88E9C3797DF66099DE5747C</td><td>2020-06-01 01:20:00</td><td>0.0                 </td><td>0.0                    </td><td>0.0                </td><td>0.0                 </td><td>0.0                    </td><td>0.0                  </td></tr>\n",
              "<tr><td>9      </td><td>111753.0          </td><td>09C0AD6964595B62D88E9C3797DF66099DE5747C</td><td>2020-06-01 01:30:00</td><td>0.0                 </td><td>0.0                    </td><td>0.0                </td><td>0.0                 </td><td>0.0                    </td><td>0.0                  </td></tr>\n",
              "</tbody>\n",
              "</table>"
            ]
          },
          "metadata": {
            "tags": []
          }
        }
      ]
    },
    {
      "cell_type": "code",
      "metadata": {
        "id": "EnpqAsuGWZ9Q",
        "colab_type": "code",
        "colab": {
          "base_uri": "https://localhost:8080/",
          "height": 71
        },
        "outputId": "0ac14f33-1a8a-49b4-bdb7-8735762e5cfe"
      },
      "source": [
        "hdf_nvoc = hdf.group_by(\"nvoc\").count()\n",
        "hdf_nvoc.get_frame()"
      ],
      "execution_count": 17,
      "outputs": [
        {
          "output_type": "display_data",
          "data": {
            "text/html": [
              "<table>\n",
              "<thead>\n",
              "<tr><th style=\"text-align: right;\">  nvoc</th><th style=\"text-align: right;\">          nrow</th></tr>\n",
              "</thead>\n",
              "<tbody>\n",
              "<tr><td style=\"text-align: right;\">     0</td><td style=\"text-align: right;\">   2.60117e+06</td></tr>\n",
              "<tr><td style=\"text-align: right;\">     1</td><td style=\"text-align: right;\">2376          </td></tr>\n",
              "</tbody>\n",
              "</table>"
            ]
          },
          "metadata": {
            "tags": []
          }
        },
        {
          "output_type": "execute_result",
          "data": {
            "text/plain": [
              ""
            ]
          },
          "metadata": {
            "tags": []
          },
          "execution_count": 17
        }
      ]
    },
    {
      "cell_type": "code",
      "metadata": {
        "id": "xX072i0VWsUK",
        "colab_type": "code",
        "colab": {
          "base_uri": "https://localhost:8080/",
          "height": 105
        },
        "outputId": "a6ce317d-a2e5-4fc0-9d2e-cac517e37737"
      },
      "source": [
        "features = [f for f in hdf.columns if f not in ['C1', 'a1.ucube_jnr_no', 'a2.firstlogtime', 'nvoc']]\n",
        "features"
      ],
      "execution_count": 18,
      "outputs": [
        {
          "output_type": "execute_result",
          "data": {
            "text/plain": [
              "['a2.buffer_overflow',\n",
              " 'a2.pts_advanced_error',\n",
              " 'a2.stb_rtp_errcnt',\n",
              " 'a2.no_stream_error',\n",
              " 'a2.not_decoding_error']"
            ]
          },
          "metadata": {
            "tags": []
          },
          "execution_count": 18
        }
      ]
    },
    {
      "cell_type": "code",
      "metadata": {
        "id": "JFC58xnqXbyI",
        "colab_type": "code",
        "colab": {
          "base_uri": "https://localhost:8080/",
          "height": 282
        },
        "outputId": "6ffcee6b-6a2f-47e4-ab57-9056c87f0713"
      },
      "source": [
        "i = 0\n",
        "t0 = hdf[hdf['nvoc'] == 1].as_data_frame()\n",
        "t1 = hdf[hdf['nvoc'] == 0].as_data_frame()\n",
        "\n",
        "# sns.set_style('whitegrid')\n",
        "plt.figure()\n",
        "fig, ax = plt.subplots(1,5,figsize=(16,24))\n",
        "\n",
        "for feature in features:\n",
        "    i += 1\n",
        "    plt.subplot(6,5,i)\n",
        "    sns.kdeplot(t0[feature], bw=0.5,label=\"NVOC\")\n",
        "    sns.kdeplot(t1[feature], bw=0.5,label=\"Normal\")\n",
        "    plt.xlabel(feature, fontsize=12)\n",
        "    locs, labels = plt.xticks()\n",
        "    plt.tick_params(axis='both', which='major', labelsize=12)\n",
        "plt.show();\n",
        "    "
      ],
      "execution_count": 22,
      "outputs": [
        {
          "output_type": "display_data",
          "data": {
            "text/plain": [
              "<Figure size 432x288 with 0 Axes>"
            ]
          },
          "metadata": {
            "tags": []
          }
        },
        {
          "output_type": "display_data",
          "data": {
            "image/png": "[encoded data removed]",
            "text/plain": [
              "<Figure size 1152x1728 with 5 Axes>"
            ]
          },
          "metadata": {
            "tags": [],
            "needs_background": "light"
          }
        }
      ]
    },
    {
      "cell_type": "markdown",
      "metadata": {
        "id": "q7izX4SSYhIu",
        "colab_type": "text"
      },
      "source": [
        "imblance가 커서 보기 힘들다. 균형을 맞추어서 다시..."
      ]
    },
    {
      "cell_type": "code",
      "metadata": {
        "id": "bzDFpQVUY-sJ",
        "colab_type": "code",
        "colab": {
          "base_uri": "https://localhost:8080/",
          "height": 70
        },
        "outputId": "eaf218fc-fcbf-4112-81c8-ea89eddb1561"
      },
      "source": [
        "hdf_on = hdf[(hdf['nvoc'] > 0)]\n",
        "print(hdf_on.shape)\n",
        "\n",
        "hdf_off = hdf[(hdf['nvoc'] == 0)]\n",
        "print(hdf_off.shape)\n",
        "\n",
        "hdf_off = hdf_off[(hdf_off['a2.buffer_overflow'] > 0) | (hdf_off['a2.pts_advanced_error'] > 0) | (hdf_off['a2.stb_rtp_errcnt'] > 0) | (hdf_off['a2.no_stream_error'] > 0) | (hdf_off['a2.not_decoding_error'] > 0)]\n",
        "hdf_off.shape"
      ],
      "execution_count": 26,
      "outputs": [
        {
          "output_type": "stream",
          "text": [
            "(2376, 9)\n",
            "(2601167, 9)\n"
          ],
          "name": "stdout"
        },
        {
          "output_type": "execute_result",
          "data": {
            "text/plain": [
              "(76442, 9)"
            ]
          },
          "metadata": {
            "tags": []
          },
          "execution_count": 26
        }
      ]
    },
    {
      "cell_type": "code",
      "metadata": {
        "id": "Tf-qQhw_UxRY",
        "colab_type": "code",
        "colab": {
          "base_uri": "https://localhost:8080/",
          "height": 445
        },
        "outputId": "9e3ff90b-a396-4db8-c1b9-afc904b2a62f"
      },
      "source": [
        "hdf = hdf_on.rbind(hdf_off)\n",
        "print(hdf.shape)\n",
        "print(hdf.head())\n",
        "hdf.tail()\n",
        "\n",
        "#셔플 안되었지만... 뭐. 상관없지."
      ],
      "execution_count": 37,
      "outputs": [
        {
          "output_type": "stream",
          "text": [
            "(78818, 9)\n"
          ],
          "name": "stdout"
        },
        {
          "output_type": "display_data",
          "data": {
            "text/html": [
              "<table>\n",
              "<thead>\n",
              "<tr><th style=\"text-align: right;\">              C1</th><th>a1.ucube_jnr_no                         </th><th>a2.firstlogtime    </th><th style=\"text-align: right;\">  a2.buffer_overflow</th><th style=\"text-align: right;\">  a2.pts_advanced_error</th><th style=\"text-align: right;\">  a2.stb_rtp_errcnt</th><th style=\"text-align: right;\">  a2.no_stream_error</th><th style=\"text-align: right;\">  a2.not_decoding_error</th><th style=\"text-align: right;\">  nvoc</th></tr>\n",
              "</thead>\n",
              "<tbody>\n",
              "<tr><td style=\"text-align: right;\">112664          </td><td>09C0AD6964595B62D88E9C3797DF66099DE5747C</td><td>2020-06-07 09:20:00</td><td style=\"text-align: right;\">                   0</td><td style=\"text-align: right;\">                      0</td><td style=\"text-align: right;\">                  0</td><td style=\"text-align: right;\">                   0</td><td style=\"text-align: right;\">                      0</td><td style=\"text-align: right;\">     1</td></tr>\n",
              "<tr><td style=\"text-align: right;\">112665          </td><td>09C0AD6964595B62D88E9C3797DF66099DE5747C</td><td>2020-06-07 09:20:00</td><td style=\"text-align: right;\">                   0</td><td style=\"text-align: right;\">                      0</td><td style=\"text-align: right;\">                  0</td><td style=\"text-align: right;\">                   0</td><td style=\"text-align: right;\">                      0</td><td style=\"text-align: right;\">     1</td></tr>\n",
              "<tr><td style=\"text-align: right;\">112668          </td><td>09C0AD6964595B62D88E9C3797DF66099DE5747C</td><td>2020-06-07 09:50:00</td><td style=\"text-align: right;\">                   0</td><td style=\"text-align: right;\">                      0</td><td style=\"text-align: right;\">                  0</td><td style=\"text-align: right;\">                   0</td><td style=\"text-align: right;\">                      0</td><td style=\"text-align: right;\">     1</td></tr>\n",
              "<tr><td style=\"text-align: right;\">112677          </td><td>09C0AD6964595B62D88E9C3797DF66099DE5747C</td><td>2020-06-07 11:20:00</td><td style=\"text-align: right;\">                   0</td><td style=\"text-align: right;\">                      0</td><td style=\"text-align: right;\">                  0</td><td style=\"text-align: right;\">                   0</td><td style=\"text-align: right;\">                      0</td><td style=\"text-align: right;\">     1</td></tr>\n",
              "<tr><td style=\"text-align: right;\">     1.02294e+06</td><td>64757BE1B9C2803F780262D9979BEADB1EBCD7FF</td><td>2020-06-08 16:10:00</td><td style=\"text-align: right;\">                   0</td><td style=\"text-align: right;\">                      0</td><td style=\"text-align: right;\">                  0</td><td style=\"text-align: right;\">                   0</td><td style=\"text-align: right;\">                      0</td><td style=\"text-align: right;\">     1</td></tr>\n",
              "<tr><td style=\"text-align: right;\">     1.02296e+06</td><td>64757BE1B9C2803F780262D9979BEADB1EBCD7FF</td><td>2020-06-08 19:20:00</td><td style=\"text-align: right;\">                   0</td><td style=\"text-align: right;\">                      0</td><td style=\"text-align: right;\">                  0</td><td style=\"text-align: right;\">                   0</td><td style=\"text-align: right;\">                      0</td><td style=\"text-align: right;\">     1</td></tr>\n",
              "<tr><td style=\"text-align: right;\">     1.02296e+06</td><td>64757BE1B9C2803F780262D9979BEADB1EBCD7FF</td><td>2020-06-08 20:00:00</td><td style=\"text-align: right;\">                   0</td><td style=\"text-align: right;\">                      0</td><td style=\"text-align: right;\">                  0</td><td style=\"text-align: right;\">                   0</td><td style=\"text-align: right;\">                      0</td><td style=\"text-align: right;\">     1</td></tr>\n",
              "<tr><td style=\"text-align: right;\">     1.02296e+06</td><td>64757BE1B9C2803F780262D9979BEADB1EBCD7FF</td><td>2020-06-08 20:00:00</td><td style=\"text-align: right;\">                   0</td><td style=\"text-align: right;\">                      0</td><td style=\"text-align: right;\">                  0</td><td style=\"text-align: right;\">                   0</td><td style=\"text-align: right;\">                      0</td><td style=\"text-align: right;\">     1</td></tr>\n",
              "<tr><td style=\"text-align: right;\">     1.36338e+06</td><td>8622CBC1C8B6E5F2E7164CA22377114E4736FFB1</td><td>2020-06-04 20:00:00</td><td style=\"text-align: right;\">                   0</td><td style=\"text-align: right;\">                      0</td><td style=\"text-align: right;\">                  0</td><td style=\"text-align: right;\">                   0</td><td style=\"text-align: right;\">                      0</td><td style=\"text-align: right;\">     1</td></tr>\n",
              "<tr><td style=\"text-align: right;\">     1.36364e+06</td><td>8622CBC1C8B6E5F2E7164CA22377114E4736FFB1</td><td>2020-06-06 14:30:00</td><td style=\"text-align: right;\">                   0</td><td style=\"text-align: right;\">                      0</td><td style=\"text-align: right;\">                  0</td><td style=\"text-align: right;\">                   0</td><td style=\"text-align: right;\">                      0</td><td style=\"text-align: right;\">     1</td></tr>\n",
              "</tbody>\n",
              "</table>"
            ]
          },
          "metadata": {
            "tags": []
          }
        },
        {
          "output_type": "stream",
          "text": [
            "\n"
          ],
          "name": "stdout"
        },
        {
          "output_type": "display_data",
          "data": {
            "text/html": [
              "<table>\n",
              "<thead>\n",
              "<tr><th style=\"text-align: right;\">         C1</th><th>a1.ucube_jnr_no                         </th><th>a2.firstlogtime    </th><th style=\"text-align: right;\">  a2.buffer_overflow</th><th style=\"text-align: right;\">  a2.pts_advanced_error</th><th style=\"text-align: right;\">  a2.stb_rtp_errcnt</th><th style=\"text-align: right;\">  a2.no_stream_error</th><th style=\"text-align: right;\">  a2.not_decoding_error</th><th style=\"text-align: right;\">  nvoc</th></tr>\n",
              "</thead>\n",
              "<tbody>\n",
              "<tr><td style=\"text-align: right;\">2.57064e+06</td><td>FC5C2BC2DD2F3E3E43146A677D6DD9C253A577F5</td><td>2020-06-04 12:10:00</td><td style=\"text-align: right;\">                   0</td><td style=\"text-align: right;\">                      0</td><td style=\"text-align: right;\">                  0</td><td style=\"text-align: right;\">                  87</td><td style=\"text-align: right;\">                      0</td><td style=\"text-align: right;\">     0</td></tr>\n",
              "<tr><td style=\"text-align: right;\">2.57078e+06</td><td>FC5C2BC2DD2F3E3E43146A677D6DD9C253A577F5</td><td>2020-06-05 11:40:00</td><td style=\"text-align: right;\">                   0</td><td style=\"text-align: right;\">                      0</td><td style=\"text-align: right;\">               3759</td><td style=\"text-align: right;\">                   0</td><td style=\"text-align: right;\">                      0</td><td style=\"text-align: right;\">     0</td></tr>\n",
              "<tr><td style=\"text-align: right;\">2.57078e+06</td><td>FC5C2BC2DD2F3E3E43146A677D6DD9C253A577F5</td><td>2020-06-05 11:50:00</td><td style=\"text-align: right;\">                   0</td><td style=\"text-align: right;\">                      0</td><td style=\"text-align: right;\">                652</td><td style=\"text-align: right;\">                   0</td><td style=\"text-align: right;\">                      0</td><td style=\"text-align: right;\">     0</td></tr>\n",
              "<tr><td style=\"text-align: right;\">2.57093e+06</td><td>FC5C2BC2DD2F3E3E43146A677D6DD9C253A577F5</td><td>2020-06-06 12:00:00</td><td style=\"text-align: right;\">                   0</td><td style=\"text-align: right;\">                      0</td><td style=\"text-align: right;\">                  2</td><td style=\"text-align: right;\">                   0</td><td style=\"text-align: right;\">                      0</td><td style=\"text-align: right;\">     0</td></tr>\n",
              "<tr><td style=\"text-align: right;\">2.57108e+06</td><td>FC5C2BC2DD2F3E3E43146A677D6DD9C253A577F5</td><td>2020-06-07 12:40:00</td><td style=\"text-align: right;\">                   0</td><td style=\"text-align: right;\">                      0</td><td style=\"text-align: right;\">                737</td><td style=\"text-align: right;\">                  10</td><td style=\"text-align: right;\">                      0</td><td style=\"text-align: right;\">     0</td></tr>\n",
              "<tr><td style=\"text-align: right;\">2.5712e+06 </td><td>FC5C2BC2DD2F3E3E43146A677D6DD9C253A577F5</td><td>2020-06-08 09:50:00</td><td style=\"text-align: right;\">                   0</td><td style=\"text-align: right;\">                      0</td><td style=\"text-align: right;\">                  1</td><td style=\"text-align: right;\">                   0</td><td style=\"text-align: right;\">                      0</td><td style=\"text-align: right;\">     0</td></tr>\n",
              "<tr><td style=\"text-align: right;\">2.5712e+06 </td><td>FC5C2BC2DD2F3E3E43146A677D6DD9C253A577F5</td><td>2020-06-08 10:00:00</td><td style=\"text-align: right;\">                   0</td><td style=\"text-align: right;\">                      0</td><td style=\"text-align: right;\">                306</td><td style=\"text-align: right;\">                   1</td><td style=\"text-align: right;\">                      0</td><td style=\"text-align: right;\">     0</td></tr>\n",
              "<tr><td style=\"text-align: right;\">2.57121e+06</td><td>FC5C2BC2DD2F3E3E43146A677D6DD9C253A577F5</td><td>2020-06-08 11:30:00</td><td style=\"text-align: right;\">                   0</td><td style=\"text-align: right;\">                      0</td><td style=\"text-align: right;\">                955</td><td style=\"text-align: right;\">                  55</td><td style=\"text-align: right;\">                      0</td><td style=\"text-align: right;\">     0</td></tr>\n",
              "<tr><td style=\"text-align: right;\">2.57121e+06</td><td>FC5C2BC2DD2F3E3E43146A677D6DD9C253A577F5</td><td>2020-06-08 11:40:00</td><td style=\"text-align: right;\">                   0</td><td style=\"text-align: right;\">                      0</td><td style=\"text-align: right;\">                787</td><td style=\"text-align: right;\">                  10</td><td style=\"text-align: right;\">                      0</td><td style=\"text-align: right;\">     0</td></tr>\n",
              "<tr><td style=\"text-align: right;\">2.58911e+06</td><td>FE812BD1FDB81CFB24624BE9CE96C9472A790D1B</td><td>2020-06-04 18:20:00</td><td style=\"text-align: right;\">                   0</td><td style=\"text-align: right;\">                      0</td><td style=\"text-align: right;\">                  1</td><td style=\"text-align: right;\">                  28</td><td style=\"text-align: right;\">                      0</td><td style=\"text-align: right;\">     0</td></tr>\n",
              "</tbody>\n",
              "</table>"
            ]
          },
          "metadata": {
            "tags": []
          }
        },
        {
          "output_type": "execute_result",
          "data": {
            "text/plain": [
              ""
            ]
          },
          "metadata": {
            "tags": []
          },
          "execution_count": 37
        }
      ]
    },
    {
      "cell_type": "code",
      "metadata": {
        "id": "7zgSa8i-OJfE",
        "colab_type": "code",
        "colab": {
          "base_uri": "https://localhost:8080/",
          "height": 282
        },
        "outputId": "4770f50e-0291-4354-e938-102553982c1c"
      },
      "source": [
        "i = 0\n",
        "t0 = hdf[hdf['nvoc'] == 1].as_data_frame()\n",
        "t1 = hdf[hdf['nvoc'] == 0].as_data_frame()\n",
        "\n",
        "# sns.set_style('whitegrid')\n",
        "plt.figure()\n",
        "fig, ax = plt.subplots(1,5,figsize=(16,24))\n",
        "\n",
        "for feature in features:\n",
        "    i += 1\n",
        "    plt.subplot(6,5,i)\n",
        "    sns.kdeplot(t0[feature], bw=0.5,label=\"NVOC\")\n",
        "    sns.kdeplot(t1[feature], bw=0.5,label=\"Normal\")\n",
        "    plt.xlabel(feature, fontsize=12)\n",
        "    locs, labels = plt.xticks()\n",
        "    plt.tick_params(axis='both', which='major', labelsize=12)\n",
        "plt.show();"
      ],
      "execution_count": 34,
      "outputs": [
        {
          "output_type": "display_data",
          "data": {
            "text/plain": [
              "<Figure size 432x288 with 0 Axes>"
            ]
          },
          "metadata": {
            "tags": []
          }
        },
        {
          "output_type": "display_data",
          "data": {
            "image/png": "[encoded data removed]",
            "text/plain": [
              "<Figure size 1152x1728 with 5 Axes>"
            ]
          },
          "metadata": {
            "tags": [],
            "needs_background": "light"
          }
        }
      ]
    },
    {
      "cell_type": "code",
      "metadata": {
        "id": "lPOKIn8eube4",
        "colab_type": "code",
        "colab": {}
      },
      "source": [
        ""
      ],
      "execution_count": null,
      "outputs": []
    }
  ]
}