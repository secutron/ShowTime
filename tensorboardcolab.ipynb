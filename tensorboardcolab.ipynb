{
  "nbformat": 4,
  "nbformat_minor": 0,
  "metadata": {
    "colab": {
      "name": "tensorboardcolab.ipynb",
      "provenance": [],
      "collapsed_sections": [],
      "toc_visible": true,
      "include_colab_link": true
    },
    "kernelspec": {
      "display_name": "Python 3",
      "language": "python",
      "name": "python3"
    },
    "language_info": {
      "codemirror_mode": {
        "name": "ipython",
        "version": 3
      },
      "file_extension": ".py",
      "mimetype": "text/x-python",
      "name": "python",
      "nbconvert_exporter": "python",
      "pygments_lexer": "ipython3",
      "version": "3.6.5"
    }
  },
  "cells": [
    {
      "cell_type": "markdown",
      "metadata": {
        "id": "view-in-github",
        "colab_type": "text"
      },
      "source": [
        "<a href=\"https://colab.research.google.com/github/secutron/ShowTime/blob/master/tensorboardcolab.ipynb\" target=\"_parent\"><img src=\"https://colab.research.google.com/assets/colab-badge.svg\" alt=\"Open In Colab\"/></a>"
      ]
    },
    {
      "cell_type": "markdown",
      "metadata": {
        "id": "0zOj9bsIAZkb",
        "colab_type": "text"
      },
      "source": [
        "https://colab.research.google.com/github/"
      ]
    },
    {
      "cell_type": "markdown",
      "metadata": {
        "id": "z4db8zYoHGfw",
        "colab_type": "text"
      },
      "source": [
        "# 준비\n"
      ]
    },
    {
      "cell_type": "code",
      "metadata": {
        "colab_type": "code",
        "id": "QPdYCj-3oL9S",
        "outputId": "78099087-49a2-43ff-a6bf-8b205184f396",
        "colab": {
          "base_uri": "https://localhost:8080/",
          "height": 120
        }
      },
      "source": [
        "!pip install tensorboardcolab\n",
        "!tensorboard --logdir ./ --host 0.0.0.0 --port 6006\n",
        "\n",
        "from tensorboardcolab import *\n",
        "\n",
        "import tensorflow as tf\n",
        "import numpy as np\n",
        "import matplotlib.pyplot as plt"
      ],
      "execution_count": 0,
      "outputs": [
        {
          "output_type": "stream",
          "text": [
            "Requirement already satisfied: tensorboardcolab in /usr/local/lib/python3.6/dist-packages (0.0.22)\n",
            "2020-05-07 07:42:24.210585: I tensorflow/stream_executor/platform/default/dso_loader.cc:44] Successfully opened dynamic library libcudart.so.10.1\n",
            "TensorBoard 2.2.1 at http://0.0.0.0:6006/ (Press CTRL+C to quit)\n"
          ],
          "name": "stdout"
        }
      ]
    },
    {
      "cell_type": "code",
      "metadata": {
        "colab_type": "code",
        "id": "MaxluenJpIq6",
        "outputId": "1e5f2196-9d23-4ab7-d7db-38c6a5a389e0",
        "colab": {
          "base_uri": "https://localhost:8080/",
          "height": 71
        }
      },
      "source": [
        "tbc=TensorBoardColab(graph_path='./tmp')"
      ],
      "execution_count": 3,
      "outputs": [
        {
          "output_type": "stream",
          "text": [
            "Wait for 8 seconds...\n",
            "TensorBoard link:\n",
            "http://0c3d9caf.ngrok.io\n"
          ],
          "name": "stdout"
        }
      ]
    },
    {
      "cell_type": "code",
      "metadata": {
        "id": "PD5bFnFaHTd5",
        "colab_type": "code",
        "colab": {}
      },
      "source": [
        ""
      ],
      "execution_count": 0,
      "outputs": []
    },
    {
      "cell_type": "markdown",
      "metadata": {
        "colab_type": "text",
        "id": "VZELgm9OrosL"
      },
      "source": [
        "# Graph 추가\n",
        "\n"
      ]
    },
    {
      "cell_type": "markdown",
      "metadata": {
        "colab_type": "text",
        "id": "YEEFi6Hre4YT"
      },
      "source": [
        "### (1)  event 파일을 저장할 FilteWriter 을 생성합니다. \n",
        "`tf.train.FileWriter` 을 이용해 event 파일을 생성하는 Writer 을 생성합니다. <br>\n",
        "logdir 인자를 통해서 event file 이 저장될 폴더를 지정합니다. 만약 폴더가 없으면 생성합니다. "
      ]
    },
    {
      "cell_type": "code",
      "metadata": {
        "colab_type": "code",
        "id": "PopmhcnJr1uq",
        "colab": {}
      },
      "source": [
        "tbc=tensorboardcolab.TensorBoardColab(graph_path='./tensorboard')\n",
        "writer = tf.summary.FileWriter(logdir='./tensorboard')"
      ],
      "execution_count": 0,
      "outputs": []
    },
    {
      "cell_type": "markdown",
      "metadata": {
        "colab_type": "text",
        "id": "_lZm7xpWxEoR"
      },
      "source": [
        "### (2)  Graph 을  event  File 에 추가합니다 \n",
        "event file 에 graph 을 추가해 시각화 할 수 있습니다. <br>\n",
        "`add_graph(graph=)` 을 이용해서 graph 를 event 파일에 추가 할 수 있습니다 "
      ]
    },
    {
      "cell_type": "code",
      "metadata": {
        "colab_type": "code",
        "id": "p2hZKAGPtY9H",
        "colab": {}
      },
      "source": [
        "tbc=tensorboardcolab.TensorBoardColab(graph_path='./tensorboard')\n",
        "tf.reset_default_graph()\n",
        "a = tf.constant(3)\n",
        "b = tf.constant(5)\n",
        "c = a + b \n",
        "\n",
        "writer = tf.summary.FileWriter(logdir='./tensorboard')\n",
        "writer.add_graph(graph=tf.get_default_graph())"
      ],
      "execution_count": 0,
      "outputs": []
    },
    {
      "cell_type": "markdown",
      "metadata": {
        "colab_type": "text",
        "id": "CUNnxyLRyzoV"
      },
      "source": [
        "### (3)  scalar 을  event  File 에 추가합니다\n",
        "Scalar 을  graph 을 추가해 시각화 할 수 있습니다. <br>\n",
        "또한 값이 어떻게 변하는 지 추적할 수 있습니다.<br>\n",
        "scalar  는 0차원의 값을 의미합니다. "
      ]
    },
    {
      "cell_type": "code",
      "metadata": {
        "colab_type": "code",
        "id": "TVxCOMGe9ASD",
        "colab": {}
      },
      "source": [
        "tf.reset_default_graph()\n",
        "tbc=tensorboardcolab.TensorBoardColab(graph_path='./tensorboard/1')\n",
        "writer = tf.summary.FileWriter(logdir='./tensorboard/1')\n",
        "writer.add_graph(graph=tf.get_default_graph())\n",
        "\n",
        "\n",
        "tf.reset_default_graph()\n",
        "a = tf.Variable(3.)\n",
        "\n",
        "tb_a = tf.summary.scalar(name='a', tensor=a)\n",
        "a_assign = tf.assign_add(ref=a , value=1)\n",
        "\n",
        "\n",
        "merged = tf.summary.merge_all()\n",
        "sess = tf.Session()\n",
        "sess.run(tf.global_variables_initializer())\n",
        "\n",
        "for i in range(1000):\n",
        "    merged_ ,a_ = sess.run([merged,a_assign])\n",
        "    writer.add_summary(merged_, i)\n",
        "writer.flush()"
      ],
      "execution_count": 0,
      "outputs": []
    },
    {
      "cell_type": "code",
      "metadata": {
        "colab_type": "code",
        "id": "QwQk5T8gy98K",
        "colab": {}
      },
      "source": [
        "tf.reset_default_graph()\n",
        "tbc=tensorboardcolab.TensorBoardColab(graph_path='./tensorboard/1')\n",
        "writer = tf.summary.FileWriter(logdir='./tensorboard/1')\n",
        "writer.add_graph(graph=tf.get_default_graph())\n",
        "\n",
        "tf.reset_default_graph()\n",
        "a = tf.Variable(3.)\n",
        "b = tf.Variable(8.)\n",
        "\n",
        "tb_a = tf.summary.scalar(name='a', tensor=a)\n",
        "tb_b = tf.summary.scalar(name='b', tensor=b)\n",
        "a_assign = tf.assign_add(ref=a , value=1)\n",
        "b_assign = tf.assign_sub(ref=b , value=1)\n",
        "\n",
        "merged = tf.summary.merge_all()\n",
        "sess = tf.Session()\n",
        "sess.run(tf.global_variables_initializer())\n",
        "\n",
        "for i in range(1000):\n",
        "    merged_ ,a_ ,b_= sess.run([merged,a_assign, b_assign])\n",
        "    writer.add_summary(merged_, i)\n",
        "writer.flush()"
      ],
      "execution_count": 0,
      "outputs": []
    },
    {
      "cell_type": "code",
      "metadata": {
        "colab_type": "code",
        "id": "rc8ciuNY6vm0",
        "colab": {}
      },
      "source": [
        "output_path = \"/tmp/myTest\"\n",
        "tbc=tensorboardcolab.TensorBoardColab(graph_path=output_path)\n",
        "\n",
        "\n",
        "summary_writer = tf.summary.FileWriter(output_path)\n",
        "\n",
        "for x in range(100):\n",
        "    myVar = 2*x\n",
        "    summary=tf.Summary()\n",
        "    summary.value.add(tag='myVar', simple_value = myVar)\n",
        "    summary_writer.add_summary(summary, x)\n",
        "\n",
        "summary_writer.flush()"
      ],
      "execution_count": 0,
      "outputs": []
    },
    {
      "cell_type": "markdown",
      "metadata": {
        "colab_type": "text",
        "id": "VvixGWmM5WvC"
      },
      "source": [
        "### (4)  histogram 을  event  File 에 추가합니다\n",
        "값이 여러 개 일 때는 histogram 을 통해 시각화 할 수 있습니다.\n"
      ]
    },
    {
      "cell_type": "code",
      "metadata": {
        "colab_type": "code",
        "id": "BC9ymmXL9Xqt",
        "colab": {}
      },
      "source": [
        "tf.reset_default_graph()\n",
        "tbc=tensorboardcolab.TensorBoardColab(graph_path='./tensorboard/1')\n",
        "writer = tf.summary.FileWriter(logdir='./tensorboard/1')\n",
        "\n",
        "\n",
        "a = tf.random_normal(shape=[10000], mean=0.0, stddev=1.0)\n",
        "b = tf.random_normal(shape=[10000], mean=0.0, stddev=0.1)\n",
        "\n",
        "hist_a = tf.summary.histogram(name='a', values=a)\n",
        "hist_b = tf.summary.histogram(name='b', values=b)\n",
        "\n",
        "merged = tf.summary.merge_all()\n",
        "sess = tf.Session()\n",
        "sess.run(tf.global_variables_initializer())\n",
        "\n",
        "merged_ = sess.run(merged)\n",
        "\n",
        "writer.add_graph(graph=tf.get_default_graph())\n",
        "writer.add_summary(merged_, 0)\n",
        "  \n",
        "writer.flush()"
      ],
      "execution_count": 0,
      "outputs": []
    },
    {
      "cell_type": "code",
      "metadata": {
        "colab_type": "code",
        "id": "3aBKlCB4-kTF",
        "colab": {}
      },
      "source": [
        "tf.reset_default_graph()\n",
        "tbc=tensorboardcolab.TensorBoardColab(graph_path='./tensorboard/1')\n",
        "writer = tf.summary.FileWriter(logdir='./tensorboard/1')\n",
        "\n",
        "tf.reset_default_graph()\n",
        "a = tf.random_normal(shape=[10000], mean=0.0, stddev=1.0)\n",
        "b = tf.random_normal(shape=[10000], mean=0.0, stddev=0.1)\n",
        "\n",
        "var_a = tf.Variable(a)\n",
        "var_b = tf.Variable(b)\n",
        "\n",
        "hist_a = tf.summary.histogram(name='a', values=var_a)\n",
        "hist_b = tf.summary.histogram(name='b', values=var_b)\n",
        "\n",
        "assign_a = tf.assign_add(var_a , tf.ones(shape=[10000]))\n",
        "assign_b = tf.assign_add(var_b , tf.ones(shape=[10000]))\n",
        "\n",
        "merged = tf.summary.merge_all()\n",
        "sess = tf.Session()\n",
        "sess.run(tf.global_variables_initializer())\n",
        "\n",
        "writer.add_graph(graph=tf.get_default_graph())\n",
        "\n",
        "for i in range(1000):\n",
        "    merged_, a_, b_ = sess.run([merged, assign_a, assign_b])\n",
        "    writer.add_summary(merged_, i)\n",
        "writer.flush()"
      ],
      "execution_count": 0,
      "outputs": []
    },
    {
      "cell_type": "markdown",
      "metadata": {
        "colab_type": "text",
        "id": "VhE1OUaH5i61"
      },
      "source": [
        "### (5)  Image 을  event  File 에 추가합니다\n",
        "event 파일에 Image 을 추가할 수 있습니다."
      ]
    },
    {
      "cell_type": "code",
      "metadata": {
        "colab_type": "code",
        "id": "7Nm_CluZAF6c",
        "colab": {}
      },
      "source": [
        "from skimage import data\n",
        "image = data.camera()\n",
        "plt.imshow(image, cmap='gray')"
      ],
      "execution_count": 0,
      "outputs": []
    },
    {
      "cell_type": "code",
      "metadata": {
        "colab_type": "code",
        "id": "cSr71dQ7Aa8W",
        "colab": {}
      },
      "source": [
        "tf.reset_default_graph()\n",
        "tbc=tensorboardcolab.TensorBoardColab(graph_path='./tensorboard/1')\n",
        "writer = tf.summary.FileWriter(logdir='./tensorboard/1')\n",
        "writer.add_graph(graph=tf.get_default_graph())\n",
        "\n",
        "\n",
        "img = data.camera()\n",
        "np_img = np.asarray(image)\n",
        "tf_img = tf.Variable(np_img)\n",
        "tf_img = tf.reshape(tf_img, shape=[1,512,512,1])\n",
        "img_summary = tf.summary.image(name='camera', tensor=tf_img)\n",
        "merged = tf.summary.merge_all()\n",
        "\n",
        "sess = tf.Session()\n",
        "sess.run(tf.global_variables_initializer())\n",
        "merged_ = sess.run(merged)\n",
        "writer.add_summary(merged_, 0)\n",
        "  \n",
        "writer.flush()"
      ],
      "execution_count": 0,
      "outputs": []
    },
    {
      "cell_type": "code",
      "metadata": {
        "colab_type": "code",
        "id": "JbVEcxrp_GLJ",
        "colab": {}
      },
      "source": [
        "tf.reset_default_graph()\n",
        "tbc=tensorboardcolab.TensorBoardColab(graph_path='./tensorboard/1')\n",
        "writer = tf.summary.FileWriter(logdir='./tensorboard/1')\n",
        "writer.add_graph(graph=tf.get_default_graph())\n",
        "\n",
        "img = data.camera()\n",
        "np_img = np.asarray(image)\n",
        "tf_img = tf.Variable(np_img,dtype=tf.float32)\n",
        "print(tf_img)\n",
        "assign0 = tf.assign_add(tf_img, tf.ones(shape=[512,512] , dtype=tf.float32))\n",
        "res_img = tf.reshape(tf_img, [1,512,512,1])\n",
        "img_summary = tf.summary.image(name='camera', tensor=res_img)\n",
        "merged = tf.summary.merge_all()\n",
        "\n",
        "sess = tf.Session()\n",
        "sess.run(tf.global_variables_initializer())\n",
        "for i in range(100):\n",
        "    merged_ ,_, res_img_= sess.run([merged, assign0,res_img])\n",
        "    writer.add_summary(merged_, i)\n",
        "\n",
        "writer.flush()"
      ],
      "execution_count": 0,
      "outputs": []
    },
    {
      "cell_type": "markdown",
      "metadata": {
        "colab_type": "text",
        "id": "3LvDnCOehoql"
      },
      "source": [
        "### (6) 여러가지 종류 summay  추가하기\n",
        "여러가지 종류의 summary 파일을 추가해 분석 할 수 있습니다. "
      ]
    },
    {
      "cell_type": "code",
      "metadata": {
        "colab_type": "code",
        "id": "VfYlIJoxh_JG",
        "colab": {}
      },
      "source": [
        "tf.reset_default_graph()\n",
        "tbc=tensorboardcolab.TensorBoardColab(graph_path='./tmp')\n",
        "def variable_summaries(var):\n",
        "    with tf.name_scope('summaries'):\n",
        "        mean = tf.reduce_mean(var)\n",
        "        tf.summary.scalar('mean', mean)\n",
        "    with tf.name_scope('stddev'):\n",
        "        stddev = tf.sqrt(tf.reduce_mean(tf.square(var - mean)))\n",
        "    tf.summary.scalar('stddev', stddev)\n",
        "    tf.summary.scalar('max', tf.reduce_max(var))\n",
        "    tf.summary.scalar('min', tf.reduce_min(var))\n",
        "    tf.summary.histogram('histogram', var)\n",
        "\n",
        "var = tf.random_normal(mean=0.0 , stddev = 1.0, shape=[50,50])\n",
        "var = tf.Variable(var)\n",
        "add_const = tf.fill(tf.shape(tf.zeros_like(var , dtype=tf.float32) ), 0.1)\n",
        "var_assign = tf.assign_add(var, add_const)\n",
        "\n",
        "variable_summaries(var)\n",
        "\n",
        "writer = tf.summary.FileWriter(logdir='./tmp')\n",
        "merged = tf.summary.merge_all()\n",
        "sess = tf.Session()\n",
        "sess.run(tf.global_variables_initializer())\n",
        "merged_ = sess.run(merged)\n",
        "for i in range(1000):\n",
        "    merged_ ,_= sess.run([merged , var_assign])\n",
        "    writer.add_summary(merged_, i)"
      ],
      "execution_count": 0,
      "outputs": []
    },
    {
      "cell_type": "markdown",
      "metadata": {
        "colab_type": "text",
        "id": "OlXzj47NwKyY"
      },
      "source": [
        "# \\[ 3.Tensorboard 의 응용\\]\n",
        "\n",
        "--- \n",
        "\n",
        "---\n",
        "\n",
        ">  여러가지 그래프를 하나의 figure 에 나타낼수 있습니다. \n"
      ]
    },
    {
      "cell_type": "markdown",
      "metadata": {
        "colab_type": "text",
        "id": "lnotZCLexUme"
      },
      "source": [
        "### (1)  여러가지 그래프를 동시에 그리기\n",
        "여러개의 폴더를 생성하고 한단계 상위 폴더를 tensorboard 로 열면 하나의 plot에 여러개의 graph가 그려집니다."
      ]
    },
    {
      "cell_type": "code",
      "metadata": {
        "colab_type": "code",
        "id": "QtgAxYD7xUmf",
        "colab": {}
      },
      "source": [
        "tf.reset_default_graph()\n",
        "tbc=tensorboardcolab.TensorBoardColab(graph_path='./ex_3_1')\n",
        "writer = tf.summary.FileWriter(logdir='./ex_3_1/1')\n",
        "\n",
        "var=tf.Variable(0.)\n",
        "tf.summary.scalar('var', var)\n",
        "input_ = tf.placeholder(shape=[], dtype=tf.float32)\n",
        "\n",
        "# x = y \n",
        "var_assign = tf.assign(var, input_)\n",
        "step = tf.group(var_assign)\n",
        "\n",
        "# merge summaries \n",
        "merged = tf.summary.merge_all()\n",
        "\n",
        "# Session\n",
        "sess = tf.Session()\n",
        "sess.run(tf.global_variables_initializer())\n",
        "\n",
        "# training \n",
        "for i in range(1000):\n",
        "    _, merged_ = sess.run([step, merged], feed_dict={input_:(i/100)})\n",
        "    writer.add_summary(merged_, i)\n",
        "\n",
        "tf.reset_default_graph()\n",
        "# FileWriter \n",
        "writer = tf.summary.FileWriter(logdir='./ex_3_1/2')\n",
        "var=tf.Variable(0.)\n",
        "tf.summary.scalar('var', var)\n",
        "input_ = tf.placeholder(shape=[], dtype=tf.float32)\n",
        "\n",
        "# x = y \n",
        "var_assign = tf.assign(var, input_**2)\n",
        "step = tf.group(var_assign)\n",
        "\n",
        "# merge summaries \n",
        "merged = tf.summary.merge_all()\n",
        "\n",
        "# Session\n",
        "sess = tf.Session()\n",
        "sess.run(tf.global_variables_initializer())\n",
        "\n",
        "for i in range(1000):\n",
        "    _, merged_ = sess.run([step, merged], feed_dict={input_:(i/100.)})\n",
        "    writer.add_summary(merged_, i)"
      ],
      "execution_count": 0,
      "outputs": []
    },
    {
      "cell_type": "markdown",
      "metadata": {
        "colab_type": "text",
        "id": "cm7KGzxXxXBr"
      },
      "source": [
        "### (2) name_scope 을 이용해 그래프 간단화 하기 \n",
        "name scope 을 이용하면 tensorboard 의 복잡한 그래프를 간단히 만들 수 있습니다. "
      ]
    },
    {
      "cell_type": "code",
      "metadata": {
        "colab_type": "code",
        "id": "datBDudNxXBs",
        "colab": {}
      },
      "source": [
        "tf.reset_default_graph()\n",
        "tbc=tensorboardcolab.TensorBoardColab(graph_path='./ex_4_1')\n",
        "writer = tf.summary.FileWriter(logdir='./ex_4_1/1')\n",
        "\n",
        "with tf.name_scope(name='sum'):\n",
        "    a = tf.Variable(0)\n",
        "    b = tf.Variable(3)\n",
        "    c = tf.add(a,b)\n",
        "\n",
        "writer.add_graph(tf.get_default_graph())\n",
        "\n",
        "# merge summaries \n",
        "merged = tf.summary.merge_all()  \n",
        "\n",
        "# Session\n",
        "sess = tf.Session()\n",
        "sess.run(tf.global_variables_initializer())"
      ],
      "execution_count": 0,
      "outputs": []
    },
    {
      "cell_type": "markdown",
      "metadata": {
        "colab_type": "text",
        "id": "qTQdDUqFmK9l"
      },
      "source": [
        "#  \n",
        "\n",
        "---\n",
        "\n",
        "    Copyright(c) 2019 by Public AI. All rights reserved.\n",
        "    Writen by PAI, SangJae Kang ( rocketgrowthsj@publicai.co.kr )  last updated on 2019/03/07\n",
        "\n",
        "---"
      ]
    }
  ]
}