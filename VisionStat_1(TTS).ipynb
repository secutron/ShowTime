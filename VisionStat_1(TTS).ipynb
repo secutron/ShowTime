{
  "nbformat": 4,
  "nbformat_minor": 0,
  "metadata": {
    "colab": {
      "name": "VisionStat_1(TTS).ipynb",
      "provenance": [],
      "authorship_tag": "ABX9TyOvhQiba0j1ZWxtcuwcj7Uj",
      "include_colab_link": true
    },
    "kernelspec": {
      "name": "python3",
      "display_name": "Python 3"
    }
  },
  "cells": [
    {
      "cell_type": "markdown",
      "metadata": {
        "id": "view-in-github",
        "colab_type": "text"
      },
      "source": [
        "<a href=\"https://colab.research.google.com/github/secutron/ShowTime/blob/master/VisionStat_1(TTS).ipynb\" target=\"_parent\"><img src=\"https://colab.research.google.com/assets/colab-badge.svg\" alt=\"Open In Colab\"/></a>"
      ]
    },
    {
      "cell_type": "code",
      "metadata": {
        "id": "RsCkSXDT1sdI",
        "colab_type": "code",
        "colab": {}
      },
      "source": [
        "\n",
        "from gtts import gTTS\n",
        "\n",
        "import os\n",
        "\n",
        "fh = open(\"VS.txt\", \"r\", encoding='utf-8')\n",
        "myText = fh.read().replace(\"\\n\", \" \")\n",
        "\n",
        "language = 'ko'\n",
        "\n",
        "output = gTTS(text=myText, lang=language, slow=False)\n",
        "\n",
        "output.save(\"output.mp3\")\n",
        "fh.close()\n",
        "\n",
        "os.system(\"start output.mp3\")\n"
      ],
      "execution_count": 0,
      "outputs": []
    }
  ]
}