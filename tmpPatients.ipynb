{
  "nbformat": 4,
  "nbformat_minor": 0,
  "metadata": {
    "kernelspec": {
      "display_name": "Python 3",
      "language": "python",
      "name": "python3"
    },
    "language_info": {
      "codemirror_mode": {
        "name": "ipython",
        "version": 3
      },
      "file_extension": ".py",
      "mimetype": "text/x-python",
      "name": "python",
      "nbconvert_exporter": "python",
      "pygments_lexer": "ipython3",
      "version": "3.7.7"
    },
    "colab": {
      "name": "tmpPatients.ipynb",
      "provenance": [],
      "collapsed_sections": [],
      "include_colab_link": true
    },
    "accelerator": "GPU"
  },
  "cells": [
    {
      "cell_type": "markdown",
      "metadata": {
        "id": "view-in-github",
        "colab_type": "text"
      },
      "source": [
        "<a href=\"https://colab.research.google.com/github/secutron/ShowTime/blob/master/tmpPatients.ipynb\" target=\"_parent\"><img src=\"https://colab.research.google.com/assets/colab-badge.svg\" alt=\"Open In Colab\"/></a>"
      ]
    },
    {
      "cell_type": "code",
      "metadata": {
        "id": "zh05iRg1pvCw",
        "colab_type": "code",
        "colab": {
          "base_uri": "https://localhost:8080/",
          "height": 357
        },
        "outputId": "976423d2-64d0-4879-8837-3a127a8d2909"
      },
      "source": [
        "!nvidia-smi"
      ],
      "execution_count": 1,
      "outputs": [
        {
          "output_type": "stream",
          "text": [
            "Thu Jun 18 05:49:07 2020       \n",
            "+-----------------------------------------------------------------------------+\n",
            "| NVIDIA-SMI 450.36.06    Driver Version: 418.67       CUDA Version: 10.1     |\n",
            "|-------------------------------+----------------------+----------------------+\n",
            "| GPU  Name        Persistence-M| Bus-Id        Disp.A | Volatile Uncorr. ECC |\n",
            "| Fan  Temp  Perf  Pwr:Usage/Cap|         Memory-Usage | GPU-Util  Compute M. |\n",
            "|                               |                      |               MIG M. |\n",
            "|===============================+======================+======================|\n",
            "|   0  Tesla K80           Off  | 00000000:00:04.0 Off |                    0 |\n",
            "| N/A   73C    P8    37W / 149W |      0MiB / 11441MiB |      0%      Default |\n",
            "|                               |                      |                 ERR! |\n",
            "+-------------------------------+----------------------+----------------------+\n",
            "                                                                               \n",
            "+-----------------------------------------------------------------------------+\n",
            "| Processes:                                                                  |\n",
            "|  GPU   GI   CI        PID   Type   Process name                  GPU Memory |\n",
            "|        ID   ID                                                   Usage      |\n",
            "|=============================================================================|\n",
            "|  No running processes found                                                 |\n",
            "+-----------------------------------------------------------------------------+\n"
          ],
          "name": "stdout"
        }
      ]
    },
    {
      "cell_type": "code",
      "metadata": {
        "id": "ZETzO0ZQMiNN",
        "colab_type": "code",
        "colab": {
          "base_uri": "https://localhost:8080/",
          "height": 544
        },
        "outputId": "23ca5ccd-f952-4af3-d1e8-87c968a35398"
      },
      "source": [
        "!apt-get install default-jre\n",
        "!java -version\n",
        "\n",
        "!pip install h2o"
      ],
      "execution_count": 2,
      "outputs": [
        {
          "output_type": "stream",
          "text": [
            "Reading package lists... Done\n",
            "Building dependency tree       \n",
            "Reading state information... Done\n",
            "default-jre is already the newest version (2:1.11-68ubuntu1~18.04.1).\n",
            "default-jre set to manually installed.\n",
            "The following package was automatically installed and is no longer required:\n",
            "  libnvidia-common-440\n",
            "Use 'apt autoremove' to remove it.\n",
            "0 upgraded, 0 newly installed, 0 to remove and 43 not upgraded.\n",
            "openjdk version \"11.0.7\" 2020-04-14\n",
            "OpenJDK Runtime Environment (build 11.0.7+10-post-Ubuntu-2ubuntu218.04)\n",
            "OpenJDK 64-Bit Server VM (build 11.0.7+10-post-Ubuntu-2ubuntu218.04, mixed mode, sharing)\n",
            "Collecting h2o\n",
            "\u001b[?25l  Downloading https://files.pythonhosted.org/packages/25/b0/5a6fbc343043ab6d6062114991fa515b7a408fc1f5339e1c1601e5f3e46e/h2o-3.30.0.4.tar.gz (128.3MB)\n",
            "\u001b[K     |████████████████████████████████| 128.3MB 93kB/s \n",
            "\u001b[?25hRequirement already satisfied: requests in /usr/local/lib/python3.6/dist-packages (from h2o) (2.23.0)\n",
            "Requirement already satisfied: tabulate in /usr/local/lib/python3.6/dist-packages (from h2o) (0.8.7)\n",
            "Requirement already satisfied: future in /usr/local/lib/python3.6/dist-packages (from h2o) (0.16.0)\n",
            "Collecting colorama>=0.3.8\n",
            "  Downloading https://files.pythonhosted.org/packages/c9/dc/45cdef1b4d119eb96316b3117e6d5708a08029992b2fee2c143c7a0a5cc5/colorama-0.4.3-py2.py3-none-any.whl\n",
            "Requirement already satisfied: certifi>=2017.4.17 in /usr/local/lib/python3.6/dist-packages (from requests->h2o) (2020.4.5.2)\n",
            "Requirement already satisfied: urllib3!=1.25.0,!=1.25.1,<1.26,>=1.21.1 in /usr/local/lib/python3.6/dist-packages (from requests->h2o) (1.24.3)\n",
            "Requirement already satisfied: chardet<4,>=3.0.2 in /usr/local/lib/python3.6/dist-packages (from requests->h2o) (3.0.4)\n",
            "Requirement already satisfied: idna<3,>=2.5 in /usr/local/lib/python3.6/dist-packages (from requests->h2o) (2.9)\n",
            "Building wheels for collected packages: h2o\n",
            "  Building wheel for h2o (setup.py) ... \u001b[?25l\u001b[?25hdone\n",
            "  Created wheel for h2o: filename=h2o-3.30.0.4-py2.py3-none-any.whl size=128397038 sha256=43b55b2a21f6b1cb37a30a7c415d58901ce92f9fd433ac7081845330e47947eb\n",
            "  Stored in directory: /root/.cache/pip/wheels/ad/bd/cc/0a8c7dffc4772df0bbfae4c1c7a9d64525fcd3ada9694dd8c3\n",
            "Successfully built h2o\n",
            "Installing collected packages: colorama, h2o\n",
            "Successfully installed colorama-0.4.3 h2o-3.30.0.4\n"
          ],
          "name": "stdout"
        }
      ]
    },
    {
      "cell_type": "code",
      "metadata": {
        "id": "o-RFSX2bpHEQ",
        "colab_type": "code",
        "colab": {
          "base_uri": "https://localhost:8080/",
          "height": 71
        },
        "outputId": "23fc20fd-2b8e-4dbe-96cb-d313177d724d"
      },
      "source": [
        "import pandas as pd\n",
        "import h2o\n",
        "from h2o.automl import H2OAutoML\n",
        "import matplotlib.pyplot as plt\n",
        "import seaborn as sns\n",
        "import numpy as np\n",
        "import warnings\n",
        "warnings.filterwarnings(\"ignore\")"
      ],
      "execution_count": 3,
      "outputs": [
        {
          "output_type": "stream",
          "text": [
            "/usr/local/lib/python3.6/dist-packages/statsmodels/tools/_testing.py:19: FutureWarning: pandas.util.testing is deprecated. Use the functions in the public API at pandas.testing instead.\n",
            "  import pandas.util.testing as tm\n"
          ],
          "name": "stderr"
        }
      ]
    },
    {
      "cell_type": "code",
      "metadata": {
        "id": "21oznSyfM14r",
        "colab_type": "code",
        "colab": {
          "base_uri": "https://localhost:8080/",
          "height": 528
        },
        "outputId": "2ce018b4-8de8-42b2-e8bd-5e9f9b327eac"
      },
      "source": [
        "h2o.init()"
      ],
      "execution_count": 4,
      "outputs": [
        {
          "output_type": "stream",
          "text": [
            "Checking whether there is an H2O instance running at http://localhost:54321 ..... not found.\n",
            "Attempting to start a local H2O server...\n",
            "  Java Version: openjdk version \"11.0.7\" 2020-04-14; OpenJDK Runtime Environment (build 11.0.7+10-post-Ubuntu-2ubuntu218.04); OpenJDK 64-Bit Server VM (build 11.0.7+10-post-Ubuntu-2ubuntu218.04, mixed mode, sharing)\n",
            "  Starting server from /usr/local/lib/python3.6/dist-packages/h2o/backend/bin/h2o.jar\n",
            "  Ice root: /tmp/tmpfpxim11a\n",
            "  JVM stdout: /tmp/tmpfpxim11a/h2o_unknownUser_started_from_python.out\n",
            "  JVM stderr: /tmp/tmpfpxim11a/h2o_unknownUser_started_from_python.err\n",
            "  Server is running at http://127.0.0.1:54321\n",
            "Connecting to H2O server at http://127.0.0.1:54321 ... successful.\n"
          ],
          "name": "stdout"
        },
        {
          "output_type": "display_data",
          "data": {
            "text/html": [
              "<div style=\"overflow:auto\"><table style=\"width:50%\"><tr><td>H2O_cluster_uptime:</td>\n",
              "<td>02 secs</td></tr>\n",
              "<tr><td>H2O_cluster_timezone:</td>\n",
              "<td>Etc/UTC</td></tr>\n",
              "<tr><td>H2O_data_parsing_timezone:</td>\n",
              "<td>UTC</td></tr>\n",
              "<tr><td>H2O_cluster_version:</td>\n",
              "<td>3.30.0.4</td></tr>\n",
              "<tr><td>H2O_cluster_version_age:</td>\n",
              "<td>16 days </td></tr>\n",
              "<tr><td>H2O_cluster_name:</td>\n",
              "<td>H2O_from_python_unknownUser_4bzzcl</td></tr>\n",
              "<tr><td>H2O_cluster_total_nodes:</td>\n",
              "<td>1</td></tr>\n",
              "<tr><td>H2O_cluster_free_memory:</td>\n",
              "<td>3.180 Gb</td></tr>\n",
              "<tr><td>H2O_cluster_total_cores:</td>\n",
              "<td>2</td></tr>\n",
              "<tr><td>H2O_cluster_allowed_cores:</td>\n",
              "<td>2</td></tr>\n",
              "<tr><td>H2O_cluster_status:</td>\n",
              "<td>accepting new members, healthy</td></tr>\n",
              "<tr><td>H2O_connection_url:</td>\n",
              "<td>http://127.0.0.1:54321</td></tr>\n",
              "<tr><td>H2O_connection_proxy:</td>\n",
              "<td>{\"http\": null, \"https\": null}</td></tr>\n",
              "<tr><td>H2O_internal_security:</td>\n",
              "<td>False</td></tr>\n",
              "<tr><td>H2O_API_Extensions:</td>\n",
              "<td>Amazon S3, XGBoost, Algos, AutoML, Core V3, TargetEncoder, Core V4</td></tr>\n",
              "<tr><td>Python_version:</td>\n",
              "<td>3.6.9 final</td></tr></table></div>"
            ],
            "text/plain": [
              "--------------------------  ------------------------------------------------------------------\n",
              "H2O_cluster_uptime:         02 secs\n",
              "H2O_cluster_timezone:       Etc/UTC\n",
              "H2O_data_parsing_timezone:  UTC\n",
              "H2O_cluster_version:        3.30.0.4\n",
              "H2O_cluster_version_age:    16 days\n",
              "H2O_cluster_name:           H2O_from_python_unknownUser_4bzzcl\n",
              "H2O_cluster_total_nodes:    1\n",
              "H2O_cluster_free_memory:    3.180 Gb\n",
              "H2O_cluster_total_cores:    2\n",
              "H2O_cluster_allowed_cores:  2\n",
              "H2O_cluster_status:         accepting new members, healthy\n",
              "H2O_connection_url:         http://127.0.0.1:54321\n",
              "H2O_connection_proxy:       {\"http\": null, \"https\": null}\n",
              "H2O_internal_security:      False\n",
              "H2O_API_Extensions:         Amazon S3, XGBoost, Algos, AutoML, Core V3, TargetEncoder, Core V4\n",
              "Python_version:             3.6.9 final\n",
              "--------------------------  ------------------------------------------------------------------"
            ]
          },
          "metadata": {
            "tags": []
          }
        }
      ]
    },
    {
      "cell_type": "code",
      "metadata": {
        "id": "j-hh1yRQpHE0",
        "colab_type": "code",
        "colab": {
          "base_uri": "https://localhost:8080/",
          "height": 34
        },
        "outputId": "cdc043f2-6bc4-4181-c9f5-1f8642d3d23a"
      },
      "source": [
        "data = h2o.import_file('column_2C_weka.csv')"
      ],
      "execution_count": 6,
      "outputs": [
        {
          "output_type": "stream",
          "text": [
            "Parse progress: |█████████████████████████████████████████████████████████| 100%\n"
          ],
          "name": "stdout"
        }
      ]
    },
    {
      "cell_type": "code",
      "metadata": {
        "id": "oaPenWJhpHFA",
        "colab_type": "code",
        "colab": {
          "base_uri": "https://localhost:8080/",
          "height": 250
        },
        "outputId": "d8fb0fc9-8b66-462b-ec14-952b150bd78d"
      },
      "source": [
        "data.head()"
      ],
      "execution_count": 8,
      "outputs": [
        {
          "output_type": "display_data",
          "data": {
            "text/html": [
              "<table>\n",
              "<thead>\n",
              "<tr><th style=\"text-align: right;\">  pelvic_incidence</th><th style=\"text-align: right;\">  pelvic_tilt numeric</th><th style=\"text-align: right;\">  lumbar_lordosis_angle</th><th style=\"text-align: right;\">  sacral_slope</th><th style=\"text-align: right;\">  pelvic_radius</th><th style=\"text-align: right;\">  degree_spondylolisthesis</th><th>class   </th></tr>\n",
              "</thead>\n",
              "<tbody>\n",
              "<tr><td style=\"text-align: right;\">           63.0278</td><td style=\"text-align: right;\">             22.5526 </td><td style=\"text-align: right;\">                39.6091</td><td style=\"text-align: right;\">       40.4752</td><td style=\"text-align: right;\">        98.6729</td><td style=\"text-align: right;\">                 -0.2544  </td><td>Abnormal</td></tr>\n",
              "<tr><td style=\"text-align: right;\">           39.057 </td><td style=\"text-align: right;\">             10.061  </td><td style=\"text-align: right;\">                25.0154</td><td style=\"text-align: right;\">       28.996 </td><td style=\"text-align: right;\">       114.405 </td><td style=\"text-align: right;\">                  4.56426 </td><td>Abnormal</td></tr>\n",
              "<tr><td style=\"text-align: right;\">           68.832 </td><td style=\"text-align: right;\">             22.2185 </td><td style=\"text-align: right;\">                50.0922</td><td style=\"text-align: right;\">       46.6135</td><td style=\"text-align: right;\">       105.985 </td><td style=\"text-align: right;\">                 -3.53032 </td><td>Abnormal</td></tr>\n",
              "<tr><td style=\"text-align: right;\">           69.297 </td><td style=\"text-align: right;\">             24.6529 </td><td style=\"text-align: right;\">                44.3112</td><td style=\"text-align: right;\">       44.6441</td><td style=\"text-align: right;\">       101.868 </td><td style=\"text-align: right;\">                 11.2115  </td><td>Abnormal</td></tr>\n",
              "<tr><td style=\"text-align: right;\">           49.7129</td><td style=\"text-align: right;\">              9.65207</td><td style=\"text-align: right;\">                28.3174</td><td style=\"text-align: right;\">       40.0608</td><td style=\"text-align: right;\">       108.169 </td><td style=\"text-align: right;\">                  7.9185  </td><td>Abnormal</td></tr>\n",
              "<tr><td style=\"text-align: right;\">           40.2502</td><td style=\"text-align: right;\">             13.9219 </td><td style=\"text-align: right;\">                25.1249</td><td style=\"text-align: right;\">       26.3283</td><td style=\"text-align: right;\">       130.328 </td><td style=\"text-align: right;\">                  2.23065 </td><td>Abnormal</td></tr>\n",
              "<tr><td style=\"text-align: right;\">           53.4329</td><td style=\"text-align: right;\">             15.8643 </td><td style=\"text-align: right;\">                37.1659</td><td style=\"text-align: right;\">       37.5686</td><td style=\"text-align: right;\">       120.568 </td><td style=\"text-align: right;\">                  5.98855 </td><td>Abnormal</td></tr>\n",
              "<tr><td style=\"text-align: right;\">           45.3668</td><td style=\"text-align: right;\">             10.7556 </td><td style=\"text-align: right;\">                29.0383</td><td style=\"text-align: right;\">       34.6111</td><td style=\"text-align: right;\">       117.27  </td><td style=\"text-align: right;\">                -10.6759  </td><td>Abnormal</td></tr>\n",
              "<tr><td style=\"text-align: right;\">           43.7902</td><td style=\"text-align: right;\">             13.5338 </td><td style=\"text-align: right;\">                42.6908</td><td style=\"text-align: right;\">       30.2564</td><td style=\"text-align: right;\">       125.003 </td><td style=\"text-align: right;\">                 13.289   </td><td>Abnormal</td></tr>\n",
              "<tr><td style=\"text-align: right;\">           36.6864</td><td style=\"text-align: right;\">              5.01088</td><td style=\"text-align: right;\">                41.9488</td><td style=\"text-align: right;\">       31.6755</td><td style=\"text-align: right;\">        84.2414</td><td style=\"text-align: right;\">                  0.664437</td><td>Abnormal</td></tr>\n",
              "</tbody>\n",
              "</table>"
            ]
          },
          "metadata": {
            "tags": []
          }
        },
        {
          "output_type": "execute_result",
          "data": {
            "text/plain": [
              ""
            ]
          },
          "metadata": {
            "tags": []
          },
          "execution_count": 8
        }
      ]
    },
    {
      "cell_type": "code",
      "metadata": {
        "id": "EQoz8aQTpHFP",
        "colab_type": "code",
        "colab": {
          "base_uri": "https://localhost:8080/",
          "height": 136
        },
        "outputId": "1e7fcbc6-aef5-4150-c20b-a31cabfe090d"
      },
      "source": [
        "data.types"
      ],
      "execution_count": 9,
      "outputs": [
        {
          "output_type": "execute_result",
          "data": {
            "text/plain": [
              "{'class': 'enum',\n",
              " 'degree_spondylolisthesis': 'real',\n",
              " 'lumbar_lordosis_angle': 'real',\n",
              " 'pelvic_incidence': 'real',\n",
              " 'pelvic_radius': 'real',\n",
              " 'pelvic_tilt numeric': 'real',\n",
              " 'sacral_slope': 'real'}"
            ]
          },
          "metadata": {
            "tags": []
          },
          "execution_count": 9
        }
      ]
    },
    {
      "cell_type": "code",
      "metadata": {
        "id": "-tFOX9XypHFZ",
        "colab_type": "code",
        "colab": {}
      },
      "source": [
        "testeo.drop(columns=('id'),inplace=True)"
      ],
      "execution_count": null,
      "outputs": []
    },
    {
      "cell_type": "code",
      "metadata": {
        "id": "4Nif1UyKpHFg",
        "colab_type": "code",
        "colab": {}
      },
      "source": [
        "sns.heatmap(entrenamiento.corr())"
      ],
      "execution_count": null,
      "outputs": []
    },
    {
      "cell_type": "code",
      "metadata": {
        "id": "a7YcdNMMpHFq",
        "colab_type": "code",
        "colab": {}
      },
      "source": [
        "entrenamiento.boxplot(column=['Radiation'])"
      ],
      "execution_count": null,
      "outputs": []
    },
    {
      "cell_type": "code",
      "metadata": {
        "id": "WY0U8vIHpHFx",
        "colab_type": "code",
        "colab": {}
      },
      "source": [
        "q1=np.percentile(entrenamiento.Radiation, 25)\n",
        "q3=np.percentile(entrenamiento.Radiation, 75)"
      ],
      "execution_count": null,
      "outputs": []
    },
    {
      "cell_type": "code",
      "metadata": {
        "id": "3Rf07UAMpHF7",
        "colab_type": "code",
        "colab": {}
      },
      "source": [
        "iqr=q3-q1\n",
        "\n",
        "upper=q3+3*iqr\n",
        "lower=q1-3*iqr"
      ],
      "execution_count": null,
      "outputs": []
    },
    {
      "cell_type": "code",
      "metadata": {
        "id": "7vYueW53pHGC",
        "colab_type": "code",
        "colab": {}
      },
      "source": [
        "\n",
        "len(entrenamiento[entrenamiento.Radiation > upper])"
      ],
      "execution_count": null,
      "outputs": []
    },
    {
      "cell_type": "code",
      "metadata": {
        "id": "q0dbnl2mpHGR",
        "colab_type": "code",
        "colab": {}
      },
      "source": [
        "entrenamiento=entrenamiento[entrenamiento.Radiation < upper]\n",
        "entrenamiento.head()"
      ],
      "execution_count": null,
      "outputs": []
    },
    {
      "cell_type": "code",
      "metadata": {
        "id": "xpbOJ9VgpHGi",
        "colab_type": "code",
        "colab": {}
      },
      "source": [
        "entrenamiento.info()"
      ],
      "execution_count": null,
      "outputs": []
    },
    {
      "cell_type": "code",
      "metadata": {
        "id": "fAnWWWKlpHGw",
        "colab_type": "code",
        "colab": {}
      },
      "source": [
        "entrenamiento['Data']=pd.to_datetime(entrenamiento['Data'])\n",
        "\n",
        "testeo['Data']=pd.to_datetime(testeo['Data'])"
      ],
      "execution_count": null,
      "outputs": []
    },
    {
      "cell_type": "code",
      "metadata": {
        "id": "JHqBlsqHpHG3",
        "colab_type": "code",
        "colab": {}
      },
      "source": [
        "entrenamiento['Time']=pd.to_datetime(entrenamiento['Time'])\n",
        "\n",
        "testeo['Time']=pd.to_datetime(testeo['Time'])"
      ],
      "execution_count": null,
      "outputs": []
    },
    {
      "cell_type": "code",
      "metadata": {
        "id": "czHheEOYpHG-",
        "colab_type": "code",
        "colab": {}
      },
      "source": [
        "entrenamiento['Year']=entrenamiento['Data'].dt.year\n",
        "\n",
        "testeo['Year']=testeo['Data'].dt.year"
      ],
      "execution_count": null,
      "outputs": []
    },
    {
      "cell_type": "code",
      "metadata": {
        "id": "CbgV0LLOpHHE",
        "colab_type": "code",
        "colab": {}
      },
      "source": [
        "entrenamiento['Month']=entrenamiento['Data'].dt.month\n",
        "\n",
        "testeo['Month']=testeo['Data'].dt.month"
      ],
      "execution_count": null,
      "outputs": []
    },
    {
      "cell_type": "code",
      "metadata": {
        "id": "7fuCwXllpHHK",
        "colab_type": "code",
        "colab": {}
      },
      "source": [
        "entrenamiento['Week']=entrenamiento['Data'].dt.week\n",
        "\n",
        "testeo['Week']=testeo['Data'].dt.week"
      ],
      "execution_count": null,
      "outputs": []
    },
    {
      "cell_type": "code",
      "metadata": {
        "id": "TfgfdlONpHHU",
        "colab_type": "code",
        "colab": {}
      },
      "source": [
        "entrenamiento['Day']=entrenamiento['Data'].dt.day\n",
        "\n",
        "testeo['Day']=testeo['Data'].dt.day"
      ],
      "execution_count": null,
      "outputs": []
    },
    {
      "cell_type": "code",
      "metadata": {
        "id": "NOcSACQQpHHz",
        "colab_type": "code",
        "colab": {}
      },
      "source": [
        "entrenamiento.drop(columns='Data',inplace=True)\n",
        "\n",
        "testeo.drop(columns='Data',inplace=True)"
      ],
      "execution_count": null,
      "outputs": []
    },
    {
      "cell_type": "code",
      "metadata": {
        "id": "QWv9X24WpHH6",
        "colab_type": "code",
        "colab": {}
      },
      "source": [
        "entrenamiento['Hour']=entrenamiento['Time'].dt.hour\n",
        "\n",
        "testeo['Hour']=testeo['Time'].dt.hour"
      ],
      "execution_count": null,
      "outputs": []
    },
    {
      "cell_type": "code",
      "metadata": {
        "id": "GyMFrAxMpHIA",
        "colab_type": "code",
        "colab": {}
      },
      "source": [
        "entrenamiento['Minute']=entrenamiento['Time'].dt.minute\n",
        "\n",
        "testeo['Minute']=testeo['Time'].dt.minute"
      ],
      "execution_count": null,
      "outputs": []
    },
    {
      "cell_type": "code",
      "metadata": {
        "id": "aZ9UdpUUpHIJ",
        "colab_type": "code",
        "colab": {}
      },
      "source": [
        "entrenamiento['Second']=entrenamiento['Time'].dt.second\n",
        "\n",
        "testeo['Second']=testeo['Time'].dt.second"
      ],
      "execution_count": null,
      "outputs": []
    },
    {
      "cell_type": "code",
      "metadata": {
        "id": "nnzWW_AupHIx",
        "colab_type": "code",
        "colab": {}
      },
      "source": [
        "entrenamiento.drop(columns='Time',inplace=True)\n",
        "\n",
        "testeo.drop(columns='Time',inplace=True)"
      ],
      "execution_count": null,
      "outputs": []
    },
    {
      "cell_type": "code",
      "metadata": {
        "id": "5W_xEVkkpHI6",
        "colab_type": "code",
        "colab": {}
      },
      "source": [
        "entrenamiento.head(2)"
      ],
      "execution_count": null,
      "outputs": []
    },
    {
      "cell_type": "code",
      "metadata": {
        "id": "UENcgMDnpHJK",
        "colab_type": "code",
        "colab": {}
      },
      "source": [
        "testeo.head(2)"
      ],
      "execution_count": null,
      "outputs": []
    },
    {
      "cell_type": "code",
      "metadata": {
        "id": "g85pweX8pHJW",
        "colab_type": "code",
        "colab": {}
      },
      "source": [
        "entrenamiento_clean.to_csv('Training_Clean.csv')"
      ],
      "execution_count": null,
      "outputs": []
    },
    {
      "cell_type": "code",
      "metadata": {
        "id": "2X2uPjTBpHJd",
        "colab_type": "code",
        "colab": {}
      },
      "source": [
        "testeo.to_csv('Testeo_Clean.csv')"
      ],
      "execution_count": null,
      "outputs": []
    },
    {
      "cell_type": "code",
      "metadata": {
        "id": "svGTTYIgpHJr",
        "colab_type": "code",
        "colab": {}
      },
      "source": [
        "sns.heatmap(entrenamiento.corr())"
      ],
      "execution_count": null,
      "outputs": []
    },
    {
      "cell_type": "code",
      "metadata": {
        "id": "JVeIBwVbpHJw",
        "colab_type": "code",
        "colab": {}
      },
      "source": [
        "entrenamiento.drop(columns=('Year'), inplace=True)\n",
        "\n",
        "testeo.drop(columns=('Year'), inplace=True)"
      ],
      "execution_count": null,
      "outputs": []
    },
    {
      "cell_type": "code",
      "metadata": {
        "id": "FVBOBsiRpHJ3",
        "colab_type": "code",
        "colab": {}
      },
      "source": [
        "sns.heatmap(entrenamiento.corr())"
      ],
      "execution_count": null,
      "outputs": []
    },
    {
      "cell_type": "code",
      "metadata": {
        "id": "ir5Ap-LIpHJ7",
        "colab_type": "code",
        "colab": {}
      },
      "source": [
        "entrenamiento.drop(columns=('Week'), inplace=True)\n",
        "\n",
        "testeo.drop(columns=('Week'), inplace=True)"
      ],
      "execution_count": null,
      "outputs": []
    },
    {
      "cell_type": "code",
      "metadata": {
        "id": "atFhMsIrpHKF",
        "colab_type": "code",
        "colab": {}
      },
      "source": [
        "entrenamiento.drop(columns=('UNIXTime'), inplace=True)\n",
        "\n",
        "testeo.drop(columns=('UNIXTime'), inplace=True)"
      ],
      "execution_count": null,
      "outputs": []
    },
    {
      "cell_type": "code",
      "metadata": {
        "id": "lzRlO676pHKJ",
        "colab_type": "code",
        "colab": {}
      },
      "source": [
        "sns.heatmap(entrenamiento.corr())"
      ],
      "execution_count": null,
      "outputs": []
    },
    {
      "cell_type": "code",
      "metadata": {
        "id": "wv7glDy4pHKN",
        "colab_type": "code",
        "colab": {}
      },
      "source": [
        "#entrenamiento['TimeSunRise']=pd.to_datetime(entrenamiento['TimeSunRise'])\n",
        "#entrenamiento['TimeSunSet']=pd.to_datetime(entrenamiento['TimeSunSet'])\n",
        "\n",
        "#testeo['TimeSunSet']=pd.to_datetime(testeo['TimeSunSet'])\n",
        "#testeo['TimeSunRise']=pd.to_datetime(testeo['TimeSunRise'])"
      ],
      "execution_count": null,
      "outputs": []
    },
    {
      "cell_type": "code",
      "metadata": {
        "id": "9Zx90MNkpHKS",
        "colab_type": "code",
        "colab": {}
      },
      "source": [
        "entrenamiento.to_csv('training_clean.csv')\n",
        "testeo.to_csv('testing_clean.csv')"
      ],
      "execution_count": null,
      "outputs": []
    },
    {
      "cell_type": "code",
      "metadata": {
        "id": "lvZfnUSDpHKY",
        "colab_type": "code",
        "colab": {}
      },
      "source": [
        "training=pd.read_csv('training_clean.csv')\n",
        "testing=pd.read_csv('testing_clean.csv')"
      ],
      "execution_count": null,
      "outputs": []
    },
    {
      "cell_type": "code",
      "metadata": {
        "id": "fBfHbioKpHKc",
        "colab_type": "code",
        "colab": {}
      },
      "source": [
        "h2o.init()"
      ],
      "execution_count": null,
      "outputs": []
    },
    {
      "cell_type": "code",
      "metadata": {
        "id": "jhqnA0H6pHKo",
        "colab_type": "code",
        "colab": {}
      },
      "source": [
        "# parsear datos a h2o\n",
        "train=h2o.import_file('training_clean.csv')\n",
        "test=h2o.import_file('testing_clean.csv')\n",
        "\n",
        "X=train.columns\n",
        "y='Radiation'\n",
        "X.remove(y)"
      ],
      "execution_count": null,
      "outputs": []
    },
    {
      "cell_type": "code",
      "metadata": {
        "id": "UdvWIm_0pHKu",
        "colab_type": "code",
        "colab": {}
      },
      "source": [
        "aml=H2OAutoML(max_models=10, seed=1)\n",
        "aml.train(x=X, y=y, training_frame=train)"
      ],
      "execution_count": null,
      "outputs": []
    },
    {
      "cell_type": "code",
      "metadata": {
        "id": "WBEW7r6XpHK3",
        "colab_type": "code",
        "colab": {}
      },
      "source": [
        "lb=aml.leaderboard\n",
        "\n",
        "lb.head(rows=lb.nrows)"
      ],
      "execution_count": null,
      "outputs": []
    },
    {
      "cell_type": "code",
      "metadata": {
        "id": "AYAhPYs7pHLB",
        "colab_type": "code",
        "colab": {}
      },
      "source": [
        "aml.leader"
      ],
      "execution_count": null,
      "outputs": []
    },
    {
      "cell_type": "code",
      "metadata": {
        "id": "zFtPsdsnpHLQ",
        "colab_type": "code",
        "colab": {}
      },
      "source": [
        "pred=aml.leader.predict(test)\n",
        "\n",
        "pred.shape"
      ],
      "execution_count": null,
      "outputs": []
    },
    {
      "cell_type": "code",
      "metadata": {
        "id": "JNUcN7bzpHLf",
        "colab_type": "code",
        "colab": {}
      },
      "source": [
        "pred_df=h2o.as_list(pred)"
      ],
      "execution_count": null,
      "outputs": []
    },
    {
      "cell_type": "code",
      "metadata": {
        "id": "P7CxjzJNpHLv",
        "colab_type": "code",
        "colab": {}
      },
      "source": [
        "pred_df.insert(0,'ID',pred_df.index)"
      ],
      "execution_count": null,
      "outputs": []
    },
    {
      "cell_type": "code",
      "metadata": {
        "id": "WrNE15bzpHMD",
        "colab_type": "code",
        "colab": {}
      },
      "source": [
        "pred_df"
      ],
      "execution_count": null,
      "outputs": []
    },
    {
      "cell_type": "code",
      "metadata": {
        "id": "GEqKwHsqpHMQ",
        "colab_type": "code",
        "colab": {}
      },
      "source": [
        "pred_df.rename(columns={'predict':'Radiation','ID':'id'},inplace=True)"
      ],
      "execution_count": null,
      "outputs": []
    }
  ]
}