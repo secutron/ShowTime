{
  "nbformat": 4,
  "nbformat_minor": 0,
  "metadata": {
    "kernelspec": {
      "display_name": "Python 3",
      "language": "python",
      "name": "python3"
    },
    "language_info": {
      "codemirror_mode": {
        "name": "ipython",
        "version": 3
      },
      "file_extension": ".py",
      "mimetype": "text/x-python",
      "name": "python",
      "nbconvert_exporter": "python",
      "pygments_lexer": "ipython3",
      "version": "3.7.7"
    },
    "colab": {
      "name": "tmpSolarRadiation.ipynb",
      "provenance": [],
      "include_colab_link": true
    },
    "accelerator": "GPU"
  },
  "cells": [
    {
      "cell_type": "markdown",
      "metadata": {
        "id": "view-in-github",
        "colab_type": "text"
      },
      "source": [
        "<a href=\"https://colab.research.google.com/github/secutron/ShowTime/blob/master/tmpPatients.ipynb\" target=\"_parent\"><img src=\"https://colab.research.google.com/assets/colab-badge.svg\" alt=\"Open In Colab\"/></a>"
      ]
    },
    {
      "cell_type": "code",
      "metadata": {
        "id": "zh05iRg1pvCw",
        "colab_type": "code",
        "colab": {
          "base_uri": "https://localhost:8080/",
          "height": 357
        },
        "outputId": "74c8b62b-6782-4b38-c02a-4d1bfd90a336"
      },
      "source": [
        "!nvidia-smi"
      ],
      "execution_count": 1,
      "outputs": [
        {
          "output_type": "stream",
          "text": [
            "Thu Jun 18 02:11:42 2020       \n",
            "+-----------------------------------------------------------------------------+\n",
            "| NVIDIA-SMI 450.36.06    Driver Version: 418.67       CUDA Version: 10.1     |\n",
            "|-------------------------------+----------------------+----------------------+\n",
            "| GPU  Name        Persistence-M| Bus-Id        Disp.A | Volatile Uncorr. ECC |\n",
            "| Fan  Temp  Perf  Pwr:Usage/Cap|         Memory-Usage | GPU-Util  Compute M. |\n",
            "|                               |                      |               MIG M. |\n",
            "|===============================+======================+======================|\n",
            "|   0  Tesla P100-PCIE...  Off  | 00000000:00:04.0 Off |                    0 |\n",
            "| N/A   38C    P0    26W / 250W |      0MiB / 16280MiB |      0%      Default |\n",
            "|                               |                      |                 ERR! |\n",
            "+-------------------------------+----------------------+----------------------+\n",
            "                                                                               \n",
            "+-----------------------------------------------------------------------------+\n",
            "| Processes:                                                                  |\n",
            "|  GPU   GI   CI        PID   Type   Process name                  GPU Memory |\n",
            "|        ID   ID                                                   Usage      |\n",
            "|=============================================================================|\n",
            "|  No running processes found                                                 |\n",
            "+-----------------------------------------------------------------------------+\n"
          ],
          "name": "stdout"
        }
      ]
    },
    {
      "cell_type": "code",
      "metadata": {
        "id": "ZETzO0ZQMiNN",
        "colab_type": "code",
        "colab": {
          "base_uri": "https://localhost:8080/",
          "height": 527
        },
        "outputId": "9cccd38a-91a1-4600-837d-d73dc808e292"
      },
      "source": [
        "!apt-get install default-jre\n",
        "!java -version\n",
        "\n",
        "!pip install h2o"
      ],
      "execution_count": 4,
      "outputs": [
        {
          "output_type": "stream",
          "text": [
            "Reading package lists... Done\n",
            "Building dependency tree       \n",
            "Reading state information... Done\n",
            "default-jre is already the newest version (2:1.11-68ubuntu1~18.04.1).\n",
            "The following package was automatically installed and is no longer required:\n",
            "  libnvidia-common-440\n",
            "Use 'apt autoremove' to remove it.\n",
            "0 upgraded, 0 newly installed, 0 to remove and 43 not upgraded.\n",
            "openjdk version \"11.0.7\" 2020-04-14\n",
            "OpenJDK Runtime Environment (build 11.0.7+10-post-Ubuntu-2ubuntu218.04)\n",
            "OpenJDK 64-Bit Server VM (build 11.0.7+10-post-Ubuntu-2ubuntu218.04, mixed mode, sharing)\n",
            "Collecting h2o\n",
            "\u001b[?25l  Downloading https://files.pythonhosted.org/packages/25/b0/5a6fbc343043ab6d6062114991fa515b7a408fc1f5339e1c1601e5f3e46e/h2o-3.30.0.4.tar.gz (128.3MB)\n",
            "\u001b[K     |████████████████████████████████| 128.3MB 1.2MB/s \n",
            "\u001b[?25hRequirement already satisfied: requests in /usr/local/lib/python3.6/dist-packages (from h2o) (2.23.0)\n",
            "Requirement already satisfied: tabulate in /usr/local/lib/python3.6/dist-packages (from h2o) (0.8.7)\n",
            "Requirement already satisfied: future in /usr/local/lib/python3.6/dist-packages (from h2o) (0.16.0)\n",
            "Collecting colorama>=0.3.8\n",
            "  Downloading https://files.pythonhosted.org/packages/c9/dc/45cdef1b4d119eb96316b3117e6d5708a08029992b2fee2c143c7a0a5cc5/colorama-0.4.3-py2.py3-none-any.whl\n",
            "Requirement already satisfied: urllib3!=1.25.0,!=1.25.1,<1.26,>=1.21.1 in /usr/local/lib/python3.6/dist-packages (from requests->h2o) (1.24.3)\n",
            "Requirement already satisfied: certifi>=2017.4.17 in /usr/local/lib/python3.6/dist-packages (from requests->h2o) (2020.4.5.2)\n",
            "Requirement already satisfied: chardet<4,>=3.0.2 in /usr/local/lib/python3.6/dist-packages (from requests->h2o) (3.0.4)\n",
            "Requirement already satisfied: idna<3,>=2.5 in /usr/local/lib/python3.6/dist-packages (from requests->h2o) (2.9)\n",
            "Building wheels for collected packages: h2o\n",
            "  Building wheel for h2o (setup.py) ... \u001b[?25l\u001b[?25hdone\n",
            "  Created wheel for h2o: filename=h2o-3.30.0.4-py2.py3-none-any.whl size=128397038 sha256=4122b21b034c196550967cf6829f0ddde25407971fd46970542eff3c1e1f9d85\n",
            "  Stored in directory: /root/.cache/pip/wheels/ad/bd/cc/0a8c7dffc4772df0bbfae4c1c7a9d64525fcd3ada9694dd8c3\n",
            "Successfully built h2o\n",
            "Installing collected packages: colorama, h2o\n",
            "Successfully installed colorama-0.4.3 h2o-3.30.0.4\n"
          ],
          "name": "stdout"
        }
      ]
    },
    {
      "cell_type": "code",
      "metadata": {
        "id": "o-RFSX2bpHEQ",
        "colab_type": "code",
        "colab": {
          "base_uri": "https://localhost:8080/",
          "height": 51
        },
        "outputId": "f2fc9f82-d8df-44a2-e23b-3d4db241143c"
      },
      "source": [
        "import pandas as pd\n",
        "import h2o\n",
        "from h2o.automl import H2OAutoML\n",
        "import matplotlib.pyplot as plt\n",
        "import seaborn as sns\n",
        "import numpy as np\n",
        "import warnings\n",
        "warnings.filterwarnings(\"ignore\")"
      ],
      "execution_count": 5,
      "outputs": [
        {
          "output_type": "stream",
          "text": [
            "/usr/local/lib/python3.6/dist-packages/statsmodels/tools/_testing.py:19: FutureWarning: pandas.util.testing is deprecated. Use the functions in the public API at pandas.testing instead.\n",
            "  import pandas.util.testing as tm\n"
          ],
          "name": "stderr"
        }
      ]
    },
    {
      "cell_type": "code",
      "metadata": {
        "id": "21oznSyfM14r",
        "colab_type": "code",
        "colab": {
          "base_uri": "https://localhost:8080/",
          "height": 508
        },
        "outputId": "6a25782a-ad66-4fea-9fa3-330815dab73f"
      },
      "source": [
        "h2o.init()"
      ],
      "execution_count": 6,
      "outputs": [
        {
          "output_type": "stream",
          "text": [
            "Checking whether there is an H2O instance running at http://localhost:54321 ..... not found.\n",
            "Attempting to start a local H2O server...\n",
            "  Java Version: openjdk version \"11.0.7\" 2020-04-14; OpenJDK Runtime Environment (build 11.0.7+10-post-Ubuntu-2ubuntu218.04); OpenJDK 64-Bit Server VM (build 11.0.7+10-post-Ubuntu-2ubuntu218.04, mixed mode, sharing)\n",
            "  Starting server from /usr/local/lib/python3.6/dist-packages/h2o/backend/bin/h2o.jar\n",
            "  Ice root: /tmp/tmprztv26v4\n",
            "  JVM stdout: /tmp/tmprztv26v4/h2o_unknownUser_started_from_python.out\n",
            "  JVM stderr: /tmp/tmprztv26v4/h2o_unknownUser_started_from_python.err\n",
            "  Server is running at http://127.0.0.1:54321\n",
            "Connecting to H2O server at http://127.0.0.1:54321 ... successful.\n"
          ],
          "name": "stdout"
        },
        {
          "output_type": "display_data",
          "data": {
            "text/html": [
              "<div style=\"overflow:auto\"><table style=\"width:50%\"><tr><td>H2O_cluster_uptime:</td>\n",
              "<td>02 secs</td></tr>\n",
              "<tr><td>H2O_cluster_timezone:</td>\n",
              "<td>Etc/UTC</td></tr>\n",
              "<tr><td>H2O_data_parsing_timezone:</td>\n",
              "<td>UTC</td></tr>\n",
              "<tr><td>H2O_cluster_version:</td>\n",
              "<td>3.30.0.4</td></tr>\n",
              "<tr><td>H2O_cluster_version_age:</td>\n",
              "<td>16 days </td></tr>\n",
              "<tr><td>H2O_cluster_name:</td>\n",
              "<td>H2O_from_python_unknownUser_4e00rx</td></tr>\n",
              "<tr><td>H2O_cluster_total_nodes:</td>\n",
              "<td>1</td></tr>\n",
              "<tr><td>H2O_cluster_free_memory:</td>\n",
              "<td>3.180 Gb</td></tr>\n",
              "<tr><td>H2O_cluster_total_cores:</td>\n",
              "<td>2</td></tr>\n",
              "<tr><td>H2O_cluster_allowed_cores:</td>\n",
              "<td>2</td></tr>\n",
              "<tr><td>H2O_cluster_status:</td>\n",
              "<td>accepting new members, healthy</td></tr>\n",
              "<tr><td>H2O_connection_url:</td>\n",
              "<td>http://127.0.0.1:54321</td></tr>\n",
              "<tr><td>H2O_connection_proxy:</td>\n",
              "<td>{\"http\": null, \"https\": null}</td></tr>\n",
              "<tr><td>H2O_internal_security:</td>\n",
              "<td>False</td></tr>\n",
              "<tr><td>H2O_API_Extensions:</td>\n",
              "<td>Amazon S3, XGBoost, Algos, AutoML, Core V3, TargetEncoder, Core V4</td></tr>\n",
              "<tr><td>Python_version:</td>\n",
              "<td>3.6.9 final</td></tr></table></div>"
            ],
            "text/plain": [
              "--------------------------  ------------------------------------------------------------------\n",
              "H2O_cluster_uptime:         02 secs\n",
              "H2O_cluster_timezone:       Etc/UTC\n",
              "H2O_data_parsing_timezone:  UTC\n",
              "H2O_cluster_version:        3.30.0.4\n",
              "H2O_cluster_version_age:    16 days\n",
              "H2O_cluster_name:           H2O_from_python_unknownUser_4e00rx\n",
              "H2O_cluster_total_nodes:    1\n",
              "H2O_cluster_free_memory:    3.180 Gb\n",
              "H2O_cluster_total_cores:    2\n",
              "H2O_cluster_allowed_cores:  2\n",
              "H2O_cluster_status:         accepting new members, healthy\n",
              "H2O_connection_url:         http://127.0.0.1:54321\n",
              "H2O_connection_proxy:       {\"http\": null, \"https\": null}\n",
              "H2O_internal_security:      False\n",
              "H2O_API_Extensions:         Amazon S3, XGBoost, Algos, AutoML, Core V3, TargetEncoder, Core V4\n",
              "Python_version:             3.6.9 final\n",
              "--------------------------  ------------------------------------------------------------------"
            ]
          },
          "metadata": {
            "tags": []
          }
        }
      ]
    },
    {
      "cell_type": "code",
      "metadata": {
        "id": "j-hh1yRQpHE0",
        "colab_type": "code",
        "colab": {}
      },
      "source": [
        "testeo=pd.read_csv('solar_test.csv')\n",
        "entrenamiento=pd.read_csv('solar_train.csv')"
      ],
      "execution_count": null,
      "outputs": []
    },
    {
      "cell_type": "code",
      "metadata": {
        "id": "oaPenWJhpHFA",
        "colab_type": "code",
        "colab": {},
        "outputId": "70a14453-56fc-48b2-be04-d49170408b22"
      },
      "source": [
        "entrenamiento.info()"
      ],
      "execution_count": null,
      "outputs": [
        {
          "output_type": "stream",
          "text": [
            "<class 'pandas.core.frame.DataFrame'>\n",
            "RangeIndex: 24514 entries, 0 to 24513\n",
            "Data columns (total 11 columns):\n",
            " #   Column                  Non-Null Count  Dtype  \n",
            "---  ------                  --------------  -----  \n",
            " 0   UNIXTime                24514 non-null  int64  \n",
            " 1   Data                    24514 non-null  object \n",
            " 2   Time                    24514 non-null  object \n",
            " 3   Radiation               24514 non-null  float64\n",
            " 4   Temperature             24514 non-null  int64  \n",
            " 5   Pressure                24514 non-null  float64\n",
            " 6   Humidity                24514 non-null  int64  \n",
            " 7   WindDirection(Degrees)  24514 non-null  float64\n",
            " 8   Speed                   24514 non-null  float64\n",
            " 9   TimeSunRise             24514 non-null  object \n",
            " 10  TimeSunSet              24514 non-null  object \n",
            "dtypes: float64(4), int64(3), object(4)\n",
            "memory usage: 2.1+ MB\n"
          ],
          "name": "stdout"
        }
      ]
    },
    {
      "cell_type": "code",
      "metadata": {
        "id": "EQoz8aQTpHFP",
        "colab_type": "code",
        "colab": {},
        "outputId": "bc95aaf3-270d-4b5b-a751-b6b3eb9ca702"
      },
      "source": [
        "testeo.info()"
      ],
      "execution_count": null,
      "outputs": [
        {
          "output_type": "stream",
          "text": [
            "<class 'pandas.core.frame.DataFrame'>\n",
            "RangeIndex: 8172 entries, 0 to 8171\n",
            "Data columns (total 11 columns):\n",
            " #   Column                  Non-Null Count  Dtype  \n",
            "---  ------                  --------------  -----  \n",
            " 0   id                      8172 non-null   int64  \n",
            " 1   UNIXTime                8172 non-null   int64  \n",
            " 2   Data                    8172 non-null   object \n",
            " 3   Time                    8172 non-null   object \n",
            " 4   Temperature             8172 non-null   int64  \n",
            " 5   Pressure                8172 non-null   float64\n",
            " 6   Humidity                8172 non-null   int64  \n",
            " 7   WindDirection(Degrees)  8172 non-null   float64\n",
            " 8   Speed                   8172 non-null   float64\n",
            " 9   TimeSunRise             8172 non-null   object \n",
            " 10  TimeSunSet              8172 non-null   object \n",
            "dtypes: float64(3), int64(4), object(4)\n",
            "memory usage: 702.4+ KB\n"
          ],
          "name": "stdout"
        }
      ]
    },
    {
      "cell_type": "code",
      "metadata": {
        "id": "-tFOX9XypHFZ",
        "colab_type": "code",
        "colab": {}
      },
      "source": [
        "testeo.drop(columns=('id'),inplace=True)"
      ],
      "execution_count": null,
      "outputs": []
    },
    {
      "cell_type": "code",
      "metadata": {
        "id": "4Nif1UyKpHFg",
        "colab_type": "code",
        "colab": {},
        "outputId": "922867ac-b331-4e61-e86f-ef037123f9eb"
      },
      "source": [
        "sns.heatmap(entrenamiento.corr())"
      ],
      "execution_count": null,
      "outputs": [
        {
          "output_type": "execute_result",
          "data": {
            "text/plain": [
              "<matplotlib.axes._subplots.AxesSubplot at 0x22e057ddf08>"
            ]
          },
          "metadata": {
            "tags": []
          },
          "execution_count": 29
        },
        {
          "output_type": "display_data",
          "data": {
            "image/png": "[encoded data removed]",
            "text/plain": [
              "<Figure size 432x288 with 2 Axes>"
            ]
          },
          "metadata": {
            "tags": [],
            "needs_background": "light"
          }
        }
      ]
    },
    {
      "cell_type": "code",
      "metadata": {
        "id": "a7YcdNMMpHFq",
        "colab_type": "code",
        "colab": {},
        "outputId": "00db8a65-846b-4592-b05f-91455c77e73a"
      },
      "source": [
        "entrenamiento.boxplot(column=['Radiation'])"
      ],
      "execution_count": null,
      "outputs": [
        {
          "output_type": "execute_result",
          "data": {
            "text/plain": [
              "<matplotlib.axes._subplots.AxesSubplot at 0x22e05364a48>"
            ]
          },
          "metadata": {
            "tags": []
          },
          "execution_count": 36
        },
        {
          "output_type": "display_data",
          "data": {
            "image/png": "[encoded data removed]",
            "text/plain": [
              "<Figure size 432x288 with 1 Axes>"
            ]
          },
          "metadata": {
            "tags": [],
            "needs_background": "light"
          }
        }
      ]
    },
    {
      "cell_type": "code",
      "metadata": {
        "id": "WY0U8vIHpHFx",
        "colab_type": "code",
        "colab": {}
      },
      "source": [
        "q1=np.percentile(entrenamiento.Radiation, 25)\n",
        "q3=np.percentile(entrenamiento.Radiation, 75)"
      ],
      "execution_count": null,
      "outputs": []
    },
    {
      "cell_type": "code",
      "metadata": {
        "id": "3Rf07UAMpHF7",
        "colab_type": "code",
        "colab": {}
      },
      "source": [
        "iqr=q3-q1\n",
        "\n",
        "upper=q3+3*iqr\n",
        "lower=q1-3*iqr"
      ],
      "execution_count": null,
      "outputs": []
    },
    {
      "cell_type": "code",
      "metadata": {
        "id": "7vYueW53pHGC",
        "colab_type": "code",
        "colab": {},
        "outputId": "e0588a95-ddf7-4ef3-f6f2-80eab7314971"
      },
      "source": [
        "\n",
        "len(entrenamiento[entrenamiento.Radiation > upper])"
      ],
      "execution_count": null,
      "outputs": [
        {
          "output_type": "execute_result",
          "data": {
            "text/plain": [
              "3"
            ]
          },
          "metadata": {
            "tags": []
          },
          "execution_count": 39
        }
      ]
    },
    {
      "cell_type": "code",
      "metadata": {
        "id": "q0dbnl2mpHGR",
        "colab_type": "code",
        "colab": {},
        "outputId": "94d6b385-8818-4ebb-e760-e26dd9d9457d"
      },
      "source": [
        "entrenamiento=entrenamiento[entrenamiento.Radiation < upper]\n",
        "entrenamiento.head()"
      ],
      "execution_count": null,
      "outputs": [
        {
          "output_type": "execute_result",
          "data": {
            "text/html": [
              "<div>\n",
              "<style scoped>\n",
              "    .dataframe tbody tr th:only-of-type {\n",
              "        vertical-align: middle;\n",
              "    }\n",
              "\n",
              "    .dataframe tbody tr th {\n",
              "        vertical-align: top;\n",
              "    }\n",
              "\n",
              "    .dataframe thead th {\n",
              "        text-align: right;\n",
              "    }\n",
              "</style>\n",
              "<table border=\"1\" class=\"dataframe\">\n",
              "  <thead>\n",
              "    <tr style=\"text-align: right;\">\n",
              "      <th></th>\n",
              "      <th>UNIXTime</th>\n",
              "      <th>Data</th>\n",
              "      <th>Time</th>\n",
              "      <th>Radiation</th>\n",
              "      <th>Temperature</th>\n",
              "      <th>Pressure</th>\n",
              "      <th>Humidity</th>\n",
              "      <th>WindDirection(Degrees)</th>\n",
              "      <th>Speed</th>\n",
              "      <th>TimeSunRise</th>\n",
              "      <th>TimeSunSet</th>\n",
              "    </tr>\n",
              "  </thead>\n",
              "  <tbody>\n",
              "    <tr>\n",
              "      <th>0</th>\n",
              "      <td>1475175023</td>\n",
              "      <td>9/29/2016 12:00:00 AM</td>\n",
              "      <td>08:50:23</td>\n",
              "      <td>634.99</td>\n",
              "      <td>61</td>\n",
              "      <td>30.46</td>\n",
              "      <td>41</td>\n",
              "      <td>14.96</td>\n",
              "      <td>6.75</td>\n",
              "      <td>06:13:00</td>\n",
              "      <td>18:13:00</td>\n",
              "    </tr>\n",
              "    <tr>\n",
              "      <th>1</th>\n",
              "      <td>1481799902</td>\n",
              "      <td>12/15/2016 12:00:00 AM</td>\n",
              "      <td>01:05:02</td>\n",
              "      <td>1.27</td>\n",
              "      <td>37</td>\n",
              "      <td>30.26</td>\n",
              "      <td>70</td>\n",
              "      <td>207.43</td>\n",
              "      <td>5.62</td>\n",
              "      <td>06:50:00</td>\n",
              "      <td>17:46:00</td>\n",
              "    </tr>\n",
              "    <tr>\n",
              "      <th>2</th>\n",
              "      <td>1478339417</td>\n",
              "      <td>11/4/2016 12:00:00 AM</td>\n",
              "      <td>23:50:17</td>\n",
              "      <td>1.21</td>\n",
              "      <td>47</td>\n",
              "      <td>30.49</td>\n",
              "      <td>33</td>\n",
              "      <td>168.20</td>\n",
              "      <td>5.62</td>\n",
              "      <td>06:25:00</td>\n",
              "      <td>17:47:00</td>\n",
              "    </tr>\n",
              "    <tr>\n",
              "      <th>3</th>\n",
              "      <td>1472887208</td>\n",
              "      <td>9/2/2016 12:00:00 AM</td>\n",
              "      <td>21:20:08</td>\n",
              "      <td>1.67</td>\n",
              "      <td>54</td>\n",
              "      <td>30.46</td>\n",
              "      <td>101</td>\n",
              "      <td>152.60</td>\n",
              "      <td>3.37</td>\n",
              "      <td>06:07:00</td>\n",
              "      <td>18:37:00</td>\n",
              "    </tr>\n",
              "    <tr>\n",
              "      <th>4</th>\n",
              "      <td>1478724901</td>\n",
              "      <td>11/9/2016 12:00:00 AM</td>\n",
              "      <td>10:55:01</td>\n",
              "      <td>839.78</td>\n",
              "      <td>62</td>\n",
              "      <td>30.47</td>\n",
              "      <td>36</td>\n",
              "      <td>291.95</td>\n",
              "      <td>7.87</td>\n",
              "      <td>06:28:00</td>\n",
              "      <td>17:45:00</td>\n",
              "    </tr>\n",
              "  </tbody>\n",
              "</table>\n",
              "</div>"
            ],
            "text/plain": [
              "     UNIXTime                    Data      Time  Radiation  Temperature  \\\n",
              "0  1475175023   9/29/2016 12:00:00 AM  08:50:23     634.99           61   \n",
              "1  1481799902  12/15/2016 12:00:00 AM  01:05:02       1.27           37   \n",
              "2  1478339417   11/4/2016 12:00:00 AM  23:50:17       1.21           47   \n",
              "3  1472887208    9/2/2016 12:00:00 AM  21:20:08       1.67           54   \n",
              "4  1478724901   11/9/2016 12:00:00 AM  10:55:01     839.78           62   \n",
              "\n",
              "   Pressure  Humidity  WindDirection(Degrees)  Speed TimeSunRise TimeSunSet  \n",
              "0     30.46        41                   14.96   6.75    06:13:00   18:13:00  \n",
              "1     30.26        70                  207.43   5.62    06:50:00   17:46:00  \n",
              "2     30.49        33                  168.20   5.62    06:25:00   17:47:00  \n",
              "3     30.46       101                  152.60   3.37    06:07:00   18:37:00  \n",
              "4     30.47        36                  291.95   7.87    06:28:00   17:45:00  "
            ]
          },
          "metadata": {
            "tags": []
          },
          "execution_count": 40
        }
      ]
    },
    {
      "cell_type": "code",
      "metadata": {
        "id": "xpbOJ9VgpHGi",
        "colab_type": "code",
        "colab": {},
        "outputId": "22acea1f-8439-4a73-f590-bfeec2d5bab8"
      },
      "source": [
        "entrenamiento.info()"
      ],
      "execution_count": null,
      "outputs": [
        {
          "output_type": "stream",
          "text": [
            "<class 'pandas.core.frame.DataFrame'>\n",
            "Int64Index: 24511 entries, 0 to 24513\n",
            "Data columns (total 11 columns):\n",
            " #   Column                  Non-Null Count  Dtype  \n",
            "---  ------                  --------------  -----  \n",
            " 0   UNIXTime                24511 non-null  int64  \n",
            " 1   Data                    24511 non-null  object \n",
            " 2   Time                    24511 non-null  object \n",
            " 3   Radiation               24511 non-null  float64\n",
            " 4   Temperature             24511 non-null  int64  \n",
            " 5   Pressure                24511 non-null  float64\n",
            " 6   Humidity                24511 non-null  int64  \n",
            " 7   WindDirection(Degrees)  24511 non-null  float64\n",
            " 8   Speed                   24511 non-null  float64\n",
            " 9   TimeSunRise             24511 non-null  object \n",
            " 10  TimeSunSet              24511 non-null  object \n",
            "dtypes: float64(4), int64(3), object(4)\n",
            "memory usage: 2.2+ MB\n"
          ],
          "name": "stdout"
        }
      ]
    },
    {
      "cell_type": "code",
      "metadata": {
        "id": "fAnWWWKlpHGw",
        "colab_type": "code",
        "colab": {}
      },
      "source": [
        "entrenamiento['Data']=pd.to_datetime(entrenamiento['Data'])\n",
        "\n",
        "testeo['Data']=pd.to_datetime(testeo['Data'])"
      ],
      "execution_count": null,
      "outputs": []
    },
    {
      "cell_type": "code",
      "metadata": {
        "id": "JHqBlsqHpHG3",
        "colab_type": "code",
        "colab": {}
      },
      "source": [
        "entrenamiento['Time']=pd.to_datetime(entrenamiento['Time'])\n",
        "\n",
        "testeo['Time']=pd.to_datetime(testeo['Time'])"
      ],
      "execution_count": null,
      "outputs": []
    },
    {
      "cell_type": "code",
      "metadata": {
        "id": "czHheEOYpHG-",
        "colab_type": "code",
        "colab": {}
      },
      "source": [
        "entrenamiento['Year']=entrenamiento['Data'].dt.year\n",
        "\n",
        "testeo['Year']=testeo['Data'].dt.year"
      ],
      "execution_count": null,
      "outputs": []
    },
    {
      "cell_type": "code",
      "metadata": {
        "id": "CbgV0LLOpHHE",
        "colab_type": "code",
        "colab": {}
      },
      "source": [
        "entrenamiento['Month']=entrenamiento['Data'].dt.month\n",
        "\n",
        "testeo['Month']=testeo['Data'].dt.month"
      ],
      "execution_count": null,
      "outputs": []
    },
    {
      "cell_type": "code",
      "metadata": {
        "id": "7fuCwXllpHHK",
        "colab_type": "code",
        "colab": {}
      },
      "source": [
        "entrenamiento['Week']=entrenamiento['Data'].dt.week\n",
        "\n",
        "testeo['Week']=testeo['Data'].dt.week"
      ],
      "execution_count": null,
      "outputs": []
    },
    {
      "cell_type": "code",
      "metadata": {
        "id": "TfgfdlONpHHU",
        "colab_type": "code",
        "colab": {}
      },
      "source": [
        "entrenamiento['Day']=entrenamiento['Data'].dt.day\n",
        "\n",
        "testeo['Day']=testeo['Data'].dt.day"
      ],
      "execution_count": null,
      "outputs": []
    },
    {
      "cell_type": "code",
      "metadata": {
        "id": "NOcSACQQpHHz",
        "colab_type": "code",
        "colab": {}
      },
      "source": [
        "entrenamiento.drop(columns='Data',inplace=True)\n",
        "\n",
        "testeo.drop(columns='Data',inplace=True)"
      ],
      "execution_count": null,
      "outputs": []
    },
    {
      "cell_type": "code",
      "metadata": {
        "id": "QWv9X24WpHH6",
        "colab_type": "code",
        "colab": {}
      },
      "source": [
        "entrenamiento['Hour']=entrenamiento['Time'].dt.hour\n",
        "\n",
        "testeo['Hour']=testeo['Time'].dt.hour"
      ],
      "execution_count": null,
      "outputs": []
    },
    {
      "cell_type": "code",
      "metadata": {
        "id": "GyMFrAxMpHIA",
        "colab_type": "code",
        "colab": {}
      },
      "source": [
        "entrenamiento['Minute']=entrenamiento['Time'].dt.minute\n",
        "\n",
        "testeo['Minute']=testeo['Time'].dt.minute"
      ],
      "execution_count": null,
      "outputs": []
    },
    {
      "cell_type": "code",
      "metadata": {
        "id": "aZ9UdpUUpHIJ",
        "colab_type": "code",
        "colab": {}
      },
      "source": [
        "entrenamiento['Second']=entrenamiento['Time'].dt.second\n",
        "\n",
        "testeo['Second']=testeo['Time'].dt.second"
      ],
      "execution_count": null,
      "outputs": []
    },
    {
      "cell_type": "code",
      "metadata": {
        "id": "nnzWW_AupHIx",
        "colab_type": "code",
        "colab": {}
      },
      "source": [
        "entrenamiento.drop(columns='Time',inplace=True)\n",
        "\n",
        "testeo.drop(columns='Time',inplace=True)"
      ],
      "execution_count": null,
      "outputs": []
    },
    {
      "cell_type": "code",
      "metadata": {
        "id": "5W_xEVkkpHI6",
        "colab_type": "code",
        "colab": {},
        "outputId": "247c6351-1dde-4eaf-fb06-8631876d53a4"
      },
      "source": [
        "entrenamiento.head(2)"
      ],
      "execution_count": null,
      "outputs": [
        {
          "output_type": "execute_result",
          "data": {
            "text/html": [
              "<div>\n",
              "<style scoped>\n",
              "    .dataframe tbody tr th:only-of-type {\n",
              "        vertical-align: middle;\n",
              "    }\n",
              "\n",
              "    .dataframe tbody tr th {\n",
              "        vertical-align: top;\n",
              "    }\n",
              "\n",
              "    .dataframe thead th {\n",
              "        text-align: right;\n",
              "    }\n",
              "</style>\n",
              "<table border=\"1\" class=\"dataframe\">\n",
              "  <thead>\n",
              "    <tr style=\"text-align: right;\">\n",
              "      <th></th>\n",
              "      <th>UNIXTime</th>\n",
              "      <th>Radiation</th>\n",
              "      <th>Temperature</th>\n",
              "      <th>Pressure</th>\n",
              "      <th>Humidity</th>\n",
              "      <th>WindDirection(Degrees)</th>\n",
              "      <th>Speed</th>\n",
              "      <th>TimeSunRise</th>\n",
              "      <th>TimeSunSet</th>\n",
              "      <th>Year</th>\n",
              "      <th>Month</th>\n",
              "      <th>Week</th>\n",
              "      <th>Day</th>\n",
              "      <th>Hour</th>\n",
              "      <th>Minute</th>\n",
              "      <th>Second</th>\n",
              "    </tr>\n",
              "  </thead>\n",
              "  <tbody>\n",
              "    <tr>\n",
              "      <th>0</th>\n",
              "      <td>1475175023</td>\n",
              "      <td>634.99</td>\n",
              "      <td>61</td>\n",
              "      <td>30.46</td>\n",
              "      <td>41</td>\n",
              "      <td>14.96</td>\n",
              "      <td>6.75</td>\n",
              "      <td>06:13:00</td>\n",
              "      <td>18:13:00</td>\n",
              "      <td>2016</td>\n",
              "      <td>9</td>\n",
              "      <td>39</td>\n",
              "      <td>29</td>\n",
              "      <td>8</td>\n",
              "      <td>50</td>\n",
              "      <td>23</td>\n",
              "    </tr>\n",
              "    <tr>\n",
              "      <th>1</th>\n",
              "      <td>1481799902</td>\n",
              "      <td>1.27</td>\n",
              "      <td>37</td>\n",
              "      <td>30.26</td>\n",
              "      <td>70</td>\n",
              "      <td>207.43</td>\n",
              "      <td>5.62</td>\n",
              "      <td>06:50:00</td>\n",
              "      <td>17:46:00</td>\n",
              "      <td>2016</td>\n",
              "      <td>12</td>\n",
              "      <td>50</td>\n",
              "      <td>15</td>\n",
              "      <td>1</td>\n",
              "      <td>5</td>\n",
              "      <td>2</td>\n",
              "    </tr>\n",
              "  </tbody>\n",
              "</table>\n",
              "</div>"
            ],
            "text/plain": [
              "     UNIXTime  Radiation  Temperature  Pressure  Humidity  \\\n",
              "0  1475175023     634.99           61     30.46        41   \n",
              "1  1481799902       1.27           37     30.26        70   \n",
              "\n",
              "   WindDirection(Degrees)  Speed TimeSunRise TimeSunSet  Year  Month  Week  \\\n",
              "0                   14.96   6.75    06:13:00   18:13:00  2016      9    39   \n",
              "1                  207.43   5.62    06:50:00   17:46:00  2016     12    50   \n",
              "\n",
              "   Day  Hour  Minute  Second  \n",
              "0   29     8      50      23  \n",
              "1   15     1       5       2  "
            ]
          },
          "metadata": {
            "tags": []
          },
          "execution_count": 53
        }
      ]
    },
    {
      "cell_type": "code",
      "metadata": {
        "id": "UENcgMDnpHJK",
        "colab_type": "code",
        "colab": {},
        "outputId": "00d4ba1b-2810-48fb-961f-a696ee8713dd"
      },
      "source": [
        "testeo.head(2)"
      ],
      "execution_count": null,
      "outputs": [
        {
          "output_type": "execute_result",
          "data": {
            "text/html": [
              "<div>\n",
              "<style scoped>\n",
              "    .dataframe tbody tr th:only-of-type {\n",
              "        vertical-align: middle;\n",
              "    }\n",
              "\n",
              "    .dataframe tbody tr th {\n",
              "        vertical-align: top;\n",
              "    }\n",
              "\n",
              "    .dataframe thead th {\n",
              "        text-align: right;\n",
              "    }\n",
              "</style>\n",
              "<table border=\"1\" class=\"dataframe\">\n",
              "  <thead>\n",
              "    <tr style=\"text-align: right;\">\n",
              "      <th></th>\n",
              "      <th>UNIXTime</th>\n",
              "      <th>Temperature</th>\n",
              "      <th>Pressure</th>\n",
              "      <th>Humidity</th>\n",
              "      <th>WindDirection(Degrees)</th>\n",
              "      <th>Speed</th>\n",
              "      <th>TimeSunRise</th>\n",
              "      <th>TimeSunSet</th>\n",
              "      <th>Year</th>\n",
              "      <th>Month</th>\n",
              "      <th>Week</th>\n",
              "      <th>Day</th>\n",
              "      <th>Hour</th>\n",
              "      <th>Minute</th>\n",
              "      <th>Second</th>\n",
              "    </tr>\n",
              "  </thead>\n",
              "  <tbody>\n",
              "    <tr>\n",
              "      <th>0</th>\n",
              "      <td>1478720107</td>\n",
              "      <td>59</td>\n",
              "      <td>30.47</td>\n",
              "      <td>44</td>\n",
              "      <td>312.67</td>\n",
              "      <td>3.37</td>\n",
              "      <td>06:28:00</td>\n",
              "      <td>17:45:00</td>\n",
              "      <td>2016</td>\n",
              "      <td>11</td>\n",
              "      <td>45</td>\n",
              "      <td>9</td>\n",
              "      <td>9</td>\n",
              "      <td>35</td>\n",
              "      <td>7</td>\n",
              "    </tr>\n",
              "    <tr>\n",
              "      <th>1</th>\n",
              "      <td>1474063503</td>\n",
              "      <td>59</td>\n",
              "      <td>30.48</td>\n",
              "      <td>83</td>\n",
              "      <td>38.01</td>\n",
              "      <td>6.75</td>\n",
              "      <td>06:10:00</td>\n",
              "      <td>18:25:00</td>\n",
              "      <td>2016</td>\n",
              "      <td>9</td>\n",
              "      <td>37</td>\n",
              "      <td>16</td>\n",
              "      <td>12</td>\n",
              "      <td>5</td>\n",
              "      <td>3</td>\n",
              "    </tr>\n",
              "  </tbody>\n",
              "</table>\n",
              "</div>"
            ],
            "text/plain": [
              "     UNIXTime  Temperature  Pressure  Humidity  WindDirection(Degrees)  Speed  \\\n",
              "0  1478720107           59     30.47        44                  312.67   3.37   \n",
              "1  1474063503           59     30.48        83                   38.01   6.75   \n",
              "\n",
              "  TimeSunRise TimeSunSet  Year  Month  Week  Day  Hour  Minute  Second  \n",
              "0    06:28:00   17:45:00  2016     11    45    9     9      35       7  \n",
              "1    06:10:00   18:25:00  2016      9    37   16    12       5       3  "
            ]
          },
          "metadata": {
            "tags": []
          },
          "execution_count": 54
        }
      ]
    },
    {
      "cell_type": "code",
      "metadata": {
        "id": "g85pweX8pHJW",
        "colab_type": "code",
        "colab": {}
      },
      "source": [
        "entrenamiento_clean.to_csv('Training_Clean.csv')"
      ],
      "execution_count": null,
      "outputs": []
    },
    {
      "cell_type": "code",
      "metadata": {
        "id": "2X2uPjTBpHJd",
        "colab_type": "code",
        "colab": {}
      },
      "source": [
        "testeo.to_csv('Testeo_Clean.csv')"
      ],
      "execution_count": null,
      "outputs": []
    },
    {
      "cell_type": "code",
      "metadata": {
        "id": "svGTTYIgpHJr",
        "colab_type": "code",
        "colab": {},
        "outputId": "fde62c30-1cbc-4335-f7ef-c5546c97f363"
      },
      "source": [
        "sns.heatmap(entrenamiento.corr())"
      ],
      "execution_count": null,
      "outputs": [
        {
          "output_type": "execute_result",
          "data": {
            "text/plain": [
              "<matplotlib.axes._subplots.AxesSubplot at 0x22e053ca808>"
            ]
          },
          "metadata": {
            "tags": []
          },
          "execution_count": 55
        },
        {
          "output_type": "display_data",
          "data": {
            "image/png": "[encoded data removed]",
            "text/plain": [
              "<Figure size 432x288 with 2 Axes>"
            ]
          },
          "metadata": {
            "tags": [],
            "needs_background": "light"
          }
        }
      ]
    },
    {
      "cell_type": "code",
      "metadata": {
        "id": "JVeIBwVbpHJw",
        "colab_type": "code",
        "colab": {}
      },
      "source": [
        "entrenamiento.drop(columns=('Year'), inplace=True)\n",
        "\n",
        "testeo.drop(columns=('Year'), inplace=True)"
      ],
      "execution_count": null,
      "outputs": []
    },
    {
      "cell_type": "code",
      "metadata": {
        "id": "FVBOBsiRpHJ3",
        "colab_type": "code",
        "colab": {},
        "outputId": "328b4eaa-ae8b-4285-b8ca-6bd88d885ed6"
      },
      "source": [
        "sns.heatmap(entrenamiento.corr())"
      ],
      "execution_count": null,
      "outputs": [
        {
          "output_type": "execute_result",
          "data": {
            "text/plain": [
              "<matplotlib.axes._subplots.AxesSubplot at 0x22e05871608>"
            ]
          },
          "metadata": {
            "tags": []
          },
          "execution_count": 61
        },
        {
          "output_type": "display_data",
          "data": {
            "image/png": "[encoded data removed]",
            "text/plain": [
              "<Figure size 432x288 with 2 Axes>"
            ]
          },
          "metadata": {
            "tags": [],
            "needs_background": "light"
          }
        }
      ]
    },
    {
      "cell_type": "code",
      "metadata": {
        "id": "ir5Ap-LIpHJ7",
        "colab_type": "code",
        "colab": {}
      },
      "source": [
        "entrenamiento.drop(columns=('Week'), inplace=True)\n",
        "\n",
        "testeo.drop(columns=('Week'), inplace=True)"
      ],
      "execution_count": null,
      "outputs": []
    },
    {
      "cell_type": "code",
      "metadata": {
        "id": "atFhMsIrpHKF",
        "colab_type": "code",
        "colab": {}
      },
      "source": [
        "entrenamiento.drop(columns=('UNIXTime'), inplace=True)\n",
        "\n",
        "testeo.drop(columns=('UNIXTime'), inplace=True)"
      ],
      "execution_count": null,
      "outputs": []
    },
    {
      "cell_type": "code",
      "metadata": {
        "id": "lzRlO676pHKJ",
        "colab_type": "code",
        "colab": {},
        "outputId": "8ad3f316-0cba-47b2-f8dc-c4a05ae32632"
      },
      "source": [
        "sns.heatmap(entrenamiento.corr())"
      ],
      "execution_count": null,
      "outputs": [
        {
          "output_type": "execute_result",
          "data": {
            "text/plain": [
              "<matplotlib.axes._subplots.AxesSubplot at 0x22e05974908>"
            ]
          },
          "metadata": {
            "tags": []
          },
          "execution_count": 63
        },
        {
          "output_type": "display_data",
          "data": {
            "image/png": "[encoded data removed]",
            "text/plain": [
              "<Figure size 432x288 with 2 Axes>"
            ]
          },
          "metadata": {
            "tags": [],
            "needs_background": "light"
          }
        }
      ]
    },
    {
      "cell_type": "code",
      "metadata": {
        "id": "wv7glDy4pHKN",
        "colab_type": "code",
        "colab": {}
      },
      "source": [
        "#entrenamiento['TimeSunRise']=pd.to_datetime(entrenamiento['TimeSunRise'])\n",
        "#entrenamiento['TimeSunSet']=pd.to_datetime(entrenamiento['TimeSunSet'])\n",
        "\n",
        "#testeo['TimeSunSet']=pd.to_datetime(testeo['TimeSunSet'])\n",
        "#testeo['TimeSunRise']=pd.to_datetime(testeo['TimeSunRise'])"
      ],
      "execution_count": null,
      "outputs": []
    },
    {
      "cell_type": "code",
      "metadata": {
        "id": "9Zx90MNkpHKS",
        "colab_type": "code",
        "colab": {}
      },
      "source": [
        "entrenamiento.to_csv('training_clean.csv')\n",
        "testeo.to_csv('testing_clean.csv')"
      ],
      "execution_count": null,
      "outputs": []
    },
    {
      "cell_type": "code",
      "metadata": {
        "id": "lvZfnUSDpHKY",
        "colab_type": "code",
        "colab": {}
      },
      "source": [
        "training=pd.read_csv('training_clean.csv')\n",
        "testing=pd.read_csv('testing_clean.csv')"
      ],
      "execution_count": null,
      "outputs": []
    },
    {
      "cell_type": "code",
      "metadata": {
        "id": "fBfHbioKpHKc",
        "colab_type": "code",
        "colab": {},
        "outputId": "cef0cf26-8bcf-487c-ea4b-99f19df755fb"
      },
      "source": [
        "h2o.init()"
      ],
      "execution_count": null,
      "outputs": [
        {
          "output_type": "stream",
          "text": [
            "Checking whether there is an H2O instance running at http://localhost:54321 . connected.\n"
          ],
          "name": "stdout"
        },
        {
          "output_type": "display_data",
          "data": {
            "text/html": [
              "<div style=\"overflow:auto\"><table style=\"width:50%\"><tr><td>H2O_cluster_uptime:</td>\n",
              "<td>5 hours 53 mins</td></tr>\n",
              "<tr><td>H2O_cluster_timezone:</td>\n",
              "<td>America/Chicago</td></tr>\n",
              "<tr><td>H2O_data_parsing_timezone:</td>\n",
              "<td>UTC</td></tr>\n",
              "<tr><td>H2O_cluster_version:</td>\n",
              "<td>3.30.0.4</td></tr>\n",
              "<tr><td>H2O_cluster_version_age:</td>\n",
              "<td>6 days </td></tr>\n",
              "<tr><td>H2O_cluster_name:</td>\n",
              "<td>H2O_from_python_CÃ©sar_av5cdn</td></tr>\n",
              "<tr><td>H2O_cluster_total_nodes:</td>\n",
              "<td>1</td></tr>\n",
              "<tr><td>H2O_cluster_free_memory:</td>\n",
              "<td>3.965 Gb</td></tr>\n",
              "<tr><td>H2O_cluster_total_cores:</td>\n",
              "<td>12</td></tr>\n",
              "<tr><td>H2O_cluster_allowed_cores:</td>\n",
              "<td>12</td></tr>\n",
              "<tr><td>H2O_cluster_status:</td>\n",
              "<td>locked, healthy</td></tr>\n",
              "<tr><td>H2O_connection_url:</td>\n",
              "<td>http://localhost:54321</td></tr>\n",
              "<tr><td>H2O_connection_proxy:</td>\n",
              "<td>{\"http\": null, \"https\": null}</td></tr>\n",
              "<tr><td>H2O_internal_security:</td>\n",
              "<td>False</td></tr>\n",
              "<tr><td>H2O_API_Extensions:</td>\n",
              "<td>Amazon S3, Algos, AutoML, Core V3, TargetEncoder, Core V4</td></tr>\n",
              "<tr><td>Python_version:</td>\n",
              "<td>3.7.7 final</td></tr></table></div>"
            ],
            "text/plain": [
              "--------------------------  ---------------------------------------------------------\n",
              "H2O_cluster_uptime:         5 hours 53 mins\n",
              "H2O_cluster_timezone:       America/Chicago\n",
              "H2O_data_parsing_timezone:  UTC\n",
              "H2O_cluster_version:        3.30.0.4\n",
              "H2O_cluster_version_age:    6 days\n",
              "H2O_cluster_name:           H2O_from_python_CÃ©sar_av5cdn\n",
              "H2O_cluster_total_nodes:    1\n",
              "H2O_cluster_free_memory:    3.965 Gb\n",
              "H2O_cluster_total_cores:    12\n",
              "H2O_cluster_allowed_cores:  12\n",
              "H2O_cluster_status:         locked, healthy\n",
              "H2O_connection_url:         http://localhost:54321\n",
              "H2O_connection_proxy:       {\"http\": null, \"https\": null}\n",
              "H2O_internal_security:      False\n",
              "H2O_API_Extensions:         Amazon S3, Algos, AutoML, Core V3, TargetEncoder, Core V4\n",
              "Python_version:             3.7.7 final\n",
              "--------------------------  ---------------------------------------------------------"
            ]
          },
          "metadata": {
            "tags": []
          }
        }
      ]
    },
    {
      "cell_type": "code",
      "metadata": {
        "id": "jhqnA0H6pHKo",
        "colab_type": "code",
        "colab": {},
        "outputId": "d6c0ef15-c967-4289-c54a-bcbde5f9dfd9"
      },
      "source": [
        "# parsear datos a h2o\n",
        "train=h2o.import_file('training_clean.csv')\n",
        "test=h2o.import_file('testing_clean.csv')\n",
        "\n",
        "X=train.columns\n",
        "y='Radiation'\n",
        "X.remove(y)"
      ],
      "execution_count": null,
      "outputs": [
        {
          "output_type": "stream",
          "text": [
            "Parse progress: |█████████████████████████████████████████████████████████| 100%\n",
            "Parse progress: |█████████████████████████████████████████████████████████| 100%\n"
          ],
          "name": "stdout"
        }
      ]
    },
    {
      "cell_type": "code",
      "metadata": {
        "id": "UdvWIm_0pHKu",
        "colab_type": "code",
        "colab": {},
        "outputId": "7fbfe6db-130f-4cae-e651-4e510cf0bb6a"
      },
      "source": [
        "aml=H2OAutoML(max_models=10, seed=1)\n",
        "aml.train(x=X, y=y, training_frame=train)"
      ],
      "execution_count": null,
      "outputs": [
        {
          "output_type": "stream",
          "text": [
            "AutoML progress: |█\n",
            "23:11:09.45: AutoML: XGBoost is not available; skipping it.\n",
            "\n",
            "███████████████████████████████████████████████████████| 100%\n"
          ],
          "name": "stdout"
        }
      ]
    },
    {
      "cell_type": "code",
      "metadata": {
        "id": "WBEW7r6XpHK3",
        "colab_type": "code",
        "colab": {},
        "outputId": "642d74fd-d95e-4189-84c1-a187d499cec2"
      },
      "source": [
        "lb=aml.leaderboard\n",
        "\n",
        "lb.head(rows=lb.nrows)"
      ],
      "execution_count": null,
      "outputs": [
        {
          "output_type": "display_data",
          "data": {
            "text/html": [
              "<table>\n",
              "<thead>\n",
              "<tr><th>model_id                                           </th><th style=\"text-align: right;\">  mean_residual_deviance</th><th style=\"text-align: right;\">    rmse</th><th style=\"text-align: right;\">     mse</th><th style=\"text-align: right;\">     mae</th><th style=\"text-align: right;\">     rmsle</th></tr>\n",
              "</thead>\n",
              "<tbody>\n",
              "<tr><td>StackedEnsemble_AllModels_AutoML_20200607_231108   </td><td style=\"text-align: right;\">                 6356.91</td><td style=\"text-align: right;\"> 79.7302</td><td style=\"text-align: right;\"> 6356.91</td><td style=\"text-align: right;\"> 35.173 </td><td style=\"text-align: right;\">nan       </td></tr>\n",
              "<tr><td>StackedEnsemble_BestOfFamily_AutoML_20200607_231108</td><td style=\"text-align: right;\">                 6415.42</td><td style=\"text-align: right;\"> 80.0963</td><td style=\"text-align: right;\"> 6415.42</td><td style=\"text-align: right;\"> 35.714 </td><td style=\"text-align: right;\">nan       </td></tr>\n",
              "<tr><td>GBM_3_AutoML_20200607_231108                       </td><td style=\"text-align: right;\">                 6657.73</td><td style=\"text-align: right;\"> 81.5949</td><td style=\"text-align: right;\"> 6657.73</td><td style=\"text-align: right;\"> 36.803 </td><td style=\"text-align: right;\">nan       </td></tr>\n",
              "<tr><td>GBM_4_AutoML_20200607_231108                       </td><td style=\"text-align: right;\">                 6689.38</td><td style=\"text-align: right;\"> 81.7886</td><td style=\"text-align: right;\"> 6689.38</td><td style=\"text-align: right;\"> 36.5289</td><td style=\"text-align: right;\">nan       </td></tr>\n",
              "<tr><td>DRF_1_AutoML_20200607_231108                       </td><td style=\"text-align: right;\">                 6769.77</td><td style=\"text-align: right;\"> 82.2786</td><td style=\"text-align: right;\"> 6769.77</td><td style=\"text-align: right;\"> 36.3843</td><td style=\"text-align: right;\">  0.63041 </td></tr>\n",
              "<tr><td>GBM_2_AutoML_20200607_231108                       </td><td style=\"text-align: right;\">                 6819.72</td><td style=\"text-align: right;\"> 82.5816</td><td style=\"text-align: right;\"> 6819.72</td><td style=\"text-align: right;\"> 38.3613</td><td style=\"text-align: right;\">nan       </td></tr>\n",
              "<tr><td>XRT_1_AutoML_20200607_231108                       </td><td style=\"text-align: right;\">                 6879.48</td><td style=\"text-align: right;\"> 82.9426</td><td style=\"text-align: right;\"> 6879.48</td><td style=\"text-align: right;\"> 37.2615</td><td style=\"text-align: right;\">  0.642509</td></tr>\n",
              "<tr><td>GBM_5_AutoML_20200607_231108                       </td><td style=\"text-align: right;\">                 7078.13</td><td style=\"text-align: right;\"> 84.1316</td><td style=\"text-align: right;\"> 7078.13</td><td style=\"text-align: right;\"> 40.4343</td><td style=\"text-align: right;\">nan       </td></tr>\n",
              "<tr><td>GBM_1_AutoML_20200607_231108                       </td><td style=\"text-align: right;\">                 7508.82</td><td style=\"text-align: right;\"> 86.6534</td><td style=\"text-align: right;\"> 7508.82</td><td style=\"text-align: right;\"> 41.4967</td><td style=\"text-align: right;\">nan       </td></tr>\n",
              "<tr><td>GBM_grid__1_AutoML_20200607_231108_model_1         </td><td style=\"text-align: right;\">                 9502.08</td><td style=\"text-align: right;\"> 97.4786</td><td style=\"text-align: right;\"> 9502.08</td><td style=\"text-align: right;\"> 50.3281</td><td style=\"text-align: right;\">nan       </td></tr>\n",
              "<tr><td>DeepLearning_1_AutoML_20200607_231108              </td><td style=\"text-align: right;\">                11693.4 </td><td style=\"text-align: right;\">108.136 </td><td style=\"text-align: right;\">11693.4 </td><td style=\"text-align: right;\"> 58.442 </td><td style=\"text-align: right;\">nan       </td></tr>\n",
              "<tr><td>GLM_1_AutoML_20200607_231108                       </td><td style=\"text-align: right;\">                37153.9 </td><td style=\"text-align: right;\">192.754 </td><td style=\"text-align: right;\">37153.9 </td><td style=\"text-align: right;\">145.779 </td><td style=\"text-align: right;\">nan       </td></tr>\n",
              "</tbody>\n",
              "</table>"
            ]
          },
          "metadata": {
            "tags": []
          }
        },
        {
          "output_type": "execute_result",
          "data": {
            "text/plain": [
              ""
            ]
          },
          "metadata": {
            "tags": []
          },
          "execution_count": 72
        }
      ]
    },
    {
      "cell_type": "code",
      "metadata": {
        "id": "AYAhPYs7pHLB",
        "colab_type": "code",
        "colab": {},
        "outputId": "2ffe3f8b-ecf8-4ca0-f9e3-a63b721487ea"
      },
      "source": [
        "aml.leader"
      ],
      "execution_count": null,
      "outputs": [
        {
          "output_type": "stream",
          "text": [
            "Model Details\n",
            "=============\n",
            "H2OStackedEnsembleEstimator :  Stacked Ensemble\n",
            "Model Key:  StackedEnsemble_AllModels_AutoML_20200607_231108\n",
            "\n",
            "No model summary for this model\n",
            "\n",
            "ModelMetricsRegressionGLM: stackedensemble\n",
            "** Reported on train data. **\n",
            "\n",
            "MSE: 2014.6401980134397\n",
            "RMSE: 44.884743488332866\n",
            "MAE: 20.57419526533412\n",
            "RMSLE: NaN\n",
            "R^2: 0.9801180517236032\n",
            "Mean Residual Deviance: 2014.6401980134397\n",
            "Null degrees of freedom: 10020\n",
            "Residual degrees of freedom: 10015\n",
            "Null deviance: 1015645520.072211\n",
            "Residual deviance: 20188709.42429268\n",
            "AIC: 104694.09716288584\n",
            "\n",
            "ModelMetricsRegressionGLM: stackedensemble\n",
            "** Reported on cross-validation data. **\n",
            "\n",
            "MSE: 6356.91211747947\n",
            "RMSE: 79.73024593891247\n",
            "MAE: 35.17302159839641\n",
            "RMSLE: NaN\n",
            "R^2: 0.9362655304419911\n",
            "Mean Residual Deviance: 6356.91211747947\n",
            "Null degrees of freedom: 24510\n",
            "Residual degrees of freedom: 24505\n",
            "Null deviance: 2444971288.151738\n",
            "Residual deviance: 155814272.9115393\n",
            "AIC: 284223.336599685\n"
          ],
          "name": "stdout"
        },
        {
          "output_type": "execute_result",
          "data": {
            "text/plain": [
              ""
            ]
          },
          "metadata": {
            "tags": []
          },
          "execution_count": 73
        }
      ]
    },
    {
      "cell_type": "code",
      "metadata": {
        "id": "zFtPsdsnpHLQ",
        "colab_type": "code",
        "colab": {},
        "outputId": "b34543a6-80f1-42c9-962d-5c5b139f4e70"
      },
      "source": [
        "pred=aml.leader.predict(test)\n",
        "\n",
        "pred.shape"
      ],
      "execution_count": null,
      "outputs": [
        {
          "output_type": "stream",
          "text": [
            "stackedensemble prediction progress: |████████████████████████████████████| 100%\n"
          ],
          "name": "stdout"
        },
        {
          "output_type": "execute_result",
          "data": {
            "text/plain": [
              "(8172, 1)"
            ]
          },
          "metadata": {
            "tags": []
          },
          "execution_count": 74
        }
      ]
    },
    {
      "cell_type": "code",
      "metadata": {
        "id": "JNUcN7bzpHLf",
        "colab_type": "code",
        "colab": {}
      },
      "source": [
        "pred_df=h2o.as_list(pred)"
      ],
      "execution_count": null,
      "outputs": []
    },
    {
      "cell_type": "code",
      "metadata": {
        "id": "P7CxjzJNpHLv",
        "colab_type": "code",
        "colab": {}
      },
      "source": [
        "pred_df.insert(0,'ID',pred_df.index)"
      ],
      "execution_count": null,
      "outputs": []
    },
    {
      "cell_type": "code",
      "metadata": {
        "id": "WrNE15bzpHMD",
        "colab_type": "code",
        "colab": {},
        "outputId": "e7bfa3df-4be3-4633-aa94-fac4979749f6"
      },
      "source": [
        "pred_df"
      ],
      "execution_count": null,
      "outputs": [
        {
          "output_type": "execute_result",
          "data": {
            "text/html": [
              "<div>\n",
              "<style scoped>\n",
              "    .dataframe tbody tr th:only-of-type {\n",
              "        vertical-align: middle;\n",
              "    }\n",
              "\n",
              "    .dataframe tbody tr th {\n",
              "        vertical-align: top;\n",
              "    }\n",
              "\n",
              "    .dataframe thead th {\n",
              "        text-align: right;\n",
              "    }\n",
              "</style>\n",
              "<table border=\"1\" class=\"dataframe\">\n",
              "  <thead>\n",
              "    <tr style=\"text-align: right;\">\n",
              "      <th></th>\n",
              "      <th>ID</th>\n",
              "      <th>predict</th>\n",
              "    </tr>\n",
              "  </thead>\n",
              "  <tbody>\n",
              "    <tr>\n",
              "      <th>0</th>\n",
              "      <td>0</td>\n",
              "      <td>659.746862</td>\n",
              "    </tr>\n",
              "    <tr>\n",
              "      <th>1</th>\n",
              "      <td>1</td>\n",
              "      <td>874.630771</td>\n",
              "    </tr>\n",
              "    <tr>\n",
              "      <th>2</th>\n",
              "      <td>2</td>\n",
              "      <td>-0.299961</td>\n",
              "    </tr>\n",
              "    <tr>\n",
              "      <th>3</th>\n",
              "      <td>3</td>\n",
              "      <td>10.329457</td>\n",
              "    </tr>\n",
              "    <tr>\n",
              "      <th>4</th>\n",
              "      <td>4</td>\n",
              "      <td>-0.745673</td>\n",
              "    </tr>\n",
              "    <tr>\n",
              "      <th>...</th>\n",
              "      <td>...</td>\n",
              "      <td>...</td>\n",
              "    </tr>\n",
              "    <tr>\n",
              "      <th>8167</th>\n",
              "      <td>8167</td>\n",
              "      <td>416.209889</td>\n",
              "    </tr>\n",
              "    <tr>\n",
              "      <th>8168</th>\n",
              "      <td>8168</td>\n",
              "      <td>-3.892958</td>\n",
              "    </tr>\n",
              "    <tr>\n",
              "      <th>8169</th>\n",
              "      <td>8169</td>\n",
              "      <td>9.349084</td>\n",
              "    </tr>\n",
              "    <tr>\n",
              "      <th>8170</th>\n",
              "      <td>8170</td>\n",
              "      <td>-0.737382</td>\n",
              "    </tr>\n",
              "    <tr>\n",
              "      <th>8171</th>\n",
              "      <td>8171</td>\n",
              "      <td>909.693237</td>\n",
              "    </tr>\n",
              "  </tbody>\n",
              "</table>\n",
              "<p>8172 rows × 2 columns</p>\n",
              "</div>"
            ],
            "text/plain": [
              "        ID     predict\n",
              "0        0  659.746862\n",
              "1        1  874.630771\n",
              "2        2   -0.299961\n",
              "3        3   10.329457\n",
              "4        4   -0.745673\n",
              "...    ...         ...\n",
              "8167  8167  416.209889\n",
              "8168  8168   -3.892958\n",
              "8169  8169    9.349084\n",
              "8170  8170   -0.737382\n",
              "8171  8171  909.693237\n",
              "\n",
              "[8172 rows x 2 columns]"
            ]
          },
          "metadata": {
            "tags": []
          },
          "execution_count": 77
        }
      ]
    },
    {
      "cell_type": "code",
      "metadata": {
        "id": "GEqKwHsqpHMQ",
        "colab_type": "code",
        "colab": {}
      },
      "source": [
        "pred_df.rename(columns={'predict':'Radiation','ID':'id'},inplace=True)"
      ],
      "execution_count": null,
      "outputs": []
    }
  ]
}