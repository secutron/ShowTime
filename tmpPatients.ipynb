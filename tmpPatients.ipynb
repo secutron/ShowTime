{
  "nbformat": 4,
  "nbformat_minor": 0,
  "metadata": {
    "kernelspec": {
      "display_name": "Python 3",
      "language": "python",
      "name": "python3"
    },
    "language_info": {
      "codemirror_mode": {
        "name": "ipython",
        "version": 3
      },
      "file_extension": ".py",
      "mimetype": "text/x-python",
      "name": "python",
      "nbconvert_exporter": "python",
      "pygments_lexer": "ipython3",
      "version": "3.7.7"
    },
    "colab": {
      "name": "tmpPatients.ipynb",
      "provenance": [],
      "collapsed_sections": [],
      "include_colab_link": true
    },
    "accelerator": "GPU"
  },
  "cells": [
    {
      "cell_type": "markdown",
      "metadata": {
        "id": "view-in-github",
        "colab_type": "text"
      },
      "source": [
        "<a href=\"https://colab.research.google.com/github/secutron/ShowTime/blob/master/tmpPatients.ipynb\" target=\"_parent\"><img src=\"https://colab.research.google.com/assets/colab-badge.svg\" alt=\"Open In Colab\"/></a>"
      ]
    },
    {
      "cell_type": "code",
      "metadata": {
        "id": "zh05iRg1pvCw",
        "colab_type": "code",
        "colab": {
          "base_uri": "https://localhost:8080/",
          "height": 357
        },
        "outputId": "e81c7757-0f23-40b9-f49a-adea6b032e34"
      },
      "source": [
        "!nvidia-smi"
      ],
      "execution_count": 23,
      "outputs": [
        {
          "output_type": "stream",
          "text": [
            "Thu Jun 18 06:22:18 2020       \n",
            "+-----------------------------------------------------------------------------+\n",
            "| NVIDIA-SMI 450.36.06    Driver Version: 418.67       CUDA Version: 10.1     |\n",
            "|-------------------------------+----------------------+----------------------+\n",
            "| GPU  Name        Persistence-M| Bus-Id        Disp.A | Volatile Uncorr. ECC |\n",
            "| Fan  Temp  Perf  Pwr:Usage/Cap|         Memory-Usage | GPU-Util  Compute M. |\n",
            "|                               |                      |               MIG M. |\n",
            "|===============================+======================+======================|\n",
            "|   0  Tesla K80           Off  | 00000000:00:04.0 Off |                    0 |\n",
            "| N/A   73C    P0    78W / 149W |     74MiB / 11441MiB |      0%      Default |\n",
            "|                               |                      |                 ERR! |\n",
            "+-------------------------------+----------------------+----------------------+\n",
            "                                                                               \n",
            "+-----------------------------------------------------------------------------+\n",
            "| Processes:                                                                  |\n",
            "|  GPU   GI   CI        PID   Type   Process name                  GPU Memory |\n",
            "|        ID   ID                                                   Usage      |\n",
            "|=============================================================================|\n",
            "|  No running processes found                                                 |\n",
            "+-----------------------------------------------------------------------------+\n"
          ],
          "name": "stdout"
        }
      ]
    },
    {
      "cell_type": "code",
      "metadata": {
        "id": "ZETzO0ZQMiNN",
        "colab_type": "code",
        "colab": {
          "base_uri": "https://localhost:8080/",
          "height": 357
        },
        "outputId": "eab37a54-3138-4b11-ec38-a7da9875fbd7"
      },
      "source": [
        "!apt-get install default-jre\n",
        "!java -version\n",
        "\n",
        "!pip install h2o"
      ],
      "execution_count": 24,
      "outputs": [
        {
          "output_type": "stream",
          "text": [
            "Reading package lists... Done\n",
            "Building dependency tree       \n",
            "Reading state information... Done\n",
            "default-jre is already the newest version (2:1.11-68ubuntu1~18.04.1).\n",
            "The following package was automatically installed and is no longer required:\n",
            "  libnvidia-common-440\n",
            "Use 'apt autoremove' to remove it.\n",
            "0 upgraded, 0 newly installed, 0 to remove and 43 not upgraded.\n",
            "openjdk version \"11.0.7\" 2020-04-14\n",
            "OpenJDK Runtime Environment (build 11.0.7+10-post-Ubuntu-2ubuntu218.04)\n",
            "OpenJDK 64-Bit Server VM (build 11.0.7+10-post-Ubuntu-2ubuntu218.04, mixed mode, sharing)\n",
            "Requirement already satisfied: h2o in /usr/local/lib/python3.6/dist-packages (3.30.0.4)\n",
            "Requirement already satisfied: future in /usr/local/lib/python3.6/dist-packages (from h2o) (0.16.0)\n",
            "Requirement already satisfied: tabulate in /usr/local/lib/python3.6/dist-packages (from h2o) (0.8.7)\n",
            "Requirement already satisfied: requests in /usr/local/lib/python3.6/dist-packages (from h2o) (2.23.0)\n",
            "Requirement already satisfied: colorama>=0.3.8 in /usr/local/lib/python3.6/dist-packages (from h2o) (0.4.3)\n",
            "Requirement already satisfied: chardet<4,>=3.0.2 in /usr/local/lib/python3.6/dist-packages (from requests->h2o) (3.0.4)\n",
            "Requirement already satisfied: certifi>=2017.4.17 in /usr/local/lib/python3.6/dist-packages (from requests->h2o) (2020.4.5.2)\n",
            "Requirement already satisfied: urllib3!=1.25.0,!=1.25.1,<1.26,>=1.21.1 in /usr/local/lib/python3.6/dist-packages (from requests->h2o) (1.24.3)\n",
            "Requirement already satisfied: idna<3,>=2.5 in /usr/local/lib/python3.6/dist-packages (from requests->h2o) (2.9)\n"
          ],
          "name": "stdout"
        }
      ]
    },
    {
      "cell_type": "code",
      "metadata": {
        "id": "o-RFSX2bpHEQ",
        "colab_type": "code",
        "colab": {}
      },
      "source": [
        "import pandas as pd\n",
        "import h2o\n",
        "from h2o.automl import H2OAutoML\n",
        "import matplotlib.pyplot as plt\n",
        "import seaborn as sns\n",
        "import numpy as np\n",
        "import warnings\n",
        "warnings.filterwarnings(\"ignore\")"
      ],
      "execution_count": 25,
      "outputs": []
    },
    {
      "cell_type": "code",
      "metadata": {
        "id": "21oznSyfM14r",
        "colab_type": "code",
        "colab": {
          "base_uri": "https://localhost:8080/",
          "height": 372
        },
        "outputId": "4d160940-5762-4b86-cbe3-0988c5a84fdc"
      },
      "source": [
        "h2o.init()"
      ],
      "execution_count": 26,
      "outputs": [
        {
          "output_type": "stream",
          "text": [
            "Checking whether there is an H2O instance running at http://localhost:54321 . connected.\n"
          ],
          "name": "stdout"
        },
        {
          "output_type": "display_data",
          "data": {
            "text/html": [
              "<div style=\"overflow:auto\"><table style=\"width:50%\"><tr><td>H2O_cluster_uptime:</td>\n",
              "<td>32 mins 43 secs</td></tr>\n",
              "<tr><td>H2O_cluster_timezone:</td>\n",
              "<td>Etc/UTC</td></tr>\n",
              "<tr><td>H2O_data_parsing_timezone:</td>\n",
              "<td>UTC</td></tr>\n",
              "<tr><td>H2O_cluster_version:</td>\n",
              "<td>3.30.0.4</td></tr>\n",
              "<tr><td>H2O_cluster_version_age:</td>\n",
              "<td>16 days </td></tr>\n",
              "<tr><td>H2O_cluster_name:</td>\n",
              "<td>H2O_from_python_unknownUser_4bzzcl</td></tr>\n",
              "<tr><td>H2O_cluster_total_nodes:</td>\n",
              "<td>1</td></tr>\n",
              "<tr><td>H2O_cluster_free_memory:</td>\n",
              "<td>3.178 Gb</td></tr>\n",
              "<tr><td>H2O_cluster_total_cores:</td>\n",
              "<td>2</td></tr>\n",
              "<tr><td>H2O_cluster_allowed_cores:</td>\n",
              "<td>2</td></tr>\n",
              "<tr><td>H2O_cluster_status:</td>\n",
              "<td>locked, healthy</td></tr>\n",
              "<tr><td>H2O_connection_url:</td>\n",
              "<td>http://localhost:54321</td></tr>\n",
              "<tr><td>H2O_connection_proxy:</td>\n",
              "<td>{\"http\": null, \"https\": null}</td></tr>\n",
              "<tr><td>H2O_internal_security:</td>\n",
              "<td>False</td></tr>\n",
              "<tr><td>H2O_API_Extensions:</td>\n",
              "<td>Amazon S3, XGBoost, Algos, AutoML, Core V3, TargetEncoder, Core V4</td></tr>\n",
              "<tr><td>Python_version:</td>\n",
              "<td>3.6.9 final</td></tr></table></div>"
            ],
            "text/plain": [
              "--------------------------  ------------------------------------------------------------------\n",
              "H2O_cluster_uptime:         32 mins 43 secs\n",
              "H2O_cluster_timezone:       Etc/UTC\n",
              "H2O_data_parsing_timezone:  UTC\n",
              "H2O_cluster_version:        3.30.0.4\n",
              "H2O_cluster_version_age:    16 days\n",
              "H2O_cluster_name:           H2O_from_python_unknownUser_4bzzcl\n",
              "H2O_cluster_total_nodes:    1\n",
              "H2O_cluster_free_memory:    3.178 Gb\n",
              "H2O_cluster_total_cores:    2\n",
              "H2O_cluster_allowed_cores:  2\n",
              "H2O_cluster_status:         locked, healthy\n",
              "H2O_connection_url:         http://localhost:54321\n",
              "H2O_connection_proxy:       {\"http\": null, \"https\": null}\n",
              "H2O_internal_security:      False\n",
              "H2O_API_Extensions:         Amazon S3, XGBoost, Algos, AutoML, Core V3, TargetEncoder, Core V4\n",
              "Python_version:             3.6.9 final\n",
              "--------------------------  ------------------------------------------------------------------"
            ]
          },
          "metadata": {
            "tags": []
          }
        }
      ]
    },
    {
      "cell_type": "code",
      "metadata": {
        "id": "j-hh1yRQpHE0",
        "colab_type": "code",
        "colab": {
          "base_uri": "https://localhost:8080/",
          "height": 34
        },
        "outputId": "6ff37b96-5178-437d-fab0-4824b0a7b539"
      },
      "source": [
        "data = h2o.import_file('column_2C_weka.csv')"
      ],
      "execution_count": 27,
      "outputs": [
        {
          "output_type": "stream",
          "text": [
            "Parse progress: |█████████████████████████████████████████████████████████| 100%\n"
          ],
          "name": "stdout"
        }
      ]
    },
    {
      "cell_type": "code",
      "metadata": {
        "id": "oaPenWJhpHFA",
        "colab_type": "code",
        "colab": {
          "base_uri": "https://localhost:8080/",
          "height": 250
        },
        "outputId": "909ac9e3-6bc4-499c-caae-8f4b8f705338"
      },
      "source": [
        "data.head()"
      ],
      "execution_count": 28,
      "outputs": [
        {
          "output_type": "display_data",
          "data": {
            "text/html": [
              "<table>\n",
              "<thead>\n",
              "<tr><th style=\"text-align: right;\">  pelvic_incidence</th><th style=\"text-align: right;\">  pelvic_tilt numeric</th><th style=\"text-align: right;\">  lumbar_lordosis_angle</th><th style=\"text-align: right;\">  sacral_slope</th><th style=\"text-align: right;\">  pelvic_radius</th><th style=\"text-align: right;\">  degree_spondylolisthesis</th><th>class   </th></tr>\n",
              "</thead>\n",
              "<tbody>\n",
              "<tr><td style=\"text-align: right;\">           63.0278</td><td style=\"text-align: right;\">             22.5526 </td><td style=\"text-align: right;\">                39.6091</td><td style=\"text-align: right;\">       40.4752</td><td style=\"text-align: right;\">        98.6729</td><td style=\"text-align: right;\">                 -0.2544  </td><td>Abnormal</td></tr>\n",
              "<tr><td style=\"text-align: right;\">           39.057 </td><td style=\"text-align: right;\">             10.061  </td><td style=\"text-align: right;\">                25.0154</td><td style=\"text-align: right;\">       28.996 </td><td style=\"text-align: right;\">       114.405 </td><td style=\"text-align: right;\">                  4.56426 </td><td>Abnormal</td></tr>\n",
              "<tr><td style=\"text-align: right;\">           68.832 </td><td style=\"text-align: right;\">             22.2185 </td><td style=\"text-align: right;\">                50.0922</td><td style=\"text-align: right;\">       46.6135</td><td style=\"text-align: right;\">       105.985 </td><td style=\"text-align: right;\">                 -3.53032 </td><td>Abnormal</td></tr>\n",
              "<tr><td style=\"text-align: right;\">           69.297 </td><td style=\"text-align: right;\">             24.6529 </td><td style=\"text-align: right;\">                44.3112</td><td style=\"text-align: right;\">       44.6441</td><td style=\"text-align: right;\">       101.868 </td><td style=\"text-align: right;\">                 11.2115  </td><td>Abnormal</td></tr>\n",
              "<tr><td style=\"text-align: right;\">           49.7129</td><td style=\"text-align: right;\">              9.65207</td><td style=\"text-align: right;\">                28.3174</td><td style=\"text-align: right;\">       40.0608</td><td style=\"text-align: right;\">       108.169 </td><td style=\"text-align: right;\">                  7.9185  </td><td>Abnormal</td></tr>\n",
              "<tr><td style=\"text-align: right;\">           40.2502</td><td style=\"text-align: right;\">             13.9219 </td><td style=\"text-align: right;\">                25.1249</td><td style=\"text-align: right;\">       26.3283</td><td style=\"text-align: right;\">       130.328 </td><td style=\"text-align: right;\">                  2.23065 </td><td>Abnormal</td></tr>\n",
              "<tr><td style=\"text-align: right;\">           53.4329</td><td style=\"text-align: right;\">             15.8643 </td><td style=\"text-align: right;\">                37.1659</td><td style=\"text-align: right;\">       37.5686</td><td style=\"text-align: right;\">       120.568 </td><td style=\"text-align: right;\">                  5.98855 </td><td>Abnormal</td></tr>\n",
              "<tr><td style=\"text-align: right;\">           45.3668</td><td style=\"text-align: right;\">             10.7556 </td><td style=\"text-align: right;\">                29.0383</td><td style=\"text-align: right;\">       34.6111</td><td style=\"text-align: right;\">       117.27  </td><td style=\"text-align: right;\">                -10.6759  </td><td>Abnormal</td></tr>\n",
              "<tr><td style=\"text-align: right;\">           43.7902</td><td style=\"text-align: right;\">             13.5338 </td><td style=\"text-align: right;\">                42.6908</td><td style=\"text-align: right;\">       30.2564</td><td style=\"text-align: right;\">       125.003 </td><td style=\"text-align: right;\">                 13.289   </td><td>Abnormal</td></tr>\n",
              "<tr><td style=\"text-align: right;\">           36.6864</td><td style=\"text-align: right;\">              5.01088</td><td style=\"text-align: right;\">                41.9488</td><td style=\"text-align: right;\">       31.6755</td><td style=\"text-align: right;\">        84.2414</td><td style=\"text-align: right;\">                  0.664437</td><td>Abnormal</td></tr>\n",
              "</tbody>\n",
              "</table>"
            ]
          },
          "metadata": {
            "tags": []
          }
        },
        {
          "output_type": "execute_result",
          "data": {
            "text/plain": [
              ""
            ]
          },
          "metadata": {
            "tags": []
          },
          "execution_count": 28
        }
      ]
    },
    {
      "cell_type": "code",
      "metadata": {
        "id": "EQoz8aQTpHFP",
        "colab_type": "code",
        "colab": {
          "base_uri": "https://localhost:8080/",
          "height": 136
        },
        "outputId": "299066e1-d6c7-411e-ceb6-225a1785d595"
      },
      "source": [
        "data.types"
      ],
      "execution_count": 29,
      "outputs": [
        {
          "output_type": "execute_result",
          "data": {
            "text/plain": [
              "{'class': 'enum',\n",
              " 'degree_spondylolisthesis': 'real',\n",
              " 'lumbar_lordosis_angle': 'real',\n",
              " 'pelvic_incidence': 'real',\n",
              " 'pelvic_radius': 'real',\n",
              " 'pelvic_tilt numeric': 'real',\n",
              " 'sacral_slope': 'real'}"
            ]
          },
          "metadata": {
            "tags": []
          },
          "execution_count": 29
        }
      ]
    },
    {
      "cell_type": "code",
      "metadata": {
        "id": "-tFOX9XypHFZ",
        "colab_type": "code",
        "colab": {
          "base_uri": "https://localhost:8080/",
          "height": 465
        },
        "outputId": "db817c99-f8ef-4dc5-9841-8c6e009ec4bd"
      },
      "source": [
        "data.describe()   "
      ],
      "execution_count": 30,
      "outputs": [
        {
          "output_type": "stream",
          "text": [
            "Rows:310\n",
            "Cols:7\n",
            "\n",
            "\n"
          ],
          "name": "stdout"
        },
        {
          "output_type": "display_data",
          "data": {
            "text/html": [
              "<table>\n",
              "<thead>\n",
              "<tr><th>       </th><th>pelvic_incidence  </th><th>pelvic_tilt numeric  </th><th>lumbar_lordosis_angle  </th><th>sacral_slope      </th><th>pelvic_radius     </th><th>degree_spondylolisthesis  </th><th>class   </th></tr>\n",
              "</thead>\n",
              "<tbody>\n",
              "<tr><td>type   </td><td>real              </td><td>real                 </td><td>real                   </td><td>real              </td><td>real              </td><td>real                      </td><td>enum    </td></tr>\n",
              "<tr><td>mins   </td><td>26.14792141       </td><td>-6.554948347         </td><td>14.0                   </td><td>13.3669307        </td><td>70.08257486       </td><td>-11.05817866              </td><td>        </td></tr>\n",
              "<tr><td>mean   </td><td>60.496652929516145</td><td>17.54282196797096    </td><td>51.93092960345161      </td><td>42.95383096141935 </td><td>117.92065502380645</td><td>26.296694437867743        </td><td>        </td></tr>\n",
              "<tr><td>maxs   </td><td>129.8340406       </td><td>49.4318636           </td><td>125.7423855            </td><td>121.4295656       </td><td>163.0710405       </td><td>418.5430821               </td><td>        </td></tr>\n",
              "<tr><td>sigma  </td><td>17.236520321708866</td><td>10.008330258206355   </td><td>18.55406396276117      </td><td>13.423102164839573</td><td>13.31737704490458 </td><td>37.55902655487235         </td><td>        </td></tr>\n",
              "<tr><td>zeros  </td><td>0                 </td><td>0                    </td><td>0                      </td><td>0                 </td><td>0                 </td><td>0                         </td><td>        </td></tr>\n",
              "<tr><td>missing</td><td>0                 </td><td>0                    </td><td>0                      </td><td>0                 </td><td>0                 </td><td>0                         </td><td>0       </td></tr>\n",
              "<tr><td>0      </td><td>63.0278175        </td><td>22.55258597          </td><td>39.60911701            </td><td>40.47523153       </td><td>98.67291675       </td><td>-0.254399986              </td><td>Abnormal</td></tr>\n",
              "<tr><td>1      </td><td>39.05695098       </td><td>10.06099147          </td><td>25.01537822            </td><td>28.99595951       </td><td>114.4054254       </td><td>4.564258645               </td><td>Abnormal</td></tr>\n",
              "<tr><td>2      </td><td>68.83202098       </td><td>22.21848205          </td><td>50.09219357            </td><td>46.61353893       </td><td>105.9851355       </td><td>-3.530317314              </td><td>Abnormal</td></tr>\n",
              "<tr><td>3      </td><td>69.29700807       </td><td>24.65287791          </td><td>44.31123813            </td><td>44.64413017       </td><td>101.8684951       </td><td>11.21152344               </td><td>Abnormal</td></tr>\n",
              "<tr><td>4      </td><td>49.71285934       </td><td>9.652074879          </td><td>28.317406              </td><td>40.06078446       </td><td>108.1687249       </td><td>7.918500615               </td><td>Abnormal</td></tr>\n",
              "<tr><td>5      </td><td>40.25019968       </td><td>13.92190658          </td><td>25.1249496             </td><td>26.32829311       </td><td>130.3278713       </td><td>2.230651729               </td><td>Abnormal</td></tr>\n",
              "<tr><td>6      </td><td>53.43292815       </td><td>15.86433612          </td><td>37.16593387            </td><td>37.56859203       </td><td>120.5675233       </td><td>5.988550702               </td><td>Abnormal</td></tr>\n",
              "<tr><td>7      </td><td>45.36675362       </td><td>10.75561143          </td><td>29.03834896            </td><td>34.61114218       </td><td>117.2700675       </td><td>-10.67587083              </td><td>Abnormal</td></tr>\n",
              "<tr><td>8      </td><td>43.79019026       </td><td>13.5337531           </td><td>42.69081398            </td><td>30.25643716       </td><td>125.0028927       </td><td>13.28901817               </td><td>Abnormal</td></tr>\n",
              "<tr><td>9      </td><td>36.68635286       </td><td>5.010884121          </td><td>41.9487509             </td><td>31.67546874       </td><td>84.24141517       </td><td>0.664437117               </td><td>Abnormal</td></tr>\n",
              "</tbody>\n",
              "</table>"
            ]
          },
          "metadata": {
            "tags": []
          }
        }
      ]
    },
    {
      "cell_type": "code",
      "metadata": {
        "id": "4Nif1UyKpHFg",
        "colab_type": "code",
        "colab": {}
      },
      "source": [
        "#Train:- 70%\n",
        "# Test:- 15%\n",
        "# Validation :- 15%"
      ],
      "execution_count": 31,
      "outputs": []
    },
    {
      "cell_type": "code",
      "metadata": {
        "id": "a7YcdNMMpHFq",
        "colab_type": "code",
        "colab": {}
      },
      "source": [
        "data_train,data_test,data_valid = data.split_frame(ratios=[.7, .15])"
      ],
      "execution_count": 32,
      "outputs": []
    },
    {
      "cell_type": "code",
      "metadata": {
        "id": "WY0U8vIHpHFx",
        "colab_type": "code",
        "colab": {
          "base_uri": "https://localhost:8080/",
          "height": 250
        },
        "outputId": "9302e893-ec0a-43fb-8ee9-c62a3317d685"
      },
      "source": [
        "data_train"
      ],
      "execution_count": 33,
      "outputs": [
        {
          "output_type": "display_data",
          "data": {
            "text/html": [
              "<table>\n",
              "<thead>\n",
              "<tr><th style=\"text-align: right;\">  pelvic_incidence</th><th style=\"text-align: right;\">  pelvic_tilt numeric</th><th style=\"text-align: right;\">  lumbar_lordosis_angle</th><th style=\"text-align: right;\">  sacral_slope</th><th style=\"text-align: right;\">  pelvic_radius</th><th style=\"text-align: right;\">  degree_spondylolisthesis</th><th>class   </th></tr>\n",
              "</thead>\n",
              "<tbody>\n",
              "<tr><td style=\"text-align: right;\">           63.0278</td><td style=\"text-align: right;\">             22.5526 </td><td style=\"text-align: right;\">                39.6091</td><td style=\"text-align: right;\">       40.4752</td><td style=\"text-align: right;\">        98.6729</td><td style=\"text-align: right;\">                 -0.2544  </td><td>Abnormal</td></tr>\n",
              "<tr><td style=\"text-align: right;\">           39.057 </td><td style=\"text-align: right;\">             10.061  </td><td style=\"text-align: right;\">                25.0154</td><td style=\"text-align: right;\">       28.996 </td><td style=\"text-align: right;\">       114.405 </td><td style=\"text-align: right;\">                  4.56426 </td><td>Abnormal</td></tr>\n",
              "<tr><td style=\"text-align: right;\">           69.297 </td><td style=\"text-align: right;\">             24.6529 </td><td style=\"text-align: right;\">                44.3112</td><td style=\"text-align: right;\">       44.6441</td><td style=\"text-align: right;\">       101.868 </td><td style=\"text-align: right;\">                 11.2115  </td><td>Abnormal</td></tr>\n",
              "<tr><td style=\"text-align: right;\">           49.7129</td><td style=\"text-align: right;\">              9.65207</td><td style=\"text-align: right;\">                28.3174</td><td style=\"text-align: right;\">       40.0608</td><td style=\"text-align: right;\">       108.169 </td><td style=\"text-align: right;\">                  7.9185  </td><td>Abnormal</td></tr>\n",
              "<tr><td style=\"text-align: right;\">           40.2502</td><td style=\"text-align: right;\">             13.9219 </td><td style=\"text-align: right;\">                25.1249</td><td style=\"text-align: right;\">       26.3283</td><td style=\"text-align: right;\">       130.328 </td><td style=\"text-align: right;\">                  2.23065 </td><td>Abnormal</td></tr>\n",
              "<tr><td style=\"text-align: right;\">           43.7902</td><td style=\"text-align: right;\">             13.5338 </td><td style=\"text-align: right;\">                42.6908</td><td style=\"text-align: right;\">       30.2564</td><td style=\"text-align: right;\">       125.003 </td><td style=\"text-align: right;\">                 13.289   </td><td>Abnormal</td></tr>\n",
              "<tr><td style=\"text-align: right;\">           36.6864</td><td style=\"text-align: right;\">              5.01088</td><td style=\"text-align: right;\">                41.9488</td><td style=\"text-align: right;\">       31.6755</td><td style=\"text-align: right;\">        84.2414</td><td style=\"text-align: right;\">                  0.664437</td><td>Abnormal</td></tr>\n",
              "<tr><td style=\"text-align: right;\">           49.7066</td><td style=\"text-align: right;\">             13.041  </td><td style=\"text-align: right;\">                31.3345</td><td style=\"text-align: right;\">       36.6656</td><td style=\"text-align: right;\">       108.648 </td><td style=\"text-align: right;\">                 -7.82599 </td><td>Abnormal</td></tr>\n",
              "<tr><td style=\"text-align: right;\">           48.9156</td><td style=\"text-align: right;\">             19.9646 </td><td style=\"text-align: right;\">                40.2638</td><td style=\"text-align: right;\">       28.951 </td><td style=\"text-align: right;\">       119.321 </td><td style=\"text-align: right;\">                  8.02889 </td><td>Abnormal</td></tr>\n",
              "<tr><td style=\"text-align: right;\">           44.3189</td><td style=\"text-align: right;\">             12.538  </td><td style=\"text-align: right;\">                36.0988</td><td style=\"text-align: right;\">       31.7809</td><td style=\"text-align: right;\">       124.116 </td><td style=\"text-align: right;\">                  5.41583 </td><td>Abnormal</td></tr>\n",
              "</tbody>\n",
              "</table>"
            ]
          },
          "metadata": {
            "tags": []
          }
        },
        {
          "output_type": "execute_result",
          "data": {
            "text/plain": [
              ""
            ]
          },
          "metadata": {
            "tags": []
          },
          "execution_count": 33
        }
      ]
    },
    {
      "cell_type": "code",
      "metadata": {
        "id": "3Rf07UAMpHF7",
        "colab_type": "code",
        "colab": {
          "base_uri": "https://localhost:8080/",
          "height": 250
        },
        "outputId": "84b159c2-9170-44d3-b191-1d5dd15eb82c"
      },
      "source": [
        "data_test"
      ],
      "execution_count": 34,
      "outputs": [
        {
          "output_type": "display_data",
          "data": {
            "text/html": [
              "<table>\n",
              "<thead>\n",
              "<tr><th style=\"text-align: right;\">  pelvic_incidence</th><th style=\"text-align: right;\">  pelvic_tilt numeric</th><th style=\"text-align: right;\">  lumbar_lordosis_angle</th><th style=\"text-align: right;\">  sacral_slope</th><th style=\"text-align: right;\">  pelvic_radius</th><th style=\"text-align: right;\">  degree_spondylolisthesis</th><th>class   </th></tr>\n",
              "</thead>\n",
              "<tbody>\n",
              "<tr><td style=\"text-align: right;\">           68.832 </td><td style=\"text-align: right;\">             22.2185 </td><td style=\"text-align: right;\">                50.0922</td><td style=\"text-align: right;\">       46.6135</td><td style=\"text-align: right;\">        105.985</td><td style=\"text-align: right;\">                 -3.53032 </td><td>Abnormal</td></tr>\n",
              "<tr><td style=\"text-align: right;\">           53.4329</td><td style=\"text-align: right;\">             15.8643 </td><td style=\"text-align: right;\">                37.1659</td><td style=\"text-align: right;\">       37.5686</td><td style=\"text-align: right;\">        120.568</td><td style=\"text-align: right;\">                  5.98855 </td><td>Abnormal</td></tr>\n",
              "<tr><td style=\"text-align: right;\">           45.3668</td><td style=\"text-align: right;\">             10.7556 </td><td style=\"text-align: right;\">                29.0383</td><td style=\"text-align: right;\">       34.6111</td><td style=\"text-align: right;\">        117.27 </td><td style=\"text-align: right;\">                -10.6759  </td><td>Abnormal</td></tr>\n",
              "<tr><td style=\"text-align: right;\">           31.2324</td><td style=\"text-align: right;\">             17.7158 </td><td style=\"text-align: right;\">                15.5   </td><td style=\"text-align: right;\">       13.5166</td><td style=\"text-align: right;\">        120.055</td><td style=\"text-align: right;\">                  0.499751</td><td>Abnormal</td></tr>\n",
              "<tr><td style=\"text-align: right;\">           57.3002</td><td style=\"text-align: right;\">             24.1889 </td><td style=\"text-align: right;\">                47     </td><td style=\"text-align: right;\">       33.1113</td><td style=\"text-align: right;\">        116.807</td><td style=\"text-align: right;\">                  5.76695 </td><td>Abnormal</td></tr>\n",
              "<tr><td style=\"text-align: right;\">           54.9194</td><td style=\"text-align: right;\">             21.0623 </td><td style=\"text-align: right;\">                42.2   </td><td style=\"text-align: right;\">       33.8571</td><td style=\"text-align: right;\">        125.213</td><td style=\"text-align: right;\">                  2.43256 </td><td>Abnormal</td></tr>\n",
              "<tr><td style=\"text-align: right;\">           32.091 </td><td style=\"text-align: right;\">              6.98938</td><td style=\"text-align: right;\">                35.9982</td><td style=\"text-align: right;\">       25.1016</td><td style=\"text-align: right;\">        132.265</td><td style=\"text-align: right;\">                  6.41343 </td><td>Abnormal</td></tr>\n",
              "<tr><td style=\"text-align: right;\">           55.8433</td><td style=\"text-align: right;\">             28.8474 </td><td style=\"text-align: right;\">                47.6905</td><td style=\"text-align: right;\">       26.9958</td><td style=\"text-align: right;\">        123.312</td><td style=\"text-align: right;\">                  2.81243 </td><td>Abnormal</td></tr>\n",
              "<tr><td style=\"text-align: right;\">           53.8548</td><td style=\"text-align: right;\">             19.2306 </td><td style=\"text-align: right;\">                32.7791</td><td style=\"text-align: right;\">       34.6242</td><td style=\"text-align: right;\">        121.671</td><td style=\"text-align: right;\">                  5.32984 </td><td>Abnormal</td></tr>\n",
              "<tr><td style=\"text-align: right;\">           48.3326</td><td style=\"text-align: right;\">             22.2278 </td><td style=\"text-align: right;\">                36.182 </td><td style=\"text-align: right;\">       26.1049</td><td style=\"text-align: right;\">        117.385</td><td style=\"text-align: right;\">                  6.48171 </td><td>Abnormal</td></tr>\n",
              "</tbody>\n",
              "</table>"
            ]
          },
          "metadata": {
            "tags": []
          }
        },
        {
          "output_type": "execute_result",
          "data": {
            "text/plain": [
              ""
            ]
          },
          "metadata": {
            "tags": []
          },
          "execution_count": 34
        }
      ]
    },
    {
      "cell_type": "code",
      "metadata": {
        "id": "7vYueW53pHGC",
        "colab_type": "code",
        "colab": {
          "base_uri": "https://localhost:8080/",
          "height": 250
        },
        "outputId": "4f37393f-755d-4ff2-bf6c-677ad7eeb3b4"
      },
      "source": [
        "data_valid"
      ],
      "execution_count": 35,
      "outputs": [
        {
          "output_type": "display_data",
          "data": {
            "text/html": [
              "<table>\n",
              "<thead>\n",
              "<tr><th style=\"text-align: right;\">  pelvic_incidence</th><th style=\"text-align: right;\">  pelvic_tilt numeric</th><th style=\"text-align: right;\">  lumbar_lordosis_angle</th><th style=\"text-align: right;\">  sacral_slope</th><th style=\"text-align: right;\">  pelvic_radius</th><th style=\"text-align: right;\">  degree_spondylolisthesis</th><th>class   </th></tr>\n",
              "</thead>\n",
              "<tbody>\n",
              "<tr><td style=\"text-align: right;\">           53.5722</td><td style=\"text-align: right;\">              20.4608</td><td style=\"text-align: right;\">                33.1   </td><td style=\"text-align: right;\">       33.1113</td><td style=\"text-align: right;\">       110.967 </td><td style=\"text-align: right;\">                  7.0448  </td><td>Abnormal</td></tr>\n",
              "<tr><td style=\"text-align: right;\">           54.1249</td><td style=\"text-align: right;\">              26.6505</td><td style=\"text-align: right;\">                35.3297</td><td style=\"text-align: right;\">       27.4744</td><td style=\"text-align: right;\">       121.447 </td><td style=\"text-align: right;\">                  1.5712  </td><td>Abnormal</td></tr>\n",
              "<tr><td style=\"text-align: right;\">           50.8193</td><td style=\"text-align: right;\">              15.4022</td><td style=\"text-align: right;\">                42.5289</td><td style=\"text-align: right;\">       35.4171</td><td style=\"text-align: right;\">       112.193 </td><td style=\"text-align: right;\">                 10.8696  </td><td>Abnormal</td></tr>\n",
              "<tr><td style=\"text-align: right;\">           46.3903</td><td style=\"text-align: right;\">              11.079 </td><td style=\"text-align: right;\">                32.1366</td><td style=\"text-align: right;\">       35.3112</td><td style=\"text-align: right;\">        98.7745</td><td style=\"text-align: right;\">                  6.38683 </td><td>Abnormal</td></tr>\n",
              "<tr><td style=\"text-align: right;\">           35.4924</td><td style=\"text-align: right;\">              11.7017</td><td style=\"text-align: right;\">                15.5904</td><td style=\"text-align: right;\">       23.7908</td><td style=\"text-align: right;\">       106.939 </td><td style=\"text-align: right;\">                 -3.46036 </td><td>Abnormal</td></tr>\n",
              "<tr><td style=\"text-align: right;\">           66.2854</td><td style=\"text-align: right;\">              26.3278</td><td style=\"text-align: right;\">                47.5   </td><td style=\"text-align: right;\">       39.9575</td><td style=\"text-align: right;\">       121.22  </td><td style=\"text-align: right;\">                 -0.799624</td><td>Abnormal</td></tr>\n",
              "<tr><td style=\"text-align: right;\">           56.0302</td><td style=\"text-align: right;\">              16.2979</td><td style=\"text-align: right;\">                62.2753</td><td style=\"text-align: right;\">       39.7323</td><td style=\"text-align: right;\">       114.023 </td><td style=\"text-align: right;\">                 -2.32568 </td><td>Abnormal</td></tr>\n",
              "<tr><td style=\"text-align: right;\">           41.7677</td><td style=\"text-align: right;\">              17.8994</td><td style=\"text-align: right;\">                20.0309</td><td style=\"text-align: right;\">       23.8683</td><td style=\"text-align: right;\">       118.363 </td><td style=\"text-align: right;\">                  2.06296 </td><td>Abnormal</td></tr>\n",
              "<tr><td style=\"text-align: right;\">           41.1717</td><td style=\"text-align: right;\">              17.3212</td><td style=\"text-align: right;\">                33.4694</td><td style=\"text-align: right;\">       23.8505</td><td style=\"text-align: right;\">       116.378 </td><td style=\"text-align: right;\">                 -9.56925 </td><td>Abnormal</td></tr>\n",
              "<tr><td style=\"text-align: right;\">           74.3777</td><td style=\"text-align: right;\">              32.0531</td><td style=\"text-align: right;\">                78.772 </td><td style=\"text-align: right;\">       42.3246</td><td style=\"text-align: right;\">       143.561 </td><td style=\"text-align: right;\">                 56.1259  </td><td>Abnormal</td></tr>\n",
              "</tbody>\n",
              "</table>"
            ]
          },
          "metadata": {
            "tags": []
          }
        },
        {
          "output_type": "execute_result",
          "data": {
            "text/plain": [
              ""
            ]
          },
          "metadata": {
            "tags": []
          },
          "execution_count": 35
        }
      ]
    },
    {
      "cell_type": "markdown",
      "metadata": {
        "id": "Wa0aD4TnDMlW",
        "colab_type": "text"
      },
      "source": [
        "### 학습용 데이터 구성"
      ]
    },
    {
      "cell_type": "code",
      "metadata": {
        "id": "q0dbnl2mpHGR",
        "colab_type": "code",
        "colab": {}
      },
      "source": [
        "y = \"class\"\n",
        "x = data.columns\n",
        "x.remove(y)"
      ],
      "execution_count": 36,
      "outputs": []
    },
    {
      "cell_type": "code",
      "metadata": {
        "id": "xpbOJ9VgpHGi",
        "colab_type": "code",
        "colab": {}
      },
      "source": [
        "# aml 생성\n",
        "aml = H2OAutoML(max_models = 10, seed = 10, exclude_algos = [\"StackedEnsemble\"], verbosity=\"info\", nfolds=0)"
      ],
      "execution_count": 38,
      "outputs": []
    },
    {
      "cell_type": "code",
      "metadata": {
        "id": "fAnWWWKlpHGw",
        "colab_type": "code",
        "colab": {
          "base_uri": "https://localhost:8080/",
          "height": 357
        },
        "outputId": "fde30998-dd38-45c0-a8a4-685718b15ec5"
      },
      "source": [
        "!nvidia-smi    "
      ],
      "execution_count": 39,
      "outputs": [
        {
          "output_type": "stream",
          "text": [
            "Thu Jun 18 06:23:37 2020       \n",
            "+-----------------------------------------------------------------------------+\n",
            "| NVIDIA-SMI 450.36.06    Driver Version: 418.67       CUDA Version: 10.1     |\n",
            "|-------------------------------+----------------------+----------------------+\n",
            "| GPU  Name        Persistence-M| Bus-Id        Disp.A | Volatile Uncorr. ECC |\n",
            "| Fan  Temp  Perf  Pwr:Usage/Cap|         Memory-Usage | GPU-Util  Compute M. |\n",
            "|                               |                      |               MIG M. |\n",
            "|===============================+======================+======================|\n",
            "|   0  Tesla K80           Off  | 00000000:00:04.0 Off |                    0 |\n",
            "| N/A   72C    P0    78W / 149W |     74MiB / 11441MiB |      0%      Default |\n",
            "|                               |                      |                 ERR! |\n",
            "+-------------------------------+----------------------+----------------------+\n",
            "                                                                               \n",
            "+-----------------------------------------------------------------------------+\n",
            "| Processes:                                                                  |\n",
            "|  GPU   GI   CI        PID   Type   Process name                  GPU Memory |\n",
            "|        ID   ID                                                   Usage      |\n",
            "|=============================================================================|\n",
            "|  No running processes found                                                 |\n",
            "+-----------------------------------------------------------------------------+\n"
          ],
          "name": "stdout"
        }
      ]
    },
    {
      "cell_type": "code",
      "metadata": {
        "id": "JHqBlsqHpHG3",
        "colab_type": "code",
        "colab": {
          "base_uri": "https://localhost:8080/",
          "height": 1000
        },
        "outputId": "a1dc5436-74dc-41f6-855c-60d20ca66eae"
      },
      "source": [
        "# 모델 트레이닝\n",
        "aml.train(x = x, y = y, training_frame = data_train, validation_frame=data_valid)"
      ],
      "execution_count": 40,
      "outputs": [
        {
          "output_type": "stream",
          "text": [
            "AutoML progress: |\n",
            "06:23:39.289: Project: AutoML_20200618_62339288\n",
            "06:23:39.289: Cross-validation disabled by user: no fold column nor nfolds > 1.\n",
            "06:23:39.289: Setting stopping tolerance adaptively based on the training frame: 0.05\n",
            "06:23:39.289: Build control seed: 10\n",
            "06:23:39.290: Since cross-validation is disabled, and no leaderboard frame was provided, automatically split the training data into training and leaderboard frames in the ratio 90/10\n",
            "06:23:39.297: training frame: Frame key: automl_training_py_53_sid_b07b    cols: 7    rows: 189  chunks: 1    size: 10146  checksum: 2890451132143199720\n",
            "06:23:39.297: validation frame: Frame key: py_55_sid_b07b    cols: 7    rows: 53  chunks: 1    size: 3601  checksum: -901609713707294612\n",
            "06:23:39.301: leaderboard frame: Frame key: automl_leaderboard_py_53_sid_b07b    cols: 7    rows: 25  chunks: 1    size: 2254  checksum: 3814782166834657900\n",
            "06:23:39.301: blending frame: NULL\n",
            "06:23:39.301: response column: class\n",
            "06:23:39.301: fold column: null\n",
            "06:23:39.301: weights column: null\n",
            "06:23:39.302: Loading execution steps: [{XGBoost : defaults}, {GLM : defaults}, {DRF : [def_1]}, {GBM : defaults}, {DeepLearning : defaults}, {DRF : [XRT]}, {XGBoost : grids}, {GBM : grids}, {DeepLearning : grids}, {GBM : [lr_annealing]}, {XGBoost : [lr_search]}, {StackedEnsemble : defaults}]\n",
            "06:23:39.304: Disabling Algo: StackedEnsemble as requested by the user.\n",
            "06:23:39.304: AutoML job created: 2020.06.18 06:23:39.288\n",
            "06:23:39.305: AutoML build started: 2020.06.18 06:23:39.304\n",
            "06:23:39.305: AutoML: starting XGBoost_1_AutoML_20200618_062339 model training\n",
            "\n",
            "\n",
            "06:23:40.315: New leader: XGBoost_1_AutoML_20200618_062339, auc: 0.8888888888888888\n",
            "06:23:40.315: AutoML: starting XGBoost_2_AutoML_20200618_062339 model training\n",
            "\n",
            "█\n",
            "06:23:41.337: AutoML: starting XGBoost_3_AutoML_20200618_062339 model training\n",
            "\n",
            "█\n",
            "06:23:42.353: AutoML: starting GLM_1_AutoML_20200618_062339 model training\n",
            "\n",
            "\n",
            "06:23:43.365: New leader: GLM_1_AutoML_20200618_062339, auc: 0.9841269841269842\n",
            "06:23:43.365: AutoML: starting DRF_1_AutoML_20200618_062339 model training\n",
            "\n",
            "███\n",
            "06:23:44.372: AutoML: starting GBM_1_AutoML_20200618_062339 model training\n",
            "06:23:45.381: AutoML: starting GBM_2_AutoML_20200618_062339 model training\n",
            "\n",
            "█\n",
            "06:23:46.393: AutoML: starting GBM_3_AutoML_20200618_062339 model training\n",
            "\n",
            "███\n",
            "06:23:47.403: AutoML: starting GBM_4_AutoML_20200618_062339 model training\n",
            "\n",
            "██\n",
            "06:23:48.410: AutoML: starting GBM_5_AutoML_20200618_062339 model training\n",
            "06:23:48.413: Skipping training of model GBM_5_AutoML_20200618_062339 due to exception: water.exceptions.H2OModelBuilderIllegalArgumentException: Illegal argument(s) for GBM model: GBM_5_AutoML_20200618_062339.  Details: ERRR on field: _min_rows: The dataset size is too small to split for min_rows=100.0: must have at least 200.0 (weighted) rows, but have only 189.0.\n",
            "\n",
            "06:23:48.419: AutoML: starting DeepLearning_1_AutoML_20200618_062339 model training\n",
            "\n",
            "█████████████████████████████████████████████| 100%\n",
            "\n",
            "06:23:49.442: Skipping StackedEnsemble 'best' due to the exclude_algos option.\n",
            "06:23:49.442: Skipping StackedEnsemble 'all' due to the exclude_algos option.\n",
            "06:23:49.442: Actual modeling steps: [{XGBoost : [def_1 (10), def_2 (10), def_3 (10)]}, {GLM : [def_1 (10)]}, {DRF : [def_1 (10)]}, {GBM : [def_1 (10), def_2 (10), def_3 (10), def_4 (10)]}, {DeepLearning : [def_1 (10)]}]\n",
            "06:23:49.442: AutoML build stopped: 2020.06.18 06:23:49.442\n",
            "06:23:49.442: AutoML build done: built 10 models\n",
            "06:23:49.442: AutoML duration: 10.138 sec\n",
            "\n"
          ],
          "name": "stdout"
        }
      ]
    },
    {
      "cell_type": "code",
      "metadata": {
        "id": "czHheEOYpHG-",
        "colab_type": "code",
        "colab": {
          "base_uri": "https://localhost:8080/",
          "height": 357
        },
        "outputId": "b43eb1d5-c22a-4b04-c0ea-0f81af5bde43"
      },
      "source": [
        "!nvidia-smi"
      ],
      "execution_count": 41,
      "outputs": [
        {
          "output_type": "stream",
          "text": [
            "Thu Jun 18 06:23:51 2020       \n",
            "+-----------------------------------------------------------------------------+\n",
            "| NVIDIA-SMI 450.36.06    Driver Version: 418.67       CUDA Version: 10.1     |\n",
            "|-------------------------------+----------------------+----------------------+\n",
            "| GPU  Name        Persistence-M| Bus-Id        Disp.A | Volatile Uncorr. ECC |\n",
            "| Fan  Temp  Perf  Pwr:Usage/Cap|         Memory-Usage | GPU-Util  Compute M. |\n",
            "|                               |                      |               MIG M. |\n",
            "|===============================+======================+======================|\n",
            "|   0  Tesla K80           Off  | 00000000:00:04.0 Off |                    0 |\n",
            "| N/A   74C    P0    78W / 149W |     74MiB / 11441MiB |      0%      Default |\n",
            "|                               |                      |                 ERR! |\n",
            "+-------------------------------+----------------------+----------------------+\n",
            "                                                                               \n",
            "+-----------------------------------------------------------------------------+\n",
            "| Processes:                                                                  |\n",
            "|  GPU   GI   CI        PID   Type   Process name                  GPU Memory |\n",
            "|        ID   ID                                                   Usage      |\n",
            "|=============================================================================|\n",
            "|  No running processes found                                                 |\n",
            "+-----------------------------------------------------------------------------+\n"
          ],
          "name": "stdout"
        }
      ]
    },
    {
      "cell_type": "code",
      "metadata": {
        "id": "CbgV0LLOpHHE",
        "colab_type": "code",
        "colab": {
          "base_uri": "https://localhost:8080/",
          "height": 250
        },
        "outputId": "c2e22f77-070f-4534-fd21-f411eda9de45"
      },
      "source": [
        "lb = aml.leaderboard\n",
        "lb.head()"
      ],
      "execution_count": 42,
      "outputs": [
        {
          "output_type": "display_data",
          "data": {
            "text/html": [
              "<table>\n",
              "<thead>\n",
              "<tr><th>model_id                             </th><th style=\"text-align: right;\">     auc</th><th style=\"text-align: right;\">  logloss</th><th style=\"text-align: right;\">   aucpr</th><th style=\"text-align: right;\">  mean_per_class_error</th><th style=\"text-align: right;\">    rmse</th><th style=\"text-align: right;\">      mse</th></tr>\n",
              "</thead>\n",
              "<tbody>\n",
              "<tr><td>GLM_1_AutoML_20200618_062339         </td><td style=\"text-align: right;\">0.984127</td><td style=\"text-align: right;\"> 0.241929</td><td style=\"text-align: right;\">0.958903</td><td style=\"text-align: right;\">             0.0277778</td><td style=\"text-align: right;\">0.26753 </td><td style=\"text-align: right;\">0.0715725</td></tr>\n",
              "<tr><td>DRF_1_AutoML_20200618_062339         </td><td style=\"text-align: right;\">0.920635</td><td style=\"text-align: right;\"> 0.345768</td><td style=\"text-align: right;\">0.843328</td><td style=\"text-align: right;\">             0.154762 </td><td style=\"text-align: right;\">0.343424</td><td style=\"text-align: right;\">0.11794  </td></tr>\n",
              "<tr><td>GBM_4_AutoML_20200618_062339         </td><td style=\"text-align: right;\">0.912698</td><td style=\"text-align: right;\"> 0.340621</td><td style=\"text-align: right;\">0.82299 </td><td style=\"text-align: right;\">             0.170635 </td><td style=\"text-align: right;\">0.3269  </td><td style=\"text-align: right;\">0.106864 </td></tr>\n",
              "<tr><td>GBM_2_AutoML_20200618_062339         </td><td style=\"text-align: right;\">0.904762</td><td style=\"text-align: right;\"> 0.414893</td><td style=\"text-align: right;\">0.768313</td><td style=\"text-align: right;\">             0.111111 </td><td style=\"text-align: right;\">0.373265</td><td style=\"text-align: right;\">0.139327 </td></tr>\n",
              "<tr><td>XGBoost_1_AutoML_20200618_062339     </td><td style=\"text-align: right;\">0.888889</td><td style=\"text-align: right;\"> 0.405603</td><td style=\"text-align: right;\">0.754168</td><td style=\"text-align: right;\">             0.198413 </td><td style=\"text-align: right;\">0.371068</td><td style=\"text-align: right;\">0.137691 </td></tr>\n",
              "<tr><td>DeepLearning_1_AutoML_20200618_062339</td><td style=\"text-align: right;\">0.888889</td><td style=\"text-align: right;\"> 0.620921</td><td style=\"text-align: right;\">0.825265</td><td style=\"text-align: right;\">             0.170635 </td><td style=\"text-align: right;\">0.457309</td><td style=\"text-align: right;\">0.209132 </td></tr>\n",
              "<tr><td>XGBoost_3_AutoML_20200618_062339     </td><td style=\"text-align: right;\">0.880952</td><td style=\"text-align: right;\"> 0.423932</td><td style=\"text-align: right;\">0.746295</td><td style=\"text-align: right;\">             0.198413 </td><td style=\"text-align: right;\">0.374454</td><td style=\"text-align: right;\">0.140216 </td></tr>\n",
              "<tr><td>GBM_1_AutoML_20200618_062339         </td><td style=\"text-align: right;\">0.873016</td><td style=\"text-align: right;\"> 0.482805</td><td style=\"text-align: right;\">0.751789</td><td style=\"text-align: right;\">             0.18254  </td><td style=\"text-align: right;\">0.40099 </td><td style=\"text-align: right;\">0.160793 </td></tr>\n",
              "<tr><td>GBM_3_AutoML_20200618_062339         </td><td style=\"text-align: right;\">0.865079</td><td style=\"text-align: right;\"> 0.431799</td><td style=\"text-align: right;\">0.582623</td><td style=\"text-align: right;\">             0.138889 </td><td style=\"text-align: right;\">0.377808</td><td style=\"text-align: right;\">0.142739 </td></tr>\n",
              "<tr><td>XGBoost_2_AutoML_20200618_062339     </td><td style=\"text-align: right;\">0.857143</td><td style=\"text-align: right;\"> 0.427635</td><td style=\"text-align: right;\">0.625343</td><td style=\"text-align: right;\">             0.198413 </td><td style=\"text-align: right;\">0.37246 </td><td style=\"text-align: right;\">0.138726 </td></tr>\n",
              "</tbody>\n",
              "</table>"
            ]
          },
          "metadata": {
            "tags": []
          }
        },
        {
          "output_type": "execute_result",
          "data": {
            "text/plain": [
              ""
            ]
          },
          "metadata": {
            "tags": []
          },
          "execution_count": 42
        }
      ]
    },
    {
      "cell_type": "code",
      "metadata": {
        "id": "7fuCwXllpHHK",
        "colab_type": "code",
        "colab": {
          "base_uri": "https://localhost:8080/",
          "height": 197
        },
        "outputId": "5fedf0b0-2e4a-4114-a5f3-bed888abf995"
      },
      "source": [
        "entrenamiento['Week']=entrenamiento['Data'].dt.week\n",
        "\n",
        "testeo['Week']=testeo['Data'].dt.week"
      ],
      "execution_count": 43,
      "outputs": [
        {
          "output_type": "error",
          "ename": "NameError",
          "evalue": "ignored",
          "traceback": [
            "\u001b[0;31m---------------------------------------------------------------------------\u001b[0m",
            "\u001b[0;31mNameError\u001b[0m                                 Traceback (most recent call last)",
            "\u001b[0;32m<ipython-input-43-a8fa481bada3>\u001b[0m in \u001b[0;36m<module>\u001b[0;34m()\u001b[0m\n\u001b[0;32m----> 1\u001b[0;31m \u001b[0mentrenamiento\u001b[0m\u001b[0;34m[\u001b[0m\u001b[0;34m'Week'\u001b[0m\u001b[0;34m]\u001b[0m\u001b[0;34m=\u001b[0m\u001b[0mentrenamiento\u001b[0m\u001b[0;34m[\u001b[0m\u001b[0;34m'Data'\u001b[0m\u001b[0;34m]\u001b[0m\u001b[0;34m.\u001b[0m\u001b[0mdt\u001b[0m\u001b[0;34m.\u001b[0m\u001b[0mweek\u001b[0m\u001b[0;34m\u001b[0m\u001b[0;34m\u001b[0m\u001b[0m\n\u001b[0m\u001b[1;32m      2\u001b[0m \u001b[0;34m\u001b[0m\u001b[0m\n\u001b[1;32m      3\u001b[0m \u001b[0mtesteo\u001b[0m\u001b[0;34m[\u001b[0m\u001b[0;34m'Week'\u001b[0m\u001b[0;34m]\u001b[0m\u001b[0;34m=\u001b[0m\u001b[0mtesteo\u001b[0m\u001b[0;34m[\u001b[0m\u001b[0;34m'Data'\u001b[0m\u001b[0;34m]\u001b[0m\u001b[0;34m.\u001b[0m\u001b[0mdt\u001b[0m\u001b[0;34m.\u001b[0m\u001b[0mweek\u001b[0m\u001b[0;34m\u001b[0m\u001b[0;34m\u001b[0m\u001b[0m\n",
            "\u001b[0;31mNameError\u001b[0m: name 'entrenamiento' is not defined"
          ]
        }
      ]
    },
    {
      "cell_type": "code",
      "metadata": {
        "id": "TfgfdlONpHHU",
        "colab_type": "code",
        "colab": {}
      },
      "source": [
        "entrenamiento['Day']=entrenamiento['Data'].dt.day\n",
        "\n",
        "testeo['Day']=testeo['Data'].dt.day"
      ],
      "execution_count": null,
      "outputs": []
    },
    {
      "cell_type": "code",
      "metadata": {
        "id": "NOcSACQQpHHz",
        "colab_type": "code",
        "colab": {}
      },
      "source": [
        "entrenamiento.drop(columns='Data',inplace=True)\n",
        "\n",
        "testeo.drop(columns='Data',inplace=True)"
      ],
      "execution_count": null,
      "outputs": []
    },
    {
      "cell_type": "code",
      "metadata": {
        "id": "QWv9X24WpHH6",
        "colab_type": "code",
        "colab": {}
      },
      "source": [
        "entrenamiento['Hour']=entrenamiento['Time'].dt.hour\n",
        "\n",
        "testeo['Hour']=testeo['Time'].dt.hour"
      ],
      "execution_count": null,
      "outputs": []
    },
    {
      "cell_type": "code",
      "metadata": {
        "id": "GyMFrAxMpHIA",
        "colab_type": "code",
        "colab": {}
      },
      "source": [
        "entrenamiento['Minute']=entrenamiento['Time'].dt.minute\n",
        "\n",
        "testeo['Minute']=testeo['Time'].dt.minute"
      ],
      "execution_count": null,
      "outputs": []
    },
    {
      "cell_type": "code",
      "metadata": {
        "id": "aZ9UdpUUpHIJ",
        "colab_type": "code",
        "colab": {}
      },
      "source": [
        "entrenamiento['Second']=entrenamiento['Time'].dt.second\n",
        "\n",
        "testeo['Second']=testeo['Time'].dt.second"
      ],
      "execution_count": null,
      "outputs": []
    },
    {
      "cell_type": "code",
      "metadata": {
        "id": "nnzWW_AupHIx",
        "colab_type": "code",
        "colab": {}
      },
      "source": [
        "entrenamiento.drop(columns='Time',inplace=True)\n",
        "\n",
        "testeo.drop(columns='Time',inplace=True)"
      ],
      "execution_count": null,
      "outputs": []
    },
    {
      "cell_type": "code",
      "metadata": {
        "id": "5W_xEVkkpHI6",
        "colab_type": "code",
        "colab": {}
      },
      "source": [
        "entrenamiento.head(2)"
      ],
      "execution_count": null,
      "outputs": []
    },
    {
      "cell_type": "code",
      "metadata": {
        "id": "UENcgMDnpHJK",
        "colab_type": "code",
        "colab": {}
      },
      "source": [
        "testeo.head(2)"
      ],
      "execution_count": null,
      "outputs": []
    },
    {
      "cell_type": "code",
      "metadata": {
        "id": "g85pweX8pHJW",
        "colab_type": "code",
        "colab": {}
      },
      "source": [
        "entrenamiento_clean.to_csv('Training_Clean.csv')"
      ],
      "execution_count": null,
      "outputs": []
    },
    {
      "cell_type": "code",
      "metadata": {
        "id": "2X2uPjTBpHJd",
        "colab_type": "code",
        "colab": {}
      },
      "source": [
        "testeo.to_csv('Testeo_Clean.csv')"
      ],
      "execution_count": null,
      "outputs": []
    },
    {
      "cell_type": "code",
      "metadata": {
        "id": "svGTTYIgpHJr",
        "colab_type": "code",
        "colab": {}
      },
      "source": [
        "sns.heatmap(entrenamiento.corr())"
      ],
      "execution_count": null,
      "outputs": []
    },
    {
      "cell_type": "code",
      "metadata": {
        "id": "JVeIBwVbpHJw",
        "colab_type": "code",
        "colab": {}
      },
      "source": [
        "entrenamiento.drop(columns=('Year'), inplace=True)\n",
        "\n",
        "testeo.drop(columns=('Year'), inplace=True)"
      ],
      "execution_count": null,
      "outputs": []
    },
    {
      "cell_type": "code",
      "metadata": {
        "id": "FVBOBsiRpHJ3",
        "colab_type": "code",
        "colab": {}
      },
      "source": [
        "sns.heatmap(entrenamiento.corr())"
      ],
      "execution_count": null,
      "outputs": []
    },
    {
      "cell_type": "code",
      "metadata": {
        "id": "ir5Ap-LIpHJ7",
        "colab_type": "code",
        "colab": {}
      },
      "source": [
        "entrenamiento.drop(columns=('Week'), inplace=True)\n",
        "\n",
        "testeo.drop(columns=('Week'), inplace=True)"
      ],
      "execution_count": null,
      "outputs": []
    },
    {
      "cell_type": "code",
      "metadata": {
        "id": "atFhMsIrpHKF",
        "colab_type": "code",
        "colab": {}
      },
      "source": [
        "entrenamiento.drop(columns=('UNIXTime'), inplace=True)\n",
        "\n",
        "testeo.drop(columns=('UNIXTime'), inplace=True)"
      ],
      "execution_count": null,
      "outputs": []
    },
    {
      "cell_type": "code",
      "metadata": {
        "id": "lzRlO676pHKJ",
        "colab_type": "code",
        "colab": {}
      },
      "source": [
        "sns.heatmap(entrenamiento.corr())"
      ],
      "execution_count": null,
      "outputs": []
    },
    {
      "cell_type": "code",
      "metadata": {
        "id": "wv7glDy4pHKN",
        "colab_type": "code",
        "colab": {}
      },
      "source": [
        "#entrenamiento['TimeSunRise']=pd.to_datetime(entrenamiento['TimeSunRise'])\n",
        "#entrenamiento['TimeSunSet']=pd.to_datetime(entrenamiento['TimeSunSet'])\n",
        "\n",
        "#testeo['TimeSunSet']=pd.to_datetime(testeo['TimeSunSet'])\n",
        "#testeo['TimeSunRise']=pd.to_datetime(testeo['TimeSunRise'])"
      ],
      "execution_count": null,
      "outputs": []
    },
    {
      "cell_type": "code",
      "metadata": {
        "id": "9Zx90MNkpHKS",
        "colab_type": "code",
        "colab": {}
      },
      "source": [
        "entrenamiento.to_csv('training_clean.csv')\n",
        "testeo.to_csv('testing_clean.csv')"
      ],
      "execution_count": null,
      "outputs": []
    },
    {
      "cell_type": "code",
      "metadata": {
        "id": "lvZfnUSDpHKY",
        "colab_type": "code",
        "colab": {}
      },
      "source": [
        "training=pd.read_csv('training_clean.csv')\n",
        "testing=pd.read_csv('testing_clean.csv')"
      ],
      "execution_count": null,
      "outputs": []
    },
    {
      "cell_type": "code",
      "metadata": {
        "id": "fBfHbioKpHKc",
        "colab_type": "code",
        "colab": {}
      },
      "source": [
        "h2o.init()"
      ],
      "execution_count": null,
      "outputs": []
    },
    {
      "cell_type": "code",
      "metadata": {
        "id": "jhqnA0H6pHKo",
        "colab_type": "code",
        "colab": {}
      },
      "source": [
        "# parsear datos a h2o\n",
        "train=h2o.import_file('training_clean.csv')\n",
        "test=h2o.import_file('testing_clean.csv')\n",
        "\n",
        "X=train.columns\n",
        "y='Radiation'\n",
        "X.remove(y)"
      ],
      "execution_count": null,
      "outputs": []
    },
    {
      "cell_type": "code",
      "metadata": {
        "id": "UdvWIm_0pHKu",
        "colab_type": "code",
        "colab": {}
      },
      "source": [
        "aml=H2OAutoML(max_models=10, seed=1)\n",
        "aml.train(x=X, y=y, training_frame=train)"
      ],
      "execution_count": null,
      "outputs": []
    },
    {
      "cell_type": "code",
      "metadata": {
        "id": "WBEW7r6XpHK3",
        "colab_type": "code",
        "colab": {}
      },
      "source": [
        "lb=aml.leaderboard\n",
        "\n",
        "lb.head(rows=lb.nrows)"
      ],
      "execution_count": null,
      "outputs": []
    },
    {
      "cell_type": "code",
      "metadata": {
        "id": "AYAhPYs7pHLB",
        "colab_type": "code",
        "colab": {}
      },
      "source": [
        "aml.leader"
      ],
      "execution_count": null,
      "outputs": []
    },
    {
      "cell_type": "code",
      "metadata": {
        "id": "zFtPsdsnpHLQ",
        "colab_type": "code",
        "colab": {}
      },
      "source": [
        "pred=aml.leader.predict(test)\n",
        "\n",
        "pred.shape"
      ],
      "execution_count": null,
      "outputs": []
    },
    {
      "cell_type": "code",
      "metadata": {
        "id": "JNUcN7bzpHLf",
        "colab_type": "code",
        "colab": {}
      },
      "source": [
        "pred_df=h2o.as_list(pred)"
      ],
      "execution_count": null,
      "outputs": []
    },
    {
      "cell_type": "code",
      "metadata": {
        "id": "P7CxjzJNpHLv",
        "colab_type": "code",
        "colab": {}
      },
      "source": [
        "pred_df.insert(0,'ID',pred_df.index)"
      ],
      "execution_count": null,
      "outputs": []
    },
    {
      "cell_type": "code",
      "metadata": {
        "id": "WrNE15bzpHMD",
        "colab_type": "code",
        "colab": {}
      },
      "source": [
        "pred_df"
      ],
      "execution_count": null,
      "outputs": []
    },
    {
      "cell_type": "code",
      "metadata": {
        "id": "GEqKwHsqpHMQ",
        "colab_type": "code",
        "colab": {}
      },
      "source": [
        "pred_df.rename(columns={'predict':'Radiation','ID':'id'},inplace=True)"
      ],
      "execution_count": null,
      "outputs": []
    }
  ]
}