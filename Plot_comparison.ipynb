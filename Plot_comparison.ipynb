{
  "nbformat": 4,
  "nbformat_minor": 0,
  "metadata": {
    "colab": {
      "name": "Plot-comparison.ipynb",
      "provenance": [],
      "collapsed_sections": [],
      "toc_visible": true,
      "include_colab_link": true
    },
    "kernelspec": {
      "name": "python3",
      "display_name": "Python 3"
    },
    "accelerator": "GPU"
  },
  "cells": [
    {
      "cell_type": "markdown",
      "metadata": {
        "id": "view-in-github",
        "colab_type": "text"
      },
      "source": [
        "<a href=\"https://colab.research.google.com/github/secutron/ShowTime/blob/master/Plot_comparison.ipynb\" target=\"_parent\"><img src=\"https://colab.research.google.com/assets/colab-badge.svg\" alt=\"Open In Colab\"/></a>"
      ]
    },
    {
      "cell_type": "markdown",
      "metadata": {
        "id": "DfwXQ6XwFyCv"
      },
      "source": [
        ""
      ]
    },
    {
      "cell_type": "markdown",
      "metadata": {
        "id": "S3Ch9kfQbqbf"
      },
      "source": [
        "## 비교차트 그리기"
      ]
    },
    {
      "cell_type": "code",
      "metadata": {
        "id": "eNRMqv4Yl38F",
        "colab": {
          "base_uri": "https://localhost:8080/",
          "height": 295
        },
        "outputId": "7203a416-ea3f-41a9-d513-40d649ae6745"
      },
      "source": [
        "import matplotlib.pyplot as plt\n",
        "from pylab import legend    #legend() 함수\n",
        " \n",
        "## color code\n",
        "# b: blue\n",
        "# g: green\n",
        "# r: red\n",
        "# c: cyan\n",
        "# m: magenta\n",
        "# y: yellow\n",
        "# k: black\n",
        "# w: white\n",
        " \n",
        "## marker style\n",
        "# ================ ===============================\n",
        "# character description\n",
        "# ================ ===============================\n",
        "# - solid line style\n",
        "# -- dashed line style\n",
        "# -. dash-dot line style\n",
        "# : dotted line style\n",
        "# . point marker\n",
        "# , pixel marker\n",
        "# o circle marker\n",
        "# v triangle_down marker\n",
        "# ^ triangle_up marker\n",
        "# < triangle_left marker # > triangle_right marker\n",
        "# 1 tri_down marker\n",
        "# 2 tri_up marker\n",
        "# 3 tri_left marker\n",
        "# 4 tri_right marker\n",
        "# s square marker\n",
        "# p pentagon marker\n",
        "# * star marker\n",
        "# h hexagon1 marker\n",
        "# H hexagon2 marker\n",
        "# + plus marker\n",
        "# x x marker\n",
        "# D diamond marker\n",
        "# d thin_diamond marker\n",
        "# | vline marker\n",
        "# _ hline marker\n",
        "# ================ ===============================\n",
        " \n",
        "## Drawing each lines\n",
        "# plot first line graph\n",
        "plt.errorbar(\n",
        "[1000, 2000 ,3000 ,4000, 5000, 6000, 7000, 8000, 9000, 10000], # X\n",
        "[46.34, 53.69, 60.31, 64.46, 71.07, 79.73, 78.87, 83.22, 86.29, 86.38], # Y - Rand\n",
        "yerr=[0.1,0.1,0.1,0.1,0.1, 0.1,0.1,0.1, 0.1,0.1], # Y-errors\n",
        "fmt=\"ro-\", # format line like for plot()\n",
        "linewidth=2, # width of plot line\n",
        "elinewidth=0.5,# width of error bar line\n",
        "ecolor='k', # color of error bar\n",
        "capsize=3, # cap length for error bar\n",
        "capthick=0.5 # cap thickness for error bar\n",
        ")\n",
        "\n",
        "# plot second line graph\n",
        "plt.errorbar(\n",
        "[1000, 2000 ,3000 ,4000, 5000, 6000, 7000, 8000, 9000, 10000], # X\n",
        "[46.34, 55.69, 70.31, 74.46, 76.07, 82.73, 83.87, 84.22, 87.29, 87.38], # Y - DAL\n",
        "yerr=[0.1,0.1,0.1,0.1,0.1, 0.1,0.1,0.1, 0.1,0.1], # Y-errors\n",
        "fmt=\"bo-\", # format line like for plot()\n",
        "linewidth=2, # width of plot line\n",
        "elinewidth=0.5,# width of error bar line\n",
        "ecolor='k', # color of error bar\n",
        "capsize=3, # cap length for error bar\n",
        "capthick=0.5 # cap thickness for error bar\n",
        ")\n",
        "\n",
        "\"\"\"\n",
        "# plot Third line graph\n",
        "plt.errorbar(\n",
        "[0.3, 1 ,2 ,3], # X\n",
        "[619,674,359,126], # Y\n",
        "yerr=[44,34,21,13], # Y-errors\n",
        "fmt=\"ko-\", # format line like for plot()\n",
        "linewidth=2, # width of plot line\n",
        "elinewidth=0.5,# width of error bar line\n",
        "ecolor='k', # color of error bar\n",
        "capsize=3, # cap length for error bar\n",
        "capthick=0.5 # cap thickness for error bar\n",
        ")\n",
        "\"\"\"\n",
        " \n",
        "## Settings\n",
        "# plt.legend() # show figure legend\n",
        "plt.ylabel('accuracy')\n",
        "plt.xlabel('# of annotated images')\n",
        "plt.title('Classification accuracy for images by Random and DAL')\n",
        "# plt.yscale('linear') #Set y-axis scale {\"linear\", \"log\", \"symlog\", \"logit\", ...} \n",
        "# plt.xlim((0.5,4.5)) #Set X-axis limits\n",
        "# plt.ylim((0,100)) #Set Y-axis limits\n",
        "# plt.xticks([1,2,3,4]) #get only ticks we want\n",
        "# plt.yticks([0,5,10,15,20])\n",
        "\n",
        "legend(['RANDOM', 'DAL'])  \n",
        "\n",
        "## showing plot\n",
        "plt.show()\n"
      ],
      "execution_count": 3,
      "outputs": [
        {
          "output_type": "display_data",
          "data": {
            "image/png": "[encoded data removed]",
            "text/plain": [
              "<Figure size 432x288 with 1 Axes>"
            ]
          },
          "metadata": {
            "tags": [],
            "needs_background": "light"
          }
        }
      ]
    },
    {
      "cell_type": "code",
      "metadata": {
        "id": "Kk6v42ZYwnMU"
      },
      "source": [
        ""
      ],
      "execution_count": null,
      "outputs": []
    }
  ]
}