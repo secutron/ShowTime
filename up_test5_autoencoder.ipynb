{
  "nbformat": 4,
  "nbformat_minor": 0,
  "metadata": {
    "colab": {
      "name": "up-test5-autoencoder.ipynb",
      "provenance": [],
      "collapsed_sections": [],
      "include_colab_link": true
    },
    "kernelspec": {
      "name": "python3",
      "display_name": "Python 3"
    },
    "accelerator": "GPU"
  },
  "cells": [
    {
      "cell_type": "markdown",
      "metadata": {
        "id": "view-in-github",
        "colab_type": "text"
      },
      "source": [
        "<a href=\"https://colab.research.google.com/github/secutron/ShowTime/blob/master/up_test5_autoencoder.ipynb\" target=\"_parent\"><img src=\"https://colab.research.google.com/assets/colab-badge.svg\" alt=\"Open In Colab\"/></a>"
      ]
    },
    {
      "cell_type": "markdown",
      "metadata": {
        "id": "gyky7O6LHhd1",
        "colab_type": "text"
      },
      "source": [
        "#AutoEncoder\n"
      ]
    },
    {
      "cell_type": "markdown",
      "metadata": {
        "id": "9ny0ipaPUuY2",
        "colab_type": "text"
      },
      "source": [
        "http://docs.h2o.ai/h2o/latest-stable/h2o-docs/booklets/DeepLearningBooklet.pdf?_ga=2.184768361.1553179602.1592730801-433090902.1592730801\n",
        "\n"
      ]
    },
    {
      "cell_type": "code",
      "metadata": {
        "id": "6xXsZrxWOdZW",
        "colab_type": "code",
        "colab": {
          "base_uri": "https://localhost:8080/",
          "height": 372
        },
        "outputId": "9ade49b8-2534-45c7-fea5-eaffdb010f4b"
      },
      "source": [
        "!nvidia-smi"
      ],
      "execution_count": 1,
      "outputs": [
        {
          "output_type": "stream",
          "text": [
            "Fri Jul  3 06:00:52 2020       \n",
            "+-----------------------------------------------------------------------------+\n",
            "| NVIDIA-SMI 450.36.06    Driver Version: 418.67       CUDA Version: 10.1     |\n",
            "|-------------------------------+----------------------+----------------------+\n",
            "| GPU  Name        Persistence-M| Bus-Id        Disp.A | Volatile Uncorr. ECC |\n",
            "| Fan  Temp  Perf  Pwr:Usage/Cap|         Memory-Usage | GPU-Util  Compute M. |\n",
            "|                               |                      |               MIG M. |\n",
            "|===============================+======================+======================|\n",
            "|   0  Tesla P4            Off  | 00000000:00:04.0 Off |                    0 |\n",
            "| N/A   40C    P8     7W /  75W |      0MiB /  7611MiB |      0%      Default |\n",
            "|                               |                      |                 ERR! |\n",
            "+-------------------------------+----------------------+----------------------+\n",
            "                                                                               \n",
            "+-----------------------------------------------------------------------------+\n",
            "| Processes:                                                                  |\n",
            "|  GPU   GI   CI        PID   Type   Process name                  GPU Memory |\n",
            "|        ID   ID                                                   Usage      |\n",
            "|=============================================================================|\n",
            "|  No running processes found                                                 |\n",
            "+-----------------------------------------------------------------------------+\n"
          ],
          "name": "stdout"
        }
      ]
    },
    {
      "cell_type": "code",
      "metadata": {
        "id": "hcr8LovGKQz0",
        "colab_type": "code",
        "colab": {
          "base_uri": "https://localhost:8080/",
          "height": 230
        },
        "outputId": "6f67a6c9-4381-4901-a770-c7791d26d6af"
      },
      "source": [
        "!apt-get install default-jre\n",
        "!java -version"
      ],
      "execution_count": 2,
      "outputs": [
        {
          "output_type": "stream",
          "text": [
            "Reading package lists... Done\n",
            "Building dependency tree       \n",
            "Reading state information... Done\n",
            "default-jre is already the newest version (2:1.11-68ubuntu1~18.04.1).\n",
            "default-jre set to manually installed.\n",
            "The following package was automatically installed and is no longer required:\n",
            "  libnvidia-common-440\n",
            "Use 'apt autoremove' to remove it.\n",
            "0 upgraded, 0 newly installed, 0 to remove and 33 not upgraded.\n",
            "openjdk version \"11.0.7\" 2020-04-14\n",
            "OpenJDK Runtime Environment (build 11.0.7+10-post-Ubuntu-2ubuntu218.04)\n",
            "OpenJDK 64-Bit Server VM (build 11.0.7+10-post-Ubuntu-2ubuntu218.04, mixed mode, sharing)\n"
          ],
          "name": "stdout"
        }
      ]
    },
    {
      "cell_type": "code",
      "metadata": {
        "id": "cQQX75nNOmlv",
        "colab_type": "code",
        "colab": {
          "base_uri": "https://localhost:8080/",
          "height": 176
        },
        "outputId": "98524927-389d-4818-bdbc-430203e16a1a"
      },
      "source": [
        "!pip install h2o\n",
        "\n",
        "import h2o\n",
        "from h2o.automl import H2OAutoML"
      ],
      "execution_count": 4,
      "outputs": [
        {
          "output_type": "stream",
          "text": [
            "Requirement already satisfied: h2o in /usr/local/lib/python3.6/dist-packages (3.30.0.6)\n",
            "Requirement already satisfied: colorama>=0.3.8 in /usr/local/lib/python3.6/dist-packages (from h2o) (0.4.3)\n",
            "Requirement already satisfied: requests in /usr/local/lib/python3.6/dist-packages (from h2o) (2.23.0)\n",
            "Requirement already satisfied: tabulate in /usr/local/lib/python3.6/dist-packages (from h2o) (0.8.7)\n",
            "Requirement already satisfied: future in /usr/local/lib/python3.6/dist-packages (from h2o) (0.16.0)\n",
            "Requirement already satisfied: chardet<4,>=3.0.2 in /usr/local/lib/python3.6/dist-packages (from requests->h2o) (3.0.4)\n",
            "Requirement already satisfied: certifi>=2017.4.17 in /usr/local/lib/python3.6/dist-packages (from requests->h2o) (2020.6.20)\n",
            "Requirement already satisfied: urllib3!=1.25.0,!=1.25.1,<1.26,>=1.21.1 in /usr/local/lib/python3.6/dist-packages (from requests->h2o) (1.24.3)\n",
            "Requirement already satisfied: idna<3,>=2.5 in /usr/local/lib/python3.6/dist-packages (from requests->h2o) (2.9)\n"
          ],
          "name": "stdout"
        }
      ]
    },
    {
      "cell_type": "code",
      "metadata": {
        "id": "vh1r-gvOSZie",
        "colab_type": "code",
        "colab": {
          "base_uri": "https://localhost:8080/",
          "height": 354
        },
        "outputId": "d12f8f0c-5aa1-4052-ab60-d8aa8b8813ea"
      },
      "source": [
        "!pip install shap\n",
        "import shap"
      ],
      "execution_count": 7,
      "outputs": [
        {
          "output_type": "stream",
          "text": [
            "Collecting shap\n",
            "\u001b[?25l  Downloading https://files.pythonhosted.org/packages/a8/77/b504e43e21a2ba543a1ac4696718beb500cfa708af2fb57cb54ce299045c/shap-0.35.0.tar.gz (273kB)\n",
            "     |████████████████████████████████| 276kB 8.3MB/s \n",
            "\u001b[?25hRequirement already satisfied: numpy in /usr/local/lib/python3.6/dist-packages (from shap) (1.18.5)\n",
            "Requirement already satisfied: scipy in /usr/local/lib/python3.6/dist-packages (from shap) (1.4.1)\n",
            "Requirement already satisfied: scikit-learn in /usr/local/lib/python3.6/dist-packages (from shap) (0.22.2.post1)\n",
            "Requirement already satisfied: pandas in /usr/local/lib/python3.6/dist-packages (from shap) (1.0.5)\n",
            "Requirement already satisfied: tqdm>4.25.0 in /usr/local/lib/python3.6/dist-packages (from shap) (4.41.1)\n",
            "Requirement already satisfied: joblib>=0.11 in /usr/local/lib/python3.6/dist-packages (from scikit-learn->shap) (0.15.1)\n",
            "Requirement already satisfied: python-dateutil>=2.6.1 in /usr/local/lib/python3.6/dist-packages (from pandas->shap) (2.8.1)\n",
            "Requirement already satisfied: pytz>=2017.2 in /usr/local/lib/python3.6/dist-packages (from pandas->shap) (2018.9)\n",
            "Requirement already satisfied: six>=1.5 in /usr/local/lib/python3.6/dist-packages (from python-dateutil>=2.6.1->pandas->shap) (1.12.0)\n",
            "Building wheels for collected packages: shap\n",
            "  Building wheel for shap (setup.py) ... \u001b[?25l\u001b[?25hdone\n",
            "  Created wheel for shap: filename=shap-0.35.0-cp36-cp36m-linux_x86_64.whl size=394118 sha256=8a2bd81a47aacf341c9949109089f43765fe688663c67f6ea10f7d0f8aa5a127\n",
            "  Stored in directory: /root/.cache/pip/wheels/e7/f7/0f/b57055080cf8894906b3bd3616d2fc2bfd0b12d5161bcb24ac\n",
            "Successfully built shap\n",
            "Installing collected packages: shap\n",
            "Successfully installed shap-0.35.0\n"
          ],
          "name": "stdout"
        }
      ]
    },
    {
      "cell_type": "code",
      "metadata": {
        "id": "Y193-lfVRuaw",
        "colab_type": "code",
        "colab": {}
      },
      "source": [
        "import pandas as pd\n",
        "import numpy as np\n",
        "\n",
        "import seaborn as sns\n",
        "import matplotlib.pyplot as plt\n",
        "from sklearn import metrics\n",
        "import time\n",
        "import itertools\n",
        "\n",
        "from sklearn.metrics import confusion_matrix\n",
        "\n",
        "import sys\n",
        "import os\n",
        "\n",
        "import warnings\n",
        "warnings.filterwarnings(\"ignore\")"
      ],
      "execution_count": 16,
      "outputs": []
    },
    {
      "cell_type": "code",
      "metadata": {
        "id": "lakpkQGMPUuX",
        "colab_type": "code",
        "colab": {
          "base_uri": "https://localhost:8080/",
          "height": 70
        },
        "outputId": "30ea72f8-970f-472d-ad42-95ba39486117"
      },
      "source": [
        "#print('matplotlib: {}'.format(matplotlib.__version__))\n",
        "#print('sklearn: {}'.format(sklearn.__version__))\n",
        "#print('scipy: {}'.format(scipy.__version__))\n",
        "print('seaborn: {}'.format(sns.__version__))\n",
        "print('pandas: {}'.format(pd.__version__))\n",
        "print('numpy: {}'.format(np.__version__))\n",
        "#print('sys: {}'.format(sys.version))"
      ],
      "execution_count": 17,
      "outputs": [
        {
          "output_type": "stream",
          "text": [
            "seaborn: 0.10.1\n",
            "pandas: 1.0.5\n",
            "numpy: 1.18.5\n"
          ],
          "name": "stdout"
        }
      ]
    },
    {
      "cell_type": "code",
      "metadata": {
        "id": "Op3rBhT4O7iA",
        "colab_type": "code",
        "colab": {
          "base_uri": "https://localhost:8080/",
          "height": 462
        },
        "outputId": "f5a1952b-09a1-41d7-f620-95251efa695e"
      },
      "source": [
        "h2o.init()"
      ],
      "execution_count": 18,
      "outputs": [
        {
          "output_type": "stream",
          "text": [
            "Checking whether there is an H2O instance running at http://localhost:54321 ..... not found.\n",
            "Attempting to start a local H2O server...\n",
            "  Java Version: openjdk version \"11.0.7\" 2020-04-14; OpenJDK Runtime Environment (build 11.0.7+10-post-Ubuntu-2ubuntu218.04); OpenJDK 64-Bit Server VM (build 11.0.7+10-post-Ubuntu-2ubuntu218.04, mixed mode, sharing)\n",
            "  Starting server from /usr/local/lib/python3.6/dist-packages/h2o/backend/bin/h2o.jar\n",
            "  Ice root: /tmp/tmp_drk192a\n",
            "  JVM stdout: /tmp/tmp_drk192a/h2o_unknownUser_started_from_python.out\n",
            "  JVM stderr: /tmp/tmp_drk192a/h2o_unknownUser_started_from_python.err\n",
            "  Server is running at http://127.0.0.1:54321\n",
            "Connecting to H2O server at http://127.0.0.1:54321 ... successful.\n"
          ],
          "name": "stdout"
        },
        {
          "output_type": "display_data",
          "data": {
            "text/html": [
              "<div style=\"overflow:auto\"><table style=\"width:50%\"><tr><td>H2O_cluster_uptime:</td>\n",
              "<td>02 secs</td></tr>\n",
              "<tr><td>H2O_cluster_timezone:</td>\n",
              "<td>Etc/UTC</td></tr>\n",
              "<tr><td>H2O_data_parsing_timezone:</td>\n",
              "<td>UTC</td></tr>\n",
              "<tr><td>H2O_cluster_version:</td>\n",
              "<td>3.30.0.6</td></tr>\n",
              "<tr><td>H2O_cluster_version_age:</td>\n",
              "<td>2 days </td></tr>\n",
              "<tr><td>H2O_cluster_name:</td>\n",
              "<td>H2O_from_python_unknownUser_p7hbwd</td></tr>\n",
              "<tr><td>H2O_cluster_total_nodes:</td>\n",
              "<td>1</td></tr>\n",
              "<tr><td>H2O_cluster_free_memory:</td>\n",
              "<td>3.180 Gb</td></tr>\n",
              "<tr><td>H2O_cluster_total_cores:</td>\n",
              "<td>2</td></tr>\n",
              "<tr><td>H2O_cluster_allowed_cores:</td>\n",
              "<td>2</td></tr>\n",
              "<tr><td>H2O_cluster_status:</td>\n",
              "<td>accepting new members, healthy</td></tr>\n",
              "<tr><td>H2O_connection_url:</td>\n",
              "<td>http://127.0.0.1:54321</td></tr>\n",
              "<tr><td>H2O_connection_proxy:</td>\n",
              "<td>{\"http\": null, \"https\": null}</td></tr>\n",
              "<tr><td>H2O_internal_security:</td>\n",
              "<td>False</td></tr>\n",
              "<tr><td>H2O_API_Extensions:</td>\n",
              "<td>Amazon S3, XGBoost, Algos, AutoML, Core V3, TargetEncoder, Core V4</td></tr>\n",
              "<tr><td>Python_version:</td>\n",
              "<td>3.6.9 final</td></tr></table></div>"
            ],
            "text/plain": [
              "--------------------------  ------------------------------------------------------------------\n",
              "H2O_cluster_uptime:         02 secs\n",
              "H2O_cluster_timezone:       Etc/UTC\n",
              "H2O_data_parsing_timezone:  UTC\n",
              "H2O_cluster_version:        3.30.0.6\n",
              "H2O_cluster_version_age:    2 days\n",
              "H2O_cluster_name:           H2O_from_python_unknownUser_p7hbwd\n",
              "H2O_cluster_total_nodes:    1\n",
              "H2O_cluster_free_memory:    3.180 Gb\n",
              "H2O_cluster_total_cores:    2\n",
              "H2O_cluster_allowed_cores:  2\n",
              "H2O_cluster_status:         accepting new members, healthy\n",
              "H2O_connection_url:         http://127.0.0.1:54321\n",
              "H2O_connection_proxy:       {\"http\": null, \"https\": null}\n",
              "H2O_internal_security:      False\n",
              "H2O_API_Extensions:         Amazon S3, XGBoost, Algos, AutoML, Core V3, TargetEncoder, Core V4\n",
              "Python_version:             3.6.9 final\n",
              "--------------------------  ------------------------------------------------------------------"
            ]
          },
          "metadata": {
            "tags": []
          }
        }
      ]
    },
    {
      "cell_type": "code",
      "metadata": {
        "id": "nQ1vIt3iR2s-",
        "colab_type": "code",
        "colab": {}
      },
      "source": [
        "# Get help\n",
        "#help(h2o.estimators.glm.H2OGeneralizedLinearEstimator)\n",
        "#help(h2o.estimators.gbm.H2OGradientBoostingEstimator)\n",
        "#help(h2o.estimators.deeplearning.H2ODeepLearningEstimator)\n",
        "\n",
        "# Show a demo\n",
        "#h2o.demo(\"glm\")\n",
        "#h2o.demo(\"gbm\")\n",
        "#h2o.demo(\"deeplearning\")"
      ],
      "execution_count": 19,
      "outputs": []
    },
    {
      "cell_type": "markdown",
      "metadata": {
        "id": "DsQdgsFMT9er",
        "colab_type": "text"
      },
      "source": [
        "### 여러 파일 준비"
      ]
    },
    {
      "cell_type": "code",
      "metadata": {
        "id": "G6d0229RT7_v",
        "colab_type": "code",
        "colab": {}
      },
      "source": [
        "BASE_DIR = '/content'\n",
        "#OUTPUT_FILE = os.path.join(BASE_DIR, 'tmp.csv')\n",
        "\n",
        "#hkim_data=urllib.request.urlretrieve('http://archive.ics.uci.edu/ml/machine-learning-databases/credit-screening/crx.data', OUTPUT_FILE)\n",
        "\n",
        "# 드라이브 전체공유 후..\n",
        "\n",
        "# column_2C_weka.csv\n",
        "#hkim_data=urllib.request.urlretrieve('https://drive.google.com/uc?export=download&id=1oMEvI6gWC4ZAqssQ3s3j6RkWUPa_TSwY', OUTPUT_FILE)\n",
        "\n",
        "#churn_df = h2o.import_file('https://raw.githubusercontent.com/srivatsan88/YouTubeLI/master/dataset/WA_Fn-UseC_-Telco-Customer-Churn.csv')"
      ],
      "execution_count": 20,
      "outputs": []
    },
    {
      "cell_type": "code",
      "metadata": {
        "id": "H91Teg5Fhuyk",
        "colab_type": "code",
        "colab": {
          "base_uri": "https://localhost:8080/",
          "height": 230
        },
        "outputId": "ad029189-a8b2-42ac-d8b9-947880c2b425"
      },
      "source": [
        "OUTPUT_FILE = os.path.join(BASE_DIR, 'QMS_NVOC_SORT.csv')\n",
        "df = pd.read_csv(OUTPUT_FILE, delimiter = ',')\n",
        "print(df.shape)\n",
        "print(type(df))\n",
        "df.dtypes\n"
      ],
      "execution_count": 21,
      "outputs": [
        {
          "output_type": "stream",
          "text": [
            "(2603543, 9)\n",
            "<class 'pandas.core.frame.DataFrame'>\n"
          ],
          "name": "stdout"
        },
        {
          "output_type": "execute_result",
          "data": {
            "text/plain": [
              "Unnamed: 0                 int64\n",
              "a1.ucube_jnr_no           object\n",
              "a2.firstlogtime           object\n",
              "a2.buffer_overflow       float64\n",
              "a2.pts_advanced_error    float64\n",
              "a2.stb_rtp_errcnt        float64\n",
              "a2.no_stream_error       float64\n",
              "a2.not_decoding_error    float64\n",
              "nvoc                       int64\n",
              "dtype: object"
            ]
          },
          "metadata": {
            "tags": []
          },
          "execution_count": 21
        }
      ]
    },
    {
      "cell_type": "code",
      "metadata": {
        "id": "AIXgD_vmo8ZQ",
        "colab_type": "code",
        "colab": {
          "base_uri": "https://localhost:8080/",
          "height": 197
        },
        "outputId": "b08f3977-2e7b-4d47-ff58-01a89616aca0"
      },
      "source": [
        "df.head()"
      ],
      "execution_count": 22,
      "outputs": [
        {
          "output_type": "execute_result",
          "data": {
            "text/html": [
              "<div>\n",
              "<style scoped>\n",
              "    .dataframe tbody tr th:only-of-type {\n",
              "        vertical-align: middle;\n",
              "    }\n",
              "\n",
              "    .dataframe tbody tr th {\n",
              "        vertical-align: top;\n",
              "    }\n",
              "\n",
              "    .dataframe thead th {\n",
              "        text-align: right;\n",
              "    }\n",
              "</style>\n",
              "<table border=\"1\" class=\"dataframe\">\n",
              "  <thead>\n",
              "    <tr style=\"text-align: right;\">\n",
              "      <th></th>\n",
              "      <th>Unnamed: 0</th>\n",
              "      <th>a1.ucube_jnr_no</th>\n",
              "      <th>a2.firstlogtime</th>\n",
              "      <th>a2.buffer_overflow</th>\n",
              "      <th>a2.pts_advanced_error</th>\n",
              "      <th>a2.stb_rtp_errcnt</th>\n",
              "      <th>a2.no_stream_error</th>\n",
              "      <th>a2.not_decoding_error</th>\n",
              "      <th>nvoc</th>\n",
              "    </tr>\n",
              "  </thead>\n",
              "  <tbody>\n",
              "    <tr>\n",
              "      <th>0</th>\n",
              "      <td>111744</td>\n",
              "      <td>09C0AD6964595B62D88E9C3797DF66099DE5747C</td>\n",
              "      <td>2020-06-01 00:00:00</td>\n",
              "      <td>0.0</td>\n",
              "      <td>0.0</td>\n",
              "      <td>0.0</td>\n",
              "      <td>0.0</td>\n",
              "      <td>0.0</td>\n",
              "      <td>0</td>\n",
              "    </tr>\n",
              "    <tr>\n",
              "      <th>1</th>\n",
              "      <td>111745</td>\n",
              "      <td>09C0AD6964595B62D88E9C3797DF66099DE5747C</td>\n",
              "      <td>2020-06-01 00:10:00</td>\n",
              "      <td>0.0</td>\n",
              "      <td>0.0</td>\n",
              "      <td>0.0</td>\n",
              "      <td>0.0</td>\n",
              "      <td>0.0</td>\n",
              "      <td>0</td>\n",
              "    </tr>\n",
              "    <tr>\n",
              "      <th>2</th>\n",
              "      <td>111746</td>\n",
              "      <td>09C0AD6964595B62D88E9C3797DF66099DE5747C</td>\n",
              "      <td>2020-06-01 00:20:00</td>\n",
              "      <td>0.0</td>\n",
              "      <td>0.0</td>\n",
              "      <td>0.0</td>\n",
              "      <td>0.0</td>\n",
              "      <td>0.0</td>\n",
              "      <td>0</td>\n",
              "    </tr>\n",
              "    <tr>\n",
              "      <th>3</th>\n",
              "      <td>111747</td>\n",
              "      <td>09C0AD6964595B62D88E9C3797DF66099DE5747C</td>\n",
              "      <td>2020-06-01 00:30:00</td>\n",
              "      <td>0.0</td>\n",
              "      <td>0.0</td>\n",
              "      <td>0.0</td>\n",
              "      <td>0.0</td>\n",
              "      <td>0.0</td>\n",
              "      <td>0</td>\n",
              "    </tr>\n",
              "    <tr>\n",
              "      <th>4</th>\n",
              "      <td>111748</td>\n",
              "      <td>09C0AD6964595B62D88E9C3797DF66099DE5747C</td>\n",
              "      <td>2020-06-01 00:40:00</td>\n",
              "      <td>0.0</td>\n",
              "      <td>0.0</td>\n",
              "      <td>0.0</td>\n",
              "      <td>0.0</td>\n",
              "      <td>0.0</td>\n",
              "      <td>0</td>\n",
              "    </tr>\n",
              "  </tbody>\n",
              "</table>\n",
              "</div>"
            ],
            "text/plain": [
              "   Unnamed: 0  ... nvoc\n",
              "0      111744  ...    0\n",
              "1      111745  ...    0\n",
              "2      111746  ...    0\n",
              "3      111747  ...    0\n",
              "4      111748  ...    0\n",
              "\n",
              "[5 rows x 9 columns]"
            ]
          },
          "metadata": {
            "tags": []
          },
          "execution_count": 22
        }
      ]
    },
    {
      "cell_type": "markdown",
      "metadata": {
        "id": "Xtdvght0bn_e",
        "colab_type": "text"
      },
      "source": [
        "### 향후 편의를 위해 Ground-truth Class, normal, anomaly로 이름 변경"
      ]
    },
    {
      "cell_type": "code",
      "metadata": {
        "id": "GwHszpp4bmrD",
        "colab_type": "code",
        "colab": {
          "base_uri": "https://localhost:8080/",
          "height": 197
        },
        "outputId": "63c9efcd-1447-4f15-99d6-09155ae0dd13"
      },
      "source": [
        "df.rename(columns={'nvoc':'Ground-truth Class'}, inplace=True)\n",
        "\n",
        "df['Ground-truth Class'] = df['Ground-truth Class'].replace(0, 'normal')\n",
        "df['Ground-truth Class'] = df['Ground-truth Class'].replace(1, 'anomaly')\n",
        "\n",
        "df.head()"
      ],
      "execution_count": 25,
      "outputs": [
        {
          "output_type": "execute_result",
          "data": {
            "text/html": [
              "<div>\n",
              "<style scoped>\n",
              "    .dataframe tbody tr th:only-of-type {\n",
              "        vertical-align: middle;\n",
              "    }\n",
              "\n",
              "    .dataframe tbody tr th {\n",
              "        vertical-align: top;\n",
              "    }\n",
              "\n",
              "    .dataframe thead th {\n",
              "        text-align: right;\n",
              "    }\n",
              "</style>\n",
              "<table border=\"1\" class=\"dataframe\">\n",
              "  <thead>\n",
              "    <tr style=\"text-align: right;\">\n",
              "      <th></th>\n",
              "      <th>Unnamed: 0</th>\n",
              "      <th>a1.ucube_jnr_no</th>\n",
              "      <th>a2.firstlogtime</th>\n",
              "      <th>a2.buffer_overflow</th>\n",
              "      <th>a2.pts_advanced_error</th>\n",
              "      <th>a2.stb_rtp_errcnt</th>\n",
              "      <th>a2.no_stream_error</th>\n",
              "      <th>a2.not_decoding_error</th>\n",
              "      <th>Ground-truth Class</th>\n",
              "    </tr>\n",
              "  </thead>\n",
              "  <tbody>\n",
              "    <tr>\n",
              "      <th>0</th>\n",
              "      <td>111744</td>\n",
              "      <td>09C0AD6964595B62D88E9C3797DF66099DE5747C</td>\n",
              "      <td>2020-06-01 00:00:00</td>\n",
              "      <td>0.0</td>\n",
              "      <td>0.0</td>\n",
              "      <td>0.0</td>\n",
              "      <td>0.0</td>\n",
              "      <td>0.0</td>\n",
              "      <td>normal</td>\n",
              "    </tr>\n",
              "    <tr>\n",
              "      <th>1</th>\n",
              "      <td>111745</td>\n",
              "      <td>09C0AD6964595B62D88E9C3797DF66099DE5747C</td>\n",
              "      <td>2020-06-01 00:10:00</td>\n",
              "      <td>0.0</td>\n",
              "      <td>0.0</td>\n",
              "      <td>0.0</td>\n",
              "      <td>0.0</td>\n",
              "      <td>0.0</td>\n",
              "      <td>normal</td>\n",
              "    </tr>\n",
              "    <tr>\n",
              "      <th>2</th>\n",
              "      <td>111746</td>\n",
              "      <td>09C0AD6964595B62D88E9C3797DF66099DE5747C</td>\n",
              "      <td>2020-06-01 00:20:00</td>\n",
              "      <td>0.0</td>\n",
              "      <td>0.0</td>\n",
              "      <td>0.0</td>\n",
              "      <td>0.0</td>\n",
              "      <td>0.0</td>\n",
              "      <td>normal</td>\n",
              "    </tr>\n",
              "    <tr>\n",
              "      <th>3</th>\n",
              "      <td>111747</td>\n",
              "      <td>09C0AD6964595B62D88E9C3797DF66099DE5747C</td>\n",
              "      <td>2020-06-01 00:30:00</td>\n",
              "      <td>0.0</td>\n",
              "      <td>0.0</td>\n",
              "      <td>0.0</td>\n",
              "      <td>0.0</td>\n",
              "      <td>0.0</td>\n",
              "      <td>normal</td>\n",
              "    </tr>\n",
              "    <tr>\n",
              "      <th>4</th>\n",
              "      <td>111748</td>\n",
              "      <td>09C0AD6964595B62D88E9C3797DF66099DE5747C</td>\n",
              "      <td>2020-06-01 00:40:00</td>\n",
              "      <td>0.0</td>\n",
              "      <td>0.0</td>\n",
              "      <td>0.0</td>\n",
              "      <td>0.0</td>\n",
              "      <td>0.0</td>\n",
              "      <td>normal</td>\n",
              "    </tr>\n",
              "  </tbody>\n",
              "</table>\n",
              "</div>"
            ],
            "text/plain": [
              "   Unnamed: 0  ... Ground-truth Class\n",
              "0      111744  ...             normal\n",
              "1      111745  ...             normal\n",
              "2      111746  ...             normal\n",
              "3      111747  ...             normal\n",
              "4      111748  ...             normal\n",
              "\n",
              "[5 rows x 9 columns]"
            ]
          },
          "metadata": {
            "tags": []
          },
          "execution_count": 25
        }
      ]
    },
    {
      "cell_type": "code",
      "metadata": {
        "id": "F672Pw5zIopJ",
        "colab_type": "code",
        "colab": {
          "base_uri": "https://localhost:8080/",
          "height": 87
        },
        "outputId": "a8c5dd1a-ef2e-4ecf-842d-cc63932796a2"
      },
      "source": [
        "df.groupby('Ground-truth Class')['Ground-truth Class'].count()"
      ],
      "execution_count": 26,
      "outputs": [
        {
          "output_type": "execute_result",
          "data": {
            "text/plain": [
              "Ground-truth Class\n",
              "anomaly       2376\n",
              "normal     2601167\n",
              "Name: Ground-truth Class, dtype: int64"
            ]
          },
          "metadata": {
            "tags": []
          },
          "execution_count": 26
        }
      ]
    },
    {
      "cell_type": "code",
      "metadata": {
        "id": "CxW3B8gTJVdJ",
        "colab_type": "code",
        "colab": {
          "base_uri": "https://localhost:8080/",
          "height": 34
        },
        "outputId": "a5b082dc-30bd-481e-a655-df63890b66c2"
      },
      "source": [
        "print('%anomaly =' ,np.round(df.groupby('Ground-truth Class')['Ground-truth Class'].count()['anomaly']/(df.shape[0])*100,2))"
      ],
      "execution_count": 27,
      "outputs": [
        {
          "output_type": "stream",
          "text": [
            "%anomaly = 0.09\n"
          ],
          "name": "stdout"
        }
      ]
    },
    {
      "cell_type": "code",
      "metadata": {
        "id": "8cgG3w9scUEt",
        "colab_type": "code",
        "colab": {
          "base_uri": "https://localhost:8080/",
          "height": 320
        },
        "outputId": "2e53fbb8-653d-45d9-aa18-000b4775371d"
      },
      "source": [
        "h2o.init(max_mem_size='12G')"
      ],
      "execution_count": 28,
      "outputs": [
        {
          "output_type": "stream",
          "text": [
            "Checking whether there is an H2O instance running at http://localhost:54321 . connected.\n"
          ],
          "name": "stdout"
        },
        {
          "output_type": "display_data",
          "data": {
            "text/html": [
              "<div style=\"overflow:auto\"><table style=\"width:50%\"><tr><td>H2O_cluster_uptime:</td>\n",
              "<td>6 mins 13 secs</td></tr>\n",
              "<tr><td>H2O_cluster_timezone:</td>\n",
              "<td>Etc/UTC</td></tr>\n",
              "<tr><td>H2O_data_parsing_timezone:</td>\n",
              "<td>UTC</td></tr>\n",
              "<tr><td>H2O_cluster_version:</td>\n",
              "<td>3.30.0.6</td></tr>\n",
              "<tr><td>H2O_cluster_version_age:</td>\n",
              "<td>2 days </td></tr>\n",
              "<tr><td>H2O_cluster_name:</td>\n",
              "<td>H2O_from_python_unknownUser_p7hbwd</td></tr>\n",
              "<tr><td>H2O_cluster_total_nodes:</td>\n",
              "<td>1</td></tr>\n",
              "<tr><td>H2O_cluster_free_memory:</td>\n",
              "<td>3.180 Gb</td></tr>\n",
              "<tr><td>H2O_cluster_total_cores:</td>\n",
              "<td>2</td></tr>\n",
              "<tr><td>H2O_cluster_allowed_cores:</td>\n",
              "<td>2</td></tr>\n",
              "<tr><td>H2O_cluster_status:</td>\n",
              "<td>locked, healthy</td></tr>\n",
              "<tr><td>H2O_connection_url:</td>\n",
              "<td>http://localhost:54321</td></tr>\n",
              "<tr><td>H2O_connection_proxy:</td>\n",
              "<td>{\"http\": null, \"https\": null}</td></tr>\n",
              "<tr><td>H2O_internal_security:</td>\n",
              "<td>False</td></tr>\n",
              "<tr><td>H2O_API_Extensions:</td>\n",
              "<td>Amazon S3, XGBoost, Algos, AutoML, Core V3, TargetEncoder, Core V4</td></tr>\n",
              "<tr><td>Python_version:</td>\n",
              "<td>3.6.9 final</td></tr></table></div>"
            ],
            "text/plain": [
              "--------------------------  ------------------------------------------------------------------\n",
              "H2O_cluster_uptime:         6 mins 13 secs\n",
              "H2O_cluster_timezone:       Etc/UTC\n",
              "H2O_data_parsing_timezone:  UTC\n",
              "H2O_cluster_version:        3.30.0.6\n",
              "H2O_cluster_version_age:    2 days\n",
              "H2O_cluster_name:           H2O_from_python_unknownUser_p7hbwd\n",
              "H2O_cluster_total_nodes:    1\n",
              "H2O_cluster_free_memory:    3.180 Gb\n",
              "H2O_cluster_total_cores:    2\n",
              "H2O_cluster_allowed_cores:  2\n",
              "H2O_cluster_status:         locked, healthy\n",
              "H2O_connection_url:         http://localhost:54321\n",
              "H2O_connection_proxy:       {\"http\": null, \"https\": null}\n",
              "H2O_internal_security:      False\n",
              "H2O_API_Extensions:         Amazon S3, XGBoost, Algos, AutoML, Core V3, TargetEncoder, Core V4\n",
              "Python_version:             3.6.9 final\n",
              "--------------------------  ------------------------------------------------------------------"
            ]
          },
          "metadata": {
            "tags": []
          }
        }
      ]
    },
    {
      "cell_type": "code",
      "metadata": {
        "id": "7Sh9lJ5zJ1xa",
        "colab_type": "code",
        "colab": {
          "base_uri": "https://localhost:8080/",
          "height": 34
        },
        "outputId": "3709ff7f-b964-4183-d10b-555c05c2c8aa"
      },
      "source": [
        "hdf = h2o.H2OFrame(df)"
      ],
      "execution_count": 29,
      "outputs": [
        {
          "output_type": "stream",
          "text": [
            "Parse progress: |█████████████████████████████████████████████████████████| 100%\n"
          ],
          "name": "stdout"
        }
      ]
    },
    {
      "cell_type": "code",
      "metadata": {
        "id": "_aOHk1HiKFqD",
        "colab_type": "code",
        "colab": {
          "base_uri": "https://localhost:8080/",
          "height": 33
        },
        "outputId": "63ca5dc8-9bef-4c1e-ab8b-2a2fb27f10cd"
      },
      "source": [
        "y = 'Ground-truth Class'\n",
        "x = hdf.columns\n",
        "x.remove('Unnamed: 0')\n",
        "x.remove('a1.ucube_jnr_no')\n",
        "x.remove('a2.firstlogtime')\n",
        "x"
      ],
      "execution_count": 32,
      "outputs": [
        {
          "output_type": "execute_result",
          "data": {
            "text/html": [
              "['a2.buffer_overflow', 'a2.pts_advanced_error', 'a2.stb_rtp_errcnt', 'a2.no_stream_error', 'a2.not_decoding_error', 'Ground-truth Class']"
            ],
            "text/plain": [
              "['a2.buffer_overflow',\n",
              " 'a2.pts_advanced_error',\n",
              " 'a2.stb_rtp_errcnt',\n",
              " 'a2.no_stream_error',\n",
              " 'a2.not_decoding_error',\n",
              " 'Ground-truth Class']"
            ]
          },
          "metadata": {
            "tags": []
          },
          "execution_count": 32
        }
      ]
    },
    {
      "cell_type": "markdown",
      "metadata": {
        "id": "apXGqfBlxmay",
        "colab_type": "text"
      },
      "source": [
        "#셋 분할, (중요) anomaly가 균등히 퍼져 있는지 확인\n"
      ]
    },
    {
      "cell_type": "code",
      "metadata": {
        "id": "AZAvqXsdqpXK",
        "colab_type": "code",
        "colab": {}
      },
      "source": [
        "splits = hdf.split_frame(ratios=[0.8], seed=42)\n",
        "hdf_train = splits[0]\n",
        "hdf_test = splits[1]"
      ],
      "execution_count": 35,
      "outputs": []
    },
    {
      "cell_type": "code",
      "metadata": {
        "id": "4E18zlEFu1jh",
        "colab_type": "code",
        "colab": {
          "base_uri": "https://localhost:8080/",
          "height": 52
        },
        "outputId": "a78ac02a-036f-4319-f651-bb418fc2e059"
      },
      "source": [
        "train_gb = hdf_train.group_by('Ground-truth Class').count().get_frame()\n",
        "mask = train_gb['Ground-truth Class'] == 'anomaly'\n",
        "print('%anomaly train split =' ,train_gb[mask,:]['nrow'][0,0]/hdf_train.shape[0]*100)\n",
        "test_gb = hdf_test.group_by('Ground-truth Class').count().get_frame()\n",
        "mask = test_gb['Ground-truth Class'] == 'anomaly'\n",
        "print('%anomaly test split =' ,test_gb[mask,:]['nrow'][0,0]/hdf_test.shape[0]*100)"
      ],
      "execution_count": 37,
      "outputs": [
        {
          "output_type": "stream",
          "text": [
            "%anomaly train split = 0.09169625591224813\n",
            "%anomaly test split = 0.08951571231263651\n"
          ],
          "name": "stdout"
        }
      ]
    },
    {
      "cell_type": "markdown",
      "metadata": {
        "id": "DvkFrXD_rdgI",
        "colab_type": "text"
      },
      "source": [
        "#Create model"
      ]
    },
    {
      "cell_type": "code",
      "metadata": {
        "id": "VhqoXPD5pk2y",
        "colab_type": "code",
        "colab": {
          "base_uri": "https://localhost:8080/",
          "height": 34
        },
        "outputId": "e2f9cfd5-2a63-4719-89fb-e71bb501e37d"
      },
      "source": [
        "from h2o.estimators import H2ODeepLearningEstimator\n",
        "\n",
        "autoencoder_model = H2ODeepLearningEstimator(activation = 'tanh',\n",
        "                                             autoencoder = True,\n",
        "                                             hidden = [16,8,4,8,16],\n",
        "                                             max_runtime_secs = 600,\n",
        "                                             variable_importances = True,\n",
        "                                             overwrite_with_best_model = True,\n",
        "                                             score_each_iteration = True,\n",
        "                                             fast_mode = True,\n",
        "                                             standardize = True,\n",
        "                                             stopping_metric = 'mse',\n",
        "                                             mini_batch_size = 256,\n",
        "                                             loss = 'automatic',\n",
        "                                             adaptive_rate = False,\n",
        "                                             train_samples_per_iteration = -2,\n",
        "                                             shuffle_training_data = True,\n",
        "                                             seed = 42)\n",
        "\n",
        "autoencoder_model.train(x=x,\n",
        "                        training_frame = hdf_train,\n",
        "                        validation_frame = hdf_test)"
      ],
      "execution_count": 39,
      "outputs": [
        {
          "output_type": "stream",
          "text": [
            "deeplearning Model Build progress: |██████████████████████████████████████| 100%\n"
          ],
          "name": "stdout"
        }
      ]
    },
    {
      "cell_type": "markdown",
      "metadata": {
        "id": "n3jtcg1OBf5O",
        "colab_type": "text"
      },
      "source": [
        "# 스코어링 추적"
      ]
    },
    {
      "cell_type": "code",
      "metadata": {
        "id": "rggJoK6tu0Ks",
        "colab_type": "code",
        "colab": {
          "base_uri": "https://localhost:8080/",
          "height": 294
        },
        "outputId": "d903ec43-01cb-40bd-e095-a69f5ed9e860"
      },
      "source": [
        "autoenc_history = autoencoder_model.score_history()\n",
        "\n",
        "x = autoenc_history['epochs']\n",
        "y = autoenc_history['training_mse']\n",
        "plt.plot(x,y,'bo')\n",
        "line1, = plt.plot(x,y,'b-')\n",
        "y = autoenc_history['validation_mse']\n",
        "plt.plot(x,y,'ro')\n",
        "line2, = plt.plot(x,y,'r-')\n",
        "plt.autoscale(enable=True, axis='both', tight=None)\n",
        "plt.legend((line1,line2),('train','valid'))\n",
        "plt.xlabel('epochs')\n",
        "plt.ylabel('training_mse')\n",
        "plt.title('scoring history')\n",
        "plt.show()"
      ],
      "execution_count": 40,
      "outputs": [
        {
          "output_type": "display_data",
          "data": {
            "image/png": "[encoded data removed]",
            "text/plain": [
              "<Figure size 432x288 with 1 Axes>"
            ]
          },
          "metadata": {
            "tags": [],
            "needs_background": "light"
          }
        }
      ]
    },
    {
      "cell_type": "markdown",
      "metadata": {
        "id": "7G_v4PW1D0y3",
        "colab_type": "text"
      },
      "source": [
        "#평가"
      ]
    },
    {
      "cell_type": "code",
      "metadata": {
        "id": "meb4qRqy5y48",
        "colab_type": "code",
        "colab": {
          "base_uri": "https://localhost:8080/",
          "height": 212
        },
        "outputId": "29ec3baa-3163-4492-a060-928ba91f38f0"
      },
      "source": [
        "# 학습, 테스트셋에 대한 리컨스트럭션 에러 계산\n",
        "\n",
        "recon_error_train = autoencoder_model.anomaly(hdf_train, per_feature=False)\n",
        "df_recon_error_train = h2o.as_list(recon_error_train, use_pandas=True, header=True)\n",
        "df_train = h2o.as_list(hdf_train, use_pandas=True, header=True)\n",
        "df_recon_error_train['Ground-truth Class'] = df_train['Ground-truth Class']\n",
        "\n",
        "recon_error_test = autoencoder_model.anomaly(hdf_test, per_feature=False)\n",
        "df_recon_error_test = h2o.as_list(recon_error_test, use_pandas=True, header=True)\n",
        "df_test = h2o.as_list(hdf_test, use_pandas=True, header=True)\n",
        "df_recon_error_test['Ground-truth Class'] = df_test['Ground-truth Class']\n",
        "\n",
        "print(df_recon_error_train.head(10))\n",
        "\n",
        "x=list(df_recon_error_train.index)\n",
        "y=df_recon_error_train['Reconstruction.MSE']\n",
        "line1 = plt.plot(x,y,'b.')\n",
        "plt.autoscale(enable=True, axis='both', tight=None)\n",
        "plt.ylabel('Reconstruction Error MSE')\n",
        "plt.title('Reconstruction Error')\n",
        "plt.show()"
      ],
      "execution_count": 43,
      "outputs": [
        {
          "output_type": "stream",
          "text": [
            "   Reconstruction.MSE Ground-truth Class\n",
            "0        1.139113e-07             normal\n",
            "1        1.139113e-07             normal\n",
            "2        1.139113e-07             normal\n",
            "3        1.139113e-07             normal\n",
            "4        1.139113e-07             normal\n",
            "5        1.139113e-07             normal\n",
            "6        1.139113e-07             normal\n",
            "7        1.139113e-07             normal\n",
            "8        1.139113e-07             normal\n",
            "9        1.139113e-07             normal\n"
          ],
          "name": "stdout"
        }
      ]
    },
    {
      "cell_type": "markdown",
      "metadata": {
        "id": "_JiQ7Jy8g45X",
        "colab_type": "text"
      },
      "source": [
        "#문턱치 계산 (q=0.999)"
      ]
    },
    {
      "cell_type": "code",
      "metadata": {
        "id": "2M5xxsCOgveX",
        "colab_type": "code",
        "colab": {
          "base_uri": "https://localhost:8080/",
          "height": 34
        },
        "outputId": "03c955d6-63dc-450a-c3cc-c4c104195a75"
      },
      "source": [
        "df_recon_error_train['Reconstruction.MSE'].quantile(q=0.999)"
      ],
      "execution_count": 45,
      "outputs": [
        {
          "output_type": "execute_result",
          "data": {
            "text/plain": [
              "0.00034298703547705034"
            ]
          },
          "metadata": {
            "tags": []
          },
          "execution_count": 45
        }
      ]
    },
    {
      "cell_type": "code",
      "metadata": {
        "id": "Mowdu9KTs-Gw",
        "colab_type": "code",
        "colab": {
          "base_uri": "https://localhost:8080/",
          "height": 294
        },
        "outputId": "5a02f73f-a5c9-44b9-f84a-52d67a02ae38"
      },
      "source": [
        "x=list(df_recon_error_train.index)\n",
        "y=df_recon_error_train['Reconstruction.MSE']\n",
        "line1, = plt.plot(x,y,'b.')\n",
        "line2, = plt.plot([x[0],x[-1]],[0.01,0.01],'m-')\n",
        "plt.autoscale(enable=True, axis='both', tight=None)\n",
        "plt.ylabel('Reconstruction Error MSE')\n",
        "plt.title('Reconstruction Error')\n",
        "plt.show()"
      ],
      "execution_count": 53,
      "outputs": [
        {
          "output_type": "display_data",
          "data": {
            "image/png": "[encoded data removed]",
            "text/plain": [
              "<Figure size 432x288 with 1 Axes>"
            ]
          },
          "metadata": {
            "tags": [],
            "needs_background": "light"
          }
        }
      ]
    },
    {
      "cell_type": "markdown",
      "metadata": {
        "id": "eVLW61Hjhw1g",
        "colab_type": "text"
      },
      "source": [
        "# 투비컨티뉴드"
      ]
    },
    {
      "cell_type": "markdown",
      "metadata": {
        "id": "6-9KYkech3D9",
        "colab_type": "text"
      },
      "source": [
        "create new response labels based on our unsupervised model and unoptimized threshold\n",
        "we'll store these labels in a new column"
      ]
    },
    {
      "cell_type": "code",
      "metadata": {
        "id": "VBlll9N_h5-m",
        "colab_type": "code",
        "colab": {}
      },
      "source": [
        "hdf_train['Reconstruction.MSE'] = recon_error_train['Reconstruction.MSE']\n",
        "hdf_train['Unsupervised_Class'] = 'normal'\n",
        "mask = hdf_train['Reconstruction.MSE'] > 0.02\n",
        "hdf_train[mask,'Unsupervised_Class'] = 'anomaly'\n",
        "hdf_train['Unsupervised_Class'] = hdf_train['Unsupervised_Class'].asfactor()\n",
        "\n",
        "hdf_test['Reconstruction.MSE'] = recon_error_test['Reconstruction.MSE']\n",
        "hdf_test['Unsupervised_Class'] = 'normal'\n",
        "mask = hdf_test['Reconstruction.MSE'] > 0.02\n",
        "hdf_test[mask,'Unsupervised_Class'] = 'anomaly'\n",
        "hdf_test['Unsupervised_Class'] = hdf_test['Unsupervised_Class'].asfactor()"
      ],
      "execution_count": 54,
      "outputs": []
    },
    {
      "cell_type": "code",
      "metadata": {
        "id": "Wwx6DE2Bh7sv",
        "colab_type": "code",
        "colab": {
          "base_uri": "https://localhost:8080/",
          "height": 52
        },
        "outputId": "912aa56b-2d3d-4e6d-cad6-c387eb827474"
      },
      "source": [
        "train_gb = hdf_train.group_by('Unsupervised_Class').count().get_frame()\n",
        "mask = train_gb['Unsupervised_Class'] == 'anomaly'\n",
        "print('%anomaly train split =' ,train_gb[mask,:]['nrow'][0,0]/hdf_train.shape[0]*100)\n",
        "test_gb = hdf_test.group_by('Unsupervised_Class').count().get_frame()\n",
        "mask = test_gb['Unsupervised_Class'] == 'anomaly'\n",
        "print('%anomaly test split =' ,test_gb[mask,:]['nrow'][0,0]/hdf_test.shape[0]*100)"
      ],
      "execution_count": 56,
      "outputs": [
        {
          "output_type": "stream",
          "text": [
            "%anomaly train split = 0.012482212846693461\n",
            "%anomaly test split = 0.011909815801252067\n"
          ],
          "name": "stdout"
        }
      ]
    },
    {
      "cell_type": "markdown",
      "metadata": {
        "id": "ezUCQtuHihBc",
        "colab_type": "text"
      },
      "source": [
        "Now we'll set-up supervised learning with AutoML using the unsupervised predicted labels"
      ]
    },
    {
      "cell_type": "code",
      "metadata": {
        "id": "9Z0D8CjOiYsB",
        "colab_type": "code",
        "colab": {
          "base_uri": "https://localhost:8080/",
          "height": 33
        },
        "outputId": "7662607f-54a5-45a1-daba-a76f0b5528bb"
      },
      "source": [
        "y = 'Unsupervised_Class'\n",
        "X = hdf_train.columns\n",
        "X.remove(y)\n",
        "X.remove('Unnamed: 0')\n",
        "X.remove('a1.ucube_jnr_no')\n",
        "X.remove('a2.firstlogtime')\n",
        "X.remove('Ground-truth Class')\n",
        "X.remove('Reconstruction.MSE')\n",
        "X"
      ],
      "execution_count": 59,
      "outputs": [
        {
          "output_type": "execute_result",
          "data": {
            "text/html": [
              "['a2.buffer_overflow', 'a2.pts_advanced_error', 'a2.stb_rtp_errcnt', 'a2.no_stream_error', 'a2.not_decoding_error']"
            ],
            "text/plain": [
              "['a2.buffer_overflow',\n",
              " 'a2.pts_advanced_error',\n",
              " 'a2.stb_rtp_errcnt',\n",
              " 'a2.no_stream_error',\n",
              " 'a2.not_decoding_error']"
            ]
          },
          "metadata": {
            "tags": []
          },
          "execution_count": 59
        }
      ]
    },
    {
      "cell_type": "code",
      "metadata": {
        "id": "BGZtypf6irFH",
        "colab_type": "code",
        "colab": {
          "base_uri": "https://localhost:8080/",
          "height": 34
        },
        "outputId": "4f06f0b3-0cc0-4ebe-f9b0-db5df62b3692"
      },
      "source": [
        "aml = H2OAutoML(max_runtime_secs=800,\n",
        "                include_algos=['XGBoost','GBM','DRF'],\n",
        "                nfolds=5,\n",
        "                max_models=4,\n",
        "                balance_classes=False,\n",
        "                seed=42)\n",
        "aml.train(x=X,\n",
        "          y=y,\n",
        "          training_frame=hdf_train,\n",
        "          leaderboard_frame=hdf_test)"
      ],
      "execution_count": 61,
      "outputs": [
        {
          "output_type": "stream",
          "text": [
            "AutoML progress: |████████████████████████████████████████████████████████| 100%\n"
          ],
          "name": "stdout"
        }
      ]
    },
    {
      "cell_type": "code",
      "metadata": {
        "id": "OJ9EkSi7i7Vg",
        "colab_type": "code",
        "colab": {}
      },
      "source": [
        "lb = aml.leaderboard\n",
        "lb"
      ],
      "execution_count": null,
      "outputs": []
    },
    {
      "cell_type": "markdown",
      "metadata": {
        "id": "dicXcSkfjJdB",
        "colab_type": "text"
      },
      "source": [
        "Let's take a look at the confusion matrix of #1"
      ]
    },
    {
      "cell_type": "code",
      "metadata": {
        "id": "56OJDCftjRKw",
        "colab_type": "code",
        "colab": {}
      },
      "source": [
        "model = h2o.get_model(lb[0,'model_id'])"
      ],
      "execution_count": null,
      "outputs": []
    },
    {
      "cell_type": "markdown",
      "metadata": {
        "id": "O0Kl4Np_jUnk",
        "colab_type": "text"
      },
      "source": [
        "confusion matrix for cross-validation (nfolds=5)"
      ]
    },
    {
      "cell_type": "code",
      "metadata": {
        "id": "N5mywKoFjVcr",
        "colab_type": "code",
        "colab": {}
      },
      "source": [
        "model.confusion_matrix(xval=True)"
      ],
      "execution_count": null,
      "outputs": []
    }
  ]
}