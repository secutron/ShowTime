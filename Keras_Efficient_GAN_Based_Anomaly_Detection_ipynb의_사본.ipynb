{
  "nbformat": 4,
  "nbformat_minor": 0,
  "metadata": {
    "colab": {
      "name": "Keras_Efficient_GAN-Based_Anomaly_Detection.ipynb의 사본",
      "provenance": [],
      "collapsed_sections": [
        "4e-rwW9p0kR0"
      ],
      "toc_visible": true,
      "machine_shape": "hm",
      "include_colab_link": true
    },
    "kernelspec": {
      "name": "python3",
      "display_name": "Python 3"
    },
    "accelerator": "GPU"
  },
  "cells": [
    {
      "cell_type": "markdown",
      "metadata": {
        "id": "view-in-github",
        "colab_type": "text"
      },
      "source": [
        "<a href=\"https://colab.research.google.com/github/secutron/ShowTime/blob/master/Keras_Efficient_GAN_Based_Anomaly_Detection_ipynb%EC%9D%98_%EC%82%AC%EB%B3%B8.ipynb\" target=\"_parent\"><img src=\"https://colab.research.google.com/assets/colab-badge.svg\" alt=\"Open In Colab\"/></a>"
      ]
    },
    {
      "cell_type": "markdown",
      "metadata": {
        "id": "0-5kZ2KBxBP-",
        "colab_type": "text"
      },
      "source": [
        "### Thanks to SnowMasaya/Efficient_GAN-Based_Anomaly_Detection_Keras"
      ]
    },
    {
      "cell_type": "code",
      "metadata": {
        "id": "ImEz4pFt0bR6",
        "colab_type": "code",
        "outputId": "9a8c7274-2768-423b-da60-134536d5f885",
        "colab": {
          "base_uri": "https://localhost:8080/",
          "height": 35
        }
      },
      "source": [
        "import matplotlib\n",
        "\n",
        "import os\n",
        "import cv2\n",
        "import numpy as np\n",
        "import matplotlib.pyplot as plt\n",
        "from keras.datasets import mnist\n",
        "\n",
        "from google.colab import drive\n",
        "\n",
        "from keras.models import Sequential, Model\n",
        "from keras.layers import Input, Reshape, Dense, Dropout, MaxPooling2D, Conv2D, Flatten\n",
        "from keras.layers import Conv2DTranspose, LeakyReLU\n",
        "from keras.layers.core import Activation\n",
        "from keras.layers.normalization import BatchNormalization\n",
        "from keras.optimizers import Adam, RMSprop\n",
        "from keras import backend as K\n",
        "from keras import initializers\n",
        "import tensorflow as tf\n",
        "import numpy as np\n",
        "from tqdm import tqdm\n",
        "import math\n",
        "\n",
        "from keras.utils. generic_utils import Progbar\n",
        "from keras.utils.vis_utils import plot_model\n",
        "\n",
        "from typing import Tuple\n",
        "from keras.models import load_model\n",
        "from sklearn.manifold import TSNE\n",
        "from keras.layers import concatenate\n",
        "\n",
        "from sklearn.manifold import TSNE\n",
        "import copy\n",
        "from enum import Enum\n",
        "\n",
        "from keras.callbacks import TensorBoard\n",
        "import io\n",
        "from PIL import Image\n",
        "from keras.applications.inception_v3 import InceptionV3\n",
        "from keras.applications.inception_v3 import preprocess_input\n",
        "from math import floor\n",
        "from skimage.transform import resize\n",
        "from scipy.linalg import sqrtm"
      ],
      "execution_count": 1,
      "outputs": [
        {
          "output_type": "stream",
          "text": [
            "Using TensorFlow backend.\n"
          ],
          "name": "stderr"
        }
      ]
    },
    {
      "cell_type": "code",
      "metadata": {
        "id": "9hxQg7VC8P93",
        "colab_type": "code",
        "outputId": "a7ffaa0e-41bc-4267-8156-65b78b77d88e",
        "colab": {
          "base_uri": "https://localhost:8080/",
          "height": 127
        }
      },
      "source": [
        "drive.mount('/content/drive')"
      ],
      "execution_count": 2,
      "outputs": [
        {
          "output_type": "stream",
          "text": [
            "Go to this URL in a browser: https://accounts.google.com/o/oauth2/auth?client_id=947318989803-6bn6qk8qdgf4n4g3pfee6491hc0brc4i.apps.googleusercontent.com&redirect_uri=urn%3aietf%3awg%3aoauth%3a2.0%3aoob&response_type=code&scope=email%20https%3a%2f%2fwww.googleapis.com%2fauth%2fdocs.test%20https%3a%2f%2fwww.googleapis.com%2fauth%2fdrive%20https%3a%2f%2fwww.googleapis.com%2fauth%2fdrive.photos.readonly%20https%3a%2f%2fwww.googleapis.com%2fauth%2fpeopleapi.readonly\n",
            "\n",
            "Enter your authorization code:\n",
            "··········\n",
            "Mounted at /content/drive\n"
          ],
          "name": "stdout"
        }
      ]
    },
    {
      "cell_type": "markdown",
      "metadata": {
        "id": "x8sA0HyW0lq1",
        "colab_type": "text"
      },
      "source": [
        "모델 저장 경로"
      ]
    },
    {
      "cell_type": "code",
      "metadata": {
        "id": "zJwP5VZcsUZ3",
        "colab_type": "code",
        "colab": {}
      },
      "source": [
        "class DataParm(Enum):\n",
        "    # Anogan 모델, 영상, 텐서보드 로그 저장 경로\n",
        "    common_path = '/content/drive/My Drive/AnoGan/ALog'\n",
        "    # EfficentAnnoGAN 모델, 영상, 텐서보드 로그 저장 경로\n",
        "    common_path_efficient = '/content/drive/My Drive/AnoGan/ELog'\n",
        "    image_size_127_5 = 127.5\n",
        "    batch_size_64 = 64"
      ],
      "execution_count": 0,
      "outputs": []
    },
    {
      "cell_type": "markdown",
      "metadata": {
        "id": "izX3Hqunkxl9",
        "colab_type": "text"
      },
      "source": [
        "# Generate Model"
      ]
    },
    {
      "cell_type": "code",
      "metadata": {
        "id": "j593vXf2k0ZC",
        "colab_type": "code",
        "outputId": "2358e1e1-e3be-4d43-8dac-94b3595e0afe",
        "colab": {
          "base_uri": "https://localhost:8080/",
          "height": 1000
        }
      },
      "source": [
        "class GeneratorParam(Enum):\n",
        "    units_128_7_7 = 128*7*7\n",
        "    leaky_relu_param_0_2 = 0.2\n",
        "    reshape_size_7_7_128 = (7, 7, 128)\n",
        "    \n",
        "    conv2d_transpose_filter_64 = 64\n",
        "    conv2d_transpose_kernel_2_2 = (2, 2)\n",
        "    conv2d_transpose_stride_2_2 = (2, 2)\n",
        "    \n",
        "    conv2d_filter_64 = 64\n",
        "    conv2d_kernel_3_3 = (3, 3)\n",
        "    conv2d_padding_same = 'same'\n",
        "    \n",
        "    activation_relu = 'relu'\n",
        "    \n",
        "    conv2d_out_filter_1 = 1\n",
        "    conv2d_out_kernel_5_5 = (5, 5)\n",
        "    out_activation_tanh = 'tanh'\n",
        "    \n",
        "\n",
        "def generator_model(in_shape: tuple=(10,)) -> Model:\n",
        "    \"\"\"\n",
        "    모델 생성\n",
        "    \n",
        "    Parameters\n",
        "    ----------\n",
        "    in_shape : tuple\n",
        "        noise 차원\n",
        "    \n",
        "    Returns\n",
        "    -------\n",
        "    model: Model\n",
        "        생성된 모델\n",
        "    \"\"\"\n",
        "    inputs = Input(in_shape)\n",
        "    fc1 = Dense(input_dim=in_shape[0], units=GeneratorParam.units_128_7_7.value)(inputs)\n",
        "    # 학습 안정화\n",
        "    fc1 = BatchNormalization()(fc1)\n",
        "    fc1 = LeakyReLU(GeneratorParam.leaky_relu_param_0_2.value)(fc1)\n",
        "    # 7x7 크기로 변환\n",
        "    fc2 = Reshape(GeneratorParam.reshape_size_7_7_128.value, input_shape=(GeneratorParam.units_128_7_7.value,))(fc1)\n",
        "    # 14x14 크기로 변환\n",
        "    up1 = Conv2DTranspose(GeneratorParam.conv2d_transpose_filter_64.value, \n",
        "                          GeneratorParam.conv2d_transpose_kernel_2_2.value, \n",
        "                          strides=GeneratorParam.conv2d_transpose_stride_2_2.value, \n",
        "                          padding=GeneratorParam.conv2d_padding_same.value)(fc2)\n",
        "    conv1 = Conv2D(GeneratorParam.conv2d_filter_64.value, \n",
        "                   GeneratorParam.conv2d_kernel_3_3.value, \n",
        "                   padding=GeneratorParam.conv2d_padding_same.value)(up1)\n",
        "    # 학습 안정화\n",
        "    conv1 = BatchNormalization()(conv1)\n",
        "    conv1 = Activation(GeneratorParam.activation_relu.value)(conv1)\n",
        "    # 28x28 크기로 변환\n",
        "    up2 = Conv2DTranspose(GeneratorParam.conv2d_transpose_filter_64.value, \n",
        "                          GeneratorParam.conv2d_transpose_kernel_2_2.value, \n",
        "                          strides=GeneratorParam.conv2d_transpose_stride_2_2.value, \n",
        "                          padding=GeneratorParam.conv2d_padding_same.value)(conv1)\n",
        "    # 1채널 흑백 변환\n",
        "    conv2 = Conv2D(GeneratorParam.conv2d_out_filter_1.value, \n",
        "                   GeneratorParam.conv2d_out_kernel_5_5.value, \n",
        "                   padding=GeneratorParam.conv2d_padding_same.value)(up2)\n",
        "    outputs = Activation(GeneratorParam.out_activation_tanh.value)(conv2)\n",
        "    \n",
        "    model = Model(inputs=[inputs], outputs=[outputs])\n",
        "    return model\n",
        "  \n",
        "g_model = generator_model()\n",
        "g_model.summary()\n",
        "plot_model(g_model, to_file='g_model.png')"
      ],
      "execution_count": 4,
      "outputs": [
        {
          "output_type": "stream",
          "text": [
            "Model: \"model_1\"\n",
            "_________________________________________________________________\n",
            "Layer (type)                 Output Shape              Param #   \n",
            "=================================================================\n",
            "input_1 (InputLayer)         (None, 10)                0         \n",
            "_________________________________________________________________\n",
            "dense_1 (Dense)              (None, 6272)              68992     \n",
            "_________________________________________________________________\n",
            "batch_normalization_1 (Batch (None, 6272)              25088     \n",
            "_________________________________________________________________\n",
            "leaky_re_lu_1 (LeakyReLU)    (None, 6272)              0         \n",
            "_________________________________________________________________\n",
            "reshape_1 (Reshape)          (None, 7, 7, 128)         0         \n",
            "_________________________________________________________________\n",
            "conv2d_transpose_1 (Conv2DTr (None, 14, 14, 64)        32832     \n",
            "_________________________________________________________________\n",
            "conv2d_1 (Conv2D)            (None, 14, 14, 64)        36928     \n",
            "_________________________________________________________________\n",
            "batch_normalization_2 (Batch (None, 14, 14, 64)        256       \n",
            "_________________________________________________________________\n",
            "activation_1 (Activation)    (None, 14, 14, 64)        0         \n",
            "_________________________________________________________________\n",
            "conv2d_transpose_2 (Conv2DTr (None, 28, 28, 64)        16448     \n",
            "_________________________________________________________________\n",
            "conv2d_2 (Conv2D)            (None, 28, 28, 1)         1601      \n",
            "_________________________________________________________________\n",
            "activation_2 (Activation)    (None, 28, 28, 1)         0         \n",
            "=================================================================\n",
            "Total params: 182,145\n",
            "Trainable params: 169,473\n",
            "Non-trainable params: 12,672\n",
            "_________________________________________________________________\n"
          ],
          "name": "stdout"
        },
        {
          "output_type": "execute_result",
          "data": {
            "image/png": "[encoded data removed]",
            "text/plain": [
              "<IPython.core.display.Image object>"
            ]
          },
          "metadata": {
            "tags": []
          },
          "execution_count": 4
        }
      ]
    },
    {
      "cell_type": "markdown",
      "metadata": {
        "id": "xZT3bT6Nk39G",
        "colab_type": "text"
      },
      "source": [
        "# Discriminator"
      ]
    },
    {
      "cell_type": "code",
      "metadata": {
        "id": "CAij_BWpAB-O",
        "colab_type": "code",
        "colab": {}
      },
      "source": [
        "class DiscriminatorParam(Enum):\n",
        "    conv2d_filter_64 = 64\n",
        "    conv2d_kernel_5_5 = (5, 5)\n",
        "    conv2d_stride_2_2 = (2, 2)\n",
        "    conv2d_padding_same = 'same'\n",
        "    \n",
        "    leaky_reLU_param_0_2 = 0.2\n",
        "    \n",
        "    conv2d_second_filter_128 = 128\n",
        "    conv2d_second_kernel_5_5 = (5, 5)\n",
        "    conv2d_second_stride_2_2 = (2, 2)\n",
        "    conv2d_second_padding_same = 'same'\n",
        "    \n",
        "    dense_1 = 1\n",
        "    \n",
        "    out_activation_sigmoid = 'sigmoid'"
      ],
      "execution_count": 0,
      "outputs": []
    },
    {
      "cell_type": "code",
      "metadata": {
        "id": "Hmr_zkKok7pA",
        "colab_type": "code",
        "outputId": "30228243-f1a2-4800-fa21-28dfb8d5bd05",
        "colab": {
          "base_uri": "https://localhost:8080/",
          "height": 1000
        }
      },
      "source": [
        "def discriminator_model(image_shape: tuple=(28, 28, 1)) -> Model:\n",
        "    \"\"\"\n",
        "    판별 모델\n",
        "    \n",
        "    Parameters\n",
        "    ----------\n",
        "    image_shape : tuple\n",
        "        영상 차원\n",
        "    \n",
        "    Returns\n",
        "    -------\n",
        "    model: Model\n",
        "        생성된 모델\n",
        "    \"\"\"\n",
        "    inputs = Input(image_shape)\n",
        "    # 14x14x64 피처맵 변환\n",
        "    conv1 = Conv2D(DiscriminatorParam.conv2d_filter_64.value, \n",
        "                   DiscriminatorParam.conv2d_kernel_5_5.value, \n",
        "                   strides=DiscriminatorParam.conv2d_stride_2_2.value, \n",
        "                   padding=DiscriminatorParam.conv2d_padding_same.value)(inputs)\n",
        "    conv1 = LeakyReLU(DiscriminatorParam.leaky_reLU_param_0_2.value)(conv1)\n",
        "    # 7x7x18 피처맵 변환\n",
        "    conv2 = Conv2D(DiscriminatorParam.conv2d_second_filter_128.value, \n",
        "                   DiscriminatorParam.conv2d_second_kernel_5_5.value,\n",
        "                   strides=DiscriminatorParam.conv2d_second_stride_2_2.value, \n",
        "                   padding=DiscriminatorParam.conv2d_second_padding_same.value)(conv1)\n",
        "    conv2 = LeakyReLU(DiscriminatorParam.leaky_reLU_param_0_2.value)(conv2)\n",
        "    fc1 = Flatten()(conv2)\n",
        "    # 판별 출력\n",
        "    fc1 = Dense(DiscriminatorParam.dense_1.value)(fc1)\n",
        "    outputs = Activation(DiscriminatorParam.out_activation_sigmoid.value)(fc1)\n",
        "    \n",
        "    model = Model(inputs=[inputs], outputs=[outputs])\n",
        "    return model\n",
        "  \n",
        "d_model = discriminator_model()\n",
        "d_model.summary()\n",
        "plot_model(d_model, to_file='d_model.png')"
      ],
      "execution_count": 6,
      "outputs": [
        {
          "output_type": "stream",
          "text": [
            "Model: \"model_2\"\n",
            "_________________________________________________________________\n",
            "Layer (type)                 Output Shape              Param #   \n",
            "=================================================================\n",
            "input_2 (InputLayer)         (None, 28, 28, 1)         0         \n",
            "_________________________________________________________________\n",
            "conv2d_3 (Conv2D)            (None, 14, 14, 64)        1664      \n",
            "_________________________________________________________________\n",
            "leaky_re_lu_2 (LeakyReLU)    (None, 14, 14, 64)        0         \n",
            "_________________________________________________________________\n",
            "conv2d_4 (Conv2D)            (None, 7, 7, 128)         204928    \n",
            "_________________________________________________________________\n",
            "leaky_re_lu_3 (LeakyReLU)    (None, 7, 7, 128)         0         \n",
            "_________________________________________________________________\n",
            "flatten_1 (Flatten)          (None, 6272)              0         \n",
            "_________________________________________________________________\n",
            "dense_2 (Dense)              (None, 1)                 6273      \n",
            "_________________________________________________________________\n",
            "activation_3 (Activation)    (None, 1)                 0         \n",
            "=================================================================\n",
            "Total params: 212,865\n",
            "Trainable params: 212,865\n",
            "Non-trainable params: 0\n",
            "_________________________________________________________________\n"
          ],
          "name": "stdout"
        },
        {
          "output_type": "execute_result",
          "data": {
            "image/png": "[encoded data removed]",
            "text/plain": [
              "<IPython.core.display.Image object>"
            ]
          },
          "metadata": {
            "tags": []
          },
          "execution_count": 6
        }
      ]
    },
    {
      "cell_type": "markdown",
      "metadata": {
        "id": "YN0Ua8Ff2CQE",
        "colab_type": "text"
      },
      "source": [
        "# Generator contatining Discriminator"
      ]
    },
    {
      "cell_type": "code",
      "metadata": {
        "id": "dl9HTwoJ2FGL",
        "colab_type": "code",
        "outputId": "3ea65326-7e0c-4c44-d592-9d34f81a00b2",
        "colab": {
          "base_uri": "https://localhost:8080/",
          "height": 272
        }
      },
      "source": [
        "def generator_containint_discriminator(g: Model, d: Model, in_shape: tuple=(10,)) -> Model:\n",
        "    \"\"\"\n",
        "    DiscriminatorとGeneratorモデルの合成\n",
        "    \n",
        "    Parameters\n",
        "    ----------\n",
        "    g : Model\n",
        "        생성모델\n",
        "    d : Model\n",
        "        판별모델\n",
        "    \n",
        "    Returns\n",
        "    -------\n",
        "    gan : Model\n",
        "        판별 모델 학습 X, 생성 모델 학습 O \n",
        "    \"\"\"\n",
        "    # Generator만 학습하는 설정\n",
        "    d.trainable = False\n",
        "    # Noise 입력 설정\n",
        "    ganInput = Input(shape=in_shape)\n",
        "    # Noise를 Generator에 입력\n",
        "    x = g(ganInput)\n",
        "    # 생성 영상을 판별기에 입력\n",
        "    ganOutput = d(x)\n",
        "    gan = Model(inputs=ganInput, outputs=ganOutput)\n",
        "    return gan\n",
        "\n",
        "d_model = discriminator_model()\n",
        "g_model = generator_model()\n",
        "g_d_model = generator_containint_discriminator(g_model, d_model)\n",
        "plot_model(g_d_model, to_file='g_d_model.png')"
      ],
      "execution_count": 7,
      "outputs": [
        {
          "output_type": "execute_result",
          "data": {
            "image/png": "[encoded data removed]",
            "text/plain": [
              "<IPython.core.display.Image object>"
            ]
          },
          "metadata": {
            "tags": []
          },
          "execution_count": 7
        }
      ]
    },
    {
      "cell_type": "markdown",
      "metadata": {
        "id": "n67csHte2y4_",
        "colab_type": "text"
      },
      "source": [
        "# Combine Images"
      ]
    },
    {
      "cell_type": "code",
      "metadata": {
        "id": "l5XP8x2i2zBY",
        "colab_type": "code",
        "colab": {}
      },
      "source": [
        "def combine_images(generated_images: np.ndarray) -> np.ndarray:\n",
        "    \"\"\"\n",
        "    학습 진행 확인 목적의 생성 영상 합성\n",
        "    \n",
        "    Parameters\n",
        "    ----------\n",
        "    generated_images : np.ndarray\n",
        "        배치 크기만큼 생성한 영상\n",
        "\n",
        "    Returns\n",
        "    -------\n",
        "    image: np.ndarray\n",
        "        생성 영상 합성 결과\n",
        "    \"\"\"\n",
        "    # 생성 영상 수\n",
        "    num = generated_images.shape[0]\n",
        "    # 생성영상 너비\n",
        "    width = int(math.sqrt(num))\n",
        "    # 생성영상 높이\n",
        "    heigh = int(math.ceil(float(num) / width))\n",
        "    # 생성영상 높이, 너비, 채널\n",
        "    shape = generated_images.shape[1:4]\n",
        "    # 높이, 너비 조정\n",
        "    image = np.zeros((heigh * shape[0], width*shape[1], shape[2]), dtype=generated_images.dtype)\n",
        "    # 생성된 영상을 합성\n",
        "    for index, img in enumerate(generated_images):\n",
        "        i = int(index / width)\n",
        "        j = index % width\n",
        "        image[i * shape[0]: (i+1) * shape[0], j * shape[1]:(j + 1) * shape[1], :] = img[:, :, :]\n",
        "    return image"
      ],
      "execution_count": 0,
      "outputs": []
    },
    {
      "cell_type": "markdown",
      "metadata": {
        "id": "y9lBN734466U",
        "colab_type": "text"
      },
      "source": [
        "# Load Model"
      ]
    },
    {
      "cell_type": "code",
      "metadata": {
        "id": "Pt91LLVe47Di",
        "colab_type": "code",
        "colab": {}
      },
      "source": [
        "def load_models(common_path: str=DataParm.common_path.value) -> Tuple[Model, Model]:\n",
        "    \"\"\"\n",
        "    생성된 모델(생성, 식별) 로드\n",
        "    \n",
        "    Parameters\n",
        "    ----------\n",
        "    common_path : str\n",
        "        모델 로드 경로\n",
        "\n",
        "    Returns\n",
        "    -------\n",
        "    g: Model\n",
        "        생성 모델\n",
        "    d: Model\n",
        "        판별 모델\n",
        "    \"\"\"\n",
        "    d = load_model(common_path + '/weights/discriminator.h5')\n",
        "    g = load_model(common_path + '/weights/generator.h5')\n",
        "    return g, d"
      ],
      "execution_count": 0,
      "outputs": []
    },
    {
      "cell_type": "markdown",
      "metadata": {
        "id": "0w1bvnESlxtN",
        "colab_type": "text"
      },
      "source": [
        "## TensorBoardの設定"
      ]
    },
    {
      "cell_type": "markdown",
      "metadata": {
        "id": "UPBBRFYbS_nq",
        "colab_type": "text"
      },
      "source": [
        "## Is 계산\n",
        "\n"
      ]
    },
    {
      "cell_type": "code",
      "metadata": {
        "id": "7-ZsymWkS_yi",
        "colab_type": "code",
        "colab": {}
      },
      "source": [
        "def scale_images(images: np.asarray, new_shape: tuple) -> np.asarray:\n",
        "    \"\"\"\"\n",
        "    画像のサイズを変更(Inception Modelで推論可能なサイズに変更する)\n",
        "    Parameters\n",
        "    ----------\n",
        "    images: np.asarray\n",
        "        バッチサイズ分の画像データ\n",
        "    new_shape: tuple\n",
        "        変更したい画像のサイズ\n",
        "    Returns\n",
        "    -------\n",
        "        サイズ変更した画像のlist\n",
        "    \"\"\"\n",
        "    images_list = list()\n",
        "    for image in images:\n",
        "        # 画像のサイズを変更\n",
        "        new_image = resize(image, new_shape, 0)\n",
        "        # listでサイズが変更された画像を保持\n",
        "        images_list.append(new_image)\n",
        "    return np.array(images_list)\n",
        "\n",
        "\n",
        "def calculate_inception_score(images: np.asarray, model: Model=InceptionV3(), n_split: int=10, eps: float=1E-16) -> Tuple[np.asarray, np.asarray]:\n",
        "    \"\"\"\n",
        "    Inception Score의 평균, 표준편차 계산\n",
        "    Parameters\n",
        "    ----------\n",
        "    images: np.asarray\n",
        "        영상열\n",
        "    model: Model\n",
        "        계산모델\n",
        "    n_split: int\n",
        "        그룹 분할 수\n",
        "    eps: float\n",
        "        0이 되지 않도록 합산\n",
        "    Returns\n",
        "        is_avg: float\n",
        "            Inception Score 평균\n",
        "        is_std: float\n",
        "            Inception Score 표준편차\n",
        "    -------\n",
        "    \"\"\"\n",
        "    scores = list()\n",
        "    # 그룹 수 계산\n",
        "    n_part = floor(images.shape[0] / n_split)\n",
        "    for i in range(n_split):\n",
        "        ix_start, ix_end = i * n_part, (i+1) * n_part\n",
        "        subset = images[ix_start:ix_end]\n",
        "        # float32 변환\n",
        "        subset = subset.astype(\"float32\")\n",
        "        # Inception Model계산 가능한 크기로 변경\n",
        "        subset = scale_images(subset, (299, 299, 3))\n",
        "        # [-1,1] 전처리\n",
        "        subset = preprocess_input(subset)\n",
        "        # p(y|x)계산\n",
        "        p_yx = model.predict(subset)\n",
        "        # 클래스의 p(y) 계산\n",
        "        p_y = np.expand_dims(p_yx.mean(axis=0), 0)\n",
        "        # KL divergence 계산\n",
        "        kl_d = p_yx * (np.log(p_yx + eps) - np.log(p_y + eps))\n",
        "        # 클래스의 KL divergence 총합\n",
        "        sum_kl_d = kl_d.sum(axis=1)\n",
        "        # KL divergence의 평균\n",
        "        avg_kl_d = np.mean(sum_kl_d)\n",
        "        # KL divergence\n",
        "        is_score = np.exp(avg_kl_d)\n",
        "        \n",
        "        scores.append(is_score)\n",
        "    # 평균, 표준편차\n",
        "    is_avg, is_std = np.mean(scores), np.std(scores)\n",
        "    return is_avg, is_std"
      ],
      "execution_count": 0,
      "outputs": []
    },
    {
      "cell_type": "markdown",
      "metadata": {
        "id": "_mjemM4UTA01",
        "colab_type": "text"
      },
      "source": [
        "## FID 계산\n"
      ]
    },
    {
      "cell_type": "code",
      "metadata": {
        "id": "-jxnDnwKTBFj",
        "colab_type": "code",
        "colab": {}
      },
      "source": [
        "def calculate_fid(real_images: np.asarray, generate_images: np.asarray, model: Model=InceptionV3(include_top=False, pooling=\"avg\", input_shape=(299, 299, 3))) -> float:\n",
        "    \"\"\"\n",
        "    FID 계산\n",
        "    Parameters\n",
        "    ----------\n",
        "    real_images: np.asarray\n",
        "        複数の実画像を設定\n",
        "    generate_images: np.asarray\n",
        "        複数の生成画像を設定\n",
        "    model: Model\n",
        "        特徴量抽出モデルを設定\n",
        "    Returns\n",
        "        fid: float\n",
        "        FIDを計算\n",
        "    -------\n",
        "    \"\"\"\n",
        "    # 推論可能なfloat32に変更\n",
        "    real_images = real_images.astype(\"float32\")\n",
        "    generate_images = generate_images.astype(\"float32\")\n",
        "    # 画像のサイズを変更\n",
        "    real_images = scale_images(real_images, (299, 299, 3))\n",
        "    generate_images = scale_images(generate_images, (299, 299, 3))\n",
        "    # 画像の前処理\n",
        "    real_images = preprocess_input(real_images)\n",
        "    generate_images = preprocess_input(generate_images)\n",
        "    # 特徴量抽出\n",
        "    act1 = model.predict(real_images)\n",
        "    act2 = model.predict(generate_images)\n",
        "    # 平均ベクトルと共分散行列を計算\n",
        "    mu1, sigma1 = act1.mean(axis=0), np.cov(act1, rowvar=False)\n",
        "    mu2, sigma2 = act2.mean(axis=0), np.cov(act2, rowvar=False)\n",
        "    # 実画像と生成画像の平均ベクトルの差の2乗の総和を計算\n",
        "    ssdiff = np.sum((mu1 - mu2)**2.0)\n",
        "    # 共分散行列の積のルートを計算\n",
        "    covmean = sqrtm(sigma1.dot(sigma2))\n",
        "    # 複素数の場合は実部のみ取得\n",
        "    if np.iscomplexobj(covmean):\n",
        "        covmean = covmean.real\n",
        "    # FID 계산\n",
        "    fid = ssdiff + np.trace(sigma1 + sigma2 - 2.0 * covmean)\n",
        "    return fid"
      ],
      "execution_count": 0,
      "outputs": []
    },
    {
      "cell_type": "markdown",
      "metadata": {
        "id": "F6wYiZhe6nol",
        "colab_type": "text"
      },
      "source": [
        "# Train\n"
      ]
    },
    {
      "cell_type": "code",
      "metadata": {
        "id": "BNgfOBQslx8X",
        "colab_type": "code",
        "colab": {
          "base_uri": "https://localhost:8080/",
          "height": 89
        },
        "outputId": "db5b56ed-37c0-4c42-c3b8-3da8cd76e44c"
      },
      "source": [
        "def write_log(callback, names, logs, epoch):\n",
        "    \"\"\"\n",
        "    텐서보드 로스 저장\n",
        "    \n",
        "    Parameters\n",
        "    ----------\n",
        "    callback: TensorBoard\n",
        "        콜백 지정\n",
        "    names: str\n",
        "        저장할 로그 이름\n",
        "    logs: \n",
        "        로그 값\n",
        "    epoch: int\n",
        "        epoch 지정\n",
        "\n",
        "    \"\"\"\n",
        "    for name, value in zip(names, logs):\n",
        "        summary = tf.summary()\n",
        "        summary_value = summary.value.add()\n",
        "        summary_value.simple_value = value\n",
        "        summary_value.tag = name\n",
        "        callback.writer.add_summary(summary, epoch)\n",
        "        callback.writer.flush()\n",
        "        \n",
        "\n",
        "log_path = DataParm.common_path.value + '/logs'\n",
        "\n",
        "# 텐서보드콜랩 \n",
        "!pip install -U tensorboardcolab\n",
        "\n",
        "#from tensorboardcolab import *\n",
        "#callback = TensorBoard(log_path)\n",
        "tbc = TensorBoardColab()\n",
        "callback = TensorBoardColabCallback(tbc)"
      ],
      "execution_count": 40,
      "outputs": [
        {
          "output_type": "stream",
          "text": [
            "Requirement already up-to-date: tensorboardcolab in /usr/local/lib/python3.6/dist-packages (0.0.22)\n",
            "Wait for 8 seconds...\n",
            "TensorBoard link:\n",
            "http://a0098af9.ngrok.io\n"
          ],
          "name": "stdout"
        }
      ]
    },
    {
      "cell_type": "code",
      "metadata": {
        "id": "yd_FDwWuC3SO",
        "colab_type": "code",
        "colab": {}
      },
      "source": [
        "class TrainParam(Enum):\n",
        "    discriminator_lr_0_0004 = 0.0004\n",
        "    generator_lr_0_0002 = 0.0002\n",
        "    \n",
        "    discriminator_loss_mse = \"mse\"\n",
        "    generator_loss_mse = \"mse\""
      ],
      "execution_count": 0,
      "outputs": []
    },
    {
      "cell_type": "code",
      "metadata": {
        "id": "oguI-n0H6oGG",
        "colab_type": "code",
        "colab": {}
      },
      "source": [
        "def train(batch_size: int, X_train: np.ndarray, epoch: int=10, common_path: str=DataParm.common_path.value) -> Tuple[Model, Model]:\n",
        "    \"\"\"\n",
        "    識別モデルと生成モデルを学習する\n",
        "    \n",
        "    Parameters\n",
        "    ----------\n",
        "    batch_size: int\n",
        "        バッチサイズ\n",
        "    X_train: np.ndarray\n",
        "        学習用画像データ\n",
        "    epoch: int\n",
        "        学習のエポック数を指定\n",
        "    common_path : str\n",
        "        モデル、生成画像を保存するパスを指定\n",
        "\n",
        "    Returns\n",
        "    -------\n",
        "    d: Model\n",
        "        識別モデル\n",
        "    g: Model\n",
        "        生成モデル\n",
        "\n",
        "    \"\"\"\n",
        "    d = discriminator_model()\n",
        "    g = generator_model()\n",
        "    # Generatorのモデルを学習するための混合モデル\n",
        "    d_on_g = generator_containint_discriminator(g, d)\n",
        "    # Optimizerの設定\n",
        "    d_optim = RMSprop(lr=TrainParam.discriminator_lr_0_0004.value)\n",
        "    g_optim = RMSprop(lr=TrainParam.generator_lr_0_0002.value)\n",
        "    g.compile(loss=TrainParam.generator_loss_mse.value, optimizer=g_optim)\n",
        "    d_on_g.compile(loss=TrainParam.discriminator_loss_mse.value, optimizer=g_optim)\n",
        "    d.trainable= True\n",
        "    d.compile(loss=TrainParam.discriminator_loss_mse.value, optimizer=d_optim)\n",
        "    # Inception score モデル\n",
        "    is_model = InceptionV3(include_top=True, input_shape=(299, 299, 3))\n",
        "    # 特徴量抽出モデル\n",
        "    fid_model = InceptionV3(include_top=False, pooling=\"avg\", input_shape=(299, 299, 3))\n",
        "    \n",
        "    for e in range(epoch):\n",
        "        print('Eposh is ', e)\n",
        "        # データサイズ / バッチサイズ = データサイズで何回バッチ処理が行えるか計算\n",
        "        n_iter = int(X_train.shape[0] / batch_size)\n",
        "        # 学習の進捗を分かりやすくするための処理\n",
        "        progress_bar = Progbar(target=n_iter)\n",
        "        \n",
        "        \n",
        "        for index in range(n_iter):\n",
        "            # バッチサイズ分、10次元のノイズを取得\n",
        "            noise = np.random.uniform(0, 1, size=(batch_size, 10))\n",
        "            # 画像をバッチサイズ分取得\n",
        "            image_batch = X_train[index * batch_size:(index + 1) * batch_size]\n",
        "            # ノイズから画像を生成\n",
        "            generated_images = g.predict(noise, verbose=0)\n",
        "            \n",
        "            # 生成画像を保存して後で確認できるようにする\n",
        "            if index % 20 == 0:\n",
        "                # バッチサイズ分画像ができるので1枚の画像に変換\n",
        "                image = combine_images(generated_images)\n",
        "                # -1 to 1スケールなので255スケールに変換\n",
        "                image = image * DataParm.image_size_127_5.value + DataParm.image_size_127_5.value\n",
        "\n",
        "                if not os.path.exists(common_path + '/result/'):\n",
        "                    os.makedirs(common_path + '/result/')\n",
        "                cv2.imwrite(common_path + '/result/' + str(e) + '_' + str(index) + '.png', image)\n",
        "\n",
        "            # 実画像と生成画像を1つに合わせる\n",
        "            x = np.concatenate((image_batch, generated_images))\n",
        "            # リアル画像のラベル、生成画像のラベル\n",
        "            y = np.array([1] * batch_size + [0] * batch_size)\n",
        "            \n",
        "            # Discriminatorの学習\n",
        "            d_loss = d.train_on_batch(x, y)\n",
        "\n",
        "            # Discriminatorの学習はしない\n",
        "            d.trainable = False\n",
        "\n",
        "            # Generatorの学習\n",
        "            g_loss = d_on_g.train_on_batch(noise, np.array([1] * batch_size))\n",
        "            d.trainable = True\n",
        "            \n",
        "            # プログレスバーを表示して学習の進捗状況を把握する\n",
        "            progress_bar.update(index, values=[('g', g_loss), ('d', d_loss)])\n",
        "        \n",
        "        # Tensorboardの書き込み\n",
        "        callback.set_model(d)\n",
        "        write_log(callback, ['d_loss'], [d_loss], e)\n",
        "            \n",
        "        callback.set_model(d_on_g)\n",
        "        # Inception Scoreの計算\n",
        "        is_avg, is_std = calculate_inception_score(generated_images, is_model)\n",
        "        # FIDの計算\n",
        "        fid = calculate_fid(image_batch, generated_images, fid_model)\n",
        "\n",
        "        write_log(callback, ['g_loss', 'inception_score_average', 'inception_score_std', 'fid'], [g_loss, is_avg, is_std, fid], e)\n",
        "        \n",
        "        print('')\n",
        "        # 学習した生成モデル、識別モデルを保存する\n",
        "        if not os.path.exists(common_path + '/weights/'):\n",
        "            os.makedirs(common_path + '/weights/')\n",
        "        g.save(common_path + '/weights/generator.h5')\n",
        "        d.save(common_path + '/weights/discriminator.h5')\n",
        "    return d, g"
      ],
      "execution_count": 0,
      "outputs": []
    },
    {
      "cell_type": "markdown",
      "metadata": {
        "id": "tKbhXn8W-Po6",
        "colab_type": "text"
      },
      "source": [
        "# Generatorを用いてデータ生成"
      ]
    },
    {
      "cell_type": "code",
      "metadata": {
        "id": "SrkrRiIc-Pxp",
        "colab_type": "code",
        "colab": {}
      },
      "source": [
        "def generate(batch_size: int, common_path: str=DataParm.common_path.value, noize_size: int=10) -> np.ndarray:\n",
        "    \"\"\"\n",
        "    生成モデルを使用して画像を生成する\n",
        "    \n",
        "    Parameters\n",
        "    ----------\n",
        "    batch_size: int\n",
        "        バッチサイズ\n",
        "    common_path : str\n",
        "        モデルを読み込むパスを指定\n",
        "    noize_size: int\n",
        "        ノイズの次元\n",
        "\n",
        "    Returns\n",
        "    -------\n",
        "    generated_images: np.ndarray\n",
        "        生成画像をnumpy形式で渡す\n",
        "\n",
        "    \"\"\"\n",
        "    g = load_model(common_path + '/weights/generator.h5')\n",
        "    noise = np.random.uniform(0, 1, (batch_size, noize_size))\n",
        "    generated_images = g.predict(noise)\n",
        "    return generated_images"
      ],
      "execution_count": 0,
      "outputs": []
    },
    {
      "cell_type": "markdown",
      "metadata": {
        "id": "j9p5kvsEBSHn",
        "colab_type": "text"
      },
      "source": [
        "# Residual Lossを設定"
      ]
    },
    {
      "cell_type": "code",
      "metadata": {
        "id": "YPc3HyB9BSeA",
        "colab_type": "code",
        "colab": {}
      },
      "source": [
        "def sum_of_residual(y_true: np.array, y_pred: np.array):\n",
        "    \"\"\"\n",
        "    生成モデル、識別モデルの異常度を計算する関数\n",
        "    \n",
        "    Parameters\n",
        "    ----------\n",
        "    y_true: np.array\n",
        "        ターゲットとなるデータ\n",
        "    y_pred: np.array\n",
        "        モデルの予測値\n",
        "\n",
        "    Returns\n",
        "    -------\n",
        "        Residual Lossを計算する\n",
        "\n",
        "    \"\"\"\n",
        "    return K.sum(K.abs(y_true - y_pred))"
      ],
      "execution_count": 0,
      "outputs": []
    },
    {
      "cell_type": "markdown",
      "metadata": {
        "id": "H06xnUQ7lF-j",
        "colab_type": "text"
      },
      "source": [
        "# Feature Extractor"
      ]
    },
    {
      "cell_type": "code",
      "metadata": {
        "id": "AC8RMJT5Yhx9",
        "colab_type": "code",
        "colab": {}
      },
      "source": [
        "class FeatureExtractorParam(Enum):\n",
        "    loss_binary_crossentropy = \"binary_crossentropy\"\n",
        "    optimizer_rmsprop = \"rmsprop\"\n",
        "    feature_extract_layer_first_conv = -7"
      ],
      "execution_count": 0,
      "outputs": []
    },
    {
      "cell_type": "code",
      "metadata": {
        "id": "qpDYmIPhk6wz",
        "colab_type": "code",
        "outputId": "398f7ec6-0bb8-46b3-e256-2a64d3d6bb98",
        "colab": {
          "base_uri": "https://localhost:8080/",
          "height": 390
        }
      },
      "source": [
        "def feature_extractor(d: Model=None, common_path: str=DataParm.common_path.value) -> Model:\n",
        "    \"\"\"\n",
        "    識別モデルから特徴量抽出モデルを取得する\n",
        "    \n",
        "    Parameters\n",
        "    ----------\n",
        "    d: Model\n",
        "        識別モデル\n",
        "    common_path: str\n",
        "        モデルを読み込むパスの設定\n",
        "\n",
        "    Returns\n",
        "    -------\n",
        "    intermidiate_model: Model\n",
        "        特徴量抽出モデル\n",
        "\n",
        "    \"\"\"\n",
        "    if d is None:\n",
        "        d = load_model(common_path + '/weights/discriminator.h5')\n",
        "        d.summary()\n",
        "    # Discriminatorの特徴量抽出器を設定\n",
        "    intermidiate_model = Model(inputs=d.layers[0].input, outputs=d.layers[FeatureExtractorParam.feature_extract_layer_first_conv.value].output)\n",
        "    intermidiate_model.compile(loss=FeatureExtractorParam.loss_binary_crossentropy.value, optimizer=FeatureExtractorParam.optimizer_rmsprop.value)\n",
        "    return intermidiate_model\n",
        "  \n",
        "d_model = discriminator_model()\n",
        "f_model = feature_extractor(d_model)\n",
        "f_model.summary()\n",
        "plot_model(f_model, to_file='f_model.png')"
      ],
      "execution_count": 33,
      "outputs": [
        {
          "output_type": "stream",
          "text": [
            "Model: \"model_17\"\n",
            "_________________________________________________________________\n",
            "Layer (type)                 Output Shape              Param #   \n",
            "=================================================================\n",
            "input_19 (InputLayer)        (None, 28, 28, 1)         0         \n",
            "_________________________________________________________________\n",
            "conv2d_583 (Conv2D)          (None, 14, 14, 64)        1664      \n",
            "=================================================================\n",
            "Total params: 1,664\n",
            "Trainable params: 1,664\n",
            "Non-trainable params: 0\n",
            "_________________________________________________________________\n"
          ],
          "name": "stdout"
        },
        {
          "output_type": "execute_result",
          "data": {
            "image/png": "[encoded data removed]",
            "text/plain": [
              "<IPython.core.display.Image object>"
            ]
          },
          "metadata": {
            "tags": []
          },
          "execution_count": 33
        }
      ]
    },
    {
      "cell_type": "markdown",
      "metadata": {
        "id": "i-amo3apl1Jy",
        "colab_type": "text"
      },
      "source": [
        "# Anomaly Detector"
      ]
    },
    {
      "cell_type": "code",
      "metadata": {
        "id": "ZLsYo7CowBJr",
        "colab_type": "code",
        "colab": {}
      },
      "source": [
        "class AnomalyDetectorParam(Enum):\n",
        "    activation_sigmoid = \"sigmoid\"\n",
        "    optimizer_rmsprop = 'rmsprop'"
      ],
      "execution_count": 0,
      "outputs": []
    },
    {
      "cell_type": "code",
      "metadata": {
        "id": "3qZEme6Mlp7u",
        "colab_type": "code",
        "outputId": "e090110a-cbfb-47a1-c4e1-8186dedf06d8",
        "colab": {
          "base_uri": "https://localhost:8080/",
          "height": 857
        }
      },
      "source": [
        "def anomaly_detector(g: Model, d: Model, in_shape: tuple=(10,), loss_weights: list=[0.9, 0.1]) -> Model:\n",
        "    \"\"\"\n",
        "    ノイズを生成する層を調整して異常スコアと画像を生成するモデルを作成\n",
        "    \n",
        "    Parameters\n",
        "    ----------\n",
        "    g: Model\n",
        "        生成モデル\n",
        "    d: Model\n",
        "        識別モデル\n",
        "    in_shape: tuple\n",
        "        ノイズの入力サイズ\n",
        "    loss_weights: list\n",
        "        ロスの重要性を設定\n",
        "\n",
        "    Returns\n",
        "    -------\n",
        "    model: Model\n",
        "        異常スコアと画像を生成するモデル\n",
        "\n",
        "    \"\"\"\n",
        "    # 特徴量抽出モデルをDiscriminatorから作成\n",
        "    intermidiate_model = feature_extractor(d)\n",
        "    # 特徴量抽出モデルは学習しない\n",
        "    feature_extractor.trainable = False\n",
        "    # Generatorを作成\n",
        "    g = Model(inputs=g.layers[1].input, outputs=g.layers[-1].output)\n",
        "    # Generatorは学習しない\n",
        "    g.trainable = False\n",
        "    # Noizeを学習するためのレイヤー\n",
        "    aInput = Input(shape=in_shape)\n",
        "    gInput = Dense(in_shape[0], trainable=True)(aInput)\n",
        "    gInput = Activation(AnomalyDetectorParam.activation_sigmoid.value)(gInput)\n",
        "    \n",
        "    # ノイズを入力に画像を生成\n",
        "    G_out = g(gInput)\n",
        "    # 画像から特徴量抽出\n",
        "    D_out = intermidiate_model(G_out)\n",
        "    # 画像と特徴量を出力とするモデルを作成\n",
        "    model = Model(inputs=aInput, outputs=[G_out, D_out])\n",
        "    model.compile(loss=sum_of_residual, loss_weights=loss_weights, optimizer=AnomalyDetectorParam.optimizer_rmsprop.value)\n",
        "    \n",
        "    # BatchNormを固定して学習しないようにする\n",
        "    K.set_learning_phase(0)\n",
        "    \n",
        "    return model\n",
        "  \n",
        "g_model = generator_model()\n",
        "d_model = discriminator_model()\n",
        "a_model = anomaly_detector(g_model, d_model)\n",
        "a_model.summary()\n",
        "plot_model(a_model, to_file=\"anomaly_plot.png\", show_shapes=True, show_layer_names=True)"
      ],
      "execution_count": 35,
      "outputs": [
        {
          "output_type": "stream",
          "text": [
            "Model: \"model_22\"\n",
            "_________________________________________________________________\n",
            "Layer (type)                 Output Shape              Param #   \n",
            "=================================================================\n",
            "input_22 (InputLayer)        (None, 10)                0         \n",
            "_________________________________________________________________\n",
            "dense_14 (Dense)             (None, 10)                110       \n",
            "_________________________________________________________________\n",
            "activation_583 (Activation)  (None, 10)                0         \n",
            "_________________________________________________________________\n",
            "model_21 (Model)             (None, 28, 28, 1)         182145    \n",
            "_________________________________________________________________\n",
            "model_20 (Model)             (None, 14, 14, 64)        1664      \n",
            "=================================================================\n",
            "Total params: 183,919\n",
            "Trainable params: 1,774\n",
            "Non-trainable params: 182,145\n",
            "_________________________________________________________________\n"
          ],
          "name": "stdout"
        },
        {
          "output_type": "execute_result",
          "data": {
            "image/png": "[encoded data removed]",
            "text/plain": [
              "<IPython.core.display.Image object>"
            ]
          },
          "metadata": {
            "tags": []
          },
          "execution_count": 35
        }
      ]
    },
    {
      "cell_type": "markdown",
      "metadata": {
        "id": "WtmUeVY-pFHY",
        "colab_type": "text"
      },
      "source": [
        "# Anomaly Score"
      ]
    },
    {
      "cell_type": "code",
      "metadata": {
        "id": "cp3J41NkDDlo",
        "colab_type": "code",
        "colab": {}
      },
      "source": [
        "def compute_anomaly_score(model: Model, x: np.array, iterations: int=500, d: Model=None, noize_shape: tuple=(1, 10)) -> Tuple[np.asarray, np.asarray,]:\n",
        "    \"\"\"\n",
        "    異常スコアを計算する関数\n",
        "    \n",
        "    Parameters\n",
        "    ----------\n",
        "    g: Model\n",
        "        異常スコアを計算するモデル\n",
        "    x: np.array\n",
        "        検証用画像\n",
        "    iterations: int\n",
        "        イテレーションを設定\n",
        "    d: Model\n",
        "        識別モデル\n",
        "\n",
        "    Returns\n",
        "    -------\n",
        "    loss: np.asarray\n",
        "        異常スコア\n",
        "    similar_data: np.asarray\n",
        "        ノイズを調整したモデルにノイズを入力して画像を生成\n",
        "    \"\"\"\n",
        "    # ノイズを作成\n",
        "    z = np.random.uniform(0, 1, size=noize_shape)\n",
        "    # 特徴量抽出モデルを作成\n",
        "    intermidiate_model = feature_extractor(d)\n",
        "    # 実画像の特徴量抽出\n",
        "    d_x = intermidiate_model.predict(x)\n",
        "    # ノイズを入力として、実画像、実画像の特徴量をターゲットとしたノイズの学習を行う\n",
        "    loss = model.fit(z, [x, d_x], batch_size=1, epochs=iterations, verbose=0)\n",
        "    # ノイズから画像を作成\n",
        "    similar_data, _ = model.predict(z)\n",
        "    # 異常スコアを導出\n",
        "    loss = loss.history['loss'][-1]\n",
        "    \n",
        "    return loss, similar_data"
      ],
      "execution_count": 0,
      "outputs": []
    },
    {
      "cell_type": "markdown",
      "metadata": {
        "id": "zyl9344Pa72A",
        "colab_type": "text"
      },
      "source": [
        "- 학습 데이터와 테스트 데이터를 검색\n",
        "\n",
        "- 데이터는 -1에서 1로 스케일링\n",
        "\n",
        "- 라벨 1 학습 데이터를 GAN의 학습에 사용.\n",
        "\n",
        "- 검증은 라벨 1의 테스트 데이터와 그렇지 라벨의 테스트 데이터를 사용"
      ]
    },
    {
      "cell_type": "code",
      "metadata": {
        "id": "BF6bCnn3aqeE",
        "colab_type": "code",
        "colab": {}
      },
      "source": [
        "# mnistの画像とラベルを取得\n",
        "(X_train, y_train), (X_test, y_test) = mnist.load_data()\n",
        "# 画像のスケールを-1 to 1に変換\n",
        "X_train = (X_train.astype(np.float32) - DataParm.image_size_127_5.value) / DataParm.image_size_127_5.value\n",
        "X_test = (X_test.astype(np.float32) - DataParm.image_size_127_5.value) / DataParm.image_size_127_5.value\n",
        "\n",
        "# バッチサイズ、幅、高さ、チャネルに変換\n",
        "X_train = X_train[:,:,:,None]\n",
        "X_test = X_test[:,:,:,None]\n",
        "\n",
        "# オリジナル画像として保持\n",
        "X_test_original = X_test.copy()\n",
        "\n",
        "# ラベルの1の画像のみを対象に学習\n",
        "X_train = X_train[y_train==1]\n",
        "X_test = X_test[y_test==1]"
      ],
      "execution_count": 0,
      "outputs": []
    },
    {
      "cell_type": "markdown",
      "metadata": {
        "id": "knq-YcskbhzJ",
        "colab_type": "text"
      },
      "source": [
        "레이블 1 학습\n",
        "\n"
      ]
    },
    {
      "cell_type": "code",
      "metadata": {
        "id": "KXW5VNrZvY67",
        "colab_type": "code",
        "colab": {}
      },
      "source": [
        "  def set_model(self, model):\n",
        "    \"\"\"Sets Keras model and writes graph if specified.\"\"\"\n",
        "    self.model = model\n",
        "\n",
        "    # TensorBoard callback involves writing a summary file in a\n",
        "    # possibly distributed settings.\n",
        "    self._log_write_dir = distributed_file_utils.write_dirpath(\n",
        "        self.log_dir, self.model._get_distribution_strategy())  # pylint: disable=protected-access\n",
        "\n",
        "    with context.eager_mode():\n",
        "      self._close_writers()\n",
        "      if self.write_graph:\n",
        "        with self._get_writer(self._train_run_name).as_default():\n",
        "          with summary_ops_v2.always_record_summaries():\n",
        "            if not model.run_eagerly:\n",
        "              summary_ops_v2.graph(K.get_graph(), step=0)\n",
        "\n",
        "            summary_writable = (\n",
        "                self.model._is_graph_network or  # pylint: disable=protected-access\n",
        "                self.model.__class__.__name__ == 'Sequential')  # pylint: disable=protected-access\n",
        "            if summary_writable:\n",
        "              summary_ops_v2.keras_model('keras', self.model, step=0)\n",
        "\n",
        "    if self.embeddings_freq:\n",
        "      self._configure_embeddings()\n",
        "\n",
        "    summary_state = summary_ops_v2._summary_state  # pylint: disable=protected-access\n",
        "    self._prev_summary_recording = summary_state.is_recording\n",
        "    self._prev_summary_writer = summary_state.writer\n",
        "    self._prev_summary_step = summary_state.step\n"
      ],
      "execution_count": 0,
      "outputs": []
    },
    {
      "cell_type": "code",
      "metadata": {
        "id": "SoLfK8Kjbg06",
        "colab_type": "code",
        "outputId": "f4c871e8-aed6-4bbe-e350-2219421903da",
        "colab": {
          "base_uri": "https://localhost:8080/",
          "height": 450
        }
      },
      "source": [
        "%%time\n",
        "batch_size = DataParm.batch_size_64.value\n",
        "Model_d, Model_g = train(batch_size, X_train)"
      ],
      "execution_count": 24,
      "outputs": [
        {
          "output_type": "stream",
          "text": [
            "Eposh is  0\n",
            "104/105 [============================>.] - ETA: 0s - g: 0.4953 - d: 0.1633"
          ],
          "name": "stdout"
        },
        {
          "output_type": "error",
          "ename": "AttributeError",
          "evalue": "ignored",
          "traceback": [
            "\u001b[0;31m---------------------------------------------------------------------------\u001b[0m",
            "\u001b[0;31mAttributeError\u001b[0m                            Traceback (most recent call last)",
            "\u001b[0;32m<ipython-input-24-5d9a524fd33b>\u001b[0m in \u001b[0;36m<module>\u001b[0;34m()\u001b[0m\n\u001b[0;32m----> 1\u001b[0;31m \u001b[0mget_ipython\u001b[0m\u001b[0;34m(\u001b[0m\u001b[0;34m)\u001b[0m\u001b[0;34m.\u001b[0m\u001b[0mrun_cell_magic\u001b[0m\u001b[0;34m(\u001b[0m\u001b[0;34m'time'\u001b[0m\u001b[0;34m,\u001b[0m \u001b[0;34m''\u001b[0m\u001b[0;34m,\u001b[0m \u001b[0;34m'batch_size = DataParm.batch_size_64.value\\nModel_d, Model_g = train(batch_size, X_train)'\u001b[0m\u001b[0;34m)\u001b[0m\u001b[0;34m\u001b[0m\u001b[0;34m\u001b[0m\u001b[0m\n\u001b[0m",
            "\u001b[0;32m/usr/local/lib/python3.6/dist-packages/IPython/core/interactiveshell.py\u001b[0m in \u001b[0;36mrun_cell_magic\u001b[0;34m(self, magic_name, line, cell)\u001b[0m\n\u001b[1;32m   2115\u001b[0m             \u001b[0mmagic_arg_s\u001b[0m \u001b[0;34m=\u001b[0m \u001b[0mself\u001b[0m\u001b[0;34m.\u001b[0m\u001b[0mvar_expand\u001b[0m\u001b[0;34m(\u001b[0m\u001b[0mline\u001b[0m\u001b[0;34m,\u001b[0m \u001b[0mstack_depth\u001b[0m\u001b[0;34m)\u001b[0m\u001b[0;34m\u001b[0m\u001b[0;34m\u001b[0m\u001b[0m\n\u001b[1;32m   2116\u001b[0m             \u001b[0;32mwith\u001b[0m \u001b[0mself\u001b[0m\u001b[0;34m.\u001b[0m\u001b[0mbuiltin_trap\u001b[0m\u001b[0;34m:\u001b[0m\u001b[0;34m\u001b[0m\u001b[0;34m\u001b[0m\u001b[0m\n\u001b[0;32m-> 2117\u001b[0;31m                 \u001b[0mresult\u001b[0m \u001b[0;34m=\u001b[0m \u001b[0mfn\u001b[0m\u001b[0;34m(\u001b[0m\u001b[0mmagic_arg_s\u001b[0m\u001b[0;34m,\u001b[0m \u001b[0mcell\u001b[0m\u001b[0;34m)\u001b[0m\u001b[0;34m\u001b[0m\u001b[0;34m\u001b[0m\u001b[0m\n\u001b[0m\u001b[1;32m   2118\u001b[0m             \u001b[0;32mreturn\u001b[0m \u001b[0mresult\u001b[0m\u001b[0;34m\u001b[0m\u001b[0;34m\u001b[0m\u001b[0m\n\u001b[1;32m   2119\u001b[0m \u001b[0;34m\u001b[0m\u001b[0m\n",
            "\u001b[0;32m<decorator-gen-60>\u001b[0m in \u001b[0;36mtime\u001b[0;34m(self, line, cell, local_ns)\u001b[0m\n",
            "\u001b[0;32m/usr/local/lib/python3.6/dist-packages/IPython/core/magic.py\u001b[0m in \u001b[0;36m<lambda>\u001b[0;34m(f, *a, **k)\u001b[0m\n\u001b[1;32m    186\u001b[0m     \u001b[0;31m# but it's overkill for just that one bit of state.\u001b[0m\u001b[0;34m\u001b[0m\u001b[0;34m\u001b[0m\u001b[0;34m\u001b[0m\u001b[0m\n\u001b[1;32m    187\u001b[0m     \u001b[0;32mdef\u001b[0m \u001b[0mmagic_deco\u001b[0m\u001b[0;34m(\u001b[0m\u001b[0marg\u001b[0m\u001b[0;34m)\u001b[0m\u001b[0;34m:\u001b[0m\u001b[0;34m\u001b[0m\u001b[0;34m\u001b[0m\u001b[0m\n\u001b[0;32m--> 188\u001b[0;31m         \u001b[0mcall\u001b[0m \u001b[0;34m=\u001b[0m \u001b[0;32mlambda\u001b[0m \u001b[0mf\u001b[0m\u001b[0;34m,\u001b[0m \u001b[0;34m*\u001b[0m\u001b[0ma\u001b[0m\u001b[0;34m,\u001b[0m \u001b[0;34m**\u001b[0m\u001b[0mk\u001b[0m\u001b[0;34m:\u001b[0m \u001b[0mf\u001b[0m\u001b[0;34m(\u001b[0m\u001b[0;34m*\u001b[0m\u001b[0ma\u001b[0m\u001b[0;34m,\u001b[0m \u001b[0;34m**\u001b[0m\u001b[0mk\u001b[0m\u001b[0;34m)\u001b[0m\u001b[0;34m\u001b[0m\u001b[0;34m\u001b[0m\u001b[0m\n\u001b[0m\u001b[1;32m    189\u001b[0m \u001b[0;34m\u001b[0m\u001b[0m\n\u001b[1;32m    190\u001b[0m         \u001b[0;32mif\u001b[0m \u001b[0mcallable\u001b[0m\u001b[0;34m(\u001b[0m\u001b[0marg\u001b[0m\u001b[0;34m)\u001b[0m\u001b[0;34m:\u001b[0m\u001b[0;34m\u001b[0m\u001b[0;34m\u001b[0m\u001b[0m\n",
            "\u001b[0;32m/usr/local/lib/python3.6/dist-packages/IPython/core/magics/execution.py\u001b[0m in \u001b[0;36mtime\u001b[0;34m(self, line, cell, local_ns)\u001b[0m\n\u001b[1;32m   1191\u001b[0m         \u001b[0;32melse\u001b[0m\u001b[0;34m:\u001b[0m\u001b[0;34m\u001b[0m\u001b[0;34m\u001b[0m\u001b[0m\n\u001b[1;32m   1192\u001b[0m             \u001b[0mst\u001b[0m \u001b[0;34m=\u001b[0m \u001b[0mclock2\u001b[0m\u001b[0;34m(\u001b[0m\u001b[0;34m)\u001b[0m\u001b[0;34m\u001b[0m\u001b[0;34m\u001b[0m\u001b[0m\n\u001b[0;32m-> 1193\u001b[0;31m             \u001b[0mexec\u001b[0m\u001b[0;34m(\u001b[0m\u001b[0mcode\u001b[0m\u001b[0;34m,\u001b[0m \u001b[0mglob\u001b[0m\u001b[0;34m,\u001b[0m \u001b[0mlocal_ns\u001b[0m\u001b[0;34m)\u001b[0m\u001b[0;34m\u001b[0m\u001b[0;34m\u001b[0m\u001b[0m\n\u001b[0m\u001b[1;32m   1194\u001b[0m             \u001b[0mend\u001b[0m \u001b[0;34m=\u001b[0m \u001b[0mclock2\u001b[0m\u001b[0;34m(\u001b[0m\u001b[0;34m)\u001b[0m\u001b[0;34m\u001b[0m\u001b[0;34m\u001b[0m\u001b[0m\n\u001b[1;32m   1195\u001b[0m             \u001b[0mout\u001b[0m \u001b[0;34m=\u001b[0m \u001b[0;32mNone\u001b[0m\u001b[0;34m\u001b[0m\u001b[0;34m\u001b[0m\u001b[0m\n",
            "\u001b[0;32m<timed exec>\u001b[0m in \u001b[0;36m<module>\u001b[0;34m()\u001b[0m\n",
            "\u001b[0;32m<ipython-input-14-b36f89ecd153>\u001b[0m in \u001b[0;36mtrain\u001b[0;34m(batch_size, X_train, epoch, common_path)\u001b[0m\n\u001b[1;32m     84\u001b[0m \u001b[0;34m\u001b[0m\u001b[0m\n\u001b[1;32m     85\u001b[0m         \u001b[0;31m# Tensorboardの書き込み\u001b[0m\u001b[0;34m\u001b[0m\u001b[0;34m\u001b[0m\u001b[0;34m\u001b[0m\u001b[0m\n\u001b[0;32m---> 86\u001b[0;31m         \u001b[0mcallback\u001b[0m\u001b[0;34m.\u001b[0m\u001b[0mset_model\u001b[0m\u001b[0;34m(\u001b[0m\u001b[0md\u001b[0m\u001b[0;34m)\u001b[0m\u001b[0;34m\u001b[0m\u001b[0;34m\u001b[0m\u001b[0m\n\u001b[0m\u001b[1;32m     87\u001b[0m         \u001b[0mwrite_log\u001b[0m\u001b[0;34m(\u001b[0m\u001b[0mcallback\u001b[0m\u001b[0;34m,\u001b[0m \u001b[0;34m[\u001b[0m\u001b[0;34m'd_loss'\u001b[0m\u001b[0;34m]\u001b[0m\u001b[0;34m,\u001b[0m \u001b[0;34m[\u001b[0m\u001b[0md_loss\u001b[0m\u001b[0;34m]\u001b[0m\u001b[0;34m,\u001b[0m \u001b[0me\u001b[0m\u001b[0;34m)\u001b[0m\u001b[0;34m\u001b[0m\u001b[0;34m\u001b[0m\u001b[0m\n\u001b[1;32m     88\u001b[0m \u001b[0;34m\u001b[0m\u001b[0m\n",
            "\u001b[0;31mAttributeError\u001b[0m: 'TensorBoardColab' object has no attribute 'set_model'"
          ]
        }
      ]
    },
    {
      "cell_type": "markdown",
      "metadata": {
        "id": "-RJkNX5qwINs",
        "colab_type": "text"
      },
      "source": [
        "Tensorboardのログを確認する"
      ]
    },
    {
      "cell_type": "code",
      "metadata": {
        "id": "9q41F9lhwIYj",
        "colab_type": "code",
        "colab": {}
      },
      "source": [
        "%load_ext tensorboard"
      ],
      "execution_count": 0,
      "outputs": []
    },
    {
      "cell_type": "code",
      "metadata": {
        "id": "Hw9IjXIBwgj0",
        "colab_type": "code",
        "colab": {}
      },
      "source": [
        "%tensorboard --logdir {your path}/logs/"
      ],
      "execution_count": 0,
      "outputs": []
    },
    {
      "cell_type": "markdown",
      "metadata": {
        "id": "OLvyeZe-lIO6",
        "colab_type": "text"
      },
      "source": [
        "異常スコアを計算する関数"
      ]
    },
    {
      "cell_type": "code",
      "metadata": {
        "id": "0hR42HajlIX-",
        "colab_type": "code",
        "colab": {}
      },
      "source": [
        "def anomaly_detection(test_img: np.asarray, g: Model, d: Model, iteration: int=200) -> Tuple[np.asarray, np.asarray, np.asarray, np.asarray,]:\n",
        "    \"\"\"\n",
        "    異常スコアを計算する関数\n",
        "    \n",
        "    Parameters\n",
        "    ----------\n",
        "    test_img: np.asarray\n",
        "        検証用の画像\n",
        "    g: Model\n",
        "        異常スコアを計算するモデル\n",
        "    d: Model\n",
        "        識別モデル\n",
        "    iterations: int\n",
        "        イテレーションを設定\n",
        "\n",
        "    Returns\n",
        "    -------\n",
        "    ano_score: np.asarray\n",
        "        異常スコア\n",
        "    original_x: np.asarray\n",
        "       0-255の画素領域に調整した検証用画像\n",
        "    similiar_x: np.asarray\n",
        "       異常スコアを計算するモデルから生成された画像\n",
        "    show:\n",
        "       検証用画像と生成された画像の差分\n",
        "    \"\"\"\n",
        "    # 異常スコアを計算するモデル\n",
        "    model = anomaly_detector(g=g, d=d)\n",
        "    # 画像のシェイプを取得\n",
        "    test_img_shape = test_img.shape\n",
        "    # テスト画像から異常スコアと類似画像を推定\n",
        "    ano_score, similar_img = compute_anomaly_score(model, test_img.reshape(1, test_img_shape[0], test_img_shape[1], test_img_shape[2]), iterations=iteration, d=d)\n",
        "    \n",
        "    # 実画像と類似画像の差分を導出\n",
        "    np_residual = test_img.reshape(test_img_shape[0], test_img_shape[1], test_img_shape[2]) - similar_img.reshape(test_img_shape[0], test_img_shape[1], test_img_shape[2])\n",
        "    np_residual = (np_residual + 2) / 4\n",
        "    \n",
        "    # uint8化して255倍する。0-255の画素領域にする\n",
        "    np_residual = (255 * np_residual).astype(np.uint8)\n",
        "    # オリジナルが画像と類似画像も同様に0-255画素領域にする\n",
        "    original_x = (test_img.reshape(test_img_shape[0], test_img_shape[1], test_img_shape[2]) * DataParm.image_size_127_5.value + DataParm.image_size_127_5.value).astype(np.uint8)\n",
        "    similiar_x = (similar_img.reshape(test_img_shape[0], test_img_shape[1], test_img_shape[2]) * DataParm.image_size_127_5.value + DataParm.image_size_127_5.value).astype(np.uint8)\n",
        "    \n",
        "    # GRAYカラー画像に変換\n",
        "    original_x_color = cv2.cvtColor(original_x, cv2.COLOR_GRAY2BGR)\n",
        "    residual_color = cv2.applyColorMap(np_residual, cv2.COLORMAP_JET)\n",
        "    show = cv2.addWeighted(original_x_color, 0.3, residual_color, 0.7, 0.)\n",
        "    \n",
        "    return ano_score, original_x, similiar_x, show"
      ],
      "execution_count": 0,
      "outputs": []
    },
    {
      "cell_type": "markdown",
      "metadata": {
        "id": "YfmJPGgZ96ur",
        "colab_type": "text"
      },
      "source": [
        "7の画像を異常画像として用意"
      ]
    },
    {
      "cell_type": "code",
      "metadata": {
        "id": "GtuS8e_J959h",
        "colab_type": "code",
        "colab": {}
      },
      "source": [
        "img_index = 14\n",
        "label_index = 7\n",
        "test_image = X_test_original[y_test==label_index][img_index]"
      ],
      "execution_count": 0,
      "outputs": []
    },
    {
      "cell_type": "markdown",
      "metadata": {
        "id": "pliRLL0J-Ob0",
        "colab_type": "text"
      },
      "source": [
        "学習済みの生成モデルと識別モデルを取得"
      ]
    },
    {
      "cell_type": "code",
      "metadata": {
        "id": "dnlC9JxC-Ook",
        "colab_type": "code",
        "colab": {}
      },
      "source": [
        "g, d  = load_models(common_path=DataParm.common_path.value)"
      ],
      "execution_count": 0,
      "outputs": []
    },
    {
      "cell_type": "markdown",
      "metadata": {
        "id": "tCcoq3CT9nJs",
        "colab_type": "text"
      },
      "source": [
        "異常スコア、検証用画像、予測画像、差分画像を導出"
      ]
    },
    {
      "cell_type": "code",
      "metadata": {
        "id": "FBFBzLO4VFeU",
        "colab_type": "code",
        "colab": {}
      },
      "source": [
        "%%time\n",
        "start = cv2.getTickCount()\n",
        "score, query, pred, diff = anomaly_detection(test_image, g=g, d=d, iteration=200)\n",
        "time = (cv2.getTickCount() - start) / cv2.getTickFrequency() * 100\n",
        "print ('%d label, %d : done'%(label_index, img_index), '%.2f' %score, '%.2fms' %time)"
      ],
      "execution_count": 0,
      "outputs": []
    },
    {
      "cell_type": "markdown",
      "metadata": {
        "id": "Lm6CeD_d-pDz",
        "colab_type": "text"
      },
      "source": [
        "7の画像は学習されていないので生成される1と画像との差分が表示される"
      ]
    },
    {
      "cell_type": "code",
      "metadata": {
        "id": "8Irx9Kix-pYt",
        "colab_type": "code",
        "colab": {}
      },
      "source": [
        "plt.figure(1, figsize=(3, 3))\n",
        "plt.title('query image')\n",
        "plt.imshow(query.reshape(28,28), cmap=plt.cm.gray)\n",
        "\n",
        "print(\"anomaly score : \", score)\n",
        "plt.figure(2, figsize=(3, 3))\n",
        "plt.title('generated similar image')\n",
        "plt.imshow(pred.reshape(28,28), cmap=plt.cm.gray)\n",
        "\n",
        "plt.figure(3, figsize=(3, 3))\n",
        "plt.title('anomaly detection')\n",
        "plt.imshow(cv2.cvtColor(diff,cv2.COLOR_BGR2RGB))\n",
        "plt.show()"
      ],
      "execution_count": 0,
      "outputs": []
    },
    {
      "cell_type": "markdown",
      "metadata": {
        "id": "d3XuHYP6_FSm",
        "colab_type": "text"
      },
      "source": [
        "# ノイズ画像と1の画像とそれ以外の画像の特徴量空間を観測してみる"
      ]
    },
    {
      "cell_type": "code",
      "metadata": {
        "id": "ENg2mZ1r_FbZ",
        "colab_type": "code",
        "colab": {}
      },
      "source": [
        "# 28x28x1の画像を100枚作成\n",
        "random_image = np.random.uniform(0, 1, (100, 28, 28, 1))\n",
        "print(\"random noise image\")\n",
        "plt.figure(4, figsize=(2, 2))\n",
        "plt.title('random noise image')\n",
        "plt.imshow(random_image[0].reshape(28,28), cmap=plt.cm.gray)"
      ],
      "execution_count": 0,
      "outputs": []
    },
    {
      "cell_type": "markdown",
      "metadata": {
        "id": "8SzWNrqs_Hqh",
        "colab_type": "text"
      },
      "source": [
        "可視化をして画像を確認するために特徴量を抽出します。"
      ]
    },
    {
      "cell_type": "code",
      "metadata": {
        "id": "Pci134SY_H7f",
        "colab_type": "code",
        "colab": {}
      },
      "source": [
        "model = feature_extractor()\n",
        "# ランダムな画像から特徴量抽出\n",
        "feature_map_of_random = model.predict(random_image, verbose=1)\n",
        "# ラベルが1でない画像の特徴量を抽出\n",
        "feature_map_mnist = model.predict(X_test_original[y_test != 1][:300], verbose=1)\n",
        "# ラベルが1の画像の特徴量を抽出\n",
        "feature_map_mnist_1 = model.predict(X_test[:100], verbose=1)"
      ],
      "execution_count": 0,
      "outputs": []
    },
    {
      "cell_type": "markdown",
      "metadata": {
        "id": "wpD4-bgM_grc",
        "colab_type": "text"
      },
      "source": [
        "特徴量を一つのデータに集約します。"
      ]
    },
    {
      "cell_type": "code",
      "metadata": {
        "id": "Zjec66mi_g-F",
        "colab_type": "code",
        "colab": {}
      },
      "source": [
        "# 先ほど出力した各特徴量空間を組み合わせる\n",
        "output = np.concatenate((feature_map_of_random, feature_map_mnist, feature_map_mnist_1))\n",
        "# 最初の次元だけ保って、他の次元は合成される\n",
        "output = output.reshape(output.shape[0], -1)"
      ],
      "execution_count": 0,
      "outputs": []
    },
    {
      "cell_type": "markdown",
      "metadata": {
        "id": "s1d4SGBY_17z",
        "colab_type": "text"
      },
      "source": [
        "特徴量を2次元空間に可視化"
      ]
    },
    {
      "cell_type": "code",
      "metadata": {
        "id": "pimlpNRa_2DI",
        "colab_type": "code",
        "colab": {}
      },
      "source": [
        "# 特徴量空間を可視化できるように2次元に圧縮\n",
        "X_embedded = TSNE(n_components = 2).fit_transform(output)\n",
        "plt.figure(5)\n",
        "plt.title(\"T-SNE embedding on the feature representation\")\n",
        "plt.scatter(X_embedded[:100, 0], X_embedded[:100, 1], label='random noise(anomaly)')\n",
        "plt.scatter(X_embedded[100:400, 0], X_embedded[100:400, 1], label='mnist(anomaly)')\n",
        "plt.scatter(X_embedded[400:, 0], X_embedded[400:, 1], label='mnist(normal)')\n",
        "plt.legend()\n",
        "plt.show()"
      ],
      "execution_count": 0,
      "outputs": []
    },
    {
      "cell_type": "markdown",
      "metadata": {
        "id": "6dtvyT2gwJNx",
        "colab_type": "text"
      },
      "source": [
        "# 異常スコアの計算を変更する\n",
        "\n",
        "- ノイズ発生を複数に変更\n",
        "- Generatorの学習を行う"
      ]
    },
    {
      "cell_type": "code",
      "metadata": {
        "id": "rmug4AFHmOGI",
        "colab_type": "code",
        "colab": {}
      },
      "source": [
        "%%time\n",
        "def anomaly_detector_second(g: Model, d: Model, in_shape: tuple=(10,), loss_weights: list=[0.9, 0.1]) -> Model:\n",
        "    \"\"\"\n",
        "    ノイズを生成する層と生成モデルを調整して異常スコアと画像を生成するモデルを作成\n",
        "    \n",
        "    Parameters\n",
        "    ----------\n",
        "    g: Model\n",
        "        生成モデル\n",
        "    d: Model\n",
        "        識別モデル\n",
        "    in_shape: tuple\n",
        "        ノイズの入力サイズ\n",
        "    loss_weights: list\n",
        "        ロスの重要性を設定\n",
        "\n",
        "    Returns\n",
        "    -------\n",
        "    model: Model\n",
        "        異常スコアと画像を生成するモデル\n",
        "\n",
        "    \"\"\"\n",
        "    # 特徴量抽出モデルをDiscriminatorから作成\n",
        "    intermidiate_model = feature_extractor(d)\n",
        "    # 特徴量抽出モデルは学習しない\n",
        "    feature_extractor.trainable = False\n",
        "    # Generatorを作成\n",
        "    g = Model(inputs=g.layers[1].input, outputs=g.layers[-1].output)\n",
        "    # Generatorは学習\n",
        "    g.trainable = True\n",
        "    # Noizeを学習するためのレイヤー\n",
        "    aInput = Input(shape=in_shape)\n",
        "    gInput = Dense(in_shape[0], trainable=True)(aInput)\n",
        "    gInput = Activation(AnomalyDetectorParam.activation_sigmoid.value)(gInput)\n",
        "    \n",
        "    # ノイズを入力に画像を生成\n",
        "    G_out = g(gInput)\n",
        "    # 画像から特徴量抽出\n",
        "    D_out = intermidiate_model(G_out)\n",
        "    # 画像と特徴量を出力とするモデルを作成\n",
        "    model = Model(inputs=aInput, outputs=[G_out, D_out])\n",
        "    model.compile(loss=sum_of_residual, loss_weights=loss_weights, optimizer=AnomalyDetectorParam.optimizer_rmsprop.value)\n",
        "    \n",
        "    # BatchNormを固定して学習しないようにする\n",
        "    K.set_learning_phase(0)\n",
        "    \n",
        "    return model\n",
        "\n",
        "  \n",
        "def compute_anomaly_score_second(model: Model, x: np.array, iterations: int=5, z_num: int=5, d: Model=None, g: Model=None, noize_shape: tuple=(1, 10)) -> Tuple[np.asarray, np.asarray,]:\n",
        "    \"\"\"\n",
        "    異常スコアを計算する関数\n",
        "    \n",
        "    Parameters\n",
        "    ----------\n",
        "    model: Model\n",
        "        異常スコアを計算するモデル\n",
        "    x: np.array\n",
        "        検証用画像\n",
        "    iterations: int\n",
        "        イテレーションを設定\n",
        "    z_num: int\n",
        "        ノイズを生成する回数を設定\n",
        "    d: Model\n",
        "        識別モデル\n",
        "    g: Model\n",
        "        生成モデル\n",
        "    noize_shape: tuple\n",
        "        ノイズの次元を設定\n",
        "\n",
        "    Returns\n",
        "    -------\n",
        "    loss: np.asarray\n",
        "        異常スコア\n",
        "    similar_data: np.asarray\n",
        "        ノイズを調整したモデルにノイズを入力して画像を生成\n",
        "    \"\"\"\n",
        "    loss_list = []\n",
        "    similar_data_list = []\n",
        "    # Generatorを学習していない初期状態として保持\n",
        "    initial_g = copy.deepcopy(g)\n",
        "    \n",
        "    # ノイズを複数発生させて平均をとる\n",
        "    for i in range(z_num):\n",
        "        z = np.random.uniform(0, 1, size=noize_shape)\n",
        "        # 特徴量抽出モデルを作成\n",
        "        intermidiate_model = feature_extractor(d)\n",
        "        # 実画像の特徴量抽出\n",
        "        d_x = intermidiate_model.predict(x)\n",
        "        # ノイズを入力として、実画像、実画像の特徴量をターゲットとしたノイズの学習を行う\n",
        "        loss = model.fit(z, [x, d_x], batch_size=1, epochs=iterations, verbose=0)\n",
        "        # ノイズから画像を作成\n",
        "        similar_data, _ = model.predict(z)\n",
        "        # 異常スコアを導出\n",
        "        loss = loss.history['loss'][-1]\n",
        "        loss_list.append(loss)\n",
        "        similar_data_list.append(similar_data)\n",
        "        # Generatorを学習していないものに設定しなおす\n",
        "        model = anomaly_detector_second(g=initial_g, d=d)\n",
        "      \n",
        "    average_loss = np.average(loss_list)\n",
        "    average_similar_data = np.average(similar_data_list, axis=0)\n",
        "    \n",
        "    return average_loss, average_similar_data\n",
        "  \n",
        "  \n",
        "def anomaly_detection_second(test_img, g=None, d=None, iterations: int=5) -> Tuple[np.asarray, np.asarray, np.asarray, np.asarray,]:\n",
        "    \"\"\"\n",
        "    異常スコアを計算する関数(Gneratorの調整、ノイズを複数回発生させる部分を調整)\n",
        "    \n",
        "    Parameters\n",
        "    ----------\n",
        "    test_img: np.asarray\n",
        "        検証用の画像\n",
        "    g: Model\n",
        "        異常スコアを計算するモデル\n",
        "    d: Model\n",
        "        識別モデル\n",
        "    iterations: int\n",
        "        イテレーションを設定\n",
        "\n",
        "    Returns\n",
        "    -------\n",
        "    ano_score: np.asarray\n",
        "        異常スコア\n",
        "    original_x: np.asarray\n",
        "       0-255の画素領域に調整した検証用画像\n",
        "    similiar_x: np.asarray\n",
        "       異常スコアを計算するモデルから生成された画像\n",
        "    show:\n",
        "       検証用画像と生成された画像の差分\n",
        "    \"\"\"\n",
        "    # 異常スコアを計算するモデル\n",
        "    model = anomaly_detector_second(g=g, d=d)\n",
        "    # 画像のシェイプを取得\n",
        "    test_img_shape = test_img.shape\n",
        "    # テスト画像から異常スコアと類似画像を推定\n",
        "    ano_score, similar_img = compute_anomaly_score_second(model, test_img.reshape(1, test_img_shape[0], test_img_shape[1], test_img_shape[2]), iterations=iterations, d=d, g=g)\n",
        "    \n",
        "    # 実画像と類似画像の差分を導出\n",
        "    np_residual = test_img.reshape(test_img_shape[0], test_img_shape[1], test_img_shape[2]) - similar_img.reshape(test_img_shape[0], test_img_shape[1], test_img_shape[2])\n",
        "    np_residual = (np_residual + 2) / 4\n",
        "    \n",
        "    # uint8化して255倍する。0-255の画素領域にする\n",
        "    np_residual = (255 * np_residual).astype(np.uint8)\n",
        "    # オリジナルが画像と類似画像も同様に0-255画素領域にする\n",
        "    original_x = (test_img.reshape(test_img_shape[0], test_img_shape[1], test_img_shape[2]) * DataParm.image_size_127_5.value + DataParm.image_size_127_5.value).astype(np.uint8)\n",
        "    similiar_x = (similar_img.reshape(test_img_shape[0], test_img_shape[1], test_img_shape[2]) * DataParm.image_size_127_5.value + DataParm.image_size_127_5.value).astype(np.uint8)\n",
        "    \n",
        "    # GRAYカラー画像に変換\n",
        "    original_x_color = cv2.cvtColor(original_x, cv2.COLOR_GRAY2BGR)\n",
        "    residual_color = cv2.applyColorMap(np_residual, cv2.COLORMAP_JET)\n",
        "    show = cv2.addWeighted(original_x_color, 0.3, residual_color, 0.7, 0.)\n",
        "    \n",
        "    return ano_score, original_x, similiar_x, show\n",
        "  \n",
        "  \n",
        "g, d  = load_models()\n",
        "start = cv2.getTickCount()\n",
        "score, query, pred, diff = anomaly_detection_second(test_image, g=g, d=d, iterations=4,)\n",
        "time = (cv2.getTickCount() - start) / cv2.getTickFrequency() * 100\n",
        "print ('%d label, %d : done'%(label_index, img_index), '%.2f' %score, '%.2fms' %time)"
      ],
      "execution_count": 0,
      "outputs": []
    },
    {
      "cell_type": "markdown",
      "metadata": {
        "id": "omuPhsFTykEW",
        "colab_type": "text"
      },
      "source": [
        "手法を変えて異常スコアと検証データと異常データとその差分を出力"
      ]
    },
    {
      "cell_type": "code",
      "metadata": {
        "id": "QTi1RG9UyVym",
        "colab_type": "code",
        "colab": {}
      },
      "source": [
        "plt.figure(1, figsize=(3, 3))\n",
        "plt.title('query image')\n",
        "plt.imshow(query.reshape(28,28), cmap=plt.cm.gray)\n",
        "\n",
        "print(\"anomaly score : \", score)\n",
        "plt.figure(2, figsize=(3, 3))\n",
        "plt.title('generated similar image')\n",
        "plt.imshow(pred.reshape(28,28), cmap=plt.cm.gray)\n",
        "\n",
        "plt.figure(3, figsize=(3, 3))\n",
        "plt.title('anomaly detection')\n",
        "plt.imshow(cv2.cvtColor(diff,cv2.COLOR_BGR2RGB))\n",
        "plt.show()"
      ],
      "execution_count": 0,
      "outputs": []
    },
    {
      "cell_type": "markdown",
      "metadata": {
        "id": "4e-rwW9p0kR0",
        "colab_type": "text"
      },
      "source": [
        "# EfficentGAN-BasedAnomalyDetection\n",
        "\n",
        "- 高速な異常検知GANの実装"
      ]
    },
    {
      "cell_type": "markdown",
      "metadata": {
        "id": "s10si9sI1vzZ",
        "colab_type": "text"
      },
      "source": [
        "# Discriminator\n",
        "\n",
        "- ノイズと画像を入力したDiscriminator"
      ]
    },
    {
      "cell_type": "code",
      "metadata": {
        "id": "UxILOuiNxf37",
        "colab_type": "code",
        "colab": {}
      },
      "source": [
        "class DiscriminatorEncoderParam(Enum):\n",
        "    conv2d_filter_64 = 64\n",
        "    conv2d_kernel_4_4 = (4, 4)\n",
        "    conv2d_stride_2_2 = (2, 2)\n",
        "    conv2d_padding_same = 'same'\n",
        "    \n",
        "    leaky_relu_param_0_2 = 0.2\n",
        "    drop_out_0_4 = 0.4\n",
        "    \n",
        "    noize_size_5_5_64 = 5 * 5 * 64\n",
        "    \n",
        "    leaky_relu_param_0_1 = 0.1\n",
        "    \n",
        "    dense_1024 = 1024\n",
        "    \n",
        "    out_dense_1 = 1\n",
        "    out_activation_sigmoid = 'sigmoid'\n",
        "    adam_lr_0_0002 = 0.0002\n",
        "    beta_1_0_5 = 0.5\n",
        "    loss_binary_crossentropy = \"binary_crossentropy\"\n",
        "    metrics_accuracy = 'accuracy'"
      ],
      "execution_count": 0,
      "outputs": []
    },
    {
      "cell_type": "code",
      "metadata": {
        "id": "KPIX6PlT1v8h",
        "colab_type": "code",
        "colab": {}
      },
      "source": [
        "def define_discriminator(in_shape=(28,28,1), in_z=(10,)) -> Model:\n",
        "    \"\"\"\n",
        "    識別モデルの作成\n",
        "    \n",
        "    Parameters\n",
        "    ----------\n",
        "    in_shape : tuple\n",
        "        画像の次元\n",
        "    in_z : tuple\n",
        "        ノイズの次元\n",
        "    \n",
        "    Returns\n",
        "    -------\n",
        "    model: Model\n",
        "        作成した識別モデル（ノイズと画像を入力にしている）\n",
        "    \"\"\"\n",
        "    \n",
        "    input_x = Input(shape=in_shape)\n",
        "    x = Conv2D(DiscriminatorEncoderParam.conv2d_filter_64.value, \n",
        "               DiscriminatorEncoderParam.conv2d_kernel_4_4.value, \n",
        "               strides=DiscriminatorEncoderParam.conv2d_stride_2_2.value, \n",
        "               padding=DiscriminatorEncoderParam.conv2d_padding_same.value, \n",
        "               input_shape=in_shape)(input_x)\n",
        "\n",
        "    x = LeakyReLU(alpha=DiscriminatorEncoderParam.leaky_relu_param_0_2.value)(x)\n",
        "    x = Dropout(DiscriminatorEncoderParam.drop_out_0_4.value)(x)\n",
        "    x = Conv2D(DiscriminatorEncoderParam.conv2d_filter_64.value, \n",
        "               DiscriminatorEncoderParam.conv2d_kernel_4_4.value, \n",
        "               strides=DiscriminatorEncoderParam.conv2d_stride_2_2.value, \n",
        "               padding=DiscriminatorEncoderParam.conv2d_padding_same.value, \n",
        "               input_shape=in_shape)(x)\n",
        "\n",
        "    x = BatchNormalization()(x)\n",
        "    x = LeakyReLU(alpha=DiscriminatorEncoderParam.leaky_relu_param_0_2.value)(x)\n",
        "    x = Dropout(DiscriminatorEncoderParam.drop_out_0_4.value)(x)\n",
        "    # レイヤーのサイズを取得する\n",
        "    shape_x = K.int_shape(x)\n",
        "    # ノイズとconcatできるように1次元に変更、0次元はバッチサイズなので使用しない\n",
        "    x = Reshape((shape_x[1] * shape_x[2] * shape_x[3],))(x)\n",
        "    \n",
        "    # ノイズの入力のレイヤー\n",
        "    input_z = Input(shape=in_z)\n",
        "    z = Dense(DiscriminatorEncoderParam.noize_size_5_5_64.value)(input_z)\n",
        "    z = LeakyReLU(alpha=DiscriminatorEncoderParam.leaky_relu_param_0_1.value)(z)\n",
        "    z = Dropout(DiscriminatorEncoderParam.drop_out_0_4.value)(z)\n",
        "    \n",
        "    # ノイズと画像抽出部分をconcate\n",
        "    concat_x = concatenate([x, z], axis=1)\n",
        "    x = Dense(DiscriminatorEncoderParam.dense_1024.value)(concat_x)\n",
        "    x = LeakyReLU(alpha=DiscriminatorEncoderParam.leaky_relu_param_0_1.value)(x)\n",
        "    x = Dropout(DiscriminatorEncoderParam.drop_out_0_4.value)(x)\n",
        "    x = Dense(DiscriminatorEncoderParam.out_dense_1.value, activation=DiscriminatorEncoderParam.out_activation_sigmoid.value)(x)\n",
        "    \n",
        "    # ノイズと画像の情報使って識別する\n",
        "    model = Model(inputs=[input_x, input_z], outputs=x)\n",
        "    opt = Adam(lr=DiscriminatorEncoderParam.adam_lr_0_0002.value, beta_1=DiscriminatorEncoderParam.beta_1_0_5.value)\n",
        "    model.compile(loss=DiscriminatorEncoderParam.loss_binary_crossentropy.value, optimizer=opt, metrics=[DiscriminatorEncoderParam.metrics_accuracy.value])\n",
        "    return model\n",
        "  \n",
        "d_model = define_discriminator()\n",
        "d_model.summary()\n",
        "plot_model(d_model, to_file=\"d_plot.png\", show_shapes=True, show_layer_names=True)"
      ],
      "execution_count": 0,
      "outputs": []
    },
    {
      "cell_type": "markdown",
      "metadata": {
        "id": "5cjuAUwf1wiP",
        "colab_type": "text"
      },
      "source": [
        "# Encoder"
      ]
    },
    {
      "cell_type": "code",
      "metadata": {
        "id": "oYf_OBST1YA2",
        "colab_type": "code",
        "colab": {}
      },
      "source": [
        "class EncoderParam(Enum):\n",
        "    con2d_filter_32 = 32\n",
        "    con2d_kernel_3_3 = (3, 3)\n",
        "    con2d_strides_2_2 = (2, 2)\n",
        "    conv2d_padding_same = 'same'\n",
        "    \n",
        "    con2d_filter_64 = 64\n",
        "    \n",
        "    leaky_relu_param_0_2 = 0.2\n",
        "    \n",
        "    adam_lr_0_0002 = 0.0002\n",
        "    beta_1_0_5 = 0.5\n",
        "    loss_binary_crossentropy = \"binary_crossentropy\"\n",
        "    metrics_accuracy = 'accuracy'"
      ],
      "execution_count": 0,
      "outputs": []
    },
    {
      "cell_type": "code",
      "metadata": {
        "id": "AiqbR44Lykzj",
        "colab_type": "code",
        "colab": {}
      },
      "source": [
        "def define_encoder(in_shape: tuple=(28, 28, 1), out_z: tuple=(10,)) -> Model:\n",
        "    \"\"\"\n",
        "    Encoderモデルの作成\n",
        "    \n",
        "    Parameters\n",
        "    ----------\n",
        "    in_shape : tuple\n",
        "        画像の次元\n",
        "    out_z : tuple\n",
        "        出力ノイズの次元\n",
        "    \n",
        "    Returns\n",
        "    -------\n",
        "    model: Model\n",
        "        作成したEncoderモデル\n",
        "    \"\"\"\n",
        "    input_x = Input(shape=in_shape)\n",
        "    x = Conv2D(EncoderParam.con2d_filter_32.value, \n",
        "               EncoderParam.con2d_kernel_3_3.value, \n",
        "               strides=EncoderParam.con2d_strides_2_2.value, \n",
        "               padding=EncoderParam.conv2d_padding_same.value)(input_x)\n",
        "    x = Conv2D(EncoderParam.con2d_filter_32.value, \n",
        "               EncoderParam.con2d_kernel_3_3.value, \n",
        "               strides=EncoderParam.con2d_strides_2_2.value, \n",
        "               padding=EncoderParam.conv2d_padding_same.value)(x)\n",
        "    x = BatchNormalization()(x)\n",
        "    x = LeakyReLU(alpha=EncoderParam.leaky_relu_param_0_2.value)(x)\n",
        "    x = Conv2D(EncoderParam.con2d_filter_64.value, \n",
        "               EncoderParam.con2d_kernel_3_3.value, \n",
        "               strides=EncoderParam.con2d_strides_2_2.value, \n",
        "               padding=EncoderParam.conv2d_padding_same.value)(x)\n",
        "    x = BatchNormalization()(x)\n",
        "    x = LeakyReLU(alpha=EncoderParam.leaky_relu_param_0_2.value)(x)\n",
        "    x = Flatten()(x)\n",
        "    x = Dense(out_z[0])(x)\n",
        "    model = Model(inputs=input_x, outputs=x)\n",
        "    opt = Adam(lr=DiscriminatorEncoderParam.adam_lr_0_0002.value, beta_1=DiscriminatorEncoderParam.beta_1_0_5.value)\n",
        "    model.compile(loss=DiscriminatorEncoderParam.loss_binary_crossentropy.value, optimizer=opt, metrics=[DiscriminatorEncoderParam.metrics_accuracy.value])\n",
        "    return model\n",
        "  \n",
        "encoder_model = define_encoder()\n",
        "encoder_model.summary()\n",
        "plot_model(encoder_model, to_file=\"encoder_model_plot.png\", show_shapes=True, show_layer_names=True)"
      ],
      "execution_count": 0,
      "outputs": []
    },
    {
      "cell_type": "markdown",
      "metadata": {
        "id": "AhhVCkfx1npa",
        "colab_type": "text"
      },
      "source": [
        "# ノイズを入力とするDiscriminatorの設定"
      ]
    },
    {
      "cell_type": "code",
      "metadata": {
        "id": "9ev237_d1dHP",
        "colab_type": "code",
        "colab": {}
      },
      "source": [
        "def generator_containint_discriminator(g_model: Model, d_model: Model, in_z: tuple=(10,)) -> Model:\n",
        "    \"\"\"\n",
        "    Generatorを学習するためのDiscriminatorとの混合モデルの作成\n",
        "    \n",
        "    Parameters\n",
        "    ----------\n",
        "    g_model : Model\n",
        "        生成モデル\n",
        "    d_model : Model\n",
        "        識別モデル\n",
        "    in_z : tuple\n",
        "        入力ノイズの次元\n",
        "    \n",
        "    Returns\n",
        "    -------\n",
        "    model: Model\n",
        "        Generatorを学習するためのDiscriminatorとの混合モデル\n",
        "    \"\"\"\n",
        "    d_model.trainable = False\n",
        "    input_z = Input(shape=in_z)\n",
        "    x = g_model(input_z)\n",
        "    \n",
        "    # 画像とノイズが入力\n",
        "    x = d_model([x, input_z])\n",
        "    \n",
        "    gan = Model(inputs=input_z, outputs=x)\n",
        "    return gan\n",
        "\n",
        "d_model = define_discriminator()\n",
        "g_model = generator_model()\n",
        "g_d_model = generator_containint_discriminator(g_model, d_model)\n",
        "plot_model(g_d_model, to_file='g_d_model.png')"
      ],
      "execution_count": 0,
      "outputs": []
    },
    {
      "cell_type": "markdown",
      "metadata": {
        "id": "LOpRgWhu6LlL",
        "colab_type": "text"
      },
      "source": [
        "# Encoderからノイズを発生してDiscriminatorで識別"
      ]
    },
    {
      "cell_type": "code",
      "metadata": {
        "id": "-4X8rMv05cag",
        "colab_type": "code",
        "colab": {}
      },
      "source": [
        "def define_encoder_gan(e_model, d_model, in_shape=(28,28,1)) -> Model:\n",
        "    \"\"\"\n",
        "    Encoderを学習するためのDiscriminatorとの混合モデルの作成\n",
        "    \n",
        "    Parameters\n",
        "    ----------\n",
        "    e_model : Model\n",
        "        Encoderモデル\n",
        "    d_model : Model\n",
        "        識別モデル\n",
        "    in_shape : tuple\n",
        "        画像の次元\n",
        "    \n",
        "    Returns\n",
        "    -------\n",
        "    model: Model\n",
        "        Encoderを学習するためのDiscriminatorとの混合モデル\n",
        "    \"\"\"\n",
        "    d_model.trainable = False\n",
        "    input_x = Input(shape=in_shape)\n",
        "    # Encoderで画像をノイズに\n",
        "    x = e_model(input_x)\n",
        "    \n",
        "    x = d_model([input_x, x])\n",
        "    \n",
        "    model = Model(inputs=input_x, outputs=x)\n",
        "    return model\n",
        "  \n",
        "d_model = define_discriminator()\n",
        "e_model = define_encoder()\n",
        "gan_encoder_model = define_encoder_gan(e_model, d_model)\n",
        "gan_encoder_model.summary()\n",
        "plot_model(gan_encoder_model, to_file='gan_encoder_model.png')"
      ],
      "execution_count": 0,
      "outputs": []
    },
    {
      "cell_type": "markdown",
      "metadata": {
        "id": "zQTIDEVK64ul",
        "colab_type": "text"
      },
      "source": [
        "# Encoderを含むEfficientAnnoGANの学習\n",
        "\n",
        "まれに初期値の関係でDiscriminatorが強くなりすぎる場合がある。その際は再学習が必要\n",
        "\n",
        "Tensorboardを用いた学習ログの保存は時間がかかるので行わない"
      ]
    },
    {
      "cell_type": "code",
      "metadata": {
        "id": "H4QEGVa214HN",
        "colab_type": "code",
        "colab": {}
      },
      "source": [
        "class TrainEncoderParam(Enum):\n",
        "    discriminator_lr = 0.0002\n",
        "    generator_lr = 0.0002\n",
        "    encoder_lr = 0.0002\n",
        "    \n",
        "    generator_loss = \"mse\"\n",
        "    discriminator_generator_loss = \"mse\"\n",
        "    discriminator_encoder_loss = \"mse\"\n",
        "    discriminator_loss = 'mse'"
      ],
      "execution_count": 0,
      "outputs": []
    },
    {
      "cell_type": "code",
      "metadata": {
        "id": "NuwY4i686lff",
        "colab_type": "code",
        "colab": {}
      },
      "source": [
        "def train_encoder_gan(batch_size: int, X_train: np.ndarray, epoch: int=10, common_path: str='your model path') -> Tuple[Model, Model]:\n",
        "    \"\"\"\n",
        "    識別モデルと生成モデルを学習する\n",
        "    \n",
        "    Parameters\n",
        "    ----------\n",
        "    batch_size: int\n",
        "        バッチサイズ\n",
        "    X_train: np.ndarray\n",
        "        学習用画像データ\n",
        "    epoch: int\n",
        "        学習のエポック数を指定\n",
        "    common_path : str\n",
        "        モデル、生成画像を保存するパスを指定\n",
        "\n",
        "    Returns\n",
        "    -------\n",
        "    d: Model\n",
        "        識別モデル\n",
        "    g: Model\n",
        "        生成モデル\n",
        "\n",
        "    \"\"\"\n",
        "    d = define_discriminator()\n",
        "    g = generator_model()\n",
        "    encoder = define_encoder()\n",
        "    \n",
        "    # Generatorのモデルを学習するための混合モデル\n",
        "    d_on_g = generator_containint_discriminator(g, d)\n",
        "    \n",
        "    # Encoderのモデルを学習するための混合モデル\n",
        "    d_on_e = define_encoder_gan(encoder, d)\n",
        "\n",
        "    # 性能が良いとされるAdamに変更\n",
        "    d_optim = Adam(lr=TrainEncoderParam.discriminator_lr.value)\n",
        "    g_optim = Adam(lr=TrainEncoderParam.generator_lr.value)\n",
        "    e_optim = Adam(lr=TrainEncoderParam.encoder_lr.value)\n",
        "    \n",
        "    g.compile(loss=TrainEncoderParam.generator_loss.value, optimizer=g_optim)\n",
        "    d_on_g.compile(loss=TrainEncoderParam.discriminator_generator_loss.value, optimizer=g_optim)\n",
        "    d_on_e.compile(loss=TrainEncoderParam.discriminator_encoder_loss.value, optimizer=e_optim)\n",
        "    \n",
        "    d.trainable= True\n",
        "    d.compile(loss=TrainEncoderParam.discriminator_loss.value, optimizer=d_optim)\n",
        "    \n",
        "    for e in range(epoch):\n",
        "        print('Eposh is ', e)\n",
        "        # データサイズ / バッチサイズ = データサイズで何回バッチ処理が行えるか計算\n",
        "        n_iter = int(X_train.shape[0] / batch_size)\n",
        "        # 学習の進捗を分かりやすくするための処理\n",
        "        progress_bar = Progbar(target=n_iter)\n",
        "        \n",
        "        for index in range(n_iter):\n",
        "            # バッチサイズ分、10次元のノイズを取得、性能が良くなる正規分布に変更\n",
        "            noise = np.random.normal(0, 1, size=(batch_size, 10))\n",
        "            # 画像をバッチサイズ分取得\n",
        "            image_batch = X_train[index * batch_size:(index + 1) * batch_size]\n",
        "            # ノイズから画像を生成\n",
        "            generated_images = g.predict(noise, verbose=0)\n",
        "            # 画像からノイズを生成\n",
        "            generated_noise = encoder.predict(image_batch, verbose=0)\n",
        "            \n",
        "            # 生成画像を保存して後で確認できるようにする\n",
        "            if index % 20 == 0:\n",
        "                # バッチサイズ分画像ができるので1枚の画像に変換\n",
        "                image = combine_images(generated_images)\n",
        "                # -1 to 1スケールなので255スケールに変換\n",
        "                image = image * DataParm.image_size_127_5.value + DataParm.image_size_127_5.value\n",
        "                if not os.path.exists(common_path + '/result/'):\n",
        "                    os.makedirs(common_path + '/result/')\n",
        "                cv2.imwrite(common_path + '/result/' + str(e) + '_' + str(index) + '.png', image)\n",
        "           \n",
        "            \n",
        "            # Discriminatorの学習\n",
        "            y = np.array([1] * batch_size)\n",
        "            d_loss = d.train_on_batch([image_batch, generated_noise], y)\n",
        "            \n",
        "            y = np.array([0] * batch_size)\n",
        "            d_loss = d.train_on_batch([generated_images, noise], y)\n",
        "            \n",
        "            # Discriminatorの学習はしない\n",
        "            d.trainable = False\n",
        "\n",
        "            # Generatorの学習\n",
        "            g_loss = d_on_g.train_on_batch(noise, np.array([1] * batch_size))\n",
        "            d.trainable = False\n",
        "            # Encoderの学習\n",
        "            e_loss = d_on_e.train_on_batch(image_batch, np.array([0] * batch_size))\n",
        "            \n",
        "            d.trainable = True\n",
        "            \n",
        "            progress_bar.update(index, values=[('g', g_loss), ('d', d_loss), ('e', e_loss)])\n",
        "        print('')\n",
        "        # モデルを保存するディレクトリを作成\n",
        "        if not os.path.exists(common_path + '/weights/'):\n",
        "            os.makedirs(common_path + '/weights/')\n",
        "        # モデルを保存\n",
        "        g.save(common_path + '/weights/generator.h5')\n",
        "        d.save(common_path + '/weights/discriminator.h5')\n",
        "        encoder.save(common_path + '/weights/encoder.h5')\n",
        "    return d, g, encoder\n",
        "\n",
        "# 再現性を保つため乱数のseedを固定\n",
        "np.random.seed(seed=30)\n",
        "batch_size = 64\n",
        "Model_d, Model_g, Model_e = train_encoder_gan(batch_size, X_train)"
      ],
      "execution_count": 0,
      "outputs": []
    },
    {
      "cell_type": "markdown",
      "metadata": {
        "id": "e83m4_2yoJc2",
        "colab_type": "text"
      },
      "source": [
        "Encodeを含んだモデルのためそれ用に特徴量抽出関数、異常スコアモデル作成関数、異常スコア導出関数などを変更する"
      ]
    },
    {
      "cell_type": "code",
      "metadata": {
        "id": "r5Gx55WG4Q5m",
        "colab_type": "code",
        "colab": {}
      },
      "source": [
        "class FeatureExtractorEncodeParam(Enum):\n",
        "    feature_extractor_loss = 'binary_crossentropy'\n",
        "    optimizer = 'adam'\n",
        "    \n",
        "class AnomalyDetectorEncodeParam(Enum):\n",
        "    adam = 'adam'"
      ],
      "execution_count": 0,
      "outputs": []
    },
    {
      "cell_type": "code",
      "metadata": {
        "id": "ULz9dBwiFntB",
        "colab_type": "code",
        "colab": {}
      },
      "source": [
        "def feature_extractor_encode(d: Model=None, common_path: str=DataParm.common_path_efficient.value) -> Model:\n",
        "    \"\"\"\n",
        "    識別モデルから特徴量抽出モデルを取得する\n",
        "    \n",
        "    Parameters\n",
        "    ----------\n",
        "    d: Model\n",
        "        識別モデル\n",
        "    common_path: str\n",
        "        モデルを読み込むパスの設定\n",
        "\n",
        "    Returns\n",
        "    -------\n",
        "    intermidiate_model: Model\n",
        "        特徴量抽出モデル\n",
        "\n",
        "    \"\"\"\n",
        "    if d is None:\n",
        "        d = load_model(common_path + '/weights/discriminator.h5')\n",
        "        d.summary()\n",
        "    input_layer = []\n",
        "    # 複数の入力特徴レイヤーがあるため特徴レイヤーを確保\n",
        "    for index, each_d in enumerate(d.layers):\n",
        "        if 'input' in each_d.name:\n",
        "            input_layer.append(each_d.input)\n",
        "    # Discriminatorの特徴量抽出器を設定\n",
        "    intermidiate_model = Model(inputs=input_layer, outputs=d.layers[-4].output)\n",
        "    intermidiate_model.compile(loss=FeatureExtractorEncodeParam.feature_extractor_loss.value, optimizer=FeatureExtractorEncodeParam.optimizer.value)\n",
        "    return intermidiate_model\n",
        "\n",
        "feature_extractor_model = feature_extractor_encode()\n",
        "feature_extractor_model.summary()\n",
        "plot_model(feature_extractor_model, to_file=\"feature_extractor_model_plot.png\", show_shapes=True, show_layer_names=True)"
      ],
      "execution_count": 0,
      "outputs": []
    },
    {
      "cell_type": "markdown",
      "metadata": {
        "id": "s2dCm78Nmw6j",
        "colab_type": "text"
      },
      "source": [
        "# Encoderを含んだモデルによる異常スコア導出"
      ]
    },
    {
      "cell_type": "code",
      "metadata": {
        "id": "GLlUqxOk-YWc",
        "colab_type": "code",
        "colab": {}
      },
      "source": [
        "def anomaly_detector_encode(g: Model, d: Model, e: Model, img_shape: tuple=(28, 28, 1), loss_weights: list=[0.9, 0.1]) -> Model:\n",
        "    \"\"\"\n",
        "    異常スコアと画像を生成するモデルを作成\n",
        "    \n",
        "    Parameters\n",
        "    ----------\n",
        "    g: Model\n",
        "        生成モデル\n",
        "    d: Model\n",
        "        識別モデル\n",
        "    e: Model\n",
        "        Encoderモデル\n",
        "    img_shape: tuple\n",
        "        画像の入力サイズ\n",
        "    loss_weights: list\n",
        "        ロスの重要性を設定\n",
        "\n",
        "    Returns\n",
        "    -------\n",
        "    model: Model\n",
        "        異常スコアと画像を生成するモデル\n",
        "\n",
        "    \"\"\"\n",
        "    # 特徴量抽出モデルをDiscriminatorから作成\n",
        "    intermidiate_model = feature_extractor_encode(d)\n",
        "    # 特徴量抽出モデルは学習しない\n",
        "    intermidiate_model.trainable = False\n",
        "    # Generatorを作成\n",
        "    g = Model(inputs=g.layers[1].input, outputs=g.layers[-1].output)\n",
        "    # Generatorは学習しない\n",
        "    g.trainable = False\n",
        "    # Encoderは学習しない\n",
        "    e.trainable = False\n",
        "    # Noizeを出力するためのレイヤー\n",
        "    e = Model(inputs=e.layers[1].input, outputs=e.layers[-1].output)\n",
        "    # 画像を入力\n",
        "    aInput = Input(shape=img_shape)\n",
        "\n",
        "    # ノイズを生成\n",
        "    E_out = e(aInput)\n",
        "    # ノイズを入力に画像を生成\n",
        "    G_out = g(E_out)\n",
        "    # 画像から特徴量抽出\n",
        "    D_out = intermidiate_model([G_out, E_out])\n",
        "    # 画像と特徴量を出力とするモデルを作成\n",
        "    model = Model(inputs=aInput, outputs=[G_out, D_out])\n",
        "    model.compile(loss=sum_of_residual, loss_weights=loss_weights, optimizer=AnomalyDetectorEncodeParam.adam.value)\n",
        "    \n",
        "    # BatchNormを固定して学習しないようにする\n",
        "    K.set_learning_phase(0)\n",
        "    \n",
        "    return model\n",
        "\n",
        "def compute_anomaly_score_encode(model: Model, intermidiate_model: Model, x: np.array, noise: np.array, d: Model=None, e: Model=None, g: Model=None) -> Tuple[np.asarray, np.asarray,]:\n",
        "    \"\"\"\n",
        "    異常スコアを計算する関数\n",
        "    \n",
        "    Parameters\n",
        "    ----------\n",
        "    model: Model\n",
        "        異常スコアを計算するモデル\n",
        "    intermidiate_model: Model\n",
        "        特徴量を抽出するモデル\n",
        "    x: np.array\n",
        "        検証用画像\n",
        "    noise: np.array\n",
        "        ノイズ\n",
        "    d: Model\n",
        "        識別モデル\n",
        "    e: Model\n",
        "        Encoderモデル\n",
        "    g: Model\n",
        "        生成モデル\n",
        "    \n",
        "    Returns\n",
        "    -------\n",
        "    loss: np.asarray\n",
        "        異常スコア\n",
        "    similar_data: np.asarray\n",
        "        ノイズを調整したモデルにノイズを入力して画像を生成\n",
        "    \"\"\"\n",
        "    # ノイズを生成する\n",
        "    generate_noise = e.predict(x)\n",
        "\n",
        "    # 画像を生成する\n",
        "    generate_image = g.predict(generate_noise)\n",
        "\n",
        "    # 実画像の特徴量抽出\n",
        "    target_d_x = intermidiate_model.predict([x, generate_noise])\n",
        "\n",
        "    # 生成画像の特徴量抽出\n",
        "    d_x = intermidiate_model.predict([generate_image, noise])\n",
        "\n",
        "    # 生成画像を入力として、実画像、実画像＋生成ノイズの特徴量の評価を行う\n",
        "    # loss = model.evaluate(generate_image, [x, target_d_x], batch_size=1, verbose=0)\n",
        "    # ノイズから画像を作成\n",
        "    similar_data, _ = model.predict(generate_image)\n",
        "    # 生成画像を入力として、実画像のロスを導出\n",
        "    loss_image = [np.abs(each_x - g_x) for each_x, g_x in zip(x, generate_image)]\n",
        "    sum_loss_image = np.sum(loss_image)\n",
        "    # 特徴量を入力として、特徴量のロスを導出\n",
        "    loss_feature = [np.abs(each_d_x - each_g_d_x) for each_d_x, each_g_d_x in zip(target_d_x, d_x)]\n",
        "    sum_loss_feature = np.sum(loss_feature)\n",
        "\n",
        "    # 異常スコアを導出\n",
        "    loss = 0.9 * sum_loss_image + 0.1 * sum_loss_feature\n",
        "    # loss = loss.history['loss'][-1]\n",
        "    \n",
        "    return loss, similar_data\n",
        "\n",
        "def anomaly_detection_encode(test_img, noise, g=None, d=None, e=None, model=None, intermidiate_model=None) -> Tuple[np.asarray, np.asarray, np.asarray, np.asarray,]:\n",
        "    \"\"\"\n",
        "    異常スコアを計算する関数(Gneratorの調整、ノイズを複数回発生させる部分を調整)\n",
        "    \n",
        "    Parameters\n",
        "    ----------\n",
        "    test_img: np.asarray\n",
        "        検証用の画像\n",
        "    g: Model\n",
        "        生成モデル\n",
        "    d: Model\n",
        "        識別モデル\n",
        "    e: Model\n",
        "        Encoderモデル\n",
        "    model: Model\n",
        "        異常スコアを計算するモデル\n",
        "    intermidiate_model: Model\n",
        "        特徴量を抽出するモデル\n",
        "\n",
        "    Returns\n",
        "    -------\n",
        "    ano_score: np.asarray\n",
        "        異常スコア\n",
        "    original_x: np.asarray\n",
        "       0-255の画素領域に調整した検証用画像\n",
        "    similiar_x: np.asarray\n",
        "       異常スコアを計算するモデルから生成された画像\n",
        "    show:\n",
        "       検証用画像と生成された画像の差分\n",
        "    \"\"\"\n",
        "        \n",
        "    # 画像のシェイプを取得\n",
        "    test_img_shape = test_img.shape\n",
        "\n",
        "    # テスト画像から異常スコアと類似画像を推定\n",
        "    ano_score, similar_img = compute_anomaly_score_encode(model, intermidiate_model, test_img.reshape(1, test_img_shape[0], test_img_shape[1], test_img_shape[2]), noise, d=d, e=e, g=g)\n",
        "\n",
        "    # 実画像と類似画像の差分を導出\n",
        "    np_residual = test_img.reshape(test_img_shape[0], test_img_shape[1], test_img_shape[2]) - similar_img.reshape(test_img_shape[0], test_img_shape[1], test_img_shape[2])\n",
        "    np_residual = (np_residual + 2) / 4\n",
        "    \n",
        "    # uint8化して255倍する。0-255の画素領域にする\n",
        "    np_residual = (255 * np_residual).astype(np.uint8)\n",
        "    # オリジナルが画像と類似画像も同様に0-255画素領域にする\n",
        "    original_x = (test_img.reshape(test_img_shape[0], test_img_shape[1], test_img_shape[2]) * DataParm.image_size_127_5.value + DataParm.image_size_127_5.value).astype(np.uint8)\n",
        "    similiar_x = (similar_img.reshape(test_img_shape[0], test_img_shape[1], test_img_shape[2]) * DataParm.image_size_127_5.value + DataParm.image_size_127_5.value).astype(np.uint8)\n",
        "    \n",
        "    # GRAYカラー画像に変換\n",
        "    original_x_color = cv2.cvtColor(original_x, cv2.COLOR_GRAY2BGR)\n",
        "    residual_color = cv2.applyColorMap(np_residual, cv2.COLORMAP_JET)\n",
        "    show = cv2.addWeighted(original_x_color, 0.3, residual_color, 0.7, 0.)\n",
        "    \n",
        "    return ano_score, original_x, similiar_x, show"
      ],
      "execution_count": 0,
      "outputs": []
    },
    {
      "cell_type": "markdown",
      "metadata": {
        "id": "ihY69eCz5xd7",
        "colab_type": "text"
      },
      "source": [
        "Generator, Discriminator, Encoderの学習済みモデルを取得"
      ]
    },
    {
      "cell_type": "code",
      "metadata": {
        "id": "FvKDyKuU5xr3",
        "colab_type": "code",
        "colab": {}
      },
      "source": [
        "def load_models_encoder(common_path: str=DataParm.common_path_efficient.value) -> Tuple[Model, Model]:\n",
        "    \"\"\"\n",
        "    学習した生成モデルと識別モデル、Encoderモデルを読み込む\n",
        "    \n",
        "    Parameters\n",
        "    ----------\n",
        "    common_path : str\n",
        "        モデルを読み込むパスを指定\n",
        "\n",
        "    Returns\n",
        "    -------\n",
        "    g: Model\n",
        "        生成モデル\n",
        "    d: Model\n",
        "        識別モデル\n",
        "    \"\"\"\n",
        "    d = load_model(common_path + '/weights/discriminator.h5')\n",
        "    g = load_model(common_path + '/weights/generator.h5')\n",
        "    e = load_model(common_path + '/weights/encoder.h5')\n",
        "    return g, d, e\n",
        "\n",
        "g, d, e  = load_models_encoder()"
      ],
      "execution_count": 0,
      "outputs": []
    },
    {
      "cell_type": "markdown",
      "metadata": {
        "id": "O5rzKLefraJH",
        "colab_type": "text"
      },
      "source": [
        "7のラベルのデータを取得して異常検知性能を測る"
      ]
    },
    {
      "cell_type": "code",
      "metadata": {
        "id": "-lYugZNh7LJV",
        "colab_type": "code",
        "colab": {}
      },
      "source": [
        "img_index = 14\n",
        "label_index = 7\n",
        "test_image = X_test_original[y_test==label_index][img_index]"
      ],
      "execution_count": 0,
      "outputs": []
    },
    {
      "cell_type": "markdown",
      "metadata": {
        "id": "Bbt0ZLj9rfsL",
        "colab_type": "text"
      },
      "source": [
        "異常スコアを計算、モデルから画像を生成する。GPUの性質上、1度めの予測は遅くなる"
      ]
    },
    {
      "cell_type": "code",
      "metadata": {
        "id": "lZLzjNLONEER",
        "colab_type": "code",
        "colab": {}
      },
      "source": [
        "# 異常スコアを計算するモデル\n",
        "model = anomaly_detector_encode(g=g, d=d, e=e)\n",
        "# 特徴量抽出モデルを作成\n",
        "intermidiate_model = feature_extractor_encode(d)"
      ],
      "execution_count": 0,
      "outputs": []
    },
    {
      "cell_type": "markdown",
      "metadata": {
        "id": "1dUV2IHCV1II",
        "colab_type": "text"
      },
      "source": [
        "1度目はGPUの初期化などで遅いので、生成したモデルを再利用して高速に推論する。"
      ]
    },
    {
      "cell_type": "code",
      "metadata": {
        "id": "PhLN7fKqXAms",
        "colab_type": "code",
        "colab": {}
      },
      "source": [
        "%%time\n",
        "\n",
        "noise = np.random.normal(0, 1, size=(1, 10))\n",
        "\n",
        "start = cv2.getTickCount()\n",
        "score, query, pred, diff = anomaly_detection_encode(test_image, noise, g=g, d=d, e=e, model=model, intermidiate_model=intermidiate_model)\n",
        "time = (cv2.getTickCount() - start) / cv2.getTickFrequency() * 100\n",
        "print ('%d label, %d : done'%(label_index, img_index), '%.2f' %score, '%.2fms' %time)"
      ],
      "execution_count": 0,
      "outputs": []
    },
    {
      "cell_type": "code",
      "metadata": {
        "id": "9ShQ0m-4X1Xp",
        "colab_type": "code",
        "colab": {}
      },
      "source": [
        "%%time\n",
        "\n",
        "noise = np.random.normal(0, 1, size=(1, 10))\n",
        "\n",
        "start = cv2.getTickCount()\n",
        "score, query, pred, diff = anomaly_detection_encode(test_image, noise, g=g, d=d, e=e, model=model, intermidiate_model=intermidiate_model)\n",
        "time = (cv2.getTickCount() - start) / cv2.getTickFrequency() * 100\n",
        "print ('%d label, %d : done'%(label_index, img_index), '%.2f' %score, '%.2fms' %time)"
      ],
      "execution_count": 0,
      "outputs": []
    },
    {
      "cell_type": "markdown",
      "metadata": {
        "id": "9jOsZw2O6UFQ",
        "colab_type": "text"
      },
      "source": [
        "入力画像と生成画像とその差分を表示する"
      ]
    },
    {
      "cell_type": "code",
      "metadata": {
        "id": "YwTs90ZE6Mic",
        "colab_type": "code",
        "colab": {}
      },
      "source": [
        "plt.figure(1, figsize=(3, 3))\n",
        "plt.title('query image')\n",
        "plt.imshow(query.reshape(28, 28), cmap=plt.cm.gray)\n",
        "\n",
        "print(\"anomaly score : \", score)\n",
        "plt.figure(2, figsize=(3, 3))\n",
        "plt.title('generated similar image')\n",
        "plt.imshow(pred.reshape(28, 28), cmap=plt.cm.gray)\n",
        "\n",
        "plt.figure(3, figsize=(3, 3))\n",
        "plt.title('anomaly detection')\n",
        "plt.imshow(cv2.cvtColor(diff,cv2.COLOR_BGR2RGB))\n",
        "plt.show()"
      ],
      "execution_count": 0,
      "outputs": []
    },
    {
      "cell_type": "markdown",
      "metadata": {
        "id": "9-rhFvPWr1UC",
        "colab_type": "text"
      },
      "source": [
        "1のラベルのデータを取得して異常検知性能を測る"
      ]
    },
    {
      "cell_type": "code",
      "metadata": {
        "id": "awZeSEvGFvKg",
        "colab_type": "code",
        "colab": {}
      },
      "source": [
        "img_index = 14\n",
        "label_index = 1\n",
        "test_image = X_test_original[y_test==label_index][img_index]"
      ],
      "execution_count": 0,
      "outputs": []
    },
    {
      "cell_type": "markdown",
      "metadata": {
        "id": "dvLUseCpr5fu",
        "colab_type": "text"
      },
      "source": [
        "異常スコアを計算、モデルから画像を生成する"
      ]
    },
    {
      "cell_type": "code",
      "metadata": {
        "id": "FUPFwmjYGRHE",
        "colab_type": "code",
        "colab": {}
      },
      "source": [
        "noise = np.random.normal(0, 1, size=(1, 10))\n",
        "\n",
        "start = cv2.getTickCount()\n",
        "score, query, pred, diff = anomaly_detection_encode(test_image, noise, g=g, d=d, e=e, model=model, intermidiate_model=intermidiate_model)\n",
        "time = (cv2.getTickCount() - start) / cv2.getTickFrequency() * 100\n",
        "print ('%d label, %d : done'%(label_index, img_index), '%.2f' %score, '%.2fms' %time)"
      ],
      "execution_count": 0,
      "outputs": []
    },
    {
      "cell_type": "markdown",
      "metadata": {
        "id": "ZfF25IiPr8u5",
        "colab_type": "text"
      },
      "source": [
        "入力画像と生成画像とその差分を表示する"
      ]
    },
    {
      "cell_type": "code",
      "metadata": {
        "id": "CaW1D8FoGUGm",
        "colab_type": "code",
        "colab": {}
      },
      "source": [
        "plt.figure(1, figsize=(3, 3))\n",
        "plt.title('query image')\n",
        "plt.imshow(query.reshape(28,28), cmap=plt.cm.gray)\n",
        "\n",
        "print(\"anomaly score : \", score)\n",
        "plt.figure(2, figsize=(3, 3))\n",
        "plt.title('generated similar image')\n",
        "plt.imshow(pred.reshape(28,28), cmap=plt.cm.gray)\n",
        "\n",
        "plt.figure(3, figsize=(3, 3))\n",
        "plt.title('anomaly detection')\n",
        "plt.imshow(cv2.cvtColor(diff,cv2.COLOR_BGR2RGB))\n",
        "plt.show()"
      ],
      "execution_count": 0,
      "outputs": []
    },
    {
      "cell_type": "markdown",
      "metadata": {
        "id": "BfGnJneCdtr5",
        "colab_type": "text"
      },
      "source": [
        "# ノイズ画像と1の画像とそれ以外の画像の特徴量空間を観測してみる"
      ]
    },
    {
      "cell_type": "code",
      "metadata": {
        "id": "Etp8oiKPnQyo",
        "colab_type": "code",
        "colab": {}
      },
      "source": [
        "# 28x28x1の画像を100枚作成\n",
        "random_image = np.random.uniform(0, 1, (100, 28, 28, 1))\n",
        "random_noise = np.random.uniform(0, 1, (100, 10))\n",
        "\n",
        "model = feature_extractor_encode()\n",
        "# ランダムな画像から特徴量抽出\n",
        "feature_map_of_random = model.predict([random_image, random_noise], verbose=1)"
      ],
      "execution_count": 0,
      "outputs": []
    },
    {
      "cell_type": "code",
      "metadata": {
        "id": "PFtIFeUhthrF",
        "colab_type": "code",
        "colab": {}
      },
      "source": [
        "generate_noise_other = e.predict(X_test_original[y_test != 1][:300])\n",
        "generate_noise = e.predict(X_test[:100])"
      ],
      "execution_count": 0,
      "outputs": []
    },
    {
      "cell_type": "code",
      "metadata": {
        "id": "xqZZVtL-Gcl4",
        "colab_type": "code",
        "colab": {}
      },
      "source": [
        "# ラベルが1でない画像の特徴量を抽出\n",
        "feature_map_mnist = model.predict([X_test_original[y_test != 1][:300], generate_noise_other], verbose=1)\n",
        "# ラベルが1の画像の特徴量を抽出\n",
        "feature_map_mnist_1 = model.predict([X_test[:100], generate_noise], verbose=1)\n",
        "\n",
        "# 先ほど出力した各特徴量空間を組み合わせる\n",
        "output = np.concatenate((feature_map_of_random, feature_map_mnist, feature_map_mnist_1))\n",
        "print(output.shape)\n",
        "# 最初の次元だけ保って、他の次元は合成される\n",
        "output = output.reshape(output.shape[0], -1)\n",
        "\n",
        "# 特徴量空間を可視化できるように2次元に圧縮\n",
        "X_embedded = TSNE(n_components = 2).fit_transform(output)\n",
        "plt.figure(5)\n",
        "plt.title(\"T-SNE embedding on the feature representation\")\n",
        "plt.scatter(X_embedded[:100, 0], X_embedded[:100, 1], label='random noise(anomaly)')\n",
        "plt.scatter(X_embedded[100:400, 0], X_embedded[100:400, 1], label='mnist(anomaly)')\n",
        "plt.scatter(X_embedded[400:, 0], X_embedded[400:, 1], label='mnist(normal)')\n",
        "plt.legend()\n",
        "plt.show()"
      ],
      "execution_count": 0,
      "outputs": []
    },
    {
      "cell_type": "markdown",
      "metadata": {
        "id": "KiUx_N2RuedG",
        "colab_type": "text"
      },
      "source": [
        "# ROC-AUCの計算\n",
        "\n",
        "学習に使用していないラベル1のデータとそれ以外のデータの異常スコアを用いてROC-AUCを計算する"
      ]
    },
    {
      "cell_type": "code",
      "metadata": {
        "id": "IEWZY00pxM4f",
        "colab_type": "code",
        "colab": {}
      },
      "source": [
        "g, d, e  = load_models_encoder()\n",
        "# 異常スコアを計算するモデル\n",
        "model = anomaly_detector_encode(g=g, d=d, e=e)\n",
        "# 特徴量抽出モデルを作成\n",
        "intermidiate_model = feature_extractor_encode(d)"
      ],
      "execution_count": 0,
      "outputs": []
    },
    {
      "cell_type": "markdown",
      "metadata": {
        "id": "GwvZBBp73A8I",
        "colab_type": "text"
      },
      "source": [
        "ROC-AUCの計算にはTensorBoard使用時には10分程度、時間がかかる"
      ]
    },
    {
      "cell_type": "code",
      "metadata": {
        "id": "SfUz1baUt4wD",
        "colab_type": "code",
        "colab": {}
      },
      "source": [
        "%%time\n",
        "from sklearn.metrics import roc_curve, auc\n",
        "\n",
        "label_index = 1\n",
        "test_image_set = X_test_original[y_test==label_index]\n",
        "test_other_image_set = X_test_original[y_test!=label_index]\n",
        "\n",
        "noise = np.random.normal(0, 1, size=(1, 10))\n",
        "anomaly_score_list = []\n",
        "y_true_list = []\n",
        "\n",
        "# ラベル1の全データセットの異常スコアを計算してlist化\n",
        "for each_test_image in test_image_set:\n",
        "    score, query, pred, diff = anomaly_detection_encode(each_test_image, noise, g=g, d=d, e=e, model=model, intermidiate_model=intermidiate_model)\n",
        "    anomaly_score_list.append(score)\n",
        "    y_true_list.append(0)\n",
        "\n",
        "# ラベル1以外の全データセットの異常スコアを計算してlist化\n",
        "for each_test_image in test_other_image_set:\n",
        "    score, query, pred, diff = anomaly_detection_encode(each_test_image, noise, g=g, d=d, e=e, model=model, intermidiate_model=intermidiate_model)\n",
        "    anomaly_score_list.append(score)\n",
        "    y_true_list.append(1)\n",
        "    \n",
        "# False Positive Rate、True Positive Rateの導出\n",
        "fpr, tpr, threshold = roc_curve(y_true_list, anomaly_score_list)\n",
        "# AUCの値を計算\n",
        "roc_auc = auc(fpr, tpr)"
      ],
      "execution_count": 0,
      "outputs": []
    },
    {
      "cell_type": "code",
      "metadata": {
        "id": "7W__nwknwGrq",
        "colab_type": "code",
        "colab": {}
      },
      "source": [
        "plt.figure()\n",
        "lw = 2\n",
        "plt.plot(fpr, tpr, color='darkorange',\n",
        "         lw=lw, label='ROC curve (area = %0.2f)' % roc_auc)\n",
        "plt.plot([0, 1], [0, 1], color='navy', lw=lw, linestyle='--')\n",
        "plt.xlim([0.0, 1.0])\n",
        "plt.ylim([0.0, 1.05])\n",
        "plt.xlabel('False Positive Rate')\n",
        "plt.ylabel('True Positive Rate')\n",
        "plt.title('Receiver operating characteristic example')\n",
        "plt.legend(loc=\"lower right\")\n",
        "plt.show()"
      ],
      "execution_count": 0,
      "outputs": []
    }
  ]
}