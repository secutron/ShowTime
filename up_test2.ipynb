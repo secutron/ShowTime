{
  "nbformat": 4,
  "nbformat_minor": 0,
  "metadata": {
    "colab": {
      "name": "up-test2.ipynb",
      "provenance": [],
      "collapsed_sections": [],
      "include_colab_link": true
    },
    "kernelspec": {
      "name": "python3",
      "display_name": "Python 3"
    },
    "accelerator": "GPU"
  },
  "cells": [
    {
      "cell_type": "markdown",
      "metadata": {
        "id": "view-in-github",
        "colab_type": "text"
      },
      "source": [
        "<a href=\"https://colab.research.google.com/github/secutron/ShowTime/blob/master/up_test2.ipynb\" target=\"_parent\"><img src=\"https://colab.research.google.com/assets/colab-badge.svg\" alt=\"Open In Colab\"/></a>"
      ]
    },
    {
      "cell_type": "markdown",
      "metadata": {
        "id": "LPFQozwJVsMm",
        "colab_type": "text"
      },
      "source": [
        "Candel, A., Parmar, V., LeDell, E., and Arora, A. (Jun 2020). Deep Learning\n",
        "with H2O. http://h2o.ai/resources."
      ]
    },
    {
      "cell_type": "markdown",
      "metadata": {
        "id": "9ny0ipaPUuY2",
        "colab_type": "text"
      },
      "source": [
        "http://docs.h2o.ai/h2o/latest-stable/h2o-docs/booklets/DeepLearningBooklet.pdf?_ga=2.184768361.1553179602.1592730801-433090902.1592730801\n",
        "\n"
      ]
    },
    {
      "cell_type": "code",
      "metadata": {
        "id": "6xXsZrxWOdZW",
        "colab_type": "code",
        "colab": {
          "base_uri": "https://localhost:8080/",
          "height": 372
        },
        "outputId": "63585dc6-f85f-43cb-eaac-7a1b9896e80f"
      },
      "source": [
        "!nvidia-smi"
      ],
      "execution_count": 1,
      "outputs": [
        {
          "output_type": "stream",
          "text": [
            "Tue Jun 23 06:11:49 2020       \n",
            "+-----------------------------------------------------------------------------+\n",
            "| NVIDIA-SMI 450.36.06    Driver Version: 418.67       CUDA Version: 10.1     |\n",
            "|-------------------------------+----------------------+----------------------+\n",
            "| GPU  Name        Persistence-M| Bus-Id        Disp.A | Volatile Uncorr. ECC |\n",
            "| Fan  Temp  Perf  Pwr:Usage/Cap|         Memory-Usage | GPU-Util  Compute M. |\n",
            "|                               |                      |               MIG M. |\n",
            "|===============================+======================+======================|\n",
            "|   0  Tesla T4            Off  | 00000000:00:04.0 Off |                    0 |\n",
            "| N/A   38C    P8    11W /  70W |      0MiB / 15079MiB |      0%      Default |\n",
            "|                               |                      |                 ERR! |\n",
            "+-------------------------------+----------------------+----------------------+\n",
            "                                                                               \n",
            "+-----------------------------------------------------------------------------+\n",
            "| Processes:                                                                  |\n",
            "|  GPU   GI   CI        PID   Type   Process name                  GPU Memory |\n",
            "|        ID   ID                                                   Usage      |\n",
            "|=============================================================================|\n",
            "|  No running processes found                                                 |\n",
            "+-----------------------------------------------------------------------------+\n"
          ],
          "name": "stdout"
        }
      ]
    },
    {
      "cell_type": "code",
      "metadata": {
        "id": "hcr8LovGKQz0",
        "colab_type": "code",
        "colab": {
          "base_uri": "https://localhost:8080/",
          "height": 230
        },
        "outputId": "4257a6b5-3852-4825-c818-c642e5031df2"
      },
      "source": [
        "!apt-get install default-jre\n",
        "!java -version"
      ],
      "execution_count": 2,
      "outputs": [
        {
          "output_type": "stream",
          "text": [
            "\rReading package lists... 0%\r\rReading package lists... 0%\r\rReading package lists... 0%\r\rReading package lists... 6%\r\rReading package lists... 6%\r\rReading package lists... 6%\r\rReading package lists... 6%\r\rReading package lists... 62%\r\rReading package lists... 62%\r\rReading package lists... 63%\r\rReading package lists... 63%\r\rReading package lists... 71%\r\rReading package lists... 71%\r\rReading package lists... 71%\r\rReading package lists... 71%\r\rReading package lists... 80%\r\rReading package lists... 80%\r\rReading package lists... 80%\r\rReading package lists... 80%\r\rReading package lists... 81%\r\rReading package lists... 81%\r\rReading package lists... 81%\r\rReading package lists... 81%\r\rReading package lists... 87%\r\rReading package lists... 87%\r\rReading package lists... 87%\r\rReading package lists... 87%\r\rReading package lists... 87%\r\rReading package lists... 93%\r\rReading package lists... 93%\r\rReading package lists... 93%\r\rReading package lists... 93%\r\rReading package lists... 93%\r\rReading package lists... 93%\r\rReading package lists... 94%\r\rReading package lists... 94%\r\rReading package lists... 95%\r\rReading package lists... 95%\r\rReading package lists... 98%\r\rReading package lists... 98%\r\rReading package lists... 98%\r\rReading package lists... 98%\r\rReading package lists... Done\r\n",
            "\rBuilding dependency tree... 0%\r\rBuilding dependency tree... 0%\r\rBuilding dependency tree... 50%\r\rBuilding dependency tree... 50%\r\rBuilding dependency tree       \r\n",
            "\rReading state information... 0%\r\rReading state information... 0%\r\rReading state information... Done\r\n",
            "default-jre is already the newest version (2:1.11-68ubuntu1~18.04.1).\n",
            "default-jre set to manually installed.\n",
            "The following package was automatically installed and is no longer required:\n",
            "  libnvidia-common-440\n",
            "Use 'apt autoremove' to remove it.\n",
            "0 upgraded, 0 newly installed, 0 to remove and 59 not upgraded.\n",
            "openjdk version \"11.0.7\" 2020-04-14\n",
            "OpenJDK Runtime Environment (build 11.0.7+10-post-Ubuntu-2ubuntu218.04)\n",
            "OpenJDK 64-Bit Server VM (build 11.0.7+10-post-Ubuntu-2ubuntu218.04, mixed mode, sharing)\n"
          ],
          "name": "stdout"
        }
      ]
    },
    {
      "cell_type": "code",
      "metadata": {
        "id": "cQQX75nNOmlv",
        "colab_type": "code",
        "colab": {
          "base_uri": "https://localhost:8080/",
          "height": 354
        },
        "outputId": "95e5a927-5b3a-42a7-e154-7e6e9e3509cb"
      },
      "source": [
        "!pip install h2o"
      ],
      "execution_count": 3,
      "outputs": [
        {
          "output_type": "stream",
          "text": [
            "Collecting h2o\n",
            "\u001b[?25l  Downloading https://files.pythonhosted.org/packages/e6/7d/3efe10eceb9e4a9e45846f73cbebde95e4076fbad592aca5c5a54c264ce3/h2o-3.30.0.5.tar.gz (128.3MB)\n",
            "\u001b[K     |████████████████████████████████| 128.4MB 95kB/s \n",
            "\u001b[?25hRequirement already satisfied: requests in /usr/local/lib/python3.6/dist-packages (from h2o) (2.23.0)\n",
            "Requirement already satisfied: tabulate in /usr/local/lib/python3.6/dist-packages (from h2o) (0.8.7)\n",
            "Requirement already satisfied: future in /usr/local/lib/python3.6/dist-packages (from h2o) (0.16.0)\n",
            "Collecting colorama>=0.3.8\n",
            "  Downloading https://files.pythonhosted.org/packages/c9/dc/45cdef1b4d119eb96316b3117e6d5708a08029992b2fee2c143c7a0a5cc5/colorama-0.4.3-py2.py3-none-any.whl\n",
            "Requirement already satisfied: idna<3,>=2.5 in /usr/local/lib/python3.6/dist-packages (from requests->h2o) (2.9)\n",
            "Requirement already satisfied: certifi>=2017.4.17 in /usr/local/lib/python3.6/dist-packages (from requests->h2o) (2020.4.5.2)\n",
            "Requirement already satisfied: urllib3!=1.25.0,!=1.25.1,<1.26,>=1.21.1 in /usr/local/lib/python3.6/dist-packages (from requests->h2o) (1.24.3)\n",
            "Requirement already satisfied: chardet<4,>=3.0.2 in /usr/local/lib/python3.6/dist-packages (from requests->h2o) (3.0.4)\n",
            "Building wheels for collected packages: h2o\n",
            "  Building wheel for h2o (setup.py) ... \u001b[?25l\u001b[?25hdone\n",
            "  Created wheel for h2o: filename=h2o-3.30.0.5-py2.py3-none-any.whl size=128410595 sha256=ae33b7d7aff5359f818af0acac5050bb57e973176ba69197d7c9605f119225d0\n",
            "  Stored in directory: /root/.cache/pip/wheels/52/ac/34/be36def52a75ce00aadf2312a66db43e1bb6226e0d4cc51905\n",
            "Successfully built h2o\n",
            "Installing collected packages: colorama, h2o\n",
            "Successfully installed colorama-0.4.3 h2o-3.30.0.5\n"
          ],
          "name": "stdout"
        }
      ]
    },
    {
      "cell_type": "code",
      "metadata": {
        "id": "yUJFHY-2pRU7",
        "colab_type": "code",
        "colab": {
          "base_uri": "https://localhost:8080/",
          "height": 52
        },
        "outputId": "66ccd1dd-899f-4f49-e17c-94068e250deb"
      },
      "source": [
        "import numpy as np\n",
        "import pandas as pd\n",
        "import seaborn as sns\n",
        "import matplotlib\n",
        "import matplotlib.pyplot as plt\n",
        "import urllib\n",
        "import h2o\n",
        "from h2o.automl import H2OAutoML\n",
        "import sys\n",
        "import os\n",
        "\n",
        "import warnings\n",
        "warnings.filterwarnings(\"ignore\")"
      ],
      "execution_count": 4,
      "outputs": [
        {
          "output_type": "stream",
          "text": [
            "/usr/local/lib/python3.6/dist-packages/statsmodels/tools/_testing.py:19: FutureWarning: pandas.util.testing is deprecated. Use the functions in the public API at pandas.testing instead.\n",
            "  import pandas.util.testing as tm\n"
          ],
          "name": "stderr"
        }
      ]
    },
    {
      "cell_type": "code",
      "metadata": {
        "id": "lakpkQGMPUuX",
        "colab_type": "code",
        "colab": {
          "base_uri": "https://localhost:8080/",
          "height": 123
        },
        "outputId": "4cdd9943-2b3a-46ab-e2ff-1e6267525a1e"
      },
      "source": [
        "print('matplotlib: {}'.format(matplotlib.__version__))\n",
        "#print('sklearn: {}'.format(sklearn.__version__))\n",
        "#print('scipy: {}'.format(scipy.__version__))\n",
        "print('seaborn: {}'.format(sns.__version__))\n",
        "print('pandas: {}'.format(pd.__version__))\n",
        "print('numpy: {}'.format(np.__version__))\n",
        "print('sys: {}'.format(sys.version))"
      ],
      "execution_count": 5,
      "outputs": [
        {
          "output_type": "stream",
          "text": [
            "matplotlib: 3.2.2\n",
            "seaborn: 0.10.1\n",
            "pandas: 1.0.5\n",
            "numpy: 1.18.5\n",
            "sys: 3.6.9 (default, Apr 18 2020, 01:56:04) \n",
            "[GCC 8.4.0]\n"
          ],
          "name": "stdout"
        }
      ]
    },
    {
      "cell_type": "code",
      "metadata": {
        "id": "Op3rBhT4O7iA",
        "colab_type": "code",
        "colab": {
          "base_uri": "https://localhost:8080/",
          "height": 482
        },
        "outputId": "ec1147e5-2102-4e41-f523-d945d07d51c3"
      },
      "source": [
        "h2o.init()"
      ],
      "execution_count": 6,
      "outputs": [
        {
          "output_type": "stream",
          "text": [
            "Checking whether there is an H2O instance running at http://localhost:54321 ..... not found.\n",
            "Attempting to start a local H2O server...\n",
            "  Java Version: openjdk version \"11.0.7\" 2020-04-14; OpenJDK Runtime Environment (build 11.0.7+10-post-Ubuntu-2ubuntu218.04); OpenJDK 64-Bit Server VM (build 11.0.7+10-post-Ubuntu-2ubuntu218.04, mixed mode, sharing)\n",
            "  Starting server from /usr/local/lib/python3.6/dist-packages/h2o/backend/bin/h2o.jar\n",
            "  Ice root: /tmp/tmpws0fxkme\n",
            "  JVM stdout: /tmp/tmpws0fxkme/h2o_unknownUser_started_from_python.out\n",
            "  JVM stderr: /tmp/tmpws0fxkme/h2o_unknownUser_started_from_python.err\n",
            "  Server is running at http://127.0.0.1:54321\n",
            "Connecting to H2O server at http://127.0.0.1:54321 ... successful.\n"
          ],
          "name": "stdout"
        },
        {
          "output_type": "display_data",
          "data": {
            "text/html": [
              "<div style=\"overflow:auto\"><table style=\"width:50%\"><tr><td>H2O_cluster_uptime:</td>\n",
              "<td>02 secs</td></tr>\n",
              "<tr><td>H2O_cluster_timezone:</td>\n",
              "<td>Etc/UTC</td></tr>\n",
              "<tr><td>H2O_data_parsing_timezone:</td>\n",
              "<td>UTC</td></tr>\n",
              "<tr><td>H2O_cluster_version:</td>\n",
              "<td>3.30.0.5</td></tr>\n",
              "<tr><td>H2O_cluster_version_age:</td>\n",
              "<td>4 days </td></tr>\n",
              "<tr><td>H2O_cluster_name:</td>\n",
              "<td>H2O_from_python_unknownUser_f6ebon</td></tr>\n",
              "<tr><td>H2O_cluster_total_nodes:</td>\n",
              "<td>1</td></tr>\n",
              "<tr><td>H2O_cluster_free_memory:</td>\n",
              "<td>3.180 Gb</td></tr>\n",
              "<tr><td>H2O_cluster_total_cores:</td>\n",
              "<td>2</td></tr>\n",
              "<tr><td>H2O_cluster_allowed_cores:</td>\n",
              "<td>2</td></tr>\n",
              "<tr><td>H2O_cluster_status:</td>\n",
              "<td>accepting new members, healthy</td></tr>\n",
              "<tr><td>H2O_connection_url:</td>\n",
              "<td>http://127.0.0.1:54321</td></tr>\n",
              "<tr><td>H2O_connection_proxy:</td>\n",
              "<td>{\"http\": null, \"https\": null}</td></tr>\n",
              "<tr><td>H2O_internal_security:</td>\n",
              "<td>False</td></tr>\n",
              "<tr><td>H2O_API_Extensions:</td>\n",
              "<td>Amazon S3, XGBoost, Algos, AutoML, Core V3, TargetEncoder, Core V4</td></tr>\n",
              "<tr><td>Python_version:</td>\n",
              "<td>3.6.9 final</td></tr></table></div>"
            ],
            "text/plain": [
              "--------------------------  ------------------------------------------------------------------\n",
              "H2O_cluster_uptime:         02 secs\n",
              "H2O_cluster_timezone:       Etc/UTC\n",
              "H2O_data_parsing_timezone:  UTC\n",
              "H2O_cluster_version:        3.30.0.5\n",
              "H2O_cluster_version_age:    4 days\n",
              "H2O_cluster_name:           H2O_from_python_unknownUser_f6ebon\n",
              "H2O_cluster_total_nodes:    1\n",
              "H2O_cluster_free_memory:    3.180 Gb\n",
              "H2O_cluster_total_cores:    2\n",
              "H2O_cluster_allowed_cores:  2\n",
              "H2O_cluster_status:         accepting new members, healthy\n",
              "H2O_connection_url:         http://127.0.0.1:54321\n",
              "H2O_connection_proxy:       {\"http\": null, \"https\": null}\n",
              "H2O_internal_security:      False\n",
              "H2O_API_Extensions:         Amazon S3, XGBoost, Algos, AutoML, Core V3, TargetEncoder, Core V4\n",
              "Python_version:             3.6.9 final\n",
              "--------------------------  ------------------------------------------------------------------"
            ]
          },
          "metadata": {
            "tags": []
          }
        }
      ]
    },
    {
      "cell_type": "code",
      "metadata": {
        "id": "nQ1vIt3iR2s-",
        "colab_type": "code",
        "colab": {}
      },
      "source": [
        "# Get help\n",
        "#help(h2o.estimators.glm.H2OGeneralizedLinearEstimator)\n",
        "#help(h2o.estimators.gbm.H2OGradientBoostingEstimator)\n",
        "#help(h2o.estimators.deeplearning.H2ODeepLearningEstimator)\n",
        "\n",
        "# Show a demo\n",
        "#h2o.demo(\"glm\")\n",
        "#h2o.demo(\"gbm\")\n",
        "#h2o.demo(\"deeplearning\")"
      ],
      "execution_count": 7,
      "outputs": []
    },
    {
      "cell_type": "markdown",
      "metadata": {
        "id": "DsQdgsFMT9er",
        "colab_type": "text"
      },
      "source": [
        "### 여러 파일 준비"
      ]
    },
    {
      "cell_type": "code",
      "metadata": {
        "id": "G6d0229RT7_v",
        "colab_type": "code",
        "colab": {}
      },
      "source": [
        "BASE_DIR = '/content'\n",
        "#OUTPUT_FILE = os.path.join(BASE_DIR, 'tmp.csv')\n",
        "\n",
        "#hkim_data=urllib.request.urlretrieve('http://archive.ics.uci.edu/ml/machine-learning-databases/credit-screening/crx.data', OUTPUT_FILE)\n",
        "\n",
        "# 드라이브 전체공유 후..\n",
        "\n",
        "# column_2C_weka.csv\n",
        "#hkim_data=urllib.request.urlretrieve('https://drive.google.com/uc?export=download&id=1oMEvI6gWC4ZAqssQ3s3j6RkWUPa_TSwY', OUTPUT_FILE)\n",
        "\n",
        "#churn_df = h2o.import_file('https://raw.githubusercontent.com/srivatsan88/YouTubeLI/master/dataset/WA_Fn-UseC_-Telco-Customer-Churn.csv')"
      ],
      "execution_count": 8,
      "outputs": []
    },
    {
      "cell_type": "code",
      "metadata": {
        "id": "H91Teg5Fhuyk",
        "colab_type": "code",
        "colab": {
          "base_uri": "https://localhost:8080/",
          "height": 34
        },
        "outputId": "37d18413-72d5-45ae-add2-af1648027c66"
      },
      "source": [
        "OUTPUT_FILE = os.path.join(BASE_DIR, 'QMS_merge_sort_ALL.csv')\n",
        "df = pd.read_csv(OUTPUT_FILE, delimiter = ',')\n",
        "df.shape"
      ],
      "execution_count": 9,
      "outputs": [
        {
          "output_type": "execute_result",
          "data": {
            "text/plain": [
              "(266667, 31)"
            ]
          },
          "metadata": {
            "tags": []
          },
          "execution_count": 9
        }
      ]
    },
    {
      "cell_type": "code",
      "metadata": {
        "id": "AIXgD_vmo8ZQ",
        "colab_type": "code",
        "colab": {
          "base_uri": "https://localhost:8080/",
          "height": 384
        },
        "outputId": "01cd67e8-2e5d-4b7e-dce3-391b25da5955"
      },
      "source": [
        "df.head()"
      ],
      "execution_count": 10,
      "outputs": [
        {
          "output_type": "execute_result",
          "data": {
            "text/html": [
              "<div>\n",
              "<style scoped>\n",
              "    .dataframe tbody tr th:only-of-type {\n",
              "        vertical-align: middle;\n",
              "    }\n",
              "\n",
              "    .dataframe tbody tr th {\n",
              "        vertical-align: top;\n",
              "    }\n",
              "\n",
              "    .dataframe thead th {\n",
              "        text-align: right;\n",
              "    }\n",
              "</style>\n",
              "<table border=\"1\" class=\"dataframe\">\n",
              "  <thead>\n",
              "    <tr style=\"text-align: right;\">\n",
              "      <th></th>\n",
              "      <th>Unnamed: 0</th>\n",
              "      <th>a1.ucube_jnr_no</th>\n",
              "      <th>a2.firstlogtime</th>\n",
              "      <th>a2.lastlogtime</th>\n",
              "      <th>a2.errtype</th>\n",
              "      <th>a2.errtype_nm</th>\n",
              "      <th>a2.cust_num</th>\n",
              "      <th>a2.model_mac</th>\n",
              "      <th>a2.buffer_overflow</th>\n",
              "      <th>a2.pcr_lock_status</th>\n",
              "      <th>a2.pts_advanced_error</th>\n",
              "      <th>a2.lost_packet_count</th>\n",
              "      <th>a2.packet_loss_period</th>\n",
              "      <th>a2.stb_rtp_errcnt</th>\n",
              "      <th>a2.no_stream_error</th>\n",
              "      <th>a2.stb_firmware_version</th>\n",
              "      <th>a2.no_stream_error_sum</th>\n",
              "      <th>a2.pcr_lock_status_sum</th>\n",
              "      <th>a2.pts_advanced_error_sum</th>\n",
              "      <th>a2.stb_rtp_errcnt_sum</th>\n",
              "      <th>a2.logtime</th>\n",
              "      <th>a2.not_decoding_error</th>\n",
              "      <th>a2.not_decoding_error_sum</th>\n",
              "      <th>a2.mday</th>\n",
              "      <th>a2.bdp_load_dttm</th>\n",
              "      <th>a2.bdp_load_user_id</th>\n",
              "      <th>a2.p_basis_yyyy</th>\n",
              "      <th>a2.p_basis_mm</th>\n",
              "      <th>a2.p_basis_dd</th>\n",
              "      <th>a2.p_basis_hh</th>\n",
              "      <th>a2.model_nm</th>\n",
              "    </tr>\n",
              "  </thead>\n",
              "  <tbody>\n",
              "    <tr>\n",
              "      <th>0</th>\n",
              "      <td>761343</td>\n",
              "      <td>0016CF82DEDAE7D04E204280145D53AC20D56E87</td>\n",
              "      <td>2020-06-01 05:00:00.000000</td>\n",
              "      <td>2020-06-01 05:00:00.000000</td>\n",
              "      <td>26.0</td>\n",
              "      <td>1일 1회 주기로 최신 업데이트된 리모컨 진단 정보 전송</td>\n",
              "      <td>NaN</td>\n",
              "      <td>NaN</td>\n",
              "      <td>NaN</td>\n",
              "      <td>NaN</td>\n",
              "      <td>NaN</td>\n",
              "      <td>NaN</td>\n",
              "      <td>NaN</td>\n",
              "      <td>NaN</td>\n",
              "      <td>NaN</td>\n",
              "      <td>NaN</td>\n",
              "      <td>NaN</td>\n",
              "      <td>NaN</td>\n",
              "      <td>NaN</td>\n",
              "      <td>NaN</td>\n",
              "      <td>NaN</td>\n",
              "      <td>NaN</td>\n",
              "      <td>NaN</td>\n",
              "      <td>2020-06-01 05:00:00.000000</td>\n",
              "      <td>2020-06-01 05:15:41.676770</td>\n",
              "      <td>NaN</td>\n",
              "      <td>NaN</td>\n",
              "      <td>NaN</td>\n",
              "      <td>NaN</td>\n",
              "      <td>NaN</td>\n",
              "      <td>S60UPI</td>\n",
              "    </tr>\n",
              "    <tr>\n",
              "      <th>1</th>\n",
              "      <td>633634</td>\n",
              "      <td>0016CF82DEDAE7D04E204280145D53AC20D56E87</td>\n",
              "      <td>2020-06-01 05:00:01.000000</td>\n",
              "      <td>2020-06-01 05:00:01.000000</td>\n",
              "      <td>16.0</td>\n",
              "      <td>SLEEP To Active 모드 전환</td>\n",
              "      <td>NaN</td>\n",
              "      <td>NaN</td>\n",
              "      <td>NaN</td>\n",
              "      <td>NaN</td>\n",
              "      <td>NaN</td>\n",
              "      <td>NaN</td>\n",
              "      <td>NaN</td>\n",
              "      <td>NaN</td>\n",
              "      <td>NaN</td>\n",
              "      <td>NaN</td>\n",
              "      <td>NaN</td>\n",
              "      <td>NaN</td>\n",
              "      <td>NaN</td>\n",
              "      <td>NaN</td>\n",
              "      <td>NaN</td>\n",
              "      <td>NaN</td>\n",
              "      <td>NaN</td>\n",
              "      <td>2020-06-01 05:00:01.000000</td>\n",
              "      <td>2020-06-01 05:15:41.676770</td>\n",
              "      <td>NaN</td>\n",
              "      <td>NaN</td>\n",
              "      <td>NaN</td>\n",
              "      <td>NaN</td>\n",
              "      <td>NaN</td>\n",
              "      <td>S60UPI</td>\n",
              "    </tr>\n",
              "    <tr>\n",
              "      <th>2</th>\n",
              "      <td>761344</td>\n",
              "      <td>0016CF82DEDAE7D04E204280145D53AC20D56E87</td>\n",
              "      <td>2020-06-01 05:00:02.000000</td>\n",
              "      <td>2020-06-01 05:00:02.000000</td>\n",
              "      <td>31.0</td>\n",
              "      <td>HDMI 연결상태 변경</td>\n",
              "      <td>NaN</td>\n",
              "      <td>NaN</td>\n",
              "      <td>NaN</td>\n",
              "      <td>NaN</td>\n",
              "      <td>NaN</td>\n",
              "      <td>NaN</td>\n",
              "      <td>NaN</td>\n",
              "      <td>NaN</td>\n",
              "      <td>NaN</td>\n",
              "      <td>NaN</td>\n",
              "      <td>NaN</td>\n",
              "      <td>NaN</td>\n",
              "      <td>NaN</td>\n",
              "      <td>NaN</td>\n",
              "      <td>NaN</td>\n",
              "      <td>NaN</td>\n",
              "      <td>NaN</td>\n",
              "      <td>2020-06-01 05:00:02.000000</td>\n",
              "      <td>2020-06-01 05:15:41.676770</td>\n",
              "      <td>NaN</td>\n",
              "      <td>NaN</td>\n",
              "      <td>NaN</td>\n",
              "      <td>NaN</td>\n",
              "      <td>NaN</td>\n",
              "      <td>S60UPI</td>\n",
              "    </tr>\n",
              "    <tr>\n",
              "      <th>3</th>\n",
              "      <td>761345</td>\n",
              "      <td>0016CF82DEDAE7D04E204280145D53AC20D56E87</td>\n",
              "      <td>2020-06-01 05:00:13.000000</td>\n",
              "      <td>2020-06-01 05:00:13.000000</td>\n",
              "      <td>31.0</td>\n",
              "      <td>HDMI 연결상태 변경</td>\n",
              "      <td>NaN</td>\n",
              "      <td>NaN</td>\n",
              "      <td>NaN</td>\n",
              "      <td>NaN</td>\n",
              "      <td>NaN</td>\n",
              "      <td>NaN</td>\n",
              "      <td>NaN</td>\n",
              "      <td>NaN</td>\n",
              "      <td>NaN</td>\n",
              "      <td>NaN</td>\n",
              "      <td>NaN</td>\n",
              "      <td>NaN</td>\n",
              "      <td>NaN</td>\n",
              "      <td>NaN</td>\n",
              "      <td>NaN</td>\n",
              "      <td>NaN</td>\n",
              "      <td>NaN</td>\n",
              "      <td>2020-06-01 05:00:14.000000</td>\n",
              "      <td>2020-06-01 05:15:41.676770</td>\n",
              "      <td>NaN</td>\n",
              "      <td>NaN</td>\n",
              "      <td>NaN</td>\n",
              "      <td>NaN</td>\n",
              "      <td>NaN</td>\n",
              "      <td>S60UPI</td>\n",
              "    </tr>\n",
              "    <tr>\n",
              "      <th>4</th>\n",
              "      <td>633635</td>\n",
              "      <td>0016CF82DEDAE7D04E204280145D53AC20D56E87</td>\n",
              "      <td>2020-06-01 17:08:45.000000</td>\n",
              "      <td>2020-06-01 17:08:45.000000</td>\n",
              "      <td>16.0</td>\n",
              "      <td>SLEEP To Active 모드 전환</td>\n",
              "      <td>NaN</td>\n",
              "      <td>NaN</td>\n",
              "      <td>NaN</td>\n",
              "      <td>NaN</td>\n",
              "      <td>NaN</td>\n",
              "      <td>NaN</td>\n",
              "      <td>NaN</td>\n",
              "      <td>NaN</td>\n",
              "      <td>NaN</td>\n",
              "      <td>NaN</td>\n",
              "      <td>NaN</td>\n",
              "      <td>NaN</td>\n",
              "      <td>NaN</td>\n",
              "      <td>NaN</td>\n",
              "      <td>NaN</td>\n",
              "      <td>NaN</td>\n",
              "      <td>NaN</td>\n",
              "      <td>2020-06-01 17:08:45.000000</td>\n",
              "      <td>2020-06-01 17:15:47.098461</td>\n",
              "      <td>NaN</td>\n",
              "      <td>NaN</td>\n",
              "      <td>NaN</td>\n",
              "      <td>NaN</td>\n",
              "      <td>NaN</td>\n",
              "      <td>S60UPI</td>\n",
              "    </tr>\n",
              "  </tbody>\n",
              "</table>\n",
              "</div>"
            ],
            "text/plain": [
              "   Unnamed: 0  ... a2.model_nm\n",
              "0      761343  ...      S60UPI\n",
              "1      633634  ...      S60UPI\n",
              "2      761344  ...      S60UPI\n",
              "3      761345  ...      S60UPI\n",
              "4      633635  ...      S60UPI\n",
              "\n",
              "[5 rows x 31 columns]"
            ]
          },
          "metadata": {
            "tags": []
          },
          "execution_count": 10
        }
      ]
    },
    {
      "cell_type": "code",
      "metadata": {
        "id": "ixDlgF3kp3zM",
        "colab_type": "code",
        "colab": {
          "base_uri": "https://localhost:8080/",
          "height": 601
        },
        "outputId": "78674368-49e4-4e6d-c4aa-8254ab939beb"
      },
      "source": [
        "hdf = h2o.import_file(OUTPUT_FILE)\n",
        "hdf.head()"
      ],
      "execution_count": 11,
      "outputs": [
        {
          "output_type": "stream",
          "text": [
            "Parse progress: |█████████████████████████████████████████████████████████| 100%\n"
          ],
          "name": "stdout"
        },
        {
          "output_type": "display_data",
          "data": {
            "text/html": [
              "<table>\n",
              "<thead>\n",
              "<tr><th style=\"text-align: right;\">    C1</th><th>a1.ucube_jnr_no                         </th><th>a2.firstlogtime    </th><th>a2.lastlogtime     </th><th style=\"text-align: right;\">  a2.errtype</th><th>a2.errtype_nm                                       </th><th>a2.cust_num  </th><th>a2.model_mac  </th><th style=\"text-align: right;\">  a2.buffer_overflow</th><th style=\"text-align: right;\">  a2.pcr_lock_status</th><th style=\"text-align: right;\">  a2.pts_advanced_error</th><th style=\"text-align: right;\">  a2.lost_packet_count</th><th style=\"text-align: right;\">  a2.packet_loss_period</th><th style=\"text-align: right;\">  a2.stb_rtp_errcnt</th><th style=\"text-align: right;\">  a2.no_stream_error</th><th>a2.stb_firmware_version  </th><th style=\"text-align: right;\">  a2.no_stream_error_sum</th><th style=\"text-align: right;\">  a2.pcr_lock_status_sum</th><th style=\"text-align: right;\">  a2.pts_advanced_error_sum</th><th style=\"text-align: right;\">  a2.stb_rtp_errcnt_sum</th><th style=\"text-align: right;\">  a2.logtime</th><th style=\"text-align: right;\">  a2.not_decoding_error</th><th style=\"text-align: right;\">  a2.not_decoding_error_sum</th><th>a2.mday            </th><th>a2.bdp_load_dttm   </th><th>a2.bdp_load_user_id  </th><th style=\"text-align: right;\">  a2.p_basis_yyyy</th><th style=\"text-align: right;\">  a2.p_basis_mm</th><th style=\"text-align: right;\">  a2.p_basis_dd</th><th style=\"text-align: right;\">  a2.p_basis_hh</th><th>a2.model_nm  </th></tr>\n",
              "</thead>\n",
              "<tbody>\n",
              "<tr><td style=\"text-align: right;\">761343</td><td>0016CF82DEDAE7D04E204280145D53AC20D56E87</td><td>2020-06-01 05:00:00</td><td>2020-06-01 05:00:00</td><td style=\"text-align: right;\">          26</td><td>1일 1회 주기로 최신 업데이트된 리모컨 진단 정보 전송</td><td>             </td><td>              </td><td style=\"text-align: right;\">                 nan</td><td style=\"text-align: right;\">                 nan</td><td style=\"text-align: right;\">                    nan</td><td style=\"text-align: right;\">                   nan</td><td style=\"text-align: right;\">                    nan</td><td style=\"text-align: right;\">                nan</td><td style=\"text-align: right;\">                 nan</td><td>                         </td><td style=\"text-align: right;\">                     nan</td><td style=\"text-align: right;\">                     nan</td><td style=\"text-align: right;\">                        nan</td><td style=\"text-align: right;\">                    nan</td><td style=\"text-align: right;\">         nan</td><td style=\"text-align: right;\">                    nan</td><td style=\"text-align: right;\">                        nan</td><td>2020-06-01 05:00:00</td><td>2020-06-01 05:15:41</td><td>                     </td><td style=\"text-align: right;\">              nan</td><td style=\"text-align: right;\">            nan</td><td style=\"text-align: right;\">            nan</td><td style=\"text-align: right;\">            nan</td><td>S60UPI       </td></tr>\n",
              "<tr><td style=\"text-align: right;\">633634</td><td>0016CF82DEDAE7D04E204280145D53AC20D56E87</td><td>2020-06-01 05:00:01</td><td>2020-06-01 05:00:01</td><td style=\"text-align: right;\">          16</td><td>SLEEP To Active 모드 전환                           </td><td>             </td><td>              </td><td style=\"text-align: right;\">                 nan</td><td style=\"text-align: right;\">                 nan</td><td style=\"text-align: right;\">                    nan</td><td style=\"text-align: right;\">                   nan</td><td style=\"text-align: right;\">                    nan</td><td style=\"text-align: right;\">                nan</td><td style=\"text-align: right;\">                 nan</td><td>                         </td><td style=\"text-align: right;\">                     nan</td><td style=\"text-align: right;\">                     nan</td><td style=\"text-align: right;\">                        nan</td><td style=\"text-align: right;\">                    nan</td><td style=\"text-align: right;\">         nan</td><td style=\"text-align: right;\">                    nan</td><td style=\"text-align: right;\">                        nan</td><td>2020-06-01 05:00:01</td><td>2020-06-01 05:15:41</td><td>                     </td><td style=\"text-align: right;\">              nan</td><td style=\"text-align: right;\">            nan</td><td style=\"text-align: right;\">            nan</td><td style=\"text-align: right;\">            nan</td><td>S60UPI       </td></tr>\n",
              "<tr><td style=\"text-align: right;\">761344</td><td>0016CF82DEDAE7D04E204280145D53AC20D56E87</td><td>2020-06-01 05:00:02</td><td>2020-06-01 05:00:02</td><td style=\"text-align: right;\">          31</td><td>HDMI 연결상태 변경                                  </td><td>             </td><td>              </td><td style=\"text-align: right;\">                 nan</td><td style=\"text-align: right;\">                 nan</td><td style=\"text-align: right;\">                    nan</td><td style=\"text-align: right;\">                   nan</td><td style=\"text-align: right;\">                    nan</td><td style=\"text-align: right;\">                nan</td><td style=\"text-align: right;\">                 nan</td><td>                         </td><td style=\"text-align: right;\">                     nan</td><td style=\"text-align: right;\">                     nan</td><td style=\"text-align: right;\">                        nan</td><td style=\"text-align: right;\">                    nan</td><td style=\"text-align: right;\">         nan</td><td style=\"text-align: right;\">                    nan</td><td style=\"text-align: right;\">                        nan</td><td>2020-06-01 05:00:02</td><td>2020-06-01 05:15:41</td><td>                     </td><td style=\"text-align: right;\">              nan</td><td style=\"text-align: right;\">            nan</td><td style=\"text-align: right;\">            nan</td><td style=\"text-align: right;\">            nan</td><td>S60UPI       </td></tr>\n",
              "<tr><td style=\"text-align: right;\">761345</td><td>0016CF82DEDAE7D04E204280145D53AC20D56E87</td><td>2020-06-01 05:00:13</td><td>2020-06-01 05:00:13</td><td style=\"text-align: right;\">          31</td><td>HDMI 연결상태 변경                                  </td><td>             </td><td>              </td><td style=\"text-align: right;\">                 nan</td><td style=\"text-align: right;\">                 nan</td><td style=\"text-align: right;\">                    nan</td><td style=\"text-align: right;\">                   nan</td><td style=\"text-align: right;\">                    nan</td><td style=\"text-align: right;\">                nan</td><td style=\"text-align: right;\">                 nan</td><td>                         </td><td style=\"text-align: right;\">                     nan</td><td style=\"text-align: right;\">                     nan</td><td style=\"text-align: right;\">                        nan</td><td style=\"text-align: right;\">                    nan</td><td style=\"text-align: right;\">         nan</td><td style=\"text-align: right;\">                    nan</td><td style=\"text-align: right;\">                        nan</td><td>2020-06-01 05:00:14</td><td>2020-06-01 05:15:41</td><td>                     </td><td style=\"text-align: right;\">              nan</td><td style=\"text-align: right;\">            nan</td><td style=\"text-align: right;\">            nan</td><td style=\"text-align: right;\">            nan</td><td>S60UPI       </td></tr>\n",
              "<tr><td style=\"text-align: right;\">633635</td><td>0016CF82DEDAE7D04E204280145D53AC20D56E87</td><td>2020-06-01 17:08:45</td><td>2020-06-01 17:08:45</td><td style=\"text-align: right;\">          16</td><td>SLEEP To Active 모드 전환                           </td><td>             </td><td>              </td><td style=\"text-align: right;\">                 nan</td><td style=\"text-align: right;\">                 nan</td><td style=\"text-align: right;\">                    nan</td><td style=\"text-align: right;\">                   nan</td><td style=\"text-align: right;\">                    nan</td><td style=\"text-align: right;\">                nan</td><td style=\"text-align: right;\">                 nan</td><td>                         </td><td style=\"text-align: right;\">                     nan</td><td style=\"text-align: right;\">                     nan</td><td style=\"text-align: right;\">                        nan</td><td style=\"text-align: right;\">                    nan</td><td style=\"text-align: right;\">         nan</td><td style=\"text-align: right;\">                    nan</td><td style=\"text-align: right;\">                        nan</td><td>2020-06-01 17:08:45</td><td>2020-06-01 17:15:47</td><td>                     </td><td style=\"text-align: right;\">              nan</td><td style=\"text-align: right;\">            nan</td><td style=\"text-align: right;\">            nan</td><td style=\"text-align: right;\">            nan</td><td>S60UPI       </td></tr>\n",
              "<tr><td style=\"text-align: right;\">761346</td><td>0016CF82DEDAE7D04E204280145D53AC20D56E87</td><td>2020-06-01 17:08:45</td><td>2020-06-01 17:08:45</td><td style=\"text-align: right;\">          31</td><td>HDMI 연결상태 변경                                  </td><td>             </td><td>              </td><td style=\"text-align: right;\">                 nan</td><td style=\"text-align: right;\">                 nan</td><td style=\"text-align: right;\">                    nan</td><td style=\"text-align: right;\">                   nan</td><td style=\"text-align: right;\">                    nan</td><td style=\"text-align: right;\">                nan</td><td style=\"text-align: right;\">                 nan</td><td>                         </td><td style=\"text-align: right;\">                     nan</td><td style=\"text-align: right;\">                     nan</td><td style=\"text-align: right;\">                        nan</td><td style=\"text-align: right;\">                    nan</td><td style=\"text-align: right;\">         nan</td><td style=\"text-align: right;\">                    nan</td><td style=\"text-align: right;\">                        nan</td><td>2020-06-01 17:08:46</td><td>2020-06-01 17:15:47</td><td>                     </td><td style=\"text-align: right;\">              nan</td><td style=\"text-align: right;\">            nan</td><td style=\"text-align: right;\">            nan</td><td style=\"text-align: right;\">            nan</td><td>S60UPI       </td></tr>\n",
              "<tr><td style=\"text-align: right;\">761347</td><td>0016CF82DEDAE7D04E204280145D53AC20D56E87</td><td>2020-06-01 17:08:51</td><td>2020-06-01 17:08:51</td><td style=\"text-align: right;\">          38</td><td>채널 전환 지연                                      </td><td>             </td><td>              </td><td style=\"text-align: right;\">                 nan</td><td style=\"text-align: right;\">                 nan</td><td style=\"text-align: right;\">                    nan</td><td style=\"text-align: right;\">                   nan</td><td style=\"text-align: right;\">                    nan</td><td style=\"text-align: right;\">                nan</td><td style=\"text-align: right;\">                 nan</td><td>                         </td><td style=\"text-align: right;\">                     nan</td><td style=\"text-align: right;\">                     nan</td><td style=\"text-align: right;\">                        nan</td><td style=\"text-align: right;\">                    nan</td><td style=\"text-align: right;\">         nan</td><td style=\"text-align: right;\">                    nan</td><td style=\"text-align: right;\">                        nan</td><td>2020-06-01 17:08:52</td><td>2020-06-01 17:15:47</td><td>                     </td><td style=\"text-align: right;\">              nan</td><td style=\"text-align: right;\">            nan</td><td style=\"text-align: right;\">            nan</td><td style=\"text-align: right;\">            nan</td><td>S60UPI       </td></tr>\n",
              "<tr><td style=\"text-align: right;\">633636</td><td>0016CF82DEDAE7D04E204280145D53AC20D56E87</td><td>2020-06-01 17:09:11</td><td>2020-06-01 17:09:11</td><td style=\"text-align: right;\">          11</td><td>ethernet  port up                                   </td><td>             </td><td>              </td><td style=\"text-align: right;\">                 nan</td><td style=\"text-align: right;\">                 nan</td><td style=\"text-align: right;\">                    nan</td><td style=\"text-align: right;\">                   nan</td><td style=\"text-align: right;\">                    nan</td><td style=\"text-align: right;\">                nan</td><td style=\"text-align: right;\">                 nan</td><td>                         </td><td style=\"text-align: right;\">                     nan</td><td style=\"text-align: right;\">                     nan</td><td style=\"text-align: right;\">                        nan</td><td style=\"text-align: right;\">                    nan</td><td style=\"text-align: right;\">         nan</td><td style=\"text-align: right;\">                    nan</td><td style=\"text-align: right;\">                        nan</td><td>2020-06-01 17:09:11</td><td>2020-06-01 17:15:47</td><td>                     </td><td style=\"text-align: right;\">              nan</td><td style=\"text-align: right;\">            nan</td><td style=\"text-align: right;\">            nan</td><td style=\"text-align: right;\">            nan</td><td>S60UPI       </td></tr>\n",
              "<tr><td style=\"text-align: right;\">633637</td><td>0016CF82DEDAE7D04E204280145D53AC20D56E87</td><td>2020-06-01 17:09:11</td><td>2020-06-01 17:09:11</td><td style=\"text-align: right;\">          12</td><td>DHCP 서버로부터 IP 획득 성공                        </td><td>             </td><td>              </td><td style=\"text-align: right;\">                 nan</td><td style=\"text-align: right;\">                 nan</td><td style=\"text-align: right;\">                    nan</td><td style=\"text-align: right;\">                   nan</td><td style=\"text-align: right;\">                    nan</td><td style=\"text-align: right;\">                nan</td><td style=\"text-align: right;\">                 nan</td><td>                         </td><td style=\"text-align: right;\">                     nan</td><td style=\"text-align: right;\">                     nan</td><td style=\"text-align: right;\">                        nan</td><td style=\"text-align: right;\">                    nan</td><td style=\"text-align: right;\">         nan</td><td style=\"text-align: right;\">                    nan</td><td style=\"text-align: right;\">                        nan</td><td>2020-06-01 17:09:11</td><td>2020-06-01 17:15:47</td><td>                     </td><td style=\"text-align: right;\">              nan</td><td style=\"text-align: right;\">            nan</td><td style=\"text-align: right;\">            nan</td><td style=\"text-align: right;\">            nan</td><td>S60UPI       </td></tr>\n",
              "<tr><td style=\"text-align: right;\">761348</td><td>0016CF82DEDAE7D04E204280145D53AC20D56E87</td><td>2020-06-01 17:09:26</td><td>2020-06-01 17:09:26</td><td style=\"text-align: right;\">          22</td><td>BT 연결 CONNECTED                                   </td><td>             </td><td>              </td><td style=\"text-align: right;\">                 nan</td><td style=\"text-align: right;\">                 nan</td><td style=\"text-align: right;\">                    nan</td><td style=\"text-align: right;\">                   nan</td><td style=\"text-align: right;\">                    nan</td><td style=\"text-align: right;\">                nan</td><td style=\"text-align: right;\">                 nan</td><td>                         </td><td style=\"text-align: right;\">                     nan</td><td style=\"text-align: right;\">                     nan</td><td style=\"text-align: right;\">                        nan</td><td style=\"text-align: right;\">                    nan</td><td style=\"text-align: right;\">         nan</td><td style=\"text-align: right;\">                    nan</td><td style=\"text-align: right;\">                        nan</td><td>2020-06-01 17:09:26</td><td>2020-06-01 17:15:47</td><td>                     </td><td style=\"text-align: right;\">              nan</td><td style=\"text-align: right;\">            nan</td><td style=\"text-align: right;\">            nan</td><td style=\"text-align: right;\">            nan</td><td>S60UPI       </td></tr>\n",
              "</tbody>\n",
              "</table>"
            ]
          },
          "metadata": {
            "tags": []
          }
        },
        {
          "output_type": "execute_result",
          "data": {
            "text/plain": [
              ""
            ]
          },
          "metadata": {
            "tags": []
          },
          "execution_count": 11
        }
      ]
    },
    {
      "cell_type": "code",
      "metadata": {
        "id": "Cx-9C11cpXeR",
        "colab_type": "code",
        "colab": {
          "base_uri": "https://localhost:8080/",
          "height": 567
        },
        "outputId": "e913fc24-e607-4c36-ea42-4adcc6b8c974"
      },
      "source": [
        "#df.types\n",
        "hdf.types"
      ],
      "execution_count": 12,
      "outputs": [
        {
          "output_type": "execute_result",
          "data": {
            "text/plain": [
              "{'C1': 'int',\n",
              " 'a1.ucube_jnr_no': 'enum',\n",
              " 'a2.bdp_load_dttm': 'time',\n",
              " 'a2.bdp_load_user_id': 'enum',\n",
              " 'a2.buffer_overflow': 'int',\n",
              " 'a2.cust_num': 'enum',\n",
              " 'a2.errtype': 'int',\n",
              " 'a2.errtype_nm': 'enum',\n",
              " 'a2.firstlogtime': 'time',\n",
              " 'a2.lastlogtime': 'time',\n",
              " 'a2.logtime': 'int',\n",
              " 'a2.lost_packet_count': 'int',\n",
              " 'a2.mday': 'time',\n",
              " 'a2.model_mac': 'enum',\n",
              " 'a2.model_nm': 'enum',\n",
              " 'a2.no_stream_error': 'int',\n",
              " 'a2.no_stream_error_sum': 'int',\n",
              " 'a2.not_decoding_error': 'int',\n",
              " 'a2.not_decoding_error_sum': 'int',\n",
              " 'a2.p_basis_dd': 'int',\n",
              " 'a2.p_basis_hh': 'int',\n",
              " 'a2.p_basis_mm': 'int',\n",
              " 'a2.p_basis_yyyy': 'int',\n",
              " 'a2.packet_loss_period': 'int',\n",
              " 'a2.pcr_lock_status': 'int',\n",
              " 'a2.pcr_lock_status_sum': 'int',\n",
              " 'a2.pts_advanced_error': 'int',\n",
              " 'a2.pts_advanced_error_sum': 'int',\n",
              " 'a2.stb_firmware_version': 'enum',\n",
              " 'a2.stb_rtp_errcnt': 'int',\n",
              " 'a2.stb_rtp_errcnt_sum': 'int'}"
            ]
          },
          "metadata": {
            "tags": []
          },
          "execution_count": 12
        }
      ]
    },
    {
      "cell_type": "code",
      "metadata": {
        "id": "pAzrEuckDNNZ",
        "colab_type": "code",
        "colab": {
          "base_uri": "https://localhost:8080/",
          "height": 307
        },
        "outputId": "1254e3c6-e11c-4984-d31f-a1115dab5733"
      },
      "source": [
        "df.describe()"
      ],
      "execution_count": 13,
      "outputs": [
        {
          "output_type": "execute_result",
          "data": {
            "text/html": [
              "<div>\n",
              "<style scoped>\n",
              "    .dataframe tbody tr th:only-of-type {\n",
              "        vertical-align: middle;\n",
              "    }\n",
              "\n",
              "    .dataframe tbody tr th {\n",
              "        vertical-align: top;\n",
              "    }\n",
              "\n",
              "    .dataframe thead th {\n",
              "        text-align: right;\n",
              "    }\n",
              "</style>\n",
              "<table border=\"1\" class=\"dataframe\">\n",
              "  <thead>\n",
              "    <tr style=\"text-align: right;\">\n",
              "      <th></th>\n",
              "      <th>Unnamed: 0</th>\n",
              "      <th>a2.errtype</th>\n",
              "      <th>a2.buffer_overflow</th>\n",
              "      <th>a2.pcr_lock_status</th>\n",
              "      <th>a2.pts_advanced_error</th>\n",
              "      <th>a2.lost_packet_count</th>\n",
              "      <th>a2.packet_loss_period</th>\n",
              "      <th>a2.stb_rtp_errcnt</th>\n",
              "      <th>a2.no_stream_error</th>\n",
              "      <th>a2.no_stream_error_sum</th>\n",
              "      <th>a2.pcr_lock_status_sum</th>\n",
              "      <th>a2.pts_advanced_error_sum</th>\n",
              "      <th>a2.stb_rtp_errcnt_sum</th>\n",
              "      <th>a2.logtime</th>\n",
              "      <th>a2.not_decoding_error</th>\n",
              "      <th>a2.not_decoding_error_sum</th>\n",
              "      <th>a2.p_basis_yyyy</th>\n",
              "      <th>a2.p_basis_mm</th>\n",
              "      <th>a2.p_basis_dd</th>\n",
              "      <th>a2.p_basis_hh</th>\n",
              "    </tr>\n",
              "  </thead>\n",
              "  <tbody>\n",
              "    <tr>\n",
              "      <th>count</th>\n",
              "      <td>2.666670e+05</td>\n",
              "      <td>245643.000000</td>\n",
              "      <td>21023.000000</td>\n",
              "      <td>21023.000000</td>\n",
              "      <td>21023.000000</td>\n",
              "      <td>21023.0</td>\n",
              "      <td>21023.0</td>\n",
              "      <td>21023.000000</td>\n",
              "      <td>21023.000000</td>\n",
              "      <td>21023.000000</td>\n",
              "      <td>21023.000000</td>\n",
              "      <td>21023.000000</td>\n",
              "      <td>21023.000000</td>\n",
              "      <td>2.102300e+04</td>\n",
              "      <td>21023.000000</td>\n",
              "      <td>21023.000000</td>\n",
              "      <td>21023.0</td>\n",
              "      <td>21023.0</td>\n",
              "      <td>21023.000000</td>\n",
              "      <td>21023.000000</td>\n",
              "    </tr>\n",
              "    <tr>\n",
              "      <th>mean</th>\n",
              "      <td>9.715956e+05</td>\n",
              "      <td>19.023652</td>\n",
              "      <td>47.850782</td>\n",
              "      <td>-0.234981</td>\n",
              "      <td>47.850782</td>\n",
              "      <td>0.0</td>\n",
              "      <td>0.0</td>\n",
              "      <td>196.836465</td>\n",
              "      <td>1.946915</td>\n",
              "      <td>26.308567</td>\n",
              "      <td>0.168244</td>\n",
              "      <td>577.226657</td>\n",
              "      <td>2350.651667</td>\n",
              "      <td>2.020060e+13</td>\n",
              "      <td>-0.246587</td>\n",
              "      <td>0.027399</td>\n",
              "      <td>2020.0</td>\n",
              "      <td>6.0</td>\n",
              "      <td>4.518242</td>\n",
              "      <td>13.199115</td>\n",
              "    </tr>\n",
              "    <tr>\n",
              "      <th>std</th>\n",
              "      <td>6.207238e+05</td>\n",
              "      <td>10.070516</td>\n",
              "      <td>2410.002135</td>\n",
              "      <td>0.502074</td>\n",
              "      <td>2410.002135</td>\n",
              "      <td>0.0</td>\n",
              "      <td>0.0</td>\n",
              "      <td>3166.810292</td>\n",
              "      <td>28.075805</td>\n",
              "      <td>252.965569</td>\n",
              "      <td>1.273955</td>\n",
              "      <td>15456.922043</td>\n",
              "      <td>21641.751755</td>\n",
              "      <td>2.263659e+06</td>\n",
              "      <td>0.440855</td>\n",
              "      <td>0.345143</td>\n",
              "      <td>0.0</td>\n",
              "      <td>0.0</td>\n",
              "      <td>2.271513</td>\n",
              "      <td>7.016035</td>\n",
              "    </tr>\n",
              "    <tr>\n",
              "      <th>min</th>\n",
              "      <td>4.560000e+02</td>\n",
              "      <td>1.000000</td>\n",
              "      <td>-1.000000</td>\n",
              "      <td>-1.000000</td>\n",
              "      <td>-1.000000</td>\n",
              "      <td>0.0</td>\n",
              "      <td>0.0</td>\n",
              "      <td>-1.000000</td>\n",
              "      <td>-1.000000</td>\n",
              "      <td>0.000000</td>\n",
              "      <td>0.000000</td>\n",
              "      <td>0.000000</td>\n",
              "      <td>0.000000</td>\n",
              "      <td>2.020060e+13</td>\n",
              "      <td>-1.000000</td>\n",
              "      <td>0.000000</td>\n",
              "      <td>2020.0</td>\n",
              "      <td>6.0</td>\n",
              "      <td>1.000000</td>\n",
              "      <td>0.000000</td>\n",
              "    </tr>\n",
              "    <tr>\n",
              "      <th>25%</th>\n",
              "      <td>4.785105e+05</td>\n",
              "      <td>10.000000</td>\n",
              "      <td>0.000000</td>\n",
              "      <td>0.000000</td>\n",
              "      <td>0.000000</td>\n",
              "      <td>0.0</td>\n",
              "      <td>0.0</td>\n",
              "      <td>0.000000</td>\n",
              "      <td>0.000000</td>\n",
              "      <td>0.000000</td>\n",
              "      <td>0.000000</td>\n",
              "      <td>0.000000</td>\n",
              "      <td>5.000000</td>\n",
              "      <td>2.020060e+13</td>\n",
              "      <td>0.000000</td>\n",
              "      <td>0.000000</td>\n",
              "      <td>2020.0</td>\n",
              "      <td>6.0</td>\n",
              "      <td>3.000000</td>\n",
              "      <td>8.000000</td>\n",
              "    </tr>\n",
              "    <tr>\n",
              "      <th>50%</th>\n",
              "      <td>9.158650e+05</td>\n",
              "      <td>16.000000</td>\n",
              "      <td>0.000000</td>\n",
              "      <td>0.000000</td>\n",
              "      <td>0.000000</td>\n",
              "      <td>0.0</td>\n",
              "      <td>0.0</td>\n",
              "      <td>0.000000</td>\n",
              "      <td>0.000000</td>\n",
              "      <td>0.000000</td>\n",
              "      <td>0.000000</td>\n",
              "      <td>0.000000</td>\n",
              "      <td>25.000000</td>\n",
              "      <td>2.020061e+13</td>\n",
              "      <td>0.000000</td>\n",
              "      <td>0.000000</td>\n",
              "      <td>2020.0</td>\n",
              "      <td>6.0</td>\n",
              "      <td>5.000000</td>\n",
              "      <td>14.000000</td>\n",
              "    </tr>\n",
              "    <tr>\n",
              "      <th>75%</th>\n",
              "      <td>1.551892e+06</td>\n",
              "      <td>31.000000</td>\n",
              "      <td>0.000000</td>\n",
              "      <td>0.000000</td>\n",
              "      <td>0.000000</td>\n",
              "      <td>0.0</td>\n",
              "      <td>0.0</td>\n",
              "      <td>4.000000</td>\n",
              "      <td>0.000000</td>\n",
              "      <td>0.000000</td>\n",
              "      <td>0.000000</td>\n",
              "      <td>0.000000</td>\n",
              "      <td>327.000000</td>\n",
              "      <td>2.020061e+13</td>\n",
              "      <td>0.000000</td>\n",
              "      <td>0.000000</td>\n",
              "      <td>2020.0</td>\n",
              "      <td>6.0</td>\n",
              "      <td>7.000000</td>\n",
              "      <td>19.000000</td>\n",
              "    </tr>\n",
              "    <tr>\n",
              "      <th>max</th>\n",
              "      <td>2.028312e+06</td>\n",
              "      <td>41.000000</td>\n",
              "      <td>158862.000000</td>\n",
              "      <td>13.000000</td>\n",
              "      <td>158862.000000</td>\n",
              "      <td>0.0</td>\n",
              "      <td>0.0</td>\n",
              "      <td>128874.000000</td>\n",
              "      <td>600.000000</td>\n",
              "      <td>7200.000000</td>\n",
              "      <td>29.000000</td>\n",
              "      <td>556292.000000</td>\n",
              "      <td>509630.000000</td>\n",
              "      <td>2.020061e+13</td>\n",
              "      <td>7.000000</td>\n",
              "      <td>10.000000</td>\n",
              "      <td>2020.0</td>\n",
              "      <td>6.0</td>\n",
              "      <td>9.000000</td>\n",
              "      <td>23.000000</td>\n",
              "    </tr>\n",
              "  </tbody>\n",
              "</table>\n",
              "</div>"
            ],
            "text/plain": [
              "         Unnamed: 0     a2.errtype  ...  a2.p_basis_dd  a2.p_basis_hh\n",
              "count  2.666670e+05  245643.000000  ...   21023.000000   21023.000000\n",
              "mean   9.715956e+05      19.023652  ...       4.518242      13.199115\n",
              "std    6.207238e+05      10.070516  ...       2.271513       7.016035\n",
              "min    4.560000e+02       1.000000  ...       1.000000       0.000000\n",
              "25%    4.785105e+05      10.000000  ...       3.000000       8.000000\n",
              "50%    9.158650e+05      16.000000  ...       5.000000      14.000000\n",
              "75%    1.551892e+06      31.000000  ...       7.000000      19.000000\n",
              "max    2.028312e+06      41.000000  ...       9.000000      23.000000\n",
              "\n",
              "[8 rows x 20 columns]"
            ]
          },
          "metadata": {
            "tags": []
          },
          "execution_count": 13
        }
      ]
    },
    {
      "cell_type": "code",
      "metadata": {
        "id": "AZAvqXsdqpXK",
        "colab_type": "code",
        "colab": {
          "base_uri": "https://localhost:8080/",
          "height": 678
        },
        "outputId": "b0755c61-dd9b-418e-b30f-ca90a320fe63"
      },
      "source": [
        "hdf.describe()"
      ],
      "execution_count": 14,
      "outputs": [
        {
          "output_type": "stream",
          "text": [
            "Rows:266667\n",
            "Cols:31\n",
            "\n",
            "\n"
          ],
          "name": "stdout"
        },
        {
          "output_type": "display_data",
          "data": {
            "text/html": [
              "<table>\n",
              "<thead>\n",
              "<tr><th>       </th><th>C1               </th><th>a1.ucube_jnr_no                         </th><th>a2.firstlogtime    </th><th>a2.lastlogtime     </th><th>a2.errtype        </th><th>a2.errtype_nm                                       </th><th>a2.cust_num  </th><th>a2.model_mac  </th><th>a2.buffer_overflow  </th><th>a2.pcr_lock_status  </th><th>a2.pts_advanced_error  </th><th>a2.lost_packet_count  </th><th>a2.packet_loss_period  </th><th>a2.stb_rtp_errcnt  </th><th>a2.no_stream_error  </th><th>a2.stb_firmware_version  </th><th>a2.no_stream_error_sum  </th><th>a2.pcr_lock_status_sum  </th><th>a2.pts_advanced_error_sum  </th><th>a2.stb_rtp_errcnt_sum  </th><th>a2.logtime        </th><th>a2.not_decoding_error  </th><th>a2.not_decoding_error_sum  </th><th>a2.mday            </th><th>a2.bdp_load_dttm   </th><th>a2.bdp_load_user_id  </th><th>a2.p_basis_yyyy  </th><th>a2.p_basis_mm  </th><th>a2.p_basis_dd    </th><th>a2.p_basis_hh     </th><th>a2.model_nm  </th></tr>\n",
              "</thead>\n",
              "<tbody>\n",
              "<tr><td>type   </td><td>int              </td><td>enum                                    </td><td>time               </td><td>time               </td><td>int               </td><td>enum                                                </td><td>enum         </td><td>enum          </td><td>int                 </td><td>int                 </td><td>int                    </td><td>int                   </td><td>int                    </td><td>int                </td><td>int                 </td><td>enum                     </td><td>int                     </td><td>int                     </td><td>int                        </td><td>int                    </td><td>int               </td><td>int                    </td><td>int                        </td><td>time               </td><td>time               </td><td>enum                 </td><td>int              </td><td>int            </td><td>int              </td><td>int               </td><td>enum         </td></tr>\n",
              "<tr><td>mins   </td><td>456.0            </td><td>                                        </td><td>1590969600000.0    </td><td>1590969600000.0    </td><td>1.0               </td><td>                                                    </td><td>             </td><td>              </td><td>-1.0                </td><td>-1.0                </td><td>-1.0                   </td><td>0.0                   </td><td>0.0                    </td><td>-1.0               </td><td>-1.0                </td><td>                         </td><td>0.0                     </td><td>0.0                     </td><td>0.0                        </td><td>0.0                    </td><td>20200601001210.0  </td><td>-1.0                   </td><td>0.0                        </td><td>1590969601000.0    </td><td>1590970543329.0    </td><td>                     </td><td>2020.0           </td><td>6.0            </td><td>1.0              </td><td>0.0               </td><td>             </td></tr>\n",
              "<tr><td>mean   </td><td>971595.5937217585</td><td>                                        </td><td>1591305220839.614  </td><td>1591305279797.789  </td><td>19.023652210728557</td><td>                                                    </td><td>             </td><td>              </td><td>47.85078247633539   </td><td>-0.2349807353850543 </td><td>47.85078247633539      </td><td>0.0                   </td><td>0.0                    </td><td>196.8364648242401  </td><td>1.9469152832611902  </td><td>                         </td><td>26.308566807781943      </td><td>0.1682443038576797      </td><td>577.2266565190504          </td><td>2350.6516672216108     </td><td>20200604643472.04 </td><td>-0.24658707130285887   </td><td>0.027398563478095418       </td><td>1591305530892.878  </td><td>1591306199672.2012 </td><td>                     </td><td>2020.0           </td><td>6.0            </td><td>4.51824192551016 </td><td>13.199115254721015</td><td>             </td></tr>\n",
              "<tr><td>maxs   </td><td>2028312.0        </td><td>                                        </td><td>1591660706000.0    </td><td>1591661305000.0    </td><td>41.0              </td><td>                                                    </td><td>             </td><td>              </td><td>158862.0            </td><td>13.0                </td><td>158862.0               </td><td>0.0                   </td><td>0.0                    </td><td>128874.0           </td><td>600.0               </td><td>                         </td><td>7200.0                  </td><td>29.0                    </td><td>556292.0                   </td><td>509630.0               </td><td>20200609015557.0  </td><td>7.0                    </td><td>10.0                       </td><td>1591667400000.0    </td><td>1591668084758.0    </td><td>                     </td><td>2020.0           </td><td>6.0            </td><td>9.0              </td><td>23.0              </td><td>             </td></tr>\n",
              "<tr><td>sigma  </td><td>620723.7878983024</td><td>                                        </td><td>192976740.1013083  </td><td>192983474.18581322 </td><td>10.070516262524144</td><td>                                                    </td><td>             </td><td>              </td><td>2410.0021353721977  </td><td>0.5020742422435859  </td><td>2410.0021353721977     </td><td>0.0                   </td><td>0.0                    </td><td>3166.810291913966  </td><td>28.075804902506526  </td><td>                         </td><td>252.96556876471283      </td><td>1.273955495969517       </td><td>15456.922042706195         </td><td>21641.751755410627     </td><td>2263659.1955774967</td><td>0.44085505945185166    </td><td>0.34514301425229094        </td><td>192987495.80629304 </td><td>192993573.72853816 </td><td>                     </td><td>0.0              </td><td>0.0            </td><td>2.271513437263717</td><td>7.016034557808338 </td><td>             </td></tr>\n",
              "<tr><td>zeros  </td><td>0                </td><td>                                        </td><td>0                  </td><td>0                  </td><td>0                 </td><td>                                                    </td><td>             </td><td>              </td><td>14900               </td><td>15668               </td><td>14900                  </td><td>21023                 </td><td>21023                  </td><td>7721               </td><td>15385               </td><td>                         </td><td>18482                   </td><td>20019                   </td><td>19631                      </td><td>574                    </td><td>0                 </td><td>15761                  </td><td>20747                      </td><td>0                  </td><td>0                  </td><td>                     </td><td>0                </td><td>0              </td><td>0                </td><td>1376              </td><td>             </td></tr>\n",
              "<tr><td>missing</td><td>0                </td><td>0                                       </td><td>1                  </td><td>1                  </td><td>21024             </td><td>21024                                               </td><td>245644       </td><td>245644        </td><td>245644              </td><td>245644              </td><td>245644                 </td><td>245644                </td><td>245644                 </td><td>245644             </td><td>245644              </td><td>245644                   </td><td>245644                  </td><td>245644                  </td><td>245644                     </td><td>245644                 </td><td>245644            </td><td>245644                 </td><td>245644                     </td><td>1                  </td><td>1                  </td><td>245644               </td><td>245644           </td><td>245644         </td><td>245644           </td><td>245644            </td><td>21024        </td></tr>\n",
              "<tr><td>0      </td><td>761343.0         </td><td>0016CF82DEDAE7D04E204280145D53AC20D56E87</td><td>2020-06-01 05:00:00</td><td>2020-06-01 05:00:00</td><td>26.0              </td><td>1일 1회 주기로 최신 업데이트된 리모컨 진단 정보 전송</td><td>             </td><td>              </td><td>nan                 </td><td>nan                 </td><td>nan                    </td><td>nan                   </td><td>nan                    </td><td>nan                </td><td>nan                 </td><td>                         </td><td>nan                     </td><td>nan                     </td><td>nan                        </td><td>nan                    </td><td>nan               </td><td>nan                    </td><td>nan                        </td><td>2020-06-01 05:00:00</td><td>2020-06-01 05:15:41</td><td>                     </td><td>nan              </td><td>nan            </td><td>nan              </td><td>nan               </td><td>S60UPI       </td></tr>\n",
              "<tr><td>1      </td><td>633634.0         </td><td>0016CF82DEDAE7D04E204280145D53AC20D56E87</td><td>2020-06-01 05:00:01</td><td>2020-06-01 05:00:01</td><td>16.0              </td><td>SLEEP To Active 모드 전환                           </td><td>             </td><td>              </td><td>nan                 </td><td>nan                 </td><td>nan                    </td><td>nan                   </td><td>nan                    </td><td>nan                </td><td>nan                 </td><td>                         </td><td>nan                     </td><td>nan                     </td><td>nan                        </td><td>nan                    </td><td>nan               </td><td>nan                    </td><td>nan                        </td><td>2020-06-01 05:00:01</td><td>2020-06-01 05:15:41</td><td>                     </td><td>nan              </td><td>nan            </td><td>nan              </td><td>nan               </td><td>S60UPI       </td></tr>\n",
              "<tr><td>2      </td><td>761344.0         </td><td>0016CF82DEDAE7D04E204280145D53AC20D56E87</td><td>2020-06-01 05:00:02</td><td>2020-06-01 05:00:02</td><td>31.0              </td><td>HDMI 연결상태 변경                                  </td><td>             </td><td>              </td><td>nan                 </td><td>nan                 </td><td>nan                    </td><td>nan                   </td><td>nan                    </td><td>nan                </td><td>nan                 </td><td>                         </td><td>nan                     </td><td>nan                     </td><td>nan                        </td><td>nan                    </td><td>nan               </td><td>nan                    </td><td>nan                        </td><td>2020-06-01 05:00:02</td><td>2020-06-01 05:15:41</td><td>                     </td><td>nan              </td><td>nan            </td><td>nan              </td><td>nan               </td><td>S60UPI       </td></tr>\n",
              "<tr><td>3      </td><td>761345.0         </td><td>0016CF82DEDAE7D04E204280145D53AC20D56E87</td><td>2020-06-01 05:00:13</td><td>2020-06-01 05:00:13</td><td>31.0              </td><td>HDMI 연결상태 변경                                  </td><td>             </td><td>              </td><td>nan                 </td><td>nan                 </td><td>nan                    </td><td>nan                   </td><td>nan                    </td><td>nan                </td><td>nan                 </td><td>                         </td><td>nan                     </td><td>nan                     </td><td>nan                        </td><td>nan                    </td><td>nan               </td><td>nan                    </td><td>nan                        </td><td>2020-06-01 05:00:14</td><td>2020-06-01 05:15:41</td><td>                     </td><td>nan              </td><td>nan            </td><td>nan              </td><td>nan               </td><td>S60UPI       </td></tr>\n",
              "<tr><td>4      </td><td>633635.0         </td><td>0016CF82DEDAE7D04E204280145D53AC20D56E87</td><td>2020-06-01 17:08:45</td><td>2020-06-01 17:08:45</td><td>16.0              </td><td>SLEEP To Active 모드 전환                           </td><td>             </td><td>              </td><td>nan                 </td><td>nan                 </td><td>nan                    </td><td>nan                   </td><td>nan                    </td><td>nan                </td><td>nan                 </td><td>                         </td><td>nan                     </td><td>nan                     </td><td>nan                        </td><td>nan                    </td><td>nan               </td><td>nan                    </td><td>nan                        </td><td>2020-06-01 17:08:45</td><td>2020-06-01 17:15:47</td><td>                     </td><td>nan              </td><td>nan            </td><td>nan              </td><td>nan               </td><td>S60UPI       </td></tr>\n",
              "<tr><td>5      </td><td>761346.0         </td><td>0016CF82DEDAE7D04E204280145D53AC20D56E87</td><td>2020-06-01 17:08:45</td><td>2020-06-01 17:08:45</td><td>31.0              </td><td>HDMI 연결상태 변경                                  </td><td>             </td><td>              </td><td>nan                 </td><td>nan                 </td><td>nan                    </td><td>nan                   </td><td>nan                    </td><td>nan                </td><td>nan                 </td><td>                         </td><td>nan                     </td><td>nan                     </td><td>nan                        </td><td>nan                    </td><td>nan               </td><td>nan                    </td><td>nan                        </td><td>2020-06-01 17:08:46</td><td>2020-06-01 17:15:47</td><td>                     </td><td>nan              </td><td>nan            </td><td>nan              </td><td>nan               </td><td>S60UPI       </td></tr>\n",
              "<tr><td>6      </td><td>761347.0         </td><td>0016CF82DEDAE7D04E204280145D53AC20D56E87</td><td>2020-06-01 17:08:51</td><td>2020-06-01 17:08:51</td><td>38.0              </td><td>채널 전환 지연                                      </td><td>             </td><td>              </td><td>nan                 </td><td>nan                 </td><td>nan                    </td><td>nan                   </td><td>nan                    </td><td>nan                </td><td>nan                 </td><td>                         </td><td>nan                     </td><td>nan                     </td><td>nan                        </td><td>nan                    </td><td>nan               </td><td>nan                    </td><td>nan                        </td><td>2020-06-01 17:08:52</td><td>2020-06-01 17:15:47</td><td>                     </td><td>nan              </td><td>nan            </td><td>nan              </td><td>nan               </td><td>S60UPI       </td></tr>\n",
              "<tr><td>7      </td><td>633636.0         </td><td>0016CF82DEDAE7D04E204280145D53AC20D56E87</td><td>2020-06-01 17:09:11</td><td>2020-06-01 17:09:11</td><td>11.0              </td><td>ethernet  port up                                   </td><td>             </td><td>              </td><td>nan                 </td><td>nan                 </td><td>nan                    </td><td>nan                   </td><td>nan                    </td><td>nan                </td><td>nan                 </td><td>                         </td><td>nan                     </td><td>nan                     </td><td>nan                        </td><td>nan                    </td><td>nan               </td><td>nan                    </td><td>nan                        </td><td>2020-06-01 17:09:11</td><td>2020-06-01 17:15:47</td><td>                     </td><td>nan              </td><td>nan            </td><td>nan              </td><td>nan               </td><td>S60UPI       </td></tr>\n",
              "<tr><td>8      </td><td>633637.0         </td><td>0016CF82DEDAE7D04E204280145D53AC20D56E87</td><td>2020-06-01 17:09:11</td><td>2020-06-01 17:09:11</td><td>12.0              </td><td>DHCP 서버로부터 IP 획득 성공                        </td><td>             </td><td>              </td><td>nan                 </td><td>nan                 </td><td>nan                    </td><td>nan                   </td><td>nan                    </td><td>nan                </td><td>nan                 </td><td>                         </td><td>nan                     </td><td>nan                     </td><td>nan                        </td><td>nan                    </td><td>nan               </td><td>nan                    </td><td>nan                        </td><td>2020-06-01 17:09:11</td><td>2020-06-01 17:15:47</td><td>                     </td><td>nan              </td><td>nan            </td><td>nan              </td><td>nan               </td><td>S60UPI       </td></tr>\n",
              "<tr><td>9      </td><td>761348.0         </td><td>0016CF82DEDAE7D04E204280145D53AC20D56E87</td><td>2020-06-01 17:09:26</td><td>2020-06-01 17:09:26</td><td>22.0              </td><td>BT 연결 CONNECTED                                   </td><td>             </td><td>              </td><td>nan                 </td><td>nan                 </td><td>nan                    </td><td>nan                   </td><td>nan                    </td><td>nan                </td><td>nan                 </td><td>                         </td><td>nan                     </td><td>nan                     </td><td>nan                        </td><td>nan                    </td><td>nan               </td><td>nan                    </td><td>nan                        </td><td>2020-06-01 17:09:26</td><td>2020-06-01 17:15:47</td><td>                     </td><td>nan              </td><td>nan            </td><td>nan              </td><td>nan               </td><td>S60UPI       </td></tr>\n",
              "</tbody>\n",
              "</table>"
            ]
          },
          "metadata": {
            "tags": []
          }
        }
      ]
    },
    {
      "cell_type": "code",
      "metadata": {
        "id": "PMzGOUbW2XGx",
        "colab_type": "code",
        "colab": {}
      },
      "source": [
        "data_train,data_test,data_valid = hdf.split_frame(ratios=[.7, .15])"
      ],
      "execution_count": 15,
      "outputs": []
    },
    {
      "cell_type": "code",
      "metadata": {
        "id": "4E18zlEFu1jh",
        "colab_type": "code",
        "colab": {
          "base_uri": "https://localhost:8080/",
          "height": 336
        },
        "outputId": "cc47e241-605d-45d2-dbfb-888b62449406"
      },
      "source": [
        "y = \"a2.errtype\"\n",
        "x = hdf.columns\n",
        "x.remove(y)\n",
        "x.remove(\"C1\")\n",
        "x.remove(\"a1.ucube_jnr_no\")\n",
        "x.remove(\"a2.errtype_nm\")\n",
        "x.remove(\"a2.firstlogtime\")\n",
        "x.remove(\"a2.lastlogtime\")\n",
        "x.remove(\"a2.mday\")\n",
        "x.remove(\"a2.bdp_load_dttm\")\n",
        "x.remove(\"a2.logtime\")\n",
        "x.remove(\"a2.p_basis_yyyy\")\n",
        "x.remove(\"a2.p_basis_mm\")\n",
        "x.remove(\"a2.p_basis_dd\")\n",
        "x.remove(\"a2.p_basis_hh\")\n",
        "# a2.p_basis_yyyy\ta2.p_basis_mm\ta2.p_basis_dd\ta2.p_basis_hh\t\n",
        "x"
      ],
      "execution_count": 16,
      "outputs": [
        {
          "output_type": "execute_result",
          "data": {
            "text/plain": [
              "['a2.cust_num',\n",
              " 'a2.model_mac',\n",
              " 'a2.buffer_overflow',\n",
              " 'a2.pcr_lock_status',\n",
              " 'a2.pts_advanced_error',\n",
              " 'a2.lost_packet_count',\n",
              " 'a2.packet_loss_period',\n",
              " 'a2.stb_rtp_errcnt',\n",
              " 'a2.no_stream_error',\n",
              " 'a2.stb_firmware_version',\n",
              " 'a2.no_stream_error_sum',\n",
              " 'a2.pcr_lock_status_sum',\n",
              " 'a2.pts_advanced_error_sum',\n",
              " 'a2.stb_rtp_errcnt_sum',\n",
              " 'a2.not_decoding_error',\n",
              " 'a2.not_decoding_error_sum',\n",
              " 'a2.bdp_load_user_id',\n",
              " 'a2.model_nm']"
            ]
          },
          "metadata": {
            "tags": []
          },
          "execution_count": 16
        }
      ]
    },
    {
      "cell_type": "markdown",
      "metadata": {
        "id": "DvkFrXD_rdgI",
        "colab_type": "text"
      },
      "source": [
        "#Create model"
      ]
    },
    {
      "cell_type": "code",
      "metadata": {
        "id": "VhqoXPD5pk2y",
        "colab_type": "code",
        "colab": {}
      },
      "source": [
        "aml = H2OAutoML(max_models = 10, seed = 10, exclude_algos = [\"StackedEnsemble\", \"DeepLearning\"], verbosity=\"info\", nfolds=0)"
      ],
      "execution_count": 17,
      "outputs": []
    },
    {
      "cell_type": "markdown",
      "metadata": {
        "id": "n3jtcg1OBf5O",
        "colab_type": "text"
      },
      "source": [
        "# Train model"
      ]
    },
    {
      "cell_type": "code",
      "metadata": {
        "id": "rggJoK6tu0Ks",
        "colab_type": "code",
        "colab": {
          "base_uri": "https://localhost:8080/",
          "height": 1000
        },
        "outputId": "cddf3e44-3c1c-44b8-e0b7-6f8a1822e68c"
      },
      "source": [
        "aml.train(x = x, y = y, training_frame = data_train, validation_frame=data_valid)\n",
        "!nvidia-smi"
      ],
      "execution_count": 18,
      "outputs": [
        {
          "output_type": "stream",
          "text": [
            "AutoML progress: |\n",
            "06:12:41.171: Project: AutoML_20200623_61241167\n",
            "06:12:41.171: Cross-validation disabled by user: no fold column nor nfolds > 1.\n",
            "06:12:41.172: Setting stopping tolerance adaptively based on the training frame: 0.002314095739546091\n",
            "06:12:41.173: Build control seed: 10\n",
            "06:12:41.174: Since cross-validation is disabled, and no leaderboard frame was provided, automatically split the training data into training and leaderboard frames in the ratio 90/10\n",
            "06:12:42.601: training frame: Frame key: automl_training_py_3_sid_bbfe    cols: 31    rows: 167794  chunks: 8    size: 8617506  checksum: 9181734551656143523\n",
            "06:12:42.601: validation frame: Frame key: py_5_sid_bbfe    cols: 31    rows: 39896  chunks: 8    size: 2185562  checksum: 4726372329276196540\n",
            "06:12:42.619: leaderboard frame: Frame key: automl_leaderboard_py_3_sid_bbfe    cols: 31    rows: 18946  chunks: 8    size: 1136378  checksum: -558670567243359916\n",
            "06:12:42.619: blending frame: NULL\n",
            "06:12:42.619: response column: a2.errtype\n",
            "06:12:42.619: fold column: null\n",
            "06:12:42.619: weights column: null\n",
            "06:12:42.660: Loading execution steps: [{XGBoost : defaults}, {GLM : defaults}, {DRF : [def_1]}, {GBM : defaults}, {DeepLearning : defaults}, {DRF : [XRT]}, {XGBoost : grids}, {GBM : grids}, {DeepLearning : grids}, {GBM : [lr_annealing]}, {XGBoost : [lr_search]}, {StackedEnsemble : defaults}]\n",
            "06:12:42.686: Disabling Algo: StackedEnsemble as requested by the user.\n",
            "06:12:42.687: Disabling Algo: DeepLearning as requested by the user.\n",
            "06:12:42.691: AutoML job created: 2020.06.23 06:12:41.167\n",
            "06:12:42.692: AutoML build started: 2020.06.23 06:12:42.692\n",
            "06:12:42.717: AutoML: starting XGBoost_1_AutoML_20200623_061241 model training\n",
            "\n",
            "\n",
            "06:12:44.356: XGBoost_1_AutoML_20200623_061241 [XGBoost def_1] failed: water.exceptions.H2OModelBuilderIllegalArgumentException: Illegal argument(s) for XGBoost model: XGBoost_1_AutoML_20200623_061241.  Details: ERRR on field: _response_column: Response contains missing values (NAs) - not supported by XGBoost.\n",
            "\n",
            "06:12:44.357: AutoML: starting XGBoost_2_AutoML_20200623_061241 model training\n",
            "\n",
            "█\n",
            "06:12:45.368: XGBoost_2_AutoML_20200623_061241 [XGBoost def_2] failed: water.exceptions.H2OModelBuilderIllegalArgumentException: Illegal argument(s) for XGBoost model: XGBoost_2_AutoML_20200623_061241.  Details: ERRR on field: _response_column: Response contains missing values (NAs) - not supported by XGBoost.\n",
            "\n",
            "06:12:45.368: AutoML: starting XGBoost_3_AutoML_20200623_061241 model training\n",
            "\n",
            "█\n",
            "06:12:46.372: XGBoost_3_AutoML_20200623_061241 [XGBoost def_3] failed: water.exceptions.H2OModelBuilderIllegalArgumentException: Illegal argument(s) for XGBoost model: XGBoost_3_AutoML_20200623_061241.  Details: ERRR on field: _response_column: Response contains missing values (NAs) - not supported by XGBoost.\n",
            "\n",
            "06:12:46.374: AutoML: starting GLM_1_AutoML_20200623_061241 model training\n",
            "\n",
            "███████\n",
            "06:12:51.477: New leader: GLM_1_AutoML_20200623_061241, mean_residual_deviance: 101.40181516962436\n",
            "06:12:51.478: AutoML: starting DRF_1_AutoML_20200623_061241 model training\n",
            "\n",
            "███\n",
            "06:12:56.794: New leader: DRF_1_AutoML_20200623_061241, mean_residual_deviance: 87.90943147396227\n",
            "06:12:56.795: AutoML: starting GBM_1_AutoML_20200623_061241 model training\n",
            "\n",
            "██\n",
            "06:13:04.994: New leader: GBM_1_AutoML_20200623_061241, mean_residual_deviance: 73.87720787879725\n",
            "06:13:04.994: AutoML: starting GBM_2_AutoML_20200623_061241 model training\n",
            "\n",
            "██\n",
            "06:13:11.189: New leader: GBM_2_AutoML_20200623_061241, mean_residual_deviance: 73.87320052005816\n",
            "06:13:11.189: AutoML: starting GBM_3_AutoML_20200623_061241 model training\n",
            "\n",
            "██\n",
            "06:13:16.375: AutoML: starting GBM_4_AutoML_20200623_061241 model training\n",
            "\n",
            "██\n",
            "06:13:21.580: AutoML: starting GBM_5_AutoML_20200623_061241 model training\n",
            "\n",
            "██\n",
            "06:13:26.698: AutoML: starting XRT_1_AutoML_20200623_061241 model training\n",
            "06:13:27.703: XRT_1_AutoML_20200623_061241 [DRF XRT (Extremely Randomized Trees)] failed: java.lang.AssertionError\n",
            "06:13:27.705: AutoML: starting XGBoost_grid__1_AutoML_20200623_061241 hyperparameter search\n",
            "06:13:28.729: AutoML: starting GBM_grid__1_AutoML_20200623_061241 hyperparameter search\n",
            "\n",
            "█████████████████████████████████\n",
            "06:13:45.290: Skipping StackedEnsemble 'best' due to the exclude_algos option.\n",
            "06:13:45.291: Skipping StackedEnsemble 'all' due to the exclude_algos option.\n",
            "06:13:45.292: Actual modeling steps: [{XGBoost : [def_1 (10), def_2 (10), def_3 (10)]}, {GLM : [def_1 (10)]}, {DRF : [def_1 (10)]}, {GBM : [def_1 (10), def_2 (10), def_3 (10), def_4 (10), def_5 (10)]}, {DRF : [XRT (10)]}, {XGBoost : [grid_1 (100)]}, {GBM : [grid_1 (60)]}]\n",
            "06:13:45.292: AutoML build stopped: 2020.06.23 06:13:45.292\n",
            "06:13:45.292: AutoML build done: built 10 models\n",
            "06:13:45.292: AutoML duration:  1 min  2.600 sec\n",
            "\n",
            "█| 100%\n",
            "Tue Jun 23 06:13:48 2020       \n",
            "+-----------------------------------------------------------------------------+\n",
            "| NVIDIA-SMI 450.36.06    Driver Version: 418.67       CUDA Version: 10.1     |\n",
            "|-------------------------------+----------------------+----------------------+\n",
            "| GPU  Name        Persistence-M| Bus-Id        Disp.A | Volatile Uncorr. ECC |\n",
            "| Fan  Temp  Perf  Pwr:Usage/Cap|         Memory-Usage | GPU-Util  Compute M. |\n",
            "|                               |                      |               MIG M. |\n",
            "|===============================+======================+======================|\n",
            "|   0  Tesla T4            Off  | 00000000:00:04.0 Off |                    0 |\n",
            "| N/A   46C    P0    28W /  70W |    127MiB / 15079MiB |      0%      Default |\n",
            "|                               |                      |                 ERR! |\n",
            "+-------------------------------+----------------------+----------------------+\n",
            "                                                                               \n",
            "+-----------------------------------------------------------------------------+\n",
            "| Processes:                                                                  |\n",
            "|  GPU   GI   CI        PID   Type   Process name                  GPU Memory |\n",
            "|        ID   ID                                                   Usage      |\n",
            "|=============================================================================|\n",
            "|  No running processes found                                                 |\n",
            "+-----------------------------------------------------------------------------+\n"
          ],
          "name": "stdout"
        }
      ]
    },
    {
      "cell_type": "code",
      "metadata": {
        "id": "x9DR_k1w9kMp",
        "colab_type": "code",
        "colab": {
          "base_uri": "https://localhost:8080/",
          "height": 213
        },
        "outputId": "f8f43145-fa47-4f7c-8e48-502d88d93f4a"
      },
      "source": [
        "leaderboard = aml.leaderboard\n",
        "leaderboard.head()"
      ],
      "execution_count": 19,
      "outputs": [
        {
          "output_type": "display_data",
          "data": {
            "text/html": [
              "<table>\n",
              "<thead>\n",
              "<tr><th>model_id                                  </th><th style=\"text-align: right;\">  mean_residual_deviance</th><th style=\"text-align: right;\">    rmse</th><th style=\"text-align: right;\">     mse</th><th style=\"text-align: right;\">    mae</th><th style=\"text-align: right;\">   rmsle</th></tr>\n",
              "</thead>\n",
              "<tbody>\n",
              "<tr><td>GBM_2_AutoML_20200623_061241              </td><td style=\"text-align: right;\">                 73.8732</td><td style=\"text-align: right;\"> 8.59495</td><td style=\"text-align: right;\"> 73.8732</td><td style=\"text-align: right;\">6.98075</td><td style=\"text-align: right;\">0.496011</td></tr>\n",
              "<tr><td>GBM_grid__1_AutoML_20200623_061241_model_1</td><td style=\"text-align: right;\">                 73.8742</td><td style=\"text-align: right;\"> 8.59501</td><td style=\"text-align: right;\"> 73.8742</td><td style=\"text-align: right;\">6.98153</td><td style=\"text-align: right;\">0.496067</td></tr>\n",
              "<tr><td>GBM_1_AutoML_20200623_061241              </td><td style=\"text-align: right;\">                 73.8772</td><td style=\"text-align: right;\"> 8.59519</td><td style=\"text-align: right;\"> 73.8772</td><td style=\"text-align: right;\">6.97937</td><td style=\"text-align: right;\">0.496213</td></tr>\n",
              "<tr><td>GBM_4_AutoML_20200623_061241              </td><td style=\"text-align: right;\">                 73.8811</td><td style=\"text-align: right;\"> 8.59541</td><td style=\"text-align: right;\"> 73.8811</td><td style=\"text-align: right;\">6.97972</td><td style=\"text-align: right;\">0.496375</td></tr>\n",
              "<tr><td>GBM_grid__1_AutoML_20200623_061241_model_2</td><td style=\"text-align: right;\">                 73.8831</td><td style=\"text-align: right;\"> 8.59553</td><td style=\"text-align: right;\"> 73.8831</td><td style=\"text-align: right;\">6.97948</td><td style=\"text-align: right;\">0.496302</td></tr>\n",
              "<tr><td>GBM_3_AutoML_20200623_061241              </td><td style=\"text-align: right;\">                 73.8843</td><td style=\"text-align: right;\"> 8.5956 </td><td style=\"text-align: right;\"> 73.8843</td><td style=\"text-align: right;\">6.97934</td><td style=\"text-align: right;\">0.496412</td></tr>\n",
              "<tr><td>GBM_5_AutoML_20200623_061241              </td><td style=\"text-align: right;\">                 73.8848</td><td style=\"text-align: right;\"> 8.59563</td><td style=\"text-align: right;\"> 73.8848</td><td style=\"text-align: right;\">6.97946</td><td style=\"text-align: right;\">0.496412</td></tr>\n",
              "<tr><td>GBM_grid__1_AutoML_20200623_061241_model_3</td><td style=\"text-align: right;\">                 73.8867</td><td style=\"text-align: right;\"> 8.59573</td><td style=\"text-align: right;\"> 73.8867</td><td style=\"text-align: right;\">6.97897</td><td style=\"text-align: right;\">0.49646 </td></tr>\n",
              "<tr><td>DRF_1_AutoML_20200623_061241              </td><td style=\"text-align: right;\">                 87.9094</td><td style=\"text-align: right;\"> 9.376  </td><td style=\"text-align: right;\"> 87.9094</td><td style=\"text-align: right;\">8.12304</td><td style=\"text-align: right;\">0.551883</td></tr>\n",
              "<tr><td>GLM_1_AutoML_20200623_061241              </td><td style=\"text-align: right;\">                101.402 </td><td style=\"text-align: right;\">10.0698 </td><td style=\"text-align: right;\">101.402 </td><td style=\"text-align: right;\">8.8695 </td><td style=\"text-align: right;\">0.597914</td></tr>\n",
              "</tbody>\n",
              "</table>"
            ]
          },
          "metadata": {
            "tags": []
          }
        },
        {
          "output_type": "execute_result",
          "data": {
            "text/plain": [
              ""
            ]
          },
          "metadata": {
            "tags": []
          },
          "execution_count": 19
        }
      ]
    },
    {
      "cell_type": "markdown",
      "metadata": {
        "id": "7G_v4PW1D0y3",
        "colab_type": "text"
      },
      "source": [
        "#Test"
      ]
    },
    {
      "cell_type": "code",
      "metadata": {
        "id": "meb4qRqy5y48",
        "colab_type": "code",
        "colab": {
          "base_uri": "https://localhost:8080/",
          "height": 231
        },
        "outputId": "6951f22f-d655-417b-b307-2a712348f9f1"
      },
      "source": [
        "data_pred=aml.leader.predict(data_test)\n",
        "data_pred.head()"
      ],
      "execution_count": 20,
      "outputs": [
        {
          "output_type": "stream",
          "text": [
            "gbm prediction progress: |████████████████████████████████████████████████| 100%\n"
          ],
          "name": "stdout"
        },
        {
          "output_type": "display_data",
          "data": {
            "text/html": [
              "<table>\n",
              "<thead>\n",
              "<tr><th style=\"text-align: right;\">  predict</th></tr>\n",
              "</thead>\n",
              "<tbody>\n",
              "<tr><td style=\"text-align: right;\">  21.5147</td></tr>\n",
              "<tr><td style=\"text-align: right;\">  21.5147</td></tr>\n",
              "<tr><td style=\"text-align: right;\">  21.5147</td></tr>\n",
              "<tr><td style=\"text-align: right;\">  21.5147</td></tr>\n",
              "<tr><td style=\"text-align: right;\">  21.5147</td></tr>\n",
              "<tr><td style=\"text-align: right;\">  21.5147</td></tr>\n",
              "<tr><td style=\"text-align: right;\">  21.5147</td></tr>\n",
              "<tr><td style=\"text-align: right;\">  21.5147</td></tr>\n",
              "<tr><td style=\"text-align: right;\">  21.5147</td></tr>\n",
              "<tr><td style=\"text-align: right;\">  21.5147</td></tr>\n",
              "</tbody>\n",
              "</table>"
            ]
          },
          "metadata": {
            "tags": []
          }
        },
        {
          "output_type": "execute_result",
          "data": {
            "text/plain": [
              ""
            ]
          },
          "metadata": {
            "tags": []
          },
          "execution_count": 20
        }
      ]
    },
    {
      "cell_type": "markdown",
      "metadata": {
        "id": "yQst_EgrUO6a",
        "colab_type": "text"
      },
      "source": [
        "# Performance check\n"
      ]
    },
    {
      "cell_type": "code",
      "metadata": {
        "id": "Xjw0-cu-EzCK",
        "colab_type": "code",
        "colab": {
          "base_uri": "https://localhost:8080/",
          "height": 176
        },
        "outputId": "13a2c02a-eea7-45a1-fa04-c74bc7b01248"
      },
      "source": [
        "aml.leader.model_performance(data_test)"
      ],
      "execution_count": 21,
      "outputs": [
        {
          "output_type": "stream",
          "text": [
            "\n",
            "ModelMetricsRegression: gbm\n",
            "** Reported on test data. **\n",
            "\n",
            "MSE: 72.84118085870979\n",
            "RMSE: 8.53470449744511\n",
            "MAE: 6.94945167113356\n",
            "RMSLE: 0.49128152017050175\n",
            "Mean Residual Deviance: 72.84118085870979\n"
          ],
          "name": "stdout"
        },
        {
          "output_type": "execute_result",
          "data": {
            "text/plain": [
              ""
            ]
          },
          "metadata": {
            "tags": []
          },
          "execution_count": 21
        }
      ]
    },
    {
      "cell_type": "markdown",
      "metadata": {
        "id": "bAcOrDv3ug6l",
        "colab_type": "text"
      },
      "source": [
        "#나머지 모델도 테스트"
      ]
    },
    {
      "cell_type": "code",
      "metadata": {
        "id": "lMJUoQULa61P",
        "colab_type": "code",
        "colab": {
          "base_uri": "https://localhost:8080/",
          "height": 194
        },
        "outputId": "31ed49c6-056a-4f06-f08c-e8936d3cba7f"
      },
      "source": [
        "model_ids = list(aml.leaderboard['model_id'].as_data_frame().iloc[:,0])\n",
        "model_ids\n",
        "#se = h2o.get_model([mid for mid in model_ids if \"StackedEnsemble_AllModels\" in mid][0])\n",
        "#metalearner = h2o.get_model(se.metalearner()['name'])"
      ],
      "execution_count": 22,
      "outputs": [
        {
          "output_type": "execute_result",
          "data": {
            "text/plain": [
              "['GBM_2_AutoML_20200623_061241',\n",
              " 'GBM_grid__1_AutoML_20200623_061241_model_1',\n",
              " 'GBM_1_AutoML_20200623_061241',\n",
              " 'GBM_4_AutoML_20200623_061241',\n",
              " 'GBM_grid__1_AutoML_20200623_061241_model_2',\n",
              " 'GBM_3_AutoML_20200623_061241',\n",
              " 'GBM_5_AutoML_20200623_061241',\n",
              " 'GBM_grid__1_AutoML_20200623_061241_model_3',\n",
              " 'DRF_1_AutoML_20200623_061241',\n",
              " 'GLM_1_AutoML_20200623_061241']"
            ]
          },
          "metadata": {
            "tags": []
          },
          "execution_count": 22
        }
      ]
    },
    {
      "cell_type": "code",
      "metadata": {
        "id": "PoWeGWix0J1e",
        "colab_type": "code",
        "colab": {
          "base_uri": "https://localhost:8080/",
          "height": 1000
        },
        "outputId": "199ada5f-bfb0-4425-dff5-8a2ff1ac8fb1"
      },
      "source": [
        "h2o.get_model([i for i in model_ids if \"GBM\" in i][0])"
      ],
      "execution_count": 27,
      "outputs": [
        {
          "output_type": "stream",
          "text": [
            "Model Details\n",
            "=============\n",
            "H2OGradientBoostingEstimator :  Gradient Boosting Machine\n",
            "Model Key:  GBM_2_AutoML_20200623_061241\n",
            "\n",
            "\n",
            "Model Summary: \n"
          ],
          "name": "stdout"
        },
        {
          "output_type": "display_data",
          "data": {
            "text/html": [
              "<div>\n",
              "<style scoped>\n",
              "    .dataframe tbody tr th:only-of-type {\n",
              "        vertical-align: middle;\n",
              "    }\n",
              "\n",
              "    .dataframe tbody tr th {\n",
              "        vertical-align: top;\n",
              "    }\n",
              "\n",
              "    .dataframe thead th {\n",
              "        text-align: right;\n",
              "    }\n",
              "</style>\n",
              "<table border=\"1\" class=\"dataframe\">\n",
              "  <thead>\n",
              "    <tr style=\"text-align: right;\">\n",
              "      <th></th>\n",
              "      <th></th>\n",
              "      <th>number_of_trees</th>\n",
              "      <th>number_of_internal_trees</th>\n",
              "      <th>model_size_in_bytes</th>\n",
              "      <th>min_depth</th>\n",
              "      <th>max_depth</th>\n",
              "      <th>mean_depth</th>\n",
              "      <th>min_leaves</th>\n",
              "      <th>max_leaves</th>\n",
              "      <th>mean_leaves</th>\n",
              "    </tr>\n",
              "  </thead>\n",
              "  <tbody>\n",
              "    <tr>\n",
              "      <th>0</th>\n",
              "      <td></td>\n",
              "      <td>65.0</td>\n",
              "      <td>65.0</td>\n",
              "      <td>6174.0</td>\n",
              "      <td>1.0</td>\n",
              "      <td>3.0</td>\n",
              "      <td>1.707692</td>\n",
              "      <td>1.0</td>\n",
              "      <td>4.0</td>\n",
              "      <td>2.830769</td>\n",
              "    </tr>\n",
              "  </tbody>\n",
              "</table>\n",
              "</div>"
            ],
            "text/plain": [
              "     number_of_trees  ...  max_leaves  mean_leaves\n",
              "0               65.0  ...         4.0     2.830769\n",
              "\n",
              "[1 rows x 10 columns]"
            ]
          },
          "metadata": {
            "tags": []
          }
        },
        {
          "output_type": "stream",
          "text": [
            "\n",
            "\n",
            "ModelMetricsRegression: gbm\n",
            "** Reported on train data. **\n",
            "\n",
            "MSE: 73.43926943061557\n",
            "RMSE: 8.56967148907212\n",
            "MAE: 6.961297096347723\n",
            "RMSLE: 0.49317667165871293\n",
            "Mean Residual Deviance: 73.43926943061557\n",
            "\n",
            "ModelMetricsRegression: gbm\n",
            "** Reported on validation data. **\n",
            "\n",
            "MSE: 73.22238708734677\n",
            "RMSE: 8.557008068673698\n",
            "MAE: 6.948941820497263\n",
            "RMSLE: 0.49289179508677106\n",
            "Mean Residual Deviance: 73.22238708734677\n",
            "\n",
            "Scoring History: \n"
          ],
          "name": "stdout"
        },
        {
          "output_type": "display_data",
          "data": {
            "text/html": [
              "<div>\n",
              "<style scoped>\n",
              "    .dataframe tbody tr th:only-of-type {\n",
              "        vertical-align: middle;\n",
              "    }\n",
              "\n",
              "    .dataframe tbody tr th {\n",
              "        vertical-align: top;\n",
              "    }\n",
              "\n",
              "    .dataframe thead th {\n",
              "        text-align: right;\n",
              "    }\n",
              "</style>\n",
              "<table border=\"1\" class=\"dataframe\">\n",
              "  <thead>\n",
              "    <tr style=\"text-align: right;\">\n",
              "      <th></th>\n",
              "      <th></th>\n",
              "      <th>timestamp</th>\n",
              "      <th>duration</th>\n",
              "      <th>number_of_trees</th>\n",
              "      <th>training_rmse</th>\n",
              "      <th>training_mae</th>\n",
              "      <th>training_deviance</th>\n",
              "      <th>validation_rmse</th>\n",
              "      <th>validation_mae</th>\n",
              "      <th>validation_deviance</th>\n",
              "    </tr>\n",
              "  </thead>\n",
              "  <tbody>\n",
              "    <tr>\n",
              "      <th>0</th>\n",
              "      <td></td>\n",
              "      <td>2020-06-23 06:13:04</td>\n",
              "      <td>0.001 sec</td>\n",
              "      <td>0.0</td>\n",
              "      <td>10.078007</td>\n",
              "      <td>8.877178</td>\n",
              "      <td>101.566233</td>\n",
              "      <td>10.067944</td>\n",
              "      <td>8.868223</td>\n",
              "      <td>101.363495</td>\n",
              "    </tr>\n",
              "    <tr>\n",
              "      <th>1</th>\n",
              "      <td></td>\n",
              "      <td>2020-06-23 06:13:05</td>\n",
              "      <td>0.654 sec</td>\n",
              "      <td>5.0</td>\n",
              "      <td>9.441938</td>\n",
              "      <td>8.157981</td>\n",
              "      <td>89.150200</td>\n",
              "      <td>9.431384</td>\n",
              "      <td>8.152456</td>\n",
              "      <td>88.950996</td>\n",
              "    </tr>\n",
              "    <tr>\n",
              "      <th>2</th>\n",
              "      <td></td>\n",
              "      <td>2020-06-23 06:13:06</td>\n",
              "      <td>1.256 sec</td>\n",
              "      <td>10.0</td>\n",
              "      <td>9.151202</td>\n",
              "      <td>7.780918</td>\n",
              "      <td>83.744501</td>\n",
              "      <td>9.140411</td>\n",
              "      <td>7.776521</td>\n",
              "      <td>83.547119</td>\n",
              "    </tr>\n",
              "    <tr>\n",
              "      <th>3</th>\n",
              "      <td></td>\n",
              "      <td>2020-06-23 06:13:06</td>\n",
              "      <td>1.677 sec</td>\n",
              "      <td>15.0</td>\n",
              "      <td>8.955238</td>\n",
              "      <td>7.508384</td>\n",
              "      <td>80.196291</td>\n",
              "      <td>8.944177</td>\n",
              "      <td>7.504135</td>\n",
              "      <td>79.998300</td>\n",
              "    </tr>\n",
              "    <tr>\n",
              "      <th>4</th>\n",
              "      <td></td>\n",
              "      <td>2020-06-23 06:13:07</td>\n",
              "      <td>2.187 sec</td>\n",
              "      <td>20.0</td>\n",
              "      <td>8.737216</td>\n",
              "      <td>7.209245</td>\n",
              "      <td>76.338946</td>\n",
              "      <td>8.725673</td>\n",
              "      <td>7.203988</td>\n",
              "      <td>76.137373</td>\n",
              "    </tr>\n",
              "    <tr>\n",
              "      <th>5</th>\n",
              "      <td></td>\n",
              "      <td>2020-06-23 06:13:07</td>\n",
              "      <td>2.468 sec</td>\n",
              "      <td>25.0</td>\n",
              "      <td>8.687592</td>\n",
              "      <td>7.152174</td>\n",
              "      <td>75.474247</td>\n",
              "      <td>8.675832</td>\n",
              "      <td>7.146256</td>\n",
              "      <td>75.270069</td>\n",
              "    </tr>\n",
              "    <tr>\n",
              "      <th>6</th>\n",
              "      <td></td>\n",
              "      <td>2020-06-23 06:13:07</td>\n",
              "      <td>2.742 sec</td>\n",
              "      <td>30.0</td>\n",
              "      <td>8.647056</td>\n",
              "      <td>7.100957</td>\n",
              "      <td>74.771579</td>\n",
              "      <td>8.635128</td>\n",
              "      <td>7.094341</td>\n",
              "      <td>74.565430</td>\n",
              "    </tr>\n",
              "    <tr>\n",
              "      <th>7</th>\n",
              "      <td></td>\n",
              "      <td>2020-06-23 06:13:08</td>\n",
              "      <td>3.232 sec</td>\n",
              "      <td>35.0</td>\n",
              "      <td>8.597908</td>\n",
              "      <td>7.014813</td>\n",
              "      <td>73.924019</td>\n",
              "      <td>8.585654</td>\n",
              "      <td>7.006396</td>\n",
              "      <td>73.713450</td>\n",
              "    </tr>\n",
              "    <tr>\n",
              "      <th>8</th>\n",
              "      <td></td>\n",
              "      <td>2020-06-23 06:13:08</td>\n",
              "      <td>3.821 sec</td>\n",
              "      <td>40.0</td>\n",
              "      <td>8.579533</td>\n",
              "      <td>6.967772</td>\n",
              "      <td>73.608382</td>\n",
              "      <td>8.567040</td>\n",
              "      <td>6.957477</td>\n",
              "      <td>73.394168</td>\n",
              "    </tr>\n",
              "    <tr>\n",
              "      <th>9</th>\n",
              "      <td></td>\n",
              "      <td>2020-06-23 06:13:09</td>\n",
              "      <td>4.244 sec</td>\n",
              "      <td>45.0</td>\n",
              "      <td>8.573818</td>\n",
              "      <td>6.953583</td>\n",
              "      <td>73.510362</td>\n",
              "      <td>8.561260</td>\n",
              "      <td>6.942438</td>\n",
              "      <td>73.295181</td>\n",
              "    </tr>\n",
              "    <tr>\n",
              "      <th>10</th>\n",
              "      <td></td>\n",
              "      <td>2020-06-23 06:13:09</td>\n",
              "      <td>4.687 sec</td>\n",
              "      <td>50.0</td>\n",
              "      <td>8.571374</td>\n",
              "      <td>6.956882</td>\n",
              "      <td>73.468448</td>\n",
              "      <td>8.558764</td>\n",
              "      <td>6.945207</td>\n",
              "      <td>73.252437</td>\n",
              "    </tr>\n",
              "    <tr>\n",
              "      <th>11</th>\n",
              "      <td></td>\n",
              "      <td>2020-06-23 06:13:10</td>\n",
              "      <td>5.149 sec</td>\n",
              "      <td>55.0</td>\n",
              "      <td>8.570125</td>\n",
              "      <td>6.959758</td>\n",
              "      <td>73.447048</td>\n",
              "      <td>8.557476</td>\n",
              "      <td>6.947659</td>\n",
              "      <td>73.230400</td>\n",
              "    </tr>\n",
              "    <tr>\n",
              "      <th>12</th>\n",
              "      <td></td>\n",
              "      <td>2020-06-23 06:13:10</td>\n",
              "      <td>5.481 sec</td>\n",
              "      <td>60.0</td>\n",
              "      <td>8.569811</td>\n",
              "      <td>6.960702</td>\n",
              "      <td>73.441667</td>\n",
              "      <td>8.557154</td>\n",
              "      <td>6.948442</td>\n",
              "      <td>73.224893</td>\n",
              "    </tr>\n",
              "    <tr>\n",
              "      <th>13</th>\n",
              "      <td></td>\n",
              "      <td>2020-06-23 06:13:10</td>\n",
              "      <td>5.791 sec</td>\n",
              "      <td>65.0</td>\n",
              "      <td>8.569671</td>\n",
              "      <td>6.961297</td>\n",
              "      <td>73.439269</td>\n",
              "      <td>8.557008</td>\n",
              "      <td>6.948942</td>\n",
              "      <td>73.222387</td>\n",
              "    </tr>\n",
              "  </tbody>\n",
              "</table>\n",
              "</div>"
            ],
            "text/plain": [
              "                timestamp  ... validation_mae  validation_deviance\n",
              "0     2020-06-23 06:13:04  ...       8.868223           101.363495\n",
              "1     2020-06-23 06:13:05  ...       8.152456            88.950996\n",
              "2     2020-06-23 06:13:06  ...       7.776521            83.547119\n",
              "3     2020-06-23 06:13:06  ...       7.504135            79.998300\n",
              "4     2020-06-23 06:13:07  ...       7.203988            76.137373\n",
              "5     2020-06-23 06:13:07  ...       7.146256            75.270069\n",
              "6     2020-06-23 06:13:07  ...       7.094341            74.565430\n",
              "7     2020-06-23 06:13:08  ...       7.006396            73.713450\n",
              "8     2020-06-23 06:13:08  ...       6.957477            73.394168\n",
              "9     2020-06-23 06:13:09  ...       6.942438            73.295181\n",
              "10    2020-06-23 06:13:09  ...       6.945207            73.252437\n",
              "11    2020-06-23 06:13:10  ...       6.947659            73.230400\n",
              "12    2020-06-23 06:13:10  ...       6.948442            73.224893\n",
              "13    2020-06-23 06:13:10  ...       6.948942            73.222387\n",
              "\n",
              "[14 rows x 10 columns]"
            ]
          },
          "metadata": {
            "tags": []
          }
        },
        {
          "output_type": "stream",
          "text": [
            "\n",
            "Variable Importances: \n"
          ],
          "name": "stdout"
        },
        {
          "output_type": "display_data",
          "data": {
            "text/html": [
              "<div>\n",
              "<style scoped>\n",
              "    .dataframe tbody tr th:only-of-type {\n",
              "        vertical-align: middle;\n",
              "    }\n",
              "\n",
              "    .dataframe tbody tr th {\n",
              "        vertical-align: top;\n",
              "    }\n",
              "\n",
              "    .dataframe thead th {\n",
              "        text-align: right;\n",
              "    }\n",
              "</style>\n",
              "<table border=\"1\" class=\"dataframe\">\n",
              "  <thead>\n",
              "    <tr style=\"text-align: right;\">\n",
              "      <th></th>\n",
              "      <th>variable</th>\n",
              "      <th>relative_importance</th>\n",
              "      <th>scaled_importance</th>\n",
              "      <th>percentage</th>\n",
              "    </tr>\n",
              "  </thead>\n",
              "  <tbody>\n",
              "    <tr>\n",
              "      <th>0</th>\n",
              "      <td>a2.model_nm</td>\n",
              "      <td>21164592.0</td>\n",
              "      <td>1.0</td>\n",
              "      <td>1.0</td>\n",
              "    </tr>\n",
              "    <tr>\n",
              "      <th>1</th>\n",
              "      <td>a2.cust_num</td>\n",
              "      <td>0.0</td>\n",
              "      <td>0.0</td>\n",
              "      <td>0.0</td>\n",
              "    </tr>\n",
              "    <tr>\n",
              "      <th>2</th>\n",
              "      <td>a2.model_mac</td>\n",
              "      <td>0.0</td>\n",
              "      <td>0.0</td>\n",
              "      <td>0.0</td>\n",
              "    </tr>\n",
              "    <tr>\n",
              "      <th>3</th>\n",
              "      <td>a2.buffer_overflow</td>\n",
              "      <td>0.0</td>\n",
              "      <td>0.0</td>\n",
              "      <td>0.0</td>\n",
              "    </tr>\n",
              "    <tr>\n",
              "      <th>4</th>\n",
              "      <td>a2.pcr_lock_status</td>\n",
              "      <td>0.0</td>\n",
              "      <td>0.0</td>\n",
              "      <td>0.0</td>\n",
              "    </tr>\n",
              "    <tr>\n",
              "      <th>5</th>\n",
              "      <td>a2.pts_advanced_error</td>\n",
              "      <td>0.0</td>\n",
              "      <td>0.0</td>\n",
              "      <td>0.0</td>\n",
              "    </tr>\n",
              "    <tr>\n",
              "      <th>6</th>\n",
              "      <td>a2.lost_packet_count</td>\n",
              "      <td>0.0</td>\n",
              "      <td>0.0</td>\n",
              "      <td>0.0</td>\n",
              "    </tr>\n",
              "    <tr>\n",
              "      <th>7</th>\n",
              "      <td>a2.packet_loss_period</td>\n",
              "      <td>0.0</td>\n",
              "      <td>0.0</td>\n",
              "      <td>0.0</td>\n",
              "    </tr>\n",
              "    <tr>\n",
              "      <th>8</th>\n",
              "      <td>a2.stb_rtp_errcnt</td>\n",
              "      <td>0.0</td>\n",
              "      <td>0.0</td>\n",
              "      <td>0.0</td>\n",
              "    </tr>\n",
              "    <tr>\n",
              "      <th>9</th>\n",
              "      <td>a2.no_stream_error</td>\n",
              "      <td>0.0</td>\n",
              "      <td>0.0</td>\n",
              "      <td>0.0</td>\n",
              "    </tr>\n",
              "    <tr>\n",
              "      <th>10</th>\n",
              "      <td>a2.stb_firmware_version</td>\n",
              "      <td>0.0</td>\n",
              "      <td>0.0</td>\n",
              "      <td>0.0</td>\n",
              "    </tr>\n",
              "    <tr>\n",
              "      <th>11</th>\n",
              "      <td>a2.no_stream_error_sum</td>\n",
              "      <td>0.0</td>\n",
              "      <td>0.0</td>\n",
              "      <td>0.0</td>\n",
              "    </tr>\n",
              "    <tr>\n",
              "      <th>12</th>\n",
              "      <td>a2.pcr_lock_status_sum</td>\n",
              "      <td>0.0</td>\n",
              "      <td>0.0</td>\n",
              "      <td>0.0</td>\n",
              "    </tr>\n",
              "    <tr>\n",
              "      <th>13</th>\n",
              "      <td>a2.pts_advanced_error_sum</td>\n",
              "      <td>0.0</td>\n",
              "      <td>0.0</td>\n",
              "      <td>0.0</td>\n",
              "    </tr>\n",
              "    <tr>\n",
              "      <th>14</th>\n",
              "      <td>a2.stb_rtp_errcnt_sum</td>\n",
              "      <td>0.0</td>\n",
              "      <td>0.0</td>\n",
              "      <td>0.0</td>\n",
              "    </tr>\n",
              "    <tr>\n",
              "      <th>15</th>\n",
              "      <td>a2.not_decoding_error</td>\n",
              "      <td>0.0</td>\n",
              "      <td>0.0</td>\n",
              "      <td>0.0</td>\n",
              "    </tr>\n",
              "    <tr>\n",
              "      <th>16</th>\n",
              "      <td>a2.not_decoding_error_sum</td>\n",
              "      <td>0.0</td>\n",
              "      <td>0.0</td>\n",
              "      <td>0.0</td>\n",
              "    </tr>\n",
              "    <tr>\n",
              "      <th>17</th>\n",
              "      <td>a2.bdp_load_user_id</td>\n",
              "      <td>0.0</td>\n",
              "      <td>0.0</td>\n",
              "      <td>0.0</td>\n",
              "    </tr>\n",
              "  </tbody>\n",
              "</table>\n",
              "</div>"
            ],
            "text/plain": [
              "                     variable  ...  percentage\n",
              "0                 a2.model_nm  ...         1.0\n",
              "1                 a2.cust_num  ...         0.0\n",
              "2                a2.model_mac  ...         0.0\n",
              "3          a2.buffer_overflow  ...         0.0\n",
              "4          a2.pcr_lock_status  ...         0.0\n",
              "5       a2.pts_advanced_error  ...         0.0\n",
              "6        a2.lost_packet_count  ...         0.0\n",
              "7       a2.packet_loss_period  ...         0.0\n",
              "8           a2.stb_rtp_errcnt  ...         0.0\n",
              "9          a2.no_stream_error  ...         0.0\n",
              "10    a2.stb_firmware_version  ...         0.0\n",
              "11     a2.no_stream_error_sum  ...         0.0\n",
              "12     a2.pcr_lock_status_sum  ...         0.0\n",
              "13  a2.pts_advanced_error_sum  ...         0.0\n",
              "14      a2.stb_rtp_errcnt_sum  ...         0.0\n",
              "15      a2.not_decoding_error  ...         0.0\n",
              "16  a2.not_decoding_error_sum  ...         0.0\n",
              "17        a2.bdp_load_user_id  ...         0.0\n",
              "\n",
              "[18 rows x 4 columns]"
            ]
          },
          "metadata": {
            "tags": []
          }
        },
        {
          "output_type": "execute_result",
          "data": {
            "text/plain": [
              ""
            ]
          },
          "metadata": {
            "tags": []
          },
          "execution_count": 27
        }
      ]
    },
    {
      "cell_type": "code",
      "metadata": {
        "id": "1niTPKK70XDo",
        "colab_type": "code",
        "colab": {
          "base_uri": "https://localhost:8080/",
          "height": 113
        },
        "outputId": "27d68774-b916-4e9c-bc3a-779b15adc0ca"
      },
      "source": [
        "gbm = h2o.get_model([i for i in model_ids if \"GBM\" in i][0])\n",
        "gbm.summary()"
      ],
      "execution_count": 29,
      "outputs": [
        {
          "output_type": "stream",
          "text": [
            "\n",
            "Model Summary: \n"
          ],
          "name": "stdout"
        },
        {
          "output_type": "display_data",
          "data": {
            "text/html": [
              "<div>\n",
              "<style scoped>\n",
              "    .dataframe tbody tr th:only-of-type {\n",
              "        vertical-align: middle;\n",
              "    }\n",
              "\n",
              "    .dataframe tbody tr th {\n",
              "        vertical-align: top;\n",
              "    }\n",
              "\n",
              "    .dataframe thead th {\n",
              "        text-align: right;\n",
              "    }\n",
              "</style>\n",
              "<table border=\"1\" class=\"dataframe\">\n",
              "  <thead>\n",
              "    <tr style=\"text-align: right;\">\n",
              "      <th></th>\n",
              "      <th></th>\n",
              "      <th>number_of_trees</th>\n",
              "      <th>number_of_internal_trees</th>\n",
              "      <th>model_size_in_bytes</th>\n",
              "      <th>min_depth</th>\n",
              "      <th>max_depth</th>\n",
              "      <th>mean_depth</th>\n",
              "      <th>min_leaves</th>\n",
              "      <th>max_leaves</th>\n",
              "      <th>mean_leaves</th>\n",
              "    </tr>\n",
              "  </thead>\n",
              "  <tbody>\n",
              "    <tr>\n",
              "      <th>0</th>\n",
              "      <td></td>\n",
              "      <td>65.0</td>\n",
              "      <td>65.0</td>\n",
              "      <td>6174.0</td>\n",
              "      <td>1.0</td>\n",
              "      <td>3.0</td>\n",
              "      <td>1.707692</td>\n",
              "      <td>1.0</td>\n",
              "      <td>4.0</td>\n",
              "      <td>2.830769</td>\n",
              "    </tr>\n",
              "  </tbody>\n",
              "</table>\n",
              "</div>"
            ],
            "text/plain": [
              "     number_of_trees  ...  max_leaves  mean_leaves\n",
              "0               65.0  ...         4.0     2.830769\n",
              "\n",
              "[1 rows x 10 columns]"
            ]
          },
          "metadata": {
            "tags": []
          }
        },
        {
          "output_type": "execute_result",
          "data": {
            "text/plain": [
              ""
            ]
          },
          "metadata": {
            "tags": []
          },
          "execution_count": 29
        }
      ]
    },
    {
      "cell_type": "code",
      "metadata": {
        "id": "MWUZOEw-0Y_I",
        "colab_type": "code",
        "colab": {
          "base_uri": "https://localhost:8080/",
          "height": 176
        },
        "outputId": "0246414c-61ce-4eb4-e659-8a9bb95e88de"
      },
      "source": [
        "gbm.model_performance(data_valid)"
      ],
      "execution_count": 30,
      "outputs": [
        {
          "output_type": "stream",
          "text": [
            "\n",
            "ModelMetricsRegression: gbm\n",
            "** Reported on test data. **\n",
            "\n",
            "MSE: 73.22238708734677\n",
            "RMSE: 8.557008068673698\n",
            "MAE: 6.948941820497263\n",
            "RMSLE: 0.49289179508677106\n",
            "Mean Residual Deviance: 73.22238708734677\n"
          ],
          "name": "stdout"
        },
        {
          "output_type": "execute_result",
          "data": {
            "text/plain": [
              ""
            ]
          },
          "metadata": {
            "tags": []
          },
          "execution_count": 30
        }
      ]
    },
    {
      "cell_type": "code",
      "metadata": {
        "id": "hRXdv9DQ9ZJn",
        "colab_type": "code",
        "colab": {
          "base_uri": "https://localhost:8080/",
          "height": 408
        },
        "outputId": "e78a17e3-02bd-45f0-c7bc-382b5abac1d2"
      },
      "source": [
        "pred_val = gbm.predict(data_valid[x])\n",
        "pred_val.head(20)\n"
      ],
      "execution_count": 56,
      "outputs": [
        {
          "output_type": "stream",
          "text": [
            "gbm prediction progress: |████████████████████████████████████████████████| 100%\n"
          ],
          "name": "stdout"
        },
        {
          "output_type": "display_data",
          "data": {
            "text/html": [
              "<table>\n",
              "<thead>\n",
              "<tr><th style=\"text-align: right;\">  predict</th></tr>\n",
              "</thead>\n",
              "<tbody>\n",
              "<tr><td style=\"text-align: right;\">  21.5147</td></tr>\n",
              "<tr><td style=\"text-align: right;\">  21.5147</td></tr>\n",
              "<tr><td style=\"text-align: right;\">  21.5147</td></tr>\n",
              "<tr><td style=\"text-align: right;\">  21.5147</td></tr>\n",
              "<tr><td style=\"text-align: right;\">  21.5147</td></tr>\n",
              "<tr><td style=\"text-align: right;\">  21.5147</td></tr>\n",
              "<tr><td style=\"text-align: right;\">  21.5147</td></tr>\n",
              "<tr><td style=\"text-align: right;\">  21.5147</td></tr>\n",
              "<tr><td style=\"text-align: right;\">  21.5147</td></tr>\n",
              "<tr><td style=\"text-align: right;\">  21.5147</td></tr>\n",
              "<tr><td style=\"text-align: right;\">  21.5147</td></tr>\n",
              "<tr><td style=\"text-align: right;\">  21.5147</td></tr>\n",
              "<tr><td style=\"text-align: right;\">  21.5147</td></tr>\n",
              "<tr><td style=\"text-align: right;\">  21.5147</td></tr>\n",
              "<tr><td style=\"text-align: right;\">  21.5147</td></tr>\n",
              "<tr><td style=\"text-align: right;\">  21.5147</td></tr>\n",
              "<tr><td style=\"text-align: right;\">  21.5147</td></tr>\n",
              "<tr><td style=\"text-align: right;\">  21.5147</td></tr>\n",
              "<tr><td style=\"text-align: right;\">  21.5147</td></tr>\n",
              "<tr><td style=\"text-align: right;\">  21.5147</td></tr>\n",
              "</tbody>\n",
              "</table>"
            ]
          },
          "metadata": {
            "tags": []
          }
        },
        {
          "output_type": "execute_result",
          "data": {
            "text/plain": [
              ""
            ]
          },
          "metadata": {
            "tags": []
          },
          "execution_count": 56
        }
      ]
    },
    {
      "cell_type": "code",
      "metadata": {
        "id": "Um_sjGqX9pcI",
        "colab_type": "code",
        "colab": {
          "base_uri": "https://localhost:8080/",
          "height": 391
        },
        "outputId": "44c94b85-b651-4df9-8d7b-52801fba61cc"
      },
      "source": [
        "true_val = data_valid[y]\n",
        "true_val.head(20)\n"
      ],
      "execution_count": 54,
      "outputs": [
        {
          "output_type": "display_data",
          "data": {
            "text/html": [
              "<table>\n",
              "<thead>\n",
              "<tr><th style=\"text-align: right;\">  a2.errtype</th></tr>\n",
              "</thead>\n",
              "<tbody>\n",
              "<tr><td style=\"text-align: right;\">          16</td></tr>\n",
              "<tr><td style=\"text-align: right;\">          38</td></tr>\n",
              "<tr><td style=\"text-align: right;\">          11</td></tr>\n",
              "<tr><td style=\"text-align: right;\">          26</td></tr>\n",
              "<tr><td style=\"text-align: right;\">          41</td></tr>\n",
              "<tr><td style=\"text-align: right;\">           5</td></tr>\n",
              "<tr><td style=\"text-align: right;\">          23</td></tr>\n",
              "<tr><td style=\"text-align: right;\">          16</td></tr>\n",
              "<tr><td style=\"text-align: right;\">          26</td></tr>\n",
              "<tr><td style=\"text-align: right;\">          31</td></tr>\n",
              "<tr><td style=\"text-align: right;\">          33</td></tr>\n",
              "<tr><td style=\"text-align: right;\">          31</td></tr>\n",
              "<tr><td style=\"text-align: right;\">          16</td></tr>\n",
              "<tr><td style=\"text-align: right;\">          22</td></tr>\n",
              "<tr><td style=\"text-align: right;\">          31</td></tr>\n",
              "<tr><td style=\"text-align: right;\">          31</td></tr>\n",
              "<tr><td style=\"text-align: right;\">           5</td></tr>\n",
              "<tr><td style=\"text-align: right;\">           5</td></tr>\n",
              "<tr><td style=\"text-align: right;\">           5</td></tr>\n",
              "<tr><td style=\"text-align: right;\">           5</td></tr>\n",
              "</tbody>\n",
              "</table>"
            ]
          },
          "metadata": {
            "tags": []
          }
        },
        {
          "output_type": "execute_result",
          "data": {
            "text/plain": [
              ""
            ]
          },
          "metadata": {
            "tags": []
          },
          "execution_count": 54
        }
      ]
    },
    {
      "cell_type": "code",
      "metadata": {
        "id": "E7nuNr5e3IVW",
        "colab_type": "code",
        "colab": {
          "base_uri": "https://localhost:8080/",
          "height": 34
        },
        "outputId": "a250fac1-ca16-4b37-963b-96c0e9c0a890"
      },
      "source": [
        "pred_val = list(gbm.predict(data_valid[x])[0])\n",
        "true_val = list(data_valid[y])\n",
        "\n",
        "tmp = pd.DataFrame(pred_val)\n",
        "\n"
      ],
      "execution_count": 50,
      "outputs": [
        {
          "output_type": "stream",
          "text": [
            "gbm prediction progress: |████████████████████████████████████████████████| 100%\n"
          ],
          "name": "stdout"
        }
      ]
    },
    {
      "cell_type": "code",
      "metadata": {
        "id": "prZ2tO0u3ISf",
        "colab_type": "code",
        "colab": {}
      },
      "source": [
        "\n",
        "prediction_acc = np.mean(pred_val == true_val)\n",
        "print(\"Prediction accuracy: \", prediction_acc)"
      ],
      "execution_count": null,
      "outputs": []
    },
    {
      "cell_type": "code",
      "metadata": {
        "id": "7QzYTcLU3IDU",
        "colab_type": "code",
        "colab": {}
      },
      "source": [
        ""
      ],
      "execution_count": null,
      "outputs": []
    },
    {
      "cell_type": "code",
      "metadata": {
        "id": "Em_zA24V3Hyf",
        "colab_type": "code",
        "colab": {}
      },
      "source": [
        ""
      ],
      "execution_count": null,
      "outputs": []
    },
    {
      "cell_type": "code",
      "metadata": {
        "id": "nsjltA1I3Hcd",
        "colab_type": "code",
        "colab": {}
      },
      "source": [
        ""
      ],
      "execution_count": null,
      "outputs": []
    },
    {
      "cell_type": "code",
      "metadata": {
        "id": "dJEkXEh8WjH-",
        "colab_type": "code",
        "colab": {}
      },
      "source": [
        "drf = h2o.get_model([i for i in model_ids if \"DRF\" in i][0])"
      ],
      "execution_count": 23,
      "outputs": []
    },
    {
      "cell_type": "code",
      "metadata": {
        "id": "98ZehzpsbH_E",
        "colab_type": "code",
        "colab": {
          "base_uri": "https://localhost:8080/",
          "height": 167
        },
        "outputId": "3bf524c7-069c-475d-fc8b-5b631f5949d1"
      },
      "source": [
        "#h2o.get_model([i for i in model_ids if \"DeepLearning\" in i][0])"
      ],
      "execution_count": 24,
      "outputs": [
        {
          "output_type": "error",
          "ename": "IndexError",
          "evalue": "ignored",
          "traceback": [
            "\u001b[0;31m---------------------------------------------------------------------------\u001b[0m",
            "\u001b[0;31mIndexError\u001b[0m                                Traceback (most recent call last)",
            "\u001b[0;32m<ipython-input-24-6428fb77006a>\u001b[0m in \u001b[0;36m<module>\u001b[0;34m()\u001b[0m\n\u001b[0;32m----> 1\u001b[0;31m \u001b[0mh2o\u001b[0m\u001b[0;34m.\u001b[0m\u001b[0mget_model\u001b[0m\u001b[0;34m(\u001b[0m\u001b[0;34m[\u001b[0m\u001b[0mi\u001b[0m \u001b[0;32mfor\u001b[0m \u001b[0mi\u001b[0m \u001b[0;32min\u001b[0m \u001b[0mmodel_ids\u001b[0m \u001b[0;32mif\u001b[0m \u001b[0;34m\"DeepLearning\"\u001b[0m \u001b[0;32min\u001b[0m \u001b[0mi\u001b[0m\u001b[0;34m]\u001b[0m\u001b[0;34m[\u001b[0m\u001b[0;36m0\u001b[0m\u001b[0;34m]\u001b[0m\u001b[0;34m)\u001b[0m\u001b[0;34m\u001b[0m\u001b[0;34m\u001b[0m\u001b[0m\n\u001b[0m",
            "\u001b[0;31mIndexError\u001b[0m: list index out of range"
          ]
        }
      ]
    },
    {
      "cell_type": "code",
      "metadata": {
        "id": "TyUkNZZvXGxp",
        "colab_type": "code",
        "colab": {}
      },
      "source": [
        "dl = h2o.get_model([i for i in model_ids if \"DeepLearning\" in i][0])"
      ],
      "execution_count": null,
      "outputs": []
    },
    {
      "cell_type": "code",
      "metadata": {
        "colab_type": "code",
        "id": "o_ZxHlnal6lg",
        "colab": {}
      },
      "source": [
        "dl.confusion_matrix()"
      ],
      "execution_count": null,
      "outputs": []
    },
    {
      "cell_type": "code",
      "metadata": {
        "colab_type": "code",
        "id": "6Y7Lt5ROmofC",
        "colab": {}
      },
      "source": [
        "dl.varimp_plot()"
      ],
      "execution_count": null,
      "outputs": []
    },
    {
      "cell_type": "markdown",
      "metadata": {
        "id": "TaT9qQ74YQ4K",
        "colab_type": "text"
      },
      "source": [
        "#모델 저장"
      ]
    },
    {
      "cell_type": "code",
      "metadata": {
        "id": "SHrUXBm5YUG9",
        "colab_type": "code",
        "colab": {}
      },
      "source": [
        "aml.leader.download_mojo(path = BASE_DIR)"
      ],
      "execution_count": null,
      "outputs": []
    }
  ]
}